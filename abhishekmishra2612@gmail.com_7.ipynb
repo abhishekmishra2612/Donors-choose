{
 "cells": [
  {
   "cell_type": "markdown",
   "metadata": {
    "colab_type": "text",
    "id": "33R7Ev5IoUFw"
   },
   "source": [
    "# DonorsChoose"
   ]
  },
  {
   "cell_type": "markdown",
   "metadata": {
    "colab_type": "text",
    "id": "33uDdN2EoUFz"
   },
   "source": [
    "<p>\n",
    "DonorsChoose.org receives hundreds of thousands of project proposals each year for classroom projects in need of funding. Right now, a large number of volunteers is needed to manually screen each submission before it's approved to be posted on the DonorsChoose.org website.\n",
    "</p>\n",
    "<p>\n",
    "    Next year, DonorsChoose.org expects to receive close to 500,000 project proposals. As a result, there are three main problems they need to solve:\n",
    "<ul>\n",
    "<li>\n",
    "    How to scale current manual processes and resources to screen 500,000 projects so that they can be posted as quickly and as efficiently as possible</li>\n",
    "    <li>How to increase the consistency of project vetting across different volunteers to improve the experience for teachers</li>\n",
    "    <li>How to focus volunteer time on the applications that need the most assistance</li>\n",
    "    </ul>\n",
    "</p>    \n",
    "<p>\n",
    "The goal of the competition is to predict whether or not a DonorsChoose.org project proposal submitted by a teacher will be approved, using the text of project descriptions as well as additional metadata about the project, teacher, and school. DonorsChoose.org can then use this information to identify projects most likely to need further review before approval.\n",
    "</p>"
   ]
  },
  {
   "cell_type": "markdown",
   "metadata": {
    "colab_type": "text",
    "id": "W447mRzLoUF2"
   },
   "source": [
    "## About the DonorsChoose Data Set\n",
    "\n",
    "The `train.csv` data set provided by DonorsChoose contains the following features:\n",
    "\n",
    "Feature | Description \n",
    "----------|---------------\n",
    "**`project_id`** | A unique identifier for the proposed project. **Example:** `p036502`   \n",
    "**`project_title`**    | Title of the project. **Examples:**<br><ul><li><code>Art Will Make You Happy!</code></li><li><code>First Grade Fun</code></li></ul> \n",
    "**`project_grade_category`** | Grade level of students for which the project is targeted. One of the following enumerated values: <br/><ul><li><code>Grades PreK-2</code></li><li><code>Grades 3-5</code></li><li><code>Grades 6-8</code></li><li><code>Grades 9-12</code></li></ul>  \n",
    " **`project_subject_categories`** | One or more (comma-separated) subject categories for the project from the following enumerated list of values:  <br/><ul><li><code>Applied Learning</code></li><li><code>Care &amp; Hunger</code></li><li><code>Health &amp; Sports</code></li><li><code>History &amp; Civics</code></li><li><code>Literacy &amp; Language</code></li><li><code>Math &amp; Science</code></li><li><code>Music &amp; The Arts</code></li><li><code>Special Needs</code></li><li><code>Warmth</code></li></ul><br/> **Examples:** <br/><ul><li><code>Music &amp; The Arts</code></li><li><code>Literacy &amp; Language, Math &amp; Science</code></li>  \n",
    "  **`school_state`** | State where school is located ([Two-letter U.S. postal code](https://en.wikipedia.org/wiki/List_of_U.S._state_abbreviations#Postal_codes)). **Example:** `WY`\n",
    "**`project_subject_subcategories`** | One or more (comma-separated) subject subcategories for the project. **Examples:** <br/><ul><li><code>Literacy</code></li><li><code>Literature &amp; Writing, Social Sciences</code></li></ul> \n",
    "**`project_resource_summary`** | An explanation of the resources needed for the project. **Example:** <br/><ul><li><code>My students need hands on literacy materials to manage sensory needs!</code</li></ul> \n",
    "**`project_essay_1`**    | First application essay<sup>*</sup>  \n",
    "**`project_essay_2`**    | Second application essay<sup>*</sup> \n",
    "**`project_essay_3`**    | Third application essay<sup>*</sup> \n",
    "**`project_essay_4`**    | Fourth application essay<sup>*</sup> \n",
    "**`project_submitted_datetime`** | Datetime when project application was submitted. **Example:** `2016-04-28 12:43:56.245`   \n",
    "**`teacher_id`** | A unique identifier for the teacher of the proposed project. **Example:** `bdf8baa8fedef6bfeec7ae4ff1c15c56`  \n",
    "**`teacher_prefix`** | Teacher's title. One of the following enumerated values: <br/><ul><li><code>nan</code></li><li><code>Dr.</code></li><li><code>Mr.</code></li><li><code>Mrs.</code></li><li><code>Ms.</code></li><li><code>Teacher.</code></li></ul>  \n",
    "**`teacher_number_of_previously_posted_projects`** | Number of project applications previously submitted by the same teacher. **Example:** `2` \n",
    "\n",
    "<sup>*</sup> See the section <b>Notes on the Essay Data</b> for more details about these features.\n",
    "\n",
    "Additionally, the `resources.csv` data set provides more data about the resources required for each project. Each line in this file represents a resource required by a project:\n",
    "\n",
    "Feature | Description \n",
    "----------|---------------\n",
    "**`id`** | A `project_id` value from the `train.csv` file.  **Example:** `p036502`   \n",
    "**`description`** | Desciption of the resource. **Example:** `Tenor Saxophone Reeds, Box of 25`   \n",
    "**`quantity`** | Quantity of the resource required. **Example:** `3`   \n",
    "**`price`** | Price of the resource required. **Example:** `9.95`   \n",
    "\n",
    "**Note:** Many projects require multiple resources. The `id` value corresponds to a `project_id` in train.csv, so you use it as a key to retrieve all resources needed for a project:\n",
    "\n",
    "The data set contains the following label (the value you will attempt to predict):\n",
    "\n",
    "Label | Description\n",
    "----------|---------------\n",
    "`project_is_approved` | A binary flag indicating whether DonorsChoose approved the project. A value of `0` indicates the project was not approved, and a value of `1` indicates the project was approved."
   ]
  },
  {
   "cell_type": "markdown",
   "metadata": {
    "colab_type": "text",
    "id": "iydYV-rsoUF4"
   },
   "source": [
    "### Notes on the Essay Data\n",
    "\n",
    "<ul>\n",
    "Prior to May 17, 2016, the prompts for the essays were as follows:\n",
    "<li>__project_essay_1:__ \"Introduce us to your classroom\"</li>\n",
    "<li>__project_essay_2:__ \"Tell us more about your students\"</li>\n",
    "<li>__project_essay_3:__ \"Describe how your students will use the materials you're requesting\"</li>\n",
    "<li>__project_essay_3:__ \"Close by sharing why your project will make a difference\"</li>\n",
    "</ul>\n",
    "\n",
    "\n",
    "<ul>\n",
    "Starting on May 17, 2016, the number of essays was reduced from 4 to 2, and the prompts for the first 2 essays were changed to the following:<br>\n",
    "<li>__project_essay_1:__ \"Describe your students: What makes your students special? Specific details about their background, your neighborhood, and your school are all helpful.\"</li>\n",
    "<li>__project_essay_2:__ \"About your project: How will these materials make a difference in your students' learning and improve their school lives?\"</li>\n",
    "<br>For all projects with project_submitted_datetime of 2016-05-17 and later, the values of project_essay_3 and project_essay_4 will be NaN.\n",
    "</ul>\n"
   ]
  },
  {
   "cell_type": "code",
   "execution_count": 1,
   "metadata": {
    "colab": {},
    "colab_type": "code",
    "id": "CB_mY9_roUF6",
    "outputId": "e9ecaa59-1666-4996-d932-79fab4aec227"
   },
   "outputs": [],
   "source": [
    "%matplotlib inline\n",
    "import warnings\n",
    "warnings.filterwarnings(\"ignore\")\n",
    "\n",
    "import sqlite3\n",
    "import pandas as pd\n",
    "import numpy as np\n",
    "import nltk\n",
    "import string\n",
    "import matplotlib.pyplot as plt\n",
    "import seaborn as sns\n",
    "from sklearn.feature_extraction.text import TfidfTransformer\n",
    "from sklearn.feature_extraction.text import TfidfVectorizer\n",
    "\n",
    "from sklearn.feature_extraction.text import CountVectorizer\n",
    "from sklearn.metrics import confusion_matrix\n",
    "from sklearn import metrics\n",
    "from sklearn.metrics import roc_curve, auc\n",
    "from nltk.stem.porter import PorterStemmer\n",
    "\n",
    "import re\n",
    "# Tutorial about Python regular expressions: https://pymotw.com/2/re/\n",
    "import string\n",
    "from nltk.corpus import stopwords\n",
    "from nltk.stem import PorterStemmer\n",
    "from nltk.stem.wordnet import WordNetLemmatizer\n",
    "\n",
    "from gensim.models import Word2Vec\n",
    "from gensim.models import KeyedVectors\n",
    "import pickle\n",
    "\n",
    "from tqdm import tqdm\n",
    "import os\n",
    "\n",
    "#from plotly import plotly\n",
    "#import plotly.offline as offline\n",
    "#import plotly.graph_objs as go\n",
    "#offline.init_notebook_mode()\n",
    "from collections import Counter"
   ]
  },
  {
   "cell_type": "markdown",
   "metadata": {
    "colab_type": "text",
    "id": "XbVmhJgKoUGE"
   },
   "source": [
    "## 1.1 Reading Data"
   ]
  },
  {
   "cell_type": "code",
   "execution_count": 2,
   "metadata": {
    "colab": {},
    "colab_type": "code",
    "id": "fv9wFU8ZoUGF"
   },
   "outputs": [],
   "source": [
    "project_data = pd.read_csv('train_data.csv')\n",
    "resource_data = pd.read_csv('resources.csv')"
   ]
  },
  {
   "cell_type": "code",
   "execution_count": 3,
   "metadata": {
    "colab": {},
    "colab_type": "code",
    "id": "GAYzkeNtoUGJ",
    "outputId": "88b611ff-da90-41fe-ae21-91a4eef86906"
   },
   "outputs": [
    {
     "name": "stdout",
     "output_type": "stream",
     "text": [
      "Number of data points in train data (109248, 17)\n",
      "--------------------------------------------------\n",
      "The attributes of data : ['Unnamed: 0' 'id' 'teacher_id' 'teacher_prefix' 'school_state'\n",
      " 'project_submitted_datetime' 'project_grade_category'\n",
      " 'project_subject_categories' 'project_subject_subcategories'\n",
      " 'project_title' 'project_essay_1' 'project_essay_2' 'project_essay_3'\n",
      " 'project_essay_4' 'project_resource_summary'\n",
      " 'teacher_number_of_previously_posted_projects' 'project_is_approved']\n"
     ]
    }
   ],
   "source": [
    "print(\"Number of data points in train data\", project_data.shape)\n",
    "print('-'*50)\n",
    "print(\"The attributes of data :\", project_data.columns.values)"
   ]
  },
  {
   "cell_type": "code",
   "execution_count": 4,
   "metadata": {
    "colab": {},
    "colab_type": "code",
    "id": "RcShjQotoUGQ",
    "outputId": "5d400178-f25a-46f6-ffd8-6657f022fd33"
   },
   "outputs": [
    {
     "name": "stdout",
     "output_type": "stream",
     "text": [
      "Number of data points in train data (1541272, 4)\n",
      "['id' 'description' 'quantity' 'price']\n"
     ]
    },
    {
     "data": {
      "text/html": [
       "<div>\n",
       "<style scoped>\n",
       "    .dataframe tbody tr th:only-of-type {\n",
       "        vertical-align: middle;\n",
       "    }\n",
       "\n",
       "    .dataframe tbody tr th {\n",
       "        vertical-align: top;\n",
       "    }\n",
       "\n",
       "    .dataframe thead th {\n",
       "        text-align: right;\n",
       "    }\n",
       "</style>\n",
       "<table border=\"1\" class=\"dataframe\">\n",
       "  <thead>\n",
       "    <tr style=\"text-align: right;\">\n",
       "      <th></th>\n",
       "      <th>id</th>\n",
       "      <th>description</th>\n",
       "      <th>quantity</th>\n",
       "      <th>price</th>\n",
       "    </tr>\n",
       "  </thead>\n",
       "  <tbody>\n",
       "    <tr>\n",
       "      <th>0</th>\n",
       "      <td>p233245</td>\n",
       "      <td>LC652 - Lakeshore Double-Space Mobile Drying Rack</td>\n",
       "      <td>1</td>\n",
       "      <td>149.00</td>\n",
       "    </tr>\n",
       "    <tr>\n",
       "      <th>1</th>\n",
       "      <td>p069063</td>\n",
       "      <td>Bouncy Bands for Desks (Blue support pipes)</td>\n",
       "      <td>3</td>\n",
       "      <td>14.95</td>\n",
       "    </tr>\n",
       "  </tbody>\n",
       "</table>\n",
       "</div>"
      ],
      "text/plain": [
       "        id                                        description  quantity  \\\n",
       "0  p233245  LC652 - Lakeshore Double-Space Mobile Drying Rack         1   \n",
       "1  p069063        Bouncy Bands for Desks (Blue support pipes)         3   \n",
       "\n",
       "    price  \n",
       "0  149.00  \n",
       "1   14.95  "
      ]
     },
     "execution_count": 4,
     "metadata": {},
     "output_type": "execute_result"
    }
   ],
   "source": [
    "print(\"Number of data points in train data\", resource_data.shape)\n",
    "print(resource_data.columns.values)\n",
    "resource_data.head(2)"
   ]
  },
  {
   "cell_type": "code",
   "execution_count": 5,
   "metadata": {},
   "outputs": [
    {
     "data": {
      "text/plain": [
       "(50000, 17)"
      ]
     },
     "execution_count": 5,
     "metadata": {},
     "output_type": "execute_result"
    }
   ],
   "source": [
    "project_data=project_data.sample(n=50000)\n",
    "project_data.shape"
   ]
  },
  {
   "cell_type": "code",
   "execution_count": 6,
   "metadata": {},
   "outputs": [
    {
     "data": {
      "text/plain": [
       "1    42443\n",
       "0     7557\n",
       "Name: project_is_approved, dtype: int64"
      ]
     },
     "execution_count": 6,
     "metadata": {},
     "output_type": "execute_result"
    }
   ],
   "source": [
    "project_data[\"project_is_approved\"].value_counts()"
   ]
  },
  {
   "cell_type": "markdown",
   "metadata": {
    "colab_type": "text",
    "id": "WpalDcGUoUGW"
   },
   "source": [
    "## 1.2 preprocessing of `project_subject_categories`"
   ]
  },
  {
   "cell_type": "code",
   "execution_count": 7,
   "metadata": {
    "colab": {},
    "colab_type": "code",
    "id": "eM4RYg1qoUGX"
   },
   "outputs": [],
   "source": [
    "catogories = list(project_data['project_subject_categories'].values)\n",
    "# remove special characters from list of strings python: https://stackoverflow.com/a/47301924/4084039\n",
    "\n",
    "# https://www.geeksforgeeks.org/removing-stop-words-nltk-python/\n",
    "# https://stackoverflow.com/questions/23669024/how-to-strip-a-specific-word-from-a-string\n",
    "# https://stackoverflow.com/questions/8270092/remove-all-whitespace-in-a-string-in-python\n",
    "cat_list = []\n",
    "for i in catogories:\n",
    "    temp = \"\"\n",
    "    # consider we have text like this \"Math & Science, Warmth, Care & Hunger\"\n",
    "    for j in i.split(','): # it will split it in three parts [\"Math & Science\", \"Warmth\", \"Care & Hunger\"]\n",
    "        if 'The' in j.split(): # this will split each of the catogory based on space \"Math & Science\"=> \"Math\",\"&\", \"Science\"\n",
    "            j=j.replace('The','') # if we have the words \"The\" we are going to replace it with ''(i.e removing 'The')\n",
    "        j = j.replace(' ','') # we are placeing all the ' '(space) with ''(empty) ex:\"Math & Science\"=>\"Math&Science\"\n",
    "        temp+=j.strip()+\" \" #\" abc \".strip() will return \"abc\", remove the trailing spaces\n",
    "        temp = temp.replace('&','_') # we are replacing the & value into \n",
    "    cat_list.append(temp.strip())\n",
    "    \n",
    "project_data['clean_categories'] = cat_list\n",
    "project_data.drop(['project_subject_categories'], axis=1, inplace=True)\n",
    "\n",
    "from collections import Counter\n",
    "my_counter = Counter()\n",
    "for word in project_data['clean_categories'].values:\n",
    "    my_counter.update(word.split())\n",
    "\n",
    "cat_dict = dict(my_counter)\n",
    "sorted_cat_dict = dict(sorted(cat_dict.items(), key=lambda kv: kv[1]))\n"
   ]
  },
  {
   "cell_type": "markdown",
   "metadata": {
    "colab_type": "text",
    "id": "EMP3hhkvoUGb"
   },
   "source": [
    "## 1.3 preprocessing of `project_subject_subcategories`"
   ]
  },
  {
   "cell_type": "code",
   "execution_count": 8,
   "metadata": {
    "colab": {},
    "colab_type": "code",
    "id": "DGM4QvrQoUGc"
   },
   "outputs": [],
   "source": [
    "sub_catogories = list(project_data['project_subject_subcategories'].values)\n",
    "# remove special characters from list of strings python: https://stackoverflow.com/a/47301924/4084039\n",
    "\n",
    "# https://www.geeksforgeeks.org/removing-stop-words-nltk-python/\n",
    "# https://stackoverflow.com/questions/23669024/how-to-strip-a-specific-word-from-a-string\n",
    "# https://stackoverflow.com/questions/8270092/remove-all-whitespace-in-a-string-in-python\n",
    "\n",
    "sub_cat_list = []\n",
    "for i in sub_catogories:\n",
    "    temp = \"\"\n",
    "    # consider we have text like this \"Math & Science, Warmth, Care & Hunger\"\n",
    "    for j in i.split(','): # it will split it in three parts [\"Math & Science\", \"Warmth\", \"Care & Hunger\"]\n",
    "        if 'The' in j.split(): # this will split each of the catogory based on space \"Math & Science\"=> \"Math\",\"&\", \"Science\"\n",
    "            j=j.replace('The','') # if we have the words \"The\" we are going to replace it with ''(i.e removing 'The')\n",
    "        j = j.replace(' ','') # we are placeing all the ' '(space) with ''(empty) ex:\"Math & Science\"=>\"Math&Science\"\n",
    "        temp +=j.strip()+\" \"#\" abc \".strip() will return \"abc\", remove the trailing spaces\n",
    "        temp = temp.replace('&','_')\n",
    "    sub_cat_list.append(temp.strip())\n",
    "\n",
    "project_data['clean_subcategories'] = sub_cat_list\n",
    "project_data.drop(['project_subject_subcategories'], axis=1, inplace=True)\n",
    "\n",
    "# count of all the words in corpus python: https://stackoverflow.com/a/22898595/4084039\n",
    "my_counter = Counter()\n",
    "for word in project_data['clean_subcategories'].values:\n",
    "    my_counter.update(word.split())\n",
    "    \n",
    "sub_cat_dict = dict(my_counter)\n",
    "sorted_sub_cat_dict = dict(sorted(sub_cat_dict.items(), key=lambda kv: kv[1]))"
   ]
  },
  {
   "cell_type": "markdown",
   "metadata": {
    "colab_type": "text",
    "id": "9LdJ4JOloUGf"
   },
   "source": [
    "## 1.3 Text preprocessing"
   ]
  },
  {
   "cell_type": "code",
   "execution_count": 9,
   "metadata": {
    "colab": {},
    "colab_type": "code",
    "id": "JRmyuIgeoUGh"
   },
   "outputs": [],
   "source": [
    "# merge two column text dataframe: \n",
    "project_data[\"essay\"] = project_data[\"project_essay_1\"].map(str) +\\\n",
    "                        project_data[\"project_essay_2\"].map(str) + \\\n",
    "                        project_data[\"project_essay_3\"].map(str) + \\\n",
    "                        project_data[\"project_essay_4\"].map(str)"
   ]
  },
  {
   "cell_type": "code",
   "execution_count": 10,
   "metadata": {
    "colab": {},
    "colab_type": "code",
    "id": "8vCZZ8sKoUGk",
    "outputId": "a3e673c8-d33b-4803-8095-6185727695fa"
   },
   "outputs": [
    {
     "data": {
      "text/html": [
       "<div>\n",
       "<style scoped>\n",
       "    .dataframe tbody tr th:only-of-type {\n",
       "        vertical-align: middle;\n",
       "    }\n",
       "\n",
       "    .dataframe tbody tr th {\n",
       "        vertical-align: top;\n",
       "    }\n",
       "\n",
       "    .dataframe thead th {\n",
       "        text-align: right;\n",
       "    }\n",
       "</style>\n",
       "<table border=\"1\" class=\"dataframe\">\n",
       "  <thead>\n",
       "    <tr style=\"text-align: right;\">\n",
       "      <th></th>\n",
       "      <th>Unnamed: 0</th>\n",
       "      <th>id</th>\n",
       "      <th>teacher_id</th>\n",
       "      <th>teacher_prefix</th>\n",
       "      <th>school_state</th>\n",
       "      <th>project_submitted_datetime</th>\n",
       "      <th>project_grade_category</th>\n",
       "      <th>project_title</th>\n",
       "      <th>project_essay_1</th>\n",
       "      <th>project_essay_2</th>\n",
       "      <th>project_essay_3</th>\n",
       "      <th>project_essay_4</th>\n",
       "      <th>project_resource_summary</th>\n",
       "      <th>teacher_number_of_previously_posted_projects</th>\n",
       "      <th>project_is_approved</th>\n",
       "      <th>clean_categories</th>\n",
       "      <th>clean_subcategories</th>\n",
       "      <th>essay</th>\n",
       "    </tr>\n",
       "  </thead>\n",
       "  <tbody>\n",
       "    <tr>\n",
       "      <th>33884</th>\n",
       "      <td>172066</td>\n",
       "      <td>p031287</td>\n",
       "      <td>6d6cb5cbb6bc66fd4cdb436a7e7fcd49</td>\n",
       "      <td>Mrs.</td>\n",
       "      <td>AL</td>\n",
       "      <td>2016-06-26 21:14:17</td>\n",
       "      <td>Grades 3-5</td>\n",
       "      <td>Flexible Seating Frenzy!</td>\n",
       "      <td>How do I begin describing my students?  Each y...</td>\n",
       "      <td>High Five for Flexible Seating!! In order to s...</td>\n",
       "      <td>NaN</td>\n",
       "      <td>NaN</td>\n",
       "      <td>My students need a variety of flexible seating...</td>\n",
       "      <td>0</td>\n",
       "      <td>1</td>\n",
       "      <td>Literacy_Language Math_Science</td>\n",
       "      <td>Literacy Mathematics</td>\n",
       "      <td>How do I begin describing my students?  Each y...</td>\n",
       "    </tr>\n",
       "    <tr>\n",
       "      <th>56211</th>\n",
       "      <td>60946</td>\n",
       "      <td>p162287</td>\n",
       "      <td>0c528e32d8e206705a38f93f81d35cc5</td>\n",
       "      <td>Ms.</td>\n",
       "      <td>MA</td>\n",
       "      <td>2016-08-25 08:08:31</td>\n",
       "      <td>Grades 3-5</td>\n",
       "      <td>Art Across the Curriculum: Intersecting  Scien...</td>\n",
       "      <td>If the world is supposed to be their oyster, I...</td>\n",
       "      <td>Combining content areas such as science and so...</td>\n",
       "      <td>NaN</td>\n",
       "      <td>NaN</td>\n",
       "      <td>My students need art supplies to create cross-...</td>\n",
       "      <td>2</td>\n",
       "      <td>1</td>\n",
       "      <td>History_Civics Music_Arts</td>\n",
       "      <td>SocialSciences VisualArts</td>\n",
       "      <td>If the world is supposed to be their oyster, I...</td>\n",
       "    </tr>\n",
       "  </tbody>\n",
       "</table>\n",
       "</div>"
      ],
      "text/plain": [
       "       Unnamed: 0       id                        teacher_id teacher_prefix  \\\n",
       "33884      172066  p031287  6d6cb5cbb6bc66fd4cdb436a7e7fcd49           Mrs.   \n",
       "56211       60946  p162287  0c528e32d8e206705a38f93f81d35cc5            Ms.   \n",
       "\n",
       "      school_state project_submitted_datetime project_grade_category  \\\n",
       "33884           AL        2016-06-26 21:14:17             Grades 3-5   \n",
       "56211           MA        2016-08-25 08:08:31             Grades 3-5   \n",
       "\n",
       "                                           project_title  \\\n",
       "33884                           Flexible Seating Frenzy!   \n",
       "56211  Art Across the Curriculum: Intersecting  Scien...   \n",
       "\n",
       "                                         project_essay_1  \\\n",
       "33884  How do I begin describing my students?  Each y...   \n",
       "56211  If the world is supposed to be their oyster, I...   \n",
       "\n",
       "                                         project_essay_2 project_essay_3  \\\n",
       "33884  High Five for Flexible Seating!! In order to s...             NaN   \n",
       "56211  Combining content areas such as science and so...             NaN   \n",
       "\n",
       "      project_essay_4                           project_resource_summary  \\\n",
       "33884             NaN  My students need a variety of flexible seating...   \n",
       "56211             NaN  My students need art supplies to create cross-...   \n",
       "\n",
       "       teacher_number_of_previously_posted_projects  project_is_approved  \\\n",
       "33884                                             0                    1   \n",
       "56211                                             2                    1   \n",
       "\n",
       "                     clean_categories        clean_subcategories  \\\n",
       "33884  Literacy_Language Math_Science       Literacy Mathematics   \n",
       "56211       History_Civics Music_Arts  SocialSciences VisualArts   \n",
       "\n",
       "                                                   essay  \n",
       "33884  How do I begin describing my students?  Each y...  \n",
       "56211  If the world is supposed to be their oyster, I...  "
      ]
     },
     "execution_count": 10,
     "metadata": {},
     "output_type": "execute_result"
    }
   ],
   "source": [
    "project_data.head(2)"
   ]
  },
  {
   "cell_type": "code",
   "execution_count": 11,
   "metadata": {
    "colab": {},
    "colab_type": "code",
    "id": "y1IMIH5ioUGo"
   },
   "outputs": [],
   "source": [
    "#### 1.4.2.3 Using Pretrained Models: TFIDF weighted W2V"
   ]
  },
  {
   "cell_type": "code",
   "execution_count": 12,
   "metadata": {
    "colab": {},
    "colab_type": "code",
    "id": "ghjkQ5NJoUGq",
    "outputId": "1e5cb6dd-5776-4fe5-be4a-f541a82341d4"
   },
   "outputs": [
    {
     "name": "stdout",
     "output_type": "stream",
     "text": [
      "How do I begin describing my students?  Each year brings though my door such a unique medley of personalities, potentials and learning styles that I often say teach me more about myself than I have taught them academically all year.  They grow to be a part of who I am as a person.  I have such a blend of alternative learners, students with attention hurdles, sensory issues alongside traditional learners.\\r\\n\\r\\nThe best part about watching my students interact with each other is watching how much they care for, respect, and learn from one other.  \\r\\n\\r\\nWhich is why I want to do my best to meet all of their needs!High Five for Flexible Seating!! In order to students to obtain the most from their learning environment, teachers know we must use all means necessary to engage our learners. It's no secret that with increased demands in the classroom, our kids are spending less time MOVING.  All of these pent up energies can get in the way of their processing.  By adding this whole-body sensory option to my classroom, we'll be giving them to option to keep their bodies and minds fully engaged. \\r\\n\\r\\nResearch shows that students work better, feel better, and achieve more when they feel comfortable in their learning environment; and there's a growing body of research that shows alternative seating cuts down on fidgeting, increases attention span, and sets up students to succeed.\\r\\n I already have pillows, cushions, and yoga mats, but with your help, we can take this to the next level!\\r\\n\\r\\nI am also asking for a class set of snazzy, bright and colorful plastic clipboards for students to utilize for writing while enjoying their new flexible seating options.\\r\\n\\r\\nYour donations for flexible seating will help lock my kids into learning by engaging their bodies and minds, making their learning environment more enjoyable, more successful, and of course, fun!nannan\n",
      "==================================================\n",
      "I work at a high school as a teacher to students who have mild to moderate learning disabilities. Many of these students are English Learners as well. Some of these students come from low socioeconomic homes, and they do not have cell phones or computers at home. \\r\\nI love teaching my students, and they never cease to amaze me at what they are capable of. They teach me so much! Sadly. every year I feel like they are missing out on so much that the world of science and technology has to offer!Hello!  I have been working on building a ChromeBook set for my classroom of students who have mild to moderate disabilities.  I teach Science and it is often a challenge for my students to understand science concepts without visuals and models to follow.  \\r\\n\\r\\nI think it is important to take my students beyond the textbook.  Many activities and projects involve using Google drive, this is an excellent opportunity for the students to share and collaborate together.  \\r\\n\\r\\nMany of my students come from low socio-economic homes and chromebooks/computers are not something they have access to.  I don't want them to miss opportunities because of that!  Our classroom should be tech savvy to help them reap the benefits of technology.  \\r\\nnannan\n",
      "==================================================\n",
      "My students come from low poverty/low income families who have not been exposed to many of the cool, amazing things the world has to offer. All of them are all filled with curiosity and the eagerness to learn as much as their little minds will allow them to. Hands-on experiences are the best ways to keep these students engaged. Just because these students aren't in the best of neighborhoods doesn't been that they should be deprived of the many materials offered elsewhere.My students are going to be starting a brand new nonfiction unit really soon. Unfortunately my library does not have many nonfiction books and I need to build up a library as soon as possible to make this unit go smoothly. My students need to be learning about many different people in history from presidents, to historical figures such as Neil Armstrong and Ghandi. The books that I have chosen are the perfect level for my students, and are a very fun to read. I know my students will love these books and learn a lot from them. Eventually they will also be writing and publishing pieces based on what they have learned.nannan\n",
      "==================================================\n",
      "My students are amazing group of kids. They wonder about the world around them.  Some have never even left the state.  They want to know more.   When we are able to get technology, they seek out and explore many different research topics.  They want to learn more and nothing will stop them.\\r\\nThey are some of the most caring people I have ever had the chance of working with.  They are compassionate and love helping everyone around them.  They care because they want to see change in the world.I have learned that file folder games are an amazing way to keep kids focus and learning longer than any worksheet can.  Kids don't think that they are learning, they view it as a game.  \\r\\nFolder games are a great way to implement the learning for my students. I am also able to bring out a game for quick finishers. They are also useful for review of a topic that we may not have used in a few months. \\r\\nKids learn to work together and problem solve when using file folder games. Kids love them most importantly!  Kids are eager to learn and ask to use them all the time!nannan\n",
      "==================================================\n"
     ]
    }
   ],
   "source": [
    "# printing some random reviews\n",
    "print(project_data['essay'].values[0])\n",
    "print(\"=\"*50)\n",
    "print(project_data['essay'].values[150])\n",
    "print(\"=\"*50)\n",
    "print(project_data['essay'].values[1000])\n",
    "print(\"=\"*50)\n",
    "print(project_data['essay'].values[20000])\n",
    "print(\"=\"*50)"
   ]
  },
  {
   "cell_type": "code",
   "execution_count": 13,
   "metadata": {
    "colab": {},
    "colab_type": "code",
    "id": "TGzKAL65oUGt"
   },
   "outputs": [],
   "source": [
    "# https://stackoverflow.com/a/47091490/4084039\n",
    "import re\n",
    "\n",
    "def decontracted(phrase):\n",
    "    # specific\n",
    "    phrase = re.sub(r\"won't\", \"will not\", phrase)\n",
    "    phrase = re.sub(r\"can\\'t\", \"can not\", phrase)\n",
    "\n",
    "    # general\n",
    "    phrase = re.sub(r\"n\\'t\", \" not\", phrase)\n",
    "    phrase = re.sub(r\"\\'re\", \" are\", phrase)\n",
    "    phrase = re.sub(r\"\\'s\", \" is\", phrase)\n",
    "    phrase = re.sub(r\"\\'d\", \" would\", phrase)\n",
    "    phrase = re.sub(r\"\\'ll\", \" will\", phrase)\n",
    "    phrase = re.sub(r\"\\'t\", \" not\", phrase)\n",
    "    phrase = re.sub(r\"\\'ve\", \" have\", phrase)\n",
    "    phrase = re.sub(r\"\\'m\", \" am\", phrase)\n",
    "    return phrase"
   ]
  },
  {
   "cell_type": "code",
   "execution_count": 14,
   "metadata": {
    "colab": {},
    "colab_type": "code",
    "id": "xkeCI1WmoUGw",
    "outputId": "f85659af-c549-43d5-89aa-62bd78b4f708"
   },
   "outputs": [
    {
     "name": "stdout",
     "output_type": "stream",
     "text": [
      "My students are amazing group of kids. They wonder about the world around them.  Some have never even left the state.  They want to know more.   When we are able to get technology, they seek out and explore many different research topics.  They want to learn more and nothing will stop them.\\r\\nThey are some of the most caring people I have ever had the chance of working with.  They are compassionate and love helping everyone around them.  They care because they want to see change in the world.I have learned that file folder games are an amazing way to keep kids focus and learning longer than any worksheet can.  Kids do not think that they are learning, they view it as a game.  \\r\\nFolder games are a great way to implement the learning for my students. I am also able to bring out a game for quick finishers. They are also useful for review of a topic that we may not have used in a few months. \\r\\nKids learn to work together and problem solve when using file folder games. Kids love them most importantly!  Kids are eager to learn and ask to use them all the time!nannan\n",
      "==================================================\n"
     ]
    }
   ],
   "source": [
    "sent = decontracted(project_data['essay'].values[20000])\n",
    "print(sent)\n",
    "print(\"=\"*50)"
   ]
  },
  {
   "cell_type": "code",
   "execution_count": 15,
   "metadata": {
    "colab": {},
    "colab_type": "code",
    "id": "KAhl8dbYoUGz",
    "outputId": "cec5949b-f5f2-4899-d8fa-c645d528b231"
   },
   "outputs": [
    {
     "name": "stdout",
     "output_type": "stream",
     "text": [
      "My students are amazing group of kids. They wonder about the world around them.  Some have never even left the state.  They want to know more.   When we are able to get technology, they seek out and explore many different research topics.  They want to learn more and nothing will stop them.  They are some of the most caring people I have ever had the chance of working with.  They are compassionate and love helping everyone around them.  They care because they want to see change in the world.I have learned that file folder games are an amazing way to keep kids focus and learning longer than any worksheet can.  Kids do not think that they are learning, they view it as a game.    Folder games are a great way to implement the learning for my students. I am also able to bring out a game for quick finishers. They are also useful for review of a topic that we may not have used in a few months.   Kids learn to work together and problem solve when using file folder games. Kids love them most importantly!  Kids are eager to learn and ask to use them all the time!nannan\n"
     ]
    }
   ],
   "source": [
    "# \\r \\n \\t remove from string python: http://texthandler.com/info/remove-line-breaks-python/\n",
    "sent = sent.replace('\\\\r', ' ')\n",
    "sent = sent.replace('\\\\\"', ' ')\n",
    "sent = sent.replace('\\\\n', ' ')\n",
    "print(sent)"
   ]
  },
  {
   "cell_type": "code",
   "execution_count": 16,
   "metadata": {
    "colab": {},
    "colab_type": "code",
    "id": "io_sbKCWoUG2",
    "outputId": "8b1e198e-c9fd-4a1f-b72d-fbfaff746b54"
   },
   "outputs": [
    {
     "name": "stdout",
     "output_type": "stream",
     "text": [
      "My students are amazing group of kids They wonder about the world around them Some have never even left the state They want to know more When we are able to get technology they seek out and explore many different research topics They want to learn more and nothing will stop them They are some of the most caring people I have ever had the chance of working with They are compassionate and love helping everyone around them They care because they want to see change in the world I have learned that file folder games are an amazing way to keep kids focus and learning longer than any worksheet can Kids do not think that they are learning they view it as a game Folder games are a great way to implement the learning for my students I am also able to bring out a game for quick finishers They are also useful for review of a topic that we may not have used in a few months Kids learn to work together and problem solve when using file folder games Kids love them most importantly Kids are eager to learn and ask to use them all the time nannan\n"
     ]
    }
   ],
   "source": [
    "#remove spacial character: https://stackoverflow.com/a/5843547/4084039\n",
    "sent = re.sub('[^A-Za-z0-9]+', ' ', sent)\n",
    "print(sent)"
   ]
  },
  {
   "cell_type": "code",
   "execution_count": 17,
   "metadata": {
    "colab": {},
    "colab_type": "code",
    "id": "wtuFzHzfoUG6"
   },
   "outputs": [],
   "source": [
    "# https://gist.github.com/sebleier/554280\n",
    "# we are removing the words from the stop words list: 'no', 'nor', 'not'\n",
    "stopwords= ['i', 'me', 'my', 'myself', 'we', 'our', 'ours', 'ourselves', 'you', \"you're\", \"you've\",\\\n",
    "            \"you'll\", \"you'd\", 'your', 'yours', 'yourself', 'yourselves', 'he', 'him', 'his', 'himself', \\\n",
    "            'she', \"she's\", 'her', 'hers', 'herself', 'it', \"it's\", 'its', 'itself', 'they', 'them', 'their',\\\n",
    "            'theirs', 'themselves', 'what', 'which', 'who', 'whom', 'this', 'that', \"that'll\", 'these', 'those', \\\n",
    "            'am', 'is', 'are', 'was', 'were', 'be', 'been', 'being', 'have', 'has', 'had', 'having', 'do', 'does', \\\n",
    "            'did', 'doing', 'a', 'an', 'the', 'and', 'but', 'if', 'or', 'because', 'as', 'until', 'while', 'of', \\\n",
    "            'at', 'by', 'for', 'with', 'about', 'against', 'between', 'into', 'through', 'during', 'before', 'after',\\\n",
    "            'above', 'below', 'to', 'from', 'up', 'down', 'in', 'out', 'on', 'off', 'over', 'under', 'again', 'further',\\\n",
    "            'then', 'once', 'here', 'there', 'when', 'where', 'why', 'how', 'all', 'any', 'both', 'each', 'few', 'more',\\\n",
    "            'most', 'other', 'some', 'such', 'only', 'own', 'same', 'so', 'than', 'too', 'very', \\\n",
    "            's', 't', 'can', 'will', 'just', 'don', \"don't\", 'should', \"should've\", 'now', 'd', 'll', 'm', 'o', 're', \\\n",
    "            've', 'y', 'ain', 'aren', \"aren't\", 'couldn', \"couldn't\", 'didn', \"didn't\", 'doesn', \"doesn't\", 'hadn',\\\n",
    "            \"hadn't\", 'hasn', \"hasn't\", 'haven', \"haven't\", 'isn', \"isn't\", 'ma', 'mightn', \"mightn't\", 'mustn',\\\n",
    "            \"mustn't\", 'needn', \"needn't\", 'shan', \"shan't\", 'shouldn', \"shouldn't\", 'wasn', \"wasn't\", 'weren', \"weren't\", \\\n",
    "            'won', \"won't\", 'wouldn', \"wouldn't\"]"
   ]
  },
  {
   "cell_type": "code",
   "execution_count": 18,
   "metadata": {
    "colab": {},
    "colab_type": "code",
    "id": "ny4jT0IzoUG8",
    "outputId": "a973df34-b25b-404d-e37d-5b4377ec68b2"
   },
   "outputs": [
    {
     "name": "stderr",
     "output_type": "stream",
     "text": [
      "100%|███████████████████████████████████████████████████████████████████████████| 50000/50000 [00:52<00:00, 950.26it/s]\n"
     ]
    }
   ],
   "source": [
    "# Combining all the above stundents \n",
    "from tqdm import tqdm\n",
    "preprocessed_essays = []\n",
    "# tqdm is for printing the status bar\n",
    "for sentance in tqdm(project_data['essay'].values):\n",
    "    sent = decontracted(sentance)\n",
    "    sent = sent.replace('\\\\r', ' ')\n",
    "    sent = sent.replace('\\\\\"', ' ')\n",
    "    sent = sent.replace('\\\\n', ' ')\n",
    "    sent = re.sub('[^A-Za-z0-9]+', ' ', sent)\n",
    "    # https://gist.github.com/sebleier/554280\n",
    "    sent = ' '.join(e.lower().strip() for e in sent.split() if e.lower() not in stopwords)\n",
    "    preprocessed_essays.append(sent.strip())\n",
    "project_data[\"essay\"]=preprocessed_essays    "
   ]
  },
  {
   "cell_type": "code",
   "execution_count": 19,
   "metadata": {
    "colab": {},
    "colab_type": "code",
    "id": "ccPTDoKGoUG_",
    "outputId": "79740a48-c822-4071-9274-6d9625edd9ec"
   },
   "outputs": [
    {
     "data": {
      "text/plain": [
       "'students amazing group kids wonder world around never even left state want know able get technology seek explore many different research topics want learn nothing stop caring people ever chance working compassionate love helping everyone around care want see change world learned file folder games amazing way keep kids focus learning longer worksheet kids not think learning view game folder games great way implement learning students also able bring game quick finishers also useful review topic may not used months kids learn work together problem solve using file folder games kids love importantly kids eager learn ask use time nannan'"
      ]
     },
     "execution_count": 19,
     "metadata": {},
     "output_type": "execute_result"
    }
   ],
   "source": [
    "# after preprocesing\n",
    "preprocessed_essays[20000]"
   ]
  },
  {
   "cell_type": "markdown",
   "metadata": {
    "colab_type": "text",
    "id": "oxBhoq--oUHC"
   },
   "source": [
    "<h2><font color='red'> 1.4 Preprocessing of `project_title`</font></h2>"
   ]
  },
  {
   "cell_type": "code",
   "execution_count": 20,
   "metadata": {
    "colab": {},
    "colab_type": "code",
    "id": "zBxyacM6oUHD"
   },
   "outputs": [
    {
     "name": "stderr",
     "output_type": "stream",
     "text": [
      "100%|█████████████████████████████████████████████████████████████████████████| 50000/50000 [00:02<00:00, 16935.17it/s]\n"
     ]
    }
   ],
   "source": [
    "# Combining all the above stundents \n",
    "from tqdm import tqdm\n",
    "preprocessed_titles = []\n",
    "# tqdm is for printing the status bar\n",
    "for sentance in tqdm(project_data['project_title'].values):\n",
    "    sent = decontracted(sentance)\n",
    "    sent = sent.replace('\\\\r', ' ')\n",
    "    sent = sent.replace('\\\\\"', ' ')\n",
    "    sent = sent.replace('\\\\n', ' ')\n",
    "    sent = re.sub('[^A-Za-z0-9]+', ' ', sent)\n",
    "    # https://gist.github.com/sebleier/554280\n",
    "    sent = ' '.join(e.lower().strip() for e in sent.split() if e.lower() not in stopwords)\n",
    "    preprocessed_titles.append(sent.strip())\n",
    "project_data[\"project_title\"]=preprocessed_titles    "
   ]
  },
  {
   "cell_type": "code",
   "execution_count": 21,
   "metadata": {},
   "outputs": [
    {
     "data": {
      "text/plain": [
       "['flexible seating frenzy',\n",
       " 'art across curriculum intersecting science social studies',\n",
       " 'floor seating flexible classroom',\n",
       " 'good start great year',\n",
       " 'cd drives educational computer games']"
      ]
     },
     "execution_count": 21,
     "metadata": {},
     "output_type": "execute_result"
    }
   ],
   "source": [
    "preprocessed_titles[:5]"
   ]
  },
  {
   "cell_type": "markdown",
   "metadata": {
    "colab_type": "text",
    "id": "P4I60VW7oUHF"
   },
   "source": [
    "## 1.5 Preparing data for models"
   ]
  },
  {
   "cell_type": "code",
   "execution_count": 22,
   "metadata": {
    "colab": {},
    "colab_type": "code",
    "id": "F_jrfczjoUHG",
    "outputId": "6e45eb13-642b-488f-b44d-e370e7430b18"
   },
   "outputs": [
    {
     "data": {
      "text/plain": [
       "Index(['Unnamed: 0', 'id', 'teacher_id', 'teacher_prefix', 'school_state',\n",
       "       'project_submitted_datetime', 'project_grade_category', 'project_title',\n",
       "       'project_essay_1', 'project_essay_2', 'project_essay_3',\n",
       "       'project_essay_4', 'project_resource_summary',\n",
       "       'teacher_number_of_previously_posted_projects', 'project_is_approved',\n",
       "       'clean_categories', 'clean_subcategories', 'essay'],\n",
       "      dtype='object')"
      ]
     },
     "execution_count": 22,
     "metadata": {},
     "output_type": "execute_result"
    }
   ],
   "source": [
    "project_data.columns"
   ]
  },
  {
   "cell_type": "markdown",
   "metadata": {
    "colab_type": "text",
    "id": "y1YePFvOoUHI"
   },
   "source": [
    "we are going to consider\n",
    "\n",
    "       - school_state : categorical data\n",
    "       - clean_categories : categorical data\n",
    "       - clean_subcategories : categorical data\n",
    "       - project_grade_category : categorical data\n",
    "       - teacher_prefix : categorical data\n",
    "       \n",
    "       - project_title : text data\n",
    "       - text : text data\n",
    "       - project_resource_summary: text data (optinal)\n",
    "       \n",
    "       - quantity : numerical (optinal)\n",
    "       - teacher_number_of_previously_posted_projects : numerical\n",
    "       - price : numerical"
   ]
  },
  {
   "cell_type": "markdown",
   "metadata": {
    "colab_type": "text",
    "id": "1xr5XNfxoUHJ"
   },
   "source": [
    "### 1.5.1 Vectorizing Categorical data"
   ]
  },
  {
   "cell_type": "markdown",
   "metadata": {
    "colab_type": "text",
    "id": "lxgwqyC5oUHK"
   },
   "source": [
    "- https://www.appliedaicourse.com/course/applied-ai-course-online/lessons/handling-categorical-and-numerical-features/"
   ]
  },
  {
   "cell_type": "code",
   "execution_count": 23,
   "metadata": {
    "colab": {},
    "colab_type": "code",
    "id": "taK2Q5YNoUHP"
   },
   "outputs": [
    {
     "name": "stderr",
     "output_type": "stream",
     "text": [
      "100%|█████████████████████████████████████████████████████████████████████████| 50000/50000 [00:01<00:00, 34790.64it/s]\n"
     ]
    },
    {
     "name": "stdout",
     "output_type": "stream",
     "text": [
      "['AL', 'MA', 'VA', 'MO', 'NY', 'ID', 'NC', 'MD', 'CA', 'GA', 'OK', 'CO', 'MA', 'LA', 'CA']\n"
     ]
    }
   ],
   "source": [
    "preprocessed_school_state=[]\n",
    "for state in tqdm(project_data['school_state'].values):\n",
    "    state=decontracted(state)\n",
    "    state=state.replace(\".\",'')\n",
    "    state=state.replace('\"','')\n",
    "    state=state.replace('-','')\n",
    "    state=state.replace('_','')\n",
    "    state=state.replace(' ','')\n",
    "    state=re.sub('[^A-za-z]+','',state)\n",
    "    preprocessed_school_state.append(state.strip())\n",
    "print(preprocessed_school_state[:15])"
   ]
  },
  {
   "cell_type": "code",
   "execution_count": 24,
   "metadata": {},
   "outputs": [
    {
     "name": "stderr",
     "output_type": "stream",
     "text": [
      "100%|█████████████████████████████████████████████████████████████████████████| 50000/50000 [00:01<00:00, 41568.15it/s]\n"
     ]
    },
    {
     "name": "stdout",
     "output_type": "stream",
     "text": [
      "['Mrs', 'Ms', 'Mrs', 'Mrs', 'Mr', 'Ms', 'Mrs', 'Ms', 'Ms', 'Ms', 'Mrs', 'Mr', 'Ms', 'Mrs', 'Ms']\n"
     ]
    }
   ],
   "source": [
    "preprocessed_teacher_prefix=[]\n",
    "for prefix in tqdm(project_data[\"teacher_prefix\"].map(str).values):\n",
    "    prefix=decontracted(prefix)\n",
    "    prefix=prefix.replace(\".\",'')\n",
    "    prefix=prefix.replace('\"','')\n",
    "    prefix=prefix.replace('-','')\n",
    "    prefix=prefix.replace('_','')\n",
    "    prefix=prefix.replace(' ','')\n",
    "    prefix=re.sub('[^A-Za-z]+','',prefix)\n",
    "    preprocessed_teacher_prefix.append(prefix.strip())\n",
    "print(preprocessed_teacher_prefix[:15])"
   ]
  },
  {
   "cell_type": "code",
   "execution_count": 25,
   "metadata": {},
   "outputs": [
    {
     "name": "stdout",
     "output_type": "stream",
     "text": [
      "['Grades 3-5' 'Grades 3-5' 'Grades 3-5' ... 'Grades 6-8' 'Grades PreK-2'\n",
      " 'Grades 3-5']\n"
     ]
    },
    {
     "name": "stderr",
     "output_type": "stream",
     "text": [
      "100%|█████████████████████████████████████████████████████████████████████████| 50000/50000 [00:01<00:00, 41568.15it/s]\n"
     ]
    },
    {
     "name": "stdout",
     "output_type": "stream",
     "text": [
      "['Grades35', 'Grades35', 'Grades35', 'GradesPreK2', 'GradesPreK2', 'Grades68', 'Grades35', 'GradesPreK2', 'Grades35', 'Grades68', 'GradesPreK2', 'Grades35', 'GradesPreK2', 'Grades68', 'GradesPreK2', 'Grades68', 'GradesPreK2', 'Grades35', 'Grades35', 'Grades35']\n"
     ]
    }
   ],
   "source": [
    "print(project_data[\"project_grade_category\"].values)\n",
    "preprocessed_project_grade=[]\n",
    "for grade in tqdm(project_data[\"project_grade_category\"].values):\n",
    "    grade=decontracted(grade)\n",
    "    grade=grade.replace('.','')\n",
    "    grade=grade.replace('\"','')\n",
    "    grade=grade.replace('-','')\n",
    "    grade=grade.replace(' ','')\n",
    "    grade=grade.replace('_','')\n",
    "    grade=re.sub('[^A-Za-z0-9]+','',grade)\n",
    "    preprocessed_project_grade.append(grade)\n",
    "print(preprocessed_project_grade[:20])"
   ]
  },
  {
   "cell_type": "markdown",
   "metadata": {
    "colab_type": "text",
    "id": "yHJ45fW4oUHl"
   },
   "source": [
    "### 1.5.3 Vectorizing Numerical features"
   ]
  },
  {
   "cell_type": "code",
   "execution_count": 26,
   "metadata": {
    "colab": {},
    "colab_type": "code",
    "id": "yHffthPioUHl"
   },
   "outputs": [],
   "source": [
    "price_data = resource_data.groupby('id').agg({'price':'sum', 'quantity':'sum'}).reset_index()\n",
    "project_data = pd.merge(project_data, price_data, on='id', how='left')"
   ]
  },
  {
   "cell_type": "markdown",
   "metadata": {
    "colab_type": "text",
    "id": "sroxCZEPoUHy"
   },
   "source": [
    "__ Computing Sentiment Scores__"
   ]
  },
  {
   "cell_type": "code",
   "execution_count": 27,
   "metadata": {
    "colab": {},
    "colab_type": "code",
    "id": "F8rRKUskoUHz",
    "outputId": "ea7f1629-df31-4a5f-a6df-f57d8dface17"
   },
   "outputs": [
    {
     "name": "stdout",
     "output_type": "stream",
     "text": [
      "neg: 0.01, neu: 0.745, pos: 0.245, compound: 0.9975, "
     ]
    }
   ],
   "source": [
    "import nltk\n",
    "from nltk.sentiment.vader import SentimentIntensityAnalyzer\n",
    "\n",
    "# import nltk\n",
    "# nltk.download('vader_lexicon')\n",
    "\n",
    "sid = SentimentIntensityAnalyzer()\n",
    "\n",
    "for_sentiment = 'a person is a person no matter how small dr seuss i teach the smallest students with the biggest enthusiasm \\\n",
    "for learning my students learn in many different ways using all of our senses and multiple intelligences i use a wide range\\\n",
    "of techniques to help all my students succeed students in my class come from a variety of different backgrounds which makes\\\n",
    "for wonderful sharing of experiences and cultures including native americans our school is a caring community of successful \\\n",
    "learners which can be seen through collaborative student project based learning in and out of the classroom kindergarteners \\\n",
    "in my class love to work with hands on materials and have many different opportunities to practice a skill before it is\\\n",
    "mastered having the social skills to work cooperatively with friends is a crucial aspect of the kindergarten curriculum\\\n",
    "montana is the perfect place to learn about agriculture and nutrition my students love to role play in our pretend kitchen\\\n",
    "in the early childhood classroom i have had several kids ask me can we try cooking with real food i will take their idea \\\n",
    "and create common core cooking lessons where we learn important math and writing concepts while cooking delicious healthy \\\n",
    "food for snack time my students will have a grounded appreciation for the work that went into making the food and knowledge \\\n",
    "of where the ingredients came from as well as how it is healthy for their bodies this project would expand our learning of \\\n",
    "nutrition and agricultural cooking recipes by having us peel our own apples to make homemade applesauce make our own bread \\\n",
    "and mix up healthy plants from our classroom garden in the spring we will also create our own cookbooks to be printed and \\\n",
    "shared with families students will gain math and literature skills as well as a life long enjoyment for healthy cooking \\\n",
    "nannan'\n",
    "ss = sid.polarity_scores(for_sentiment)\n",
    "\n",
    "for k in ss:\n",
    "    print('{0}: {1}, '.format(k, ss[k]), end='')\n",
    "\n",
    "# we can use these 4 things as features/attributes (neg, neu, pos, compound)\n",
    "# neg: 0.0, neu: 0.753, pos: 0.247, compound: 0.93"
   ]
  },
  {
   "cell_type": "markdown",
   "metadata": {
    "colab_type": "text",
    "id": "EDbdwrJ7oUH1"
   },
   "source": [
    "# Assignment 7: SVM"
   ]
  },
  {
   "cell_type": "markdown",
   "metadata": {
    "colab_type": "text",
    "id": "sKc9KmNQoUH2"
   },
   "source": [
    "<ol>\n",
    "    <li><strong>[Task-1] Apply Support Vector Machines(SGDClassifier with hinge loss: Linear SVM) on these feature sets</strong>\n",
    "        <ul>\n",
    "            <li><font color='red'>Set 1</font>: categorical, numerical features + project_title(BOW) + preprocessed_eassay (BOW)</li>\n",
    "            <li><font color='red'>Set 2</font>: categorical, numerical features + project_title(TFIDF)+  preprocessed_eassay (TFIDF)</li>\n",
    "            <li><font color='red'>Set 3</font>: categorical, numerical features + project_title(AVG W2V)+  preprocessed_eassay (AVG W2V)</li>\n",
    "            <li><font color='red'>Set 4</font>: categorical, numerical features + project_title(TFIDF W2V)+  preprocessed_eassay (TFIDF W2V)</li>        </ul>\n",
    "    </li>\n",
    "    <br>\n",
    "    <li><strong>The hyper paramter tuning (best alpha in range [10^-4 to 10^4], and the best penalty among 'l1', 'l2')</strong>\n",
    "        <ul>\n",
    "    <li>Find the best hyper parameter which will give the maximum <a href='https://www.appliedaicourse.com/course/applied-ai-course-online/lessons/receiver-operating-characteristic-curve-roc-curve-and-auc-1/'>AUC</a> value</li>\n",
    "    <li>Find the best hyper paramter using k-fold cross validation or simple cross validation data</li>\n",
    "    <li>Use gridsearch cv or randomsearch cv or you can also write your own for loops to do this task of hyperparameter tuning\n",
    "        </ul>\n",
    "            </li>\n",
    "    <br>\n",
    "    <li><strong>Representation of results</strong>\n",
    "        <ul>\n",
    "    <li>You need to plot the performance of model both on train data and cross validation data for each hyper parameter, like shown in the figure.\n",
    "    <img src='train_cv_auc.JPG' width=300px></li>\n",
    "    <li>Once after you found the best hyper parameter, you need to train your model with it, and find the AUC on test data and plot the ROC curve on both train and test.\n",
    "    <img src='train_test_auc.JPG' width=300px></li>\n",
    "    <li>Along with plotting ROC curve, you need to print the <a href='https://www.appliedaicourse.com/course/applied-ai-course-online/lessons/confusion-matrix-tpr-fpr-fnr-tnr-1/'>confusion matrix</a> with predicted and original labels of test data points. Please visualize your confusion matrices using <a href='https://seaborn.pydata.org/generated/seaborn.heatmap.html'>seaborn heatmaps.\n",
    "    <img src='confusion_matrix.png' width=300px></li>\n",
    "        </ul>\n",
    "    </li>\n",
    "    <br>\n",
    "    <li><strong>[Task-2] Apply the Support Vector Machines on these features by finding the best hyper paramter as suggested in step 2 and step 3</strong>\n",
    "        <ul>\n",
    "    <li> Consider these set of features <font color='red'> Set 5 :</font>\n",
    "            <ul>\n",
    "                <li><strong>school_state</strong> : categorical data</li>\n",
    "                <li><strong>clean_categories</strong> : categorical data</li>\n",
    "                <li><strong>clean_subcategories</strong> : categorical data</li>\n",
    "                <li><strong>project_grade_category</strong> :categorical data</li>\n",
    "                <li><strong>teacher_prefix</strong> : categorical data</li>\n",
    "                <li><strong>quantity</strong> : numerical data</li>\n",
    "                <li><strong>teacher_number_of_previously_posted_projects</strong> : numerical data</li>\n",
    "                <li><strong>price</strong> : numerical data</li>\n",
    "                <li><strong>sentiment score's of each of the essay</strong> : numerical data</li>\n",
    "                <li><strong>number of words in the title</strong> : numerical data</li>\n",
    "                <li><strong>number of words in the combine essays</strong> : numerical data</li>\n",
    "                <li><strong>Apply <a href='http://scikit-learn.org/stable/modules/generated/sklearn.decomposition.TruncatedSVD.html'>TruncatedSVD</a> on <a href='https://scikit-learn.org/stable/modules/generated/sklearn.feature_extraction.text.TfidfVectorizer.html'>TfidfVectorizer</a> of essay text, choose the number of components (`n_components`) using <a href='https://www.appliedaicourse.com/course/applied-ai-course-online/lessons/pca-code-example-using-non-visualization/'>elbow method</a></strong> : numerical data</li>\n",
    "            </ul>\n",
    "         <br>\n",
    "    </li>\n",
    "    <br>\n",
    "    <li><strong>Conclusion</strong>\n",
    "        <ul>\n",
    "    <li>You need to summarize the results at the end of the notebook, summarize it in the table format. To print out a table please refer to this prettytable library<a href='http://zetcode.com/python/prettytable/'>  link</a> \n",
    "        <img src='summary.JPG' width=400px>\n",
    "    </li>\n",
    "        </ul>\n",
    "</ol>"
   ]
  },
  {
   "cell_type": "markdown",
   "metadata": {
    "colab_type": "text",
    "id": "zgdnjthToUH2"
   },
   "source": [
    "<h4><font color='red'>Note: Data Leakage</font></h4>\n",
    "\n",
    "1. There will be an issue of data-leakage if you vectorize the entire data and then split it into train/cv/test.\n",
    "2. To avoid the issue of data-leakage, make sure to split your data first and then vectorize it. \n",
    "3. While vectorizing your data, apply the method fit_transform() on you train data, and apply the method transform() on cv/test data.\n",
    "4. For more details please go through this <a href='https://soundcloud.com/applied-ai-course/leakage-bow-and-tfidf'>link.</a>"
   ]
  },
  {
   "cell_type": "markdown",
   "metadata": {
    "colab_type": "text",
    "id": "__AbIboVoUH3"
   },
   "source": [
    "<h1>2. Support Vector Machines </h1>"
   ]
  },
  {
   "cell_type": "markdown",
   "metadata": {
    "colab_type": "text",
    "id": "vMxruDG7oUH3"
   },
   "source": [
    "<h2>2.1 Splitting data into Train and cross validation(or test): Stratified Sampling</h2>"
   ]
  },
  {
   "cell_type": "code",
   "execution_count": 28,
   "metadata": {},
   "outputs": [],
   "source": [
    "project_data=project_data[[\"teacher_number_of_previously_posted_projects\",\"price\",\"quantity\",\"clean_categories\",\"clean_subcategories\",\"project_title\",\"essay\",\"project_is_approved\"]]\n",
    "project_data[\"teacher_prefix\"]=preprocessed_teacher_prefix\n",
    "project_data[\"school_state\"]=preprocessed_school_state\n",
    "project_data[\"project_grade_category\"]=preprocessed_project_grade"
   ]
  },
  {
   "cell_type": "code",
   "execution_count": 29,
   "metadata": {
    "colab": {},
    "colab_type": "code",
    "id": "vc9jEpzzoUH4"
   },
   "outputs": [],
   "source": [
    "from sklearn.model_selection import train_test_split,GridSearchCV\n",
    "target=project_data[\"project_is_approved\"].values\n",
    "data=project_data.drop(\"project_is_approved\",axis=1)\n",
    "x_train,x_test,y_train,y_test=train_test_split(data,target,test_size=0.3,random_state=0)"
   ]
  },
  {
   "cell_type": "markdown",
   "metadata": {
    "colab_type": "text",
    "id": "RXh9o-rOoUH5"
   },
   "source": [
    "<h2>2.2 Make Data Model Ready: encoding numerical, categorical features</h2>"
   ]
  },
  {
   "cell_type": "code",
   "execution_count": 30,
   "metadata": {
    "colab": {},
    "colab_type": "code",
    "id": "80ha3YnqoUH5"
   },
   "outputs": [
    {
     "data": {
      "text/plain": [
       "Index(['teacher_number_of_previously_posted_projects', 'price', 'quantity',\n",
       "       'clean_categories', 'clean_subcategories', 'project_title', 'essay',\n",
       "       'teacher_prefix', 'school_state', 'project_grade_category'],\n",
       "      dtype='object')"
      ]
     },
     "execution_count": 30,
     "metadata": {},
     "output_type": "execute_result"
    }
   ],
   "source": [
    "x_train.columns"
   ]
  },
  {
   "cell_type": "code",
   "execution_count": 31,
   "metadata": {},
   "outputs": [],
   "source": [
    "from sklearn.preprocessing import StandardScaler\n",
    "scaler_1=StandardScaler().fit(x_train[\"teacher_number_of_previously_posted_projects\"].values.reshape(-1,1))\n",
    "tnoppp_train=scaler_1.transform(x_train[\"teacher_number_of_previously_posted_projects\"].values.reshape(-1,1))\n",
    "tnoppp_test=scaler_1.transform(x_test[\"teacher_number_of_previously_posted_projects\"].values.reshape(-1,1))\n",
    "\n",
    "scaler_2=StandardScaler().fit(x_train[\"price\"].values.reshape(-1,1))\n",
    "price_train=scaler_2.transform(x_train[\"price\"].values.reshape(-1,1))\n",
    "price_test=scaler_2.transform(x_test[\"price\"].values.reshape(-1,1))\n",
    "\n",
    "scaler_3=StandardScaler().fit(x_train[\"quantity\"].values.reshape(-1,1))\n",
    "quantity_train=scaler_3.transform(x_train[\"quantity\"].values.reshape(-1,1))\n",
    "quantity_test=scaler_3.transform(x_test[\"quantity\"].values.reshape(-1,1))\n",
    "\n",
    "from sklearn.feature_extraction.text import CountVectorizer,TfidfVectorizer\n",
    "vectorizer_1=CountVectorizer(lowercase=False,binary=True).fit(x_train[\"teacher_prefix\"].values)\n",
    "teacher_prefix_train=vectorizer_1.transform(x_train[\"teacher_prefix\"].values)\n",
    "teacher_prefix_test=vectorizer_1.transform(x_test[\"teacher_prefix\"].values)\n",
    "\n",
    "vectorizer_2=CountVectorizer(lowercase=False,binary=True).fit(x_train[\"school_state\"].values)\n",
    "school_state_train=vectorizer_2.transform(x_train[\"school_state\"].values)\n",
    "school_state_test=vectorizer_2.transform(x_test[\"school_state\"].values)\n",
    "\n",
    "vectorizer_3=CountVectorizer(lowercase=False,binary=True).fit(x_train[\"project_grade_category\"].values)\n",
    "project_grade_train=vectorizer_3.transform(x_train[\"project_grade_category\"].values)\n",
    "project_grade_test=vectorizer_3.transform(x_test[\"project_grade_category\"].values)\n",
    "\n",
    "vectorizer_4=CountVectorizer(lowercase=False,binary=True).fit(x_train[\"clean_categories\"].values)\n",
    "clean_categories_train=vectorizer_4.transform(x_train[\"clean_categories\"].values)\n",
    "clean_categories_test=vectorizer_4.transform(x_test[\"clean_categories\"].values)\n",
    "\n",
    "vectorizer_5=CountVectorizer(lowercase=False,binary=True).fit(x_train[\"clean_subcategories\"].values)\n",
    "clean_subcategories_train=vectorizer_5.transform(x_train[\"clean_subcategories\"].values)\n",
    "clean_subcategories_test=vectorizer_5.transform(x_test[\"clean_subcategories\"].values)\n"
   ]
  },
  {
   "cell_type": "markdown",
   "metadata": {
    "colab_type": "text",
    "id": "Ya1V6mLSoUH7"
   },
   "source": [
    "<h2>2.3 Make Data Model Ready: encoding eassay, and project_title</h2>"
   ]
  },
  {
   "cell_type": "code",
   "execution_count": 32,
   "metadata": {
    "colab": {},
    "colab_type": "code",
    "id": "aKrh3dwvoUH7"
   },
   "outputs": [],
   "source": [
    "count_vect_titles=CountVectorizer(min_df=5)\n",
    "train_title_bow=count_vect_titles.fit_transform(x_train[\"project_title\"].values)\n",
    "test_title_bow=count_vect_titles.transform(x_test[\"project_title\"].values)\n",
    "count_vect_essays=CountVectorizer(min_df=10)\n",
    "train_essay_bow=count_vect_essays.fit_transform(x_train[\"essay\"].values)\n",
    "test_essay_bow=count_vect_essays.transform(x_test[\"essay\"].values)"
   ]
  },
  {
   "cell_type": "code",
   "execution_count": 33,
   "metadata": {},
   "outputs": [
    {
     "name": "stdout",
     "output_type": "stream",
     "text": [
      "(35000, 2592)\n",
      "(15000, 2592)\n",
      "(35000, 10539)\n",
      "(15000, 10539)\n"
     ]
    }
   ],
   "source": [
    "print(train_title_bow.shape)\n",
    "print(test_title_bow.shape)\n",
    "print(train_essay_bow.shape)\n",
    "print(test_essay_bow.shape)"
   ]
  },
  {
   "cell_type": "code",
   "execution_count": 34,
   "metadata": {},
   "outputs": [],
   "source": [
    "tfidf_vect_titles=TfidfVectorizer(min_df=5)\n",
    "train_title_tfidf=tfidf_vect_titles.fit_transform(x_train[\"project_title\"].values)\n",
    "test_title_tfidf=tfidf_vect_titles.transform(x_test[\"project_title\"].values)\n",
    "tfidf_vect_essays=TfidfVectorizer(min_df=10)\n",
    "train_essay_tfidf=tfidf_vect_essays.fit_transform(x_train[\"essay\"].values)\n",
    "test_essay_tfidf=tfidf_vect_essays.transform(x_test[\"essay\"].values)"
   ]
  },
  {
   "cell_type": "code",
   "execution_count": 35,
   "metadata": {},
   "outputs": [
    {
     "name": "stdout",
     "output_type": "stream",
     "text": [
      "(35000, 2592)\n",
      "(15000, 2592)\n",
      "(35000, 10539)\n",
      "(15000, 10539)\n"
     ]
    }
   ],
   "source": [
    "print(train_title_tfidf.shape)\n",
    "print(test_title_tfidf.shape)\n",
    "print(train_essay_tfidf.shape)\n",
    "print(test_essay_tfidf.shape)"
   ]
  },
  {
   "cell_type": "code",
   "execution_count": 36,
   "metadata": {},
   "outputs": [
    {
     "name": "stderr",
     "output_type": "stream",
     "text": [
      "100%|█████████████████████████████████████████████████████████████████████████| 35000/35000 [00:01<00:00, 31515.48it/s]\n"
     ]
    },
    {
     "name": "stdout",
     "output_type": "stream",
     "text": [
      "35000\n",
      "50\n"
     ]
    }
   ],
   "source": [
    "train_title_list=[]\n",
    "for i in x_train[\"project_title\"].values:\n",
    "    train_title_list.append(i.split())\n",
    "w2v_model_titles=Word2Vec(train_title_list,min_count=5,size=50)\n",
    "title_w2v_words=w2v_model_titles.wv.vocab\n",
    "\n",
    "train_avg_w2v_vectors_titles = []; # the avg-w2v for each sentence/review is stored in this list\n",
    "for sentence in tqdm(x_train[\"project_title\"].values): \n",
    "    vector = np.zeros(50) # as word vectors are of zero length\n",
    "    cnt_words =0; # num of words with a valid vector in the sentence/review\n",
    "    for word in sentence.split(): \n",
    "        if word in title_w2v_words:\n",
    "            vector +=w2v_model_titles.wv[word]\n",
    "            cnt_words += 1\n",
    "    if cnt_words != 0:\n",
    "        vector /= cnt_words\n",
    "    train_avg_w2v_vectors_titles.append(vector)\n",
    "\n",
    "print(len(train_avg_w2v_vectors_titles))\n",
    "print(len(train_avg_w2v_vectors_titles[0]))"
   ]
  },
  {
   "cell_type": "code",
   "execution_count": 37,
   "metadata": {},
   "outputs": [
    {
     "name": "stderr",
     "output_type": "stream",
     "text": [
      "100%|█████████████████████████████████████████████████████████████████████████| 15000/15000 [00:00<00:00, 27179.58it/s]\n"
     ]
    },
    {
     "name": "stdout",
     "output_type": "stream",
     "text": [
      "15000\n",
      "50\n"
     ]
    }
   ],
   "source": [
    "test_avg_w2v_vectors_titles = [] # the avg-w2v for each sentence/review is stored in this list\n",
    "for sentence in tqdm(x_test[\"project_title\"].values): \n",
    "    vector = np.zeros(50) # as word vectors are of zero length\n",
    "    cnt_words =0; # num of words with a valid vector in the sentence/review\n",
    "    for word in sentence.split(): \n",
    "        if word in title_w2v_words:\n",
    "            vector +=w2v_model_titles.wv[word]\n",
    "            cnt_words += 1\n",
    "    if cnt_words != 0:\n",
    "        vector /= cnt_words\n",
    "    test_avg_w2v_vectors_titles.append(vector)\n",
    "\n",
    "print(len(test_avg_w2v_vectors_titles))\n",
    "print(len(test_avg_w2v_vectors_titles[0]))"
   ]
  },
  {
   "cell_type": "code",
   "execution_count": 38,
   "metadata": {},
   "outputs": [
    {
     "name": "stderr",
     "output_type": "stream",
     "text": [
      "100%|███████████████████████████████████████████████████████████████████████████| 35000/35000 [00:46<00:00, 754.27it/s]\n"
     ]
    },
    {
     "name": "stdout",
     "output_type": "stream",
     "text": [
      "35000\n",
      "50\n"
     ]
    }
   ],
   "source": [
    "train_essay_list=[]\n",
    "for i in x_train[\"essay\"].values:\n",
    "    train_essay_list.append(i.split())\n",
    "    \n",
    "w2v_model_essays=Word2Vec(train_essay_list,min_count=10,size=50)\n",
    "\n",
    "essay_w2v_words=w2v_model_essays.wv.vocab\n",
    "train_avg_w2v_vectors_essays = []; # the avg-w2v for each sentence/review is stored in this list\n",
    "for sentence in tqdm(x_train[\"essay\"].values): # for each review/sentence\n",
    "    vector = np.zeros(50) # as word vectors are of zero length\n",
    "    cnt_words =0; # num of words with a valid vector in the sentence/review\n",
    "    for word in sentence.split(): # for each word in a review/sentence\n",
    "        if word in essay_w2v_words:\n",
    "            vector +=w2v_model_essays.wv[word]\n",
    "            cnt_words += 1\n",
    "    if cnt_words != 0:\n",
    "        vector /= cnt_words\n",
    "    train_avg_w2v_vectors_essays.append(vector)\n",
    "\n",
    "print(len(train_avg_w2v_vectors_essays))\n",
    "print(len(train_avg_w2v_vectors_essays[0]))"
   ]
  },
  {
   "cell_type": "code",
   "execution_count": 39,
   "metadata": {},
   "outputs": [
    {
     "name": "stderr",
     "output_type": "stream",
     "text": [
      "100%|███████████████████████████████████████████████████████████████████████████| 15000/15000 [00:19<00:00, 779.29it/s]\n"
     ]
    },
    {
     "name": "stdout",
     "output_type": "stream",
     "text": [
      "15000\n",
      "50\n"
     ]
    }
   ],
   "source": [
    "test_avg_w2v_vectors_essays = []; # the avg-w2v for each sentence/review is stored in this list\n",
    "for sentence in tqdm(x_test[\"essay\"].values): # for each review/sentence\n",
    "    vector = np.zeros(50) # as word vectors are of zero length\n",
    "    cnt_words =0; # num of words with a valid vector in the sentence/review\n",
    "    for word in sentence.split(): # for each word in a review/sentence\n",
    "        if word in essay_w2v_words:\n",
    "            vector +=w2v_model_essays.wv[word]\n",
    "            cnt_words += 1\n",
    "    if cnt_words != 0:\n",
    "        vector /= cnt_words\n",
    "    test_avg_w2v_vectors_essays.append(vector)\n",
    "\n",
    "print(len(test_avg_w2v_vectors_essays))\n",
    "print(len(test_avg_w2v_vectors_essays[0]))"
   ]
  },
  {
   "cell_type": "code",
   "execution_count": 40,
   "metadata": {},
   "outputs": [
    {
     "name": "stderr",
     "output_type": "stream",
     "text": [
      "100%|█████████████████████████████████████████████████████████████████████████| 35000/35000 [00:02<00:00, 11974.52it/s]\n"
     ]
    },
    {
     "name": "stdout",
     "output_type": "stream",
     "text": [
      "35000\n",
      "50\n"
     ]
    }
   ],
   "source": [
    "tfidf_model_titles = TfidfVectorizer()\n",
    "tfidf_matrix_train_title=tfidf_model_titles.fit_transform(x_train[\"project_title\"].values)\n",
    "tfidf_matrix_test_title=tfidf_model_titles.transform(x_test[\"project_title\"].values)\n",
    "# we are converting a dictionary with word as a key, and the idf as a value\n",
    "dictionary_t = dict(zip(tfidf_model_titles.get_feature_names(), list(tfidf_model_titles.idf_)))\n",
    "tfidf_words_titles = set(tfidf_model_titles.get_feature_names())\n",
    "\n",
    "train_tfidf_w2v_vectors_titles = []; # the avg-w2v for each sentence/review is stored in this list\n",
    "for sentence in tqdm(x_train[\"project_title\"].values): # for each review/sentence\n",
    "    vector = np.zeros(50) # as word vectors are of zero length\n",
    "    tf_idf_weight =0; # num of words with a valid vector in the sentence/review\n",
    "    for word in sentence.split(): # for each word in a review/sentence\n",
    "        if (word in title_w2v_words) and (word in tfidf_words_titles):\n",
    "            vec = w2v_model_titles.wv[word] # getting the vector for each word\n",
    "            # here we are multiplying idf value(dictionary[word]) and the tf value((sentence.count(word)/len(sentence.split())))\n",
    "            tf_idf = dictionary_t[word]*(sentence.count(word)/len(sentence.split())) # getting the tfidf value for each word\n",
    "            vector += (vec * tf_idf) # calculating tfidf weighted w2v\n",
    "            tf_idf_weight += tf_idf\n",
    "    if tf_idf_weight != 0:\n",
    "        vector /= tf_idf_weight\n",
    "    train_tfidf_w2v_vectors_titles.append(vector)\n",
    "\n",
    "print(len(train_tfidf_w2v_vectors_titles))\n",
    "print(len(train_tfidf_w2v_vectors_titles[0]))"
   ]
  },
  {
   "cell_type": "code",
   "execution_count": 41,
   "metadata": {},
   "outputs": [
    {
     "name": "stderr",
     "output_type": "stream",
     "text": [
      "100%|█████████████████████████████████████████████████████████████████████████| 15000/15000 [00:01<00:00, 13603.20it/s]\n"
     ]
    },
    {
     "name": "stdout",
     "output_type": "stream",
     "text": [
      "15000\n",
      "50\n"
     ]
    }
   ],
   "source": [
    "test_tfidf_w2v_vectors_titles = []; # the avg-w2v for each sentence/review is stored in this list\n",
    "for sentence in tqdm(x_test[\"project_title\"].values): # for each review/sentence\n",
    "    vector = np.zeros(50) # as word vectors are of zero length\n",
    "    tf_idf_weight =0; # num of words with a valid vector in the sentence/review\n",
    "    for word in sentence.split(): # for each word in a review/sentence\n",
    "        if (word in title_w2v_words) and (word in tfidf_words_titles):\n",
    "            vec = w2v_model_titles.wv[word] # getting the vector for each word\n",
    "            # here we are multiplying idf value(dictionary[word]) and the tf value((sentence.count(word)/len(sentence.split())))\n",
    "            tf_idf = dictionary_t[word]*(sentence.count(word)/len(sentence.split())) # getting the tfidf value for each word\n",
    "            vector += (vec * tf_idf) # calculating tfidf weighted w2v\n",
    "            tf_idf_weight += tf_idf\n",
    "    if tf_idf_weight != 0:\n",
    "        vector /= tf_idf_weight\n",
    "    test_tfidf_w2v_vectors_titles.append(vector)\n",
    "\n",
    "print(len(test_tfidf_w2v_vectors_titles))\n",
    "print(len(test_tfidf_w2v_vectors_titles[0]))"
   ]
  },
  {
   "cell_type": "code",
   "execution_count": 42,
   "metadata": {},
   "outputs": [
    {
     "name": "stderr",
     "output_type": "stream",
     "text": [
      "100%|███████████████████████████████████████████████████████████████████████████| 35000/35000 [02:44<00:00, 212.93it/s]\n"
     ]
    },
    {
     "name": "stdout",
     "output_type": "stream",
     "text": [
      "35000\n",
      "50\n"
     ]
    }
   ],
   "source": [
    "tfidf_model_essay = TfidfVectorizer()\n",
    "tfidf_matrix_essay_train=tfidf_model_essay.fit_transform(x_train[\"essay\"].values)\n",
    "tfidf_matrix_essay_test=tfidf_model_essay.transform(x_test[\"essay\"].values)\n",
    "# we are converting a dictionary with word as a key, and the idf as a value\n",
    "dictionary_e = dict(zip(tfidf_model_essay.get_feature_names(), list(tfidf_model_essay.idf_)))\n",
    "tfidf_words_essay= set(tfidf_model_essay.get_feature_names())\n",
    "\n",
    "train_tfidf_w2v_vectors_essays = [] # the avg-w2v for each sentence/review is stored in this list\n",
    "for sentence in tqdm(x_train[\"essay\"].values): # for each review/sentence\n",
    "    vector = np.zeros(50) # as word vectors are of zero length\n",
    "    tf_idf_weight =0 # num of words with a valid vector in the sentence/review\n",
    "    for word in sentence.split(): # for each word in a review/sentence\n",
    "        if (word in essay_w2v_words) and (word in tfidf_words_essay):\n",
    "            vec = w2v_model_essays.wv[word] # getting the vector for each word\n",
    "            # here we are multiplying idf value(dictionary[word]) and the tf value((sentence.count(word)/len(sentence.split())))\n",
    "            tf_idf = dictionary_e[word]*(sentence.count(word)/len(sentence.split())) # getting the tfidf value for each word\n",
    "            vector += (vec * tf_idf) # calculating tfidf weighted w2v\n",
    "            tf_idf_weight += tf_idf\n",
    "    if tf_idf_weight != 0:\n",
    "        vector /= tf_idf_weight\n",
    "    train_tfidf_w2v_vectors_essays.append(vector)\n",
    "\n",
    "print(len(train_tfidf_w2v_vectors_essays))\n",
    "print(len(train_tfidf_w2v_vectors_essays[0]))"
   ]
  },
  {
   "cell_type": "code",
   "execution_count": 43,
   "metadata": {},
   "outputs": [
    {
     "name": "stderr",
     "output_type": "stream",
     "text": [
      "100%|███████████████████████████████████████████████████████████████████████████| 15000/15000 [01:10<00:00, 213.67it/s]\n"
     ]
    },
    {
     "name": "stdout",
     "output_type": "stream",
     "text": [
      "15000\n",
      "50\n"
     ]
    }
   ],
   "source": [
    "test_tfidf_w2v_vectors_essays = []; # the avg-w2v for each sentence/review is stored in this list\n",
    "for sentence in tqdm(x_test[\"essay\"].values): # for each review/sentence\n",
    "    vector = np.zeros(50) # as word vectors are of zero length\n",
    "    tf_idf_weight =0; # num of words with a valid vector in the sentence/review\n",
    "    for word in sentence.split(): # for each word in a review/sentence\n",
    "        if (word in essay_w2v_words) and (word in tfidf_words_essay):\n",
    "            vec = w2v_model_essays.wv[word] # getting the vector for each word\n",
    "            # here we are multiplying idf value(dictionary[word]) and the tf value((sentence.count(word)/len(sentence.split())))\n",
    "            tf_idf = dictionary_e[word]*(sentence.count(word)/len(sentence.split())) # getting the tfidf value for each word\n",
    "            vector += (vec * tf_idf) # calculating tfidf weighted w2v\n",
    "            tf_idf_weight += tf_idf\n",
    "    if tf_idf_weight != 0:\n",
    "        vector /= tf_idf_weight\n",
    "    test_tfidf_w2v_vectors_essays.append(vector)\n",
    "\n",
    "print(len(test_tfidf_w2v_vectors_essays))\n",
    "print(len(test_tfidf_w2v_vectors_essays[0]))"
   ]
  },
  {
   "cell_type": "markdown",
   "metadata": {
    "colab_type": "text",
    "id": "4IolabGIoUH9"
   },
   "source": [
    "<h2>2.4 Appling Support Vector Machines on different kind of featurization as mentioned in the instructions</h2>\n",
    "\n",
    "<br>Apply Support Vector Machines on different kind of featurization as mentioned in the instructions\n",
    "<br> For Every model that you work on make sure you do the step 2 and step 3 of instrucations"
   ]
  },
  {
   "cell_type": "markdown",
   "metadata": {
    "colab": {},
    "colab_type": "code",
    "id": "0IBXizg6oUH9"
   },
   "source": [
    "# Applying SGDClassifier on set-1"
   ]
  },
  {
   "cell_type": "code",
   "execution_count": 44,
   "metadata": {},
   "outputs": [],
   "source": [
    "from scipy.sparse import hstack\n",
    "train_set_1=hstack((tnoppp_train,price_train,quantity_train,teacher_prefix_train,school_state_train,project_grade_train,clean_categories_train,clean_subcategories_train,train_title_bow,train_essay_bow))\n",
    "test_set_1=hstack((tnoppp_test,price_test,quantity_test,teacher_prefix_test,school_state_test,project_grade_test,clean_categories_test,clean_subcategories_test,test_title_bow,test_essay_bow))"
   ]
  },
  {
   "cell_type": "code",
   "execution_count": 62,
   "metadata": {},
   "outputs": [],
   "source": [
    "from sklearn.linear_model import SGDClassifier"
   ]
  },
  {
   "cell_type": "code",
   "execution_count": 46,
   "metadata": {},
   "outputs": [
    {
     "data": {
      "text/plain": [
       "GridSearchCV(cv=10, error_score='raise-deprecating',\n",
       "             estimator=SGDClassifier(alpha=0.0001, average=False,\n",
       "                                     class_weight='balanced',\n",
       "                                     early_stopping=False, epsilon=0.1,\n",
       "                                     eta0=0.0, fit_intercept=True,\n",
       "                                     l1_ratio=0.15, learning_rate='optimal',\n",
       "                                     loss='hinge', max_iter=1000,\n",
       "                                     n_iter_no_change=5, n_jobs=None,\n",
       "                                     penalty='l2', power_t=0.5,\n",
       "                                     random_state=None, shuffle=True, tol=0.001,\n",
       "                                     validation_fraction=0.1, verbose=0,\n",
       "                                     warm_start=False),\n",
       "             iid='warn', n_jobs=None,\n",
       "             param_grid={'alpha': [0.0001, 0.001, 0.01, 0.1, 1, 10, 100, 1000,\n",
       "                                   10000],\n",
       "                         'penalty': ['l1', 'l2']},\n",
       "             pre_dispatch='2*n_jobs', refit=True, return_train_score=True,\n",
       "             scoring='roc_auc', verbose=0)"
      ]
     },
     "execution_count": 46,
     "metadata": {},
     "output_type": "execute_result"
    }
   ],
   "source": [
    "param_grid={\"alpha\":[10**(-4),10**(-3),10**(-2),10**(-1),10**0,10**1,10**2,10**3,10**4],\"penalty\":[\"l1\",\"l2\"]}\n",
    "model_1=GridSearchCV(SGDClassifier(class_weight=\"balanced\"),param_grid,cv=10,scoring=\"roc_auc\",return_train_score=True)\n",
    "model_1.fit(train_set_1,y_train)"
   ]
  },
  {
   "cell_type": "code",
   "execution_count": 47,
   "metadata": {},
   "outputs": [
    {
     "name": "stdout",
     "output_type": "stream",
     "text": [
      "SGDClassifier(alpha=0.01, average=False, class_weight='balanced',\n",
      "              early_stopping=False, epsilon=0.1, eta0=0.0, fit_intercept=True,\n",
      "              l1_ratio=0.15, learning_rate='optimal', loss='hinge',\n",
      "              max_iter=1000, n_iter_no_change=5, n_jobs=None, penalty='l2',\n",
      "              power_t=0.5, random_state=None, shuffle=True, tol=0.001,\n",
      "              validation_fraction=0.1, verbose=0, warm_start=False)\n",
      "{'alpha': 0.01, 'penalty': 'l2'}\n"
     ]
    }
   ],
   "source": [
    "print(model_1.best_estimator_)\n",
    "print(model_1.best_params_)"
   ]
  },
  {
   "cell_type": "code",
   "execution_count": 48,
   "metadata": {},
   "outputs": [
    {
     "data": {
      "image/png": "[encoded data removed]",
      "text/plain": [
       "<Figure size 432x288 with 1 Axes>"
      ]
     },
     "metadata": {
      "needs_background": "light"
     },
     "output_type": "display_data"
    }
   ],
   "source": [
    "import seaborn as sns\n",
    "train_auc_score_1=[n for i,n in enumerate(list(model_1.cv_results_[\"mean_train_score\"])) if i%2!=0]\n",
    "cv_auc_score_1=[m for i,m in enumerate(list(model_1.cv_results_[\"mean_test_score\"])) if i%2!=0]\n",
    "plt.plot(np.log10(param_grid[\"alpha\"]),train_auc_score_1,label=\"Train\")\n",
    "plt.plot(np.log10(param_grid[\"alpha\"]),cv_auc_score_1,label=\"CV\")\n",
    "plt.title(\"ROC AUC plot for train and cv data\")\n",
    "plt.xlabel(\"log10(alpha)\")\n",
    "plt.ylabel(\"AUC\")\n",
    "plt.grid()\n",
    "plt.legend()\n",
    "plt.show()"
   ]
  },
  {
   "cell_type": "code",
   "execution_count": 49,
   "metadata": {},
   "outputs": [
    {
     "data": {
      "text/plain": [
       "SGDClassifier(alpha=0.01, average=False, class_weight='balanced',\n",
       "              early_stopping=False, epsilon=0.1, eta0=0.0, fit_intercept=True,\n",
       "              l1_ratio=0.15, learning_rate='optimal', loss='hinge',\n",
       "              max_iter=1000, n_iter_no_change=5, n_jobs=None, penalty='l2',\n",
       "              power_t=0.5, random_state=None, shuffle=True, tol=0.001,\n",
       "              validation_fraction=0.1, verbose=0, warm_start=False)"
      ]
     },
     "execution_count": 49,
     "metadata": {},
     "output_type": "execute_result"
    }
   ],
   "source": [
    "final_model_1=model_1.best_estimator_\n",
    "final_model_1.fit(train_set_1,y_train)"
   ]
  },
  {
   "cell_type": "code",
   "execution_count": 50,
   "metadata": {},
   "outputs": [
    {
     "name": "stdout",
     "output_type": "stream",
     "text": [
      "Train AUC score :  0.7771714285714286\n"
     ]
    }
   ],
   "source": [
    "print(\"Train AUC score : \",final_model_1.score(train_set_1,y_train))"
   ]
  },
  {
   "cell_type": "code",
   "execution_count": 51,
   "metadata": {},
   "outputs": [
    {
     "name": "stdout",
     "output_type": "stream",
     "text": [
      "Test AUC score :  0.7256666666666667\n"
     ]
    }
   ],
   "source": [
    "print(\"Test AUC score : \",final_model_1.score(test_set_1,y_test))"
   ]
  },
  {
   "cell_type": "code",
   "execution_count": 52,
   "metadata": {},
   "outputs": [],
   "source": [
    "from sklearn.calibration import CalibratedClassifierCV\n",
    "ca_model_1 = CalibratedClassifierCV(final_model_1)\n",
    "ca_model_1.fit(train_set_1,y_train)\n",
    "pred_train_1=ca_model_1.predict(train_set_1)\n",
    "prob_train_1=ca_model_1.predict_proba(train_set_1)\n",
    "pred_test_1=ca_model_1.predict(test_set_1)\n",
    "prob_test_1=ca_model_1.predict_proba(test_set_1)"
   ]
  },
  {
   "cell_type": "code",
   "execution_count": 53,
   "metadata": {},
   "outputs": [
    {
     "name": "stdout",
     "output_type": "stream",
     "text": [
      "ROC AUC score on Train dataset :  0.8361324047706591\n",
      "Roc auc score on test data :  0.7174494514093309\n"
     ]
    }
   ],
   "source": [
    "from sklearn.metrics import roc_auc_score,roc_curve\n",
    "print(\"ROC AUC score on Train dataset : \",roc_auc_score(y_train,prob_train_1[:,1]))\n",
    "print(\"Roc auc score on test data : \",roc_auc_score(y_test,prob_test_1[:,1]))"
   ]
  },
  {
   "cell_type": "code",
   "execution_count": 54,
   "metadata": {},
   "outputs": [
    {
     "data": {
      "image/png": "[encoded data removed]",
      "text/plain": [
       "<Figure size 432x288 with 1 Axes>"
      ]
     },
     "metadata": {
      "needs_background": "light"
     },
     "output_type": "display_data"
    }
   ],
   "source": [
    "train_fpr_1,train_tpr_1,thresholds=roc_curve(y_train,prob_train_1[:,1])\n",
    "test_fpr_1,test_tpr_1,thresholds=roc_curve(y_test,prob_test_1[:,1])\n",
    "plt.plot(train_fpr_1,train_tpr_1,label=\"Train\")\n",
    "plt.plot(test_fpr_1,test_tpr_1,label=\"Test\")\n",
    "plt.title(\"ROC curve for Train and Test data\")\n",
    "plt.plot([0.0,1.0],[0.0,1.0])\n",
    "plt.xlabel(\"FPR\")\n",
    "plt.ylabel(\"TPR\")\n",
    "plt.grid()\n",
    "plt.legend()\n",
    "plt.show()"
   ]
  },
  {
   "cell_type": "code",
   "execution_count": 55,
   "metadata": {},
   "outputs": [
    {
     "data": {
      "image/png": "[encoded data removed]",
      "text/plain": [
       "<Figure size 432x288 with 2 Axes>"
      ]
     },
     "metadata": {
      "needs_background": "light"
     },
     "output_type": "display_data"
    },
    {
     "data": {
      "image/png": "[encoded data removed]",
      "text/plain": [
       "<Figure size 432x288 with 2 Axes>"
      ]
     },
     "metadata": {
      "needs_background": "light"
     },
     "output_type": "display_data"
    }
   ],
   "source": [
    "from sklearn.metrics import confusion_matrix\n",
    "sns.heatmap(confusion_matrix(y_train,pred_train_1),annot=True,fmt=\"d\")\n",
    "plt.title(\"Confusion matrix for train data\")\n",
    "plt.show()\n",
    "sns.heatmap(confusion_matrix(y_test,pred_test_1),annot=True,fmt=\"d\")\n",
    "plt.title(\"Confusion amtrix for test data\")\n",
    "plt.show()"
   ]
  },
  {
   "cell_type": "markdown",
   "metadata": {},
   "source": [
    "# Applying SGDClassifier on set-2"
   ]
  },
  {
   "cell_type": "code",
   "execution_count": 56,
   "metadata": {},
   "outputs": [],
   "source": [
    "train_set_2=hstack((tnoppp_train,price_train,quantity_train,teacher_prefix_train,school_state_train,project_grade_train,clean_categories_train,clean_subcategories_train,train_title_tfidf,train_essay_tfidf))\n",
    "test_set_2=hstack((tnoppp_test,price_test,quantity_test,teacher_prefix_test,school_state_test,project_grade_test,clean_categories_test,clean_subcategories_test,test_title_tfidf,test_essay_tfidf))"
   ]
  },
  {
   "cell_type": "code",
   "execution_count": 57,
   "metadata": {},
   "outputs": [
    {
     "data": {
      "text/plain": [
       "GridSearchCV(cv=10, error_score='raise-deprecating',\n",
       "             estimator=SGDClassifier(alpha=0.0001, average=False,\n",
       "                                     class_weight='balanced',\n",
       "                                     early_stopping=False, epsilon=0.1,\n",
       "                                     eta0=0.0, fit_intercept=True,\n",
       "                                     l1_ratio=0.15, learning_rate='optimal',\n",
       "                                     loss='hinge', max_iter=1000,\n",
       "                                     n_iter_no_change=5, n_jobs=None,\n",
       "                                     penalty='l2', power_t=0.5,\n",
       "                                     random_state=None, shuffle=True, tol=0.001,\n",
       "                                     validation_fraction=0.1, verbose=0,\n",
       "                                     warm_start=False),\n",
       "             iid='warn', n_jobs=None,\n",
       "             param_grid={'alpha': [0.0001, 0.001, 0.01, 0.1, 1, 10, 100, 1000,\n",
       "                                   10000],\n",
       "                         'penalty': ['l1', 'l2']},\n",
       "             pre_dispatch='2*n_jobs', refit=True, return_train_score=True,\n",
       "             scoring='roc_auc', verbose=0)"
      ]
     },
     "execution_count": 57,
     "metadata": {},
     "output_type": "execute_result"
    }
   ],
   "source": [
    "model_2=GridSearchCV(SGDClassifier(class_weight=\"balanced\"),param_grid,cv=10,scoring=\"roc_auc\",return_train_score=True)\n",
    "model_2.fit(train_set_2,y_train)"
   ]
  },
  {
   "cell_type": "code",
   "execution_count": 58,
   "metadata": {},
   "outputs": [
    {
     "name": "stdout",
     "output_type": "stream",
     "text": [
      "SGDClassifier(alpha=0.0001, average=False, class_weight='balanced',\n",
      "              early_stopping=False, epsilon=0.1, eta0=0.0, fit_intercept=True,\n",
      "              l1_ratio=0.15, learning_rate='optimal', loss='hinge',\n",
      "              max_iter=1000, n_iter_no_change=5, n_jobs=None, penalty='l1',\n",
      "              power_t=0.5, random_state=None, shuffle=True, tol=0.001,\n",
      "              validation_fraction=0.1, verbose=0, warm_start=False)\n",
      "==================================================\n",
      "{'alpha': 0.0001, 'penalty': 'l1'}\n"
     ]
    }
   ],
   "source": [
    "print(model_2.best_estimator_)\n",
    "print(\"=\"*50)\n",
    "print(model_2.best_params_)"
   ]
  },
  {
   "cell_type": "code",
   "execution_count": 59,
   "metadata": {},
   "outputs": [
    {
     "name": "stdout",
     "output_type": "stream",
     "text": [
      "Train AUC score :  0.7889697495012385\n",
      "==================================================\n",
      "Test AUC score :  0.7139276314229483\n"
     ]
    }
   ],
   "source": [
    "print(\"Train AUC score : \",model_2.score(train_set_2,y_train))\n",
    "print(\"=\"*50)\n",
    "print(\"Test AUC score : \",model_2.score(test_set_2,y_test))"
   ]
  },
  {
   "cell_type": "code",
   "execution_count": 60,
   "metadata": {},
   "outputs": [
    {
     "data": {
      "image/png": "[encoded data removed]",
      "text/plain": [
       "<Figure size 432x288 with 1 Axes>"
      ]
     },
     "metadata": {
      "needs_background": "light"
     },
     "output_type": "display_data"
    }
   ],
   "source": [
    "train_AUC_score_2=[n for i,n in enumerate(model_2.cv_results_[\"mean_train_score\"]) if i%2==0]\n",
    "cv_AUC_score_2=[m for i,m in enumerate(model_2.cv_results_[\"mean_test_score\"]) if i%2==0]\n",
    "plt.plot(np.log10(param_grid[\"alpha\"]),train_AUC_score_2,label=\"Train\")\n",
    "plt.plot(np.log10(param_grid[\"alpha\"]),cv_AUC_score_2,label=\"CV\")\n",
    "plt.title(\"AUC score on train and test data\")\n",
    "plt.xlabel(\"log10(alpha)\")\n",
    "plt.ylabel(\"AUC\")\n",
    "plt.grid()\n",
    "plt.legend()\n",
    "plt.show()"
   ]
  },
  {
   "cell_type": "code",
   "execution_count": 61,
   "metadata": {},
   "outputs": [
    {
     "data": {
      "text/plain": [
       "SGDClassifier(alpha=0.0001, average=False, class_weight='balanced',\n",
       "              early_stopping=False, epsilon=0.1, eta0=0.0, fit_intercept=True,\n",
       "              l1_ratio=0.15, learning_rate='optimal', loss='hinge',\n",
       "              max_iter=1000, n_iter_no_change=5, n_jobs=None, penalty='l1',\n",
       "              power_t=0.5, random_state=None, shuffle=True, tol=0.001,\n",
       "              validation_fraction=0.1, verbose=0, warm_start=False)"
      ]
     },
     "execution_count": 61,
     "metadata": {},
     "output_type": "execute_result"
    }
   ],
   "source": [
    "final_model_2=model_2.best_estimator_\n",
    "final_model_2.fit(train_set_2,y_train)"
   ]
  },
  {
   "cell_type": "code",
   "execution_count": 62,
   "metadata": {},
   "outputs": [],
   "source": [
    "ca_model_2 = CalibratedClassifierCV(final_model_2)\n",
    "ca_model_2.fit(train_set_2,y_train)\n",
    "pred_train_2=ca_model_2.predict(train_set_2)\n",
    "prob_train_2=ca_model_2.predict_proba(train_set_2)\n",
    "pred_test_2=ca_model_2.predict(test_set_2)\n",
    "prob_test_2=ca_model_2.predict_proba(test_set_2)"
   ]
  },
  {
   "cell_type": "code",
   "execution_count": 63,
   "metadata": {},
   "outputs": [
    {
     "name": "stdout",
     "output_type": "stream",
     "text": [
      "0.6877142857142857\n",
      "0.6491333333333333\n",
      "==================================================\n",
      "0.8096097443025945\n",
      "0.7143714834474325\n"
     ]
    }
   ],
   "source": [
    "print(final_model_2.score(train_set_2,y_train))\n",
    "print(final_model_2.score(test_set_2,y_test))\n",
    "print(\"=\"*50)\n",
    "print(roc_auc_score(y_train,prob_train_2[:,1]))\n",
    "print(roc_auc_score(y_test,prob_test_2[:,1]))"
   ]
  },
  {
   "cell_type": "code",
   "execution_count": 64,
   "metadata": {},
   "outputs": [
    {
     "data": {
      "image/png": "[encoded data removed]",
      "text/plain": [
       "<Figure size 432x288 with 1 Axes>"
      ]
     },
     "metadata": {
      "needs_background": "light"
     },
     "output_type": "display_data"
    }
   ],
   "source": [
    "train_fpr_2,train_tpr_2,thresholds=roc_curve(y_train,prob_train_2[:,1])\n",
    "test_fpr_2,test_tpr_2,thresholds=roc_curve(y_test,prob_test_2[:,1])\n",
    "plt.plot(train_fpr_2,train_tpr_2,label=\"Train\")\n",
    "plt.plot(test_fpr_2,test_tpr_2,label=\"Test\")\n",
    "plt.title(\"ROC curve on train and test data\")\n",
    "plt.plot((0.0,1.0),(0.0,1.0))\n",
    "plt.xlabel(\"FPR\")\n",
    "plt.ylabel(\"TPR\")\n",
    "plt.legend()\n",
    "plt.grid()"
   ]
  },
  {
   "cell_type": "code",
   "execution_count": 65,
   "metadata": {},
   "outputs": [
    {
     "data": {
      "image/png": "[encoded data removed]",
      "text/plain": [
       "<Figure size 432x288 with 2 Axes>"
      ]
     },
     "metadata": {
      "needs_background": "light"
     },
     "output_type": "display_data"
    },
    {
     "data": {
      "image/png": "[encoded data removed]",
      "text/plain": [
       "<Figure size 432x288 with 2 Axes>"
      ]
     },
     "metadata": {
      "needs_background": "light"
     },
     "output_type": "display_data"
    }
   ],
   "source": [
    "sns.heatmap(confusion_matrix(y_train,pred_train_2),annot=True,fmt=\"d\")\n",
    "plt.title(\"Confusion matrix for train data\")\n",
    "plt.show()\n",
    "sns.heatmap(confusion_matrix(y_test,pred_test_2),annot=True,fmt=\"d\")\n",
    "plt.title(\"Confusion amtrix on test data\")\n",
    "plt.show()"
   ]
  },
  {
   "cell_type": "markdown",
   "metadata": {},
   "source": [
    "# Applying SGDClassifier on set-3"
   ]
  },
  {
   "cell_type": "code",
   "execution_count": 66,
   "metadata": {},
   "outputs": [],
   "source": [
    "train_set_3=hstack((tnoppp_train,price_train,quantity_train,teacher_prefix_train,school_state_train,project_grade_train,clean_categories_train,clean_subcategories_train,train_avg_w2v_vectors_titles,train_avg_w2v_vectors_essays))\n",
    "test_set_3=hstack((tnoppp_test,price_test,quantity_test,teacher_prefix_test,school_state_test,project_grade_test,clean_categories_test,clean_subcategories_test,test_avg_w2v_vectors_titles,test_avg_w2v_vectors_essays))"
   ]
  },
  {
   "cell_type": "code",
   "execution_count": 67,
   "metadata": {},
   "outputs": [
    {
     "data": {
      "text/plain": [
       "GridSearchCV(cv=10, error_score='raise-deprecating',\n",
       "             estimator=SGDClassifier(alpha=0.0001, average=False,\n",
       "                                     class_weight='balanced',\n",
       "                                     early_stopping=False, epsilon=0.1,\n",
       "                                     eta0=0.0, fit_intercept=True,\n",
       "                                     l1_ratio=0.15, learning_rate='optimal',\n",
       "                                     loss='hinge', max_iter=1000,\n",
       "                                     n_iter_no_change=5, n_jobs=None,\n",
       "                                     penalty='l2', power_t=0.5,\n",
       "                                     random_state=None, shuffle=True, tol=0.001,\n",
       "                                     validation_fraction=0.1, verbose=0,\n",
       "                                     warm_start=False),\n",
       "             iid='warn', n_jobs=None,\n",
       "             param_grid={'alpha': [0.0001, 0.001, 0.01, 0.1, 1, 10, 100, 1000,\n",
       "                                   10000],\n",
       "                         'penalty': ['l1', 'l2']},\n",
       "             pre_dispatch='2*n_jobs', refit=True, return_train_score=True,\n",
       "             scoring='roc_auc', verbose=0)"
      ]
     },
     "execution_count": 67,
     "metadata": {},
     "output_type": "execute_result"
    }
   ],
   "source": [
    "model_3=GridSearchCV(SGDClassifier(class_weight=\"balanced\"),param_grid,cv=10,scoring=\"roc_auc\",return_train_score=True)\n",
    "model_3.fit(train_set_3,y_train)"
   ]
  },
  {
   "cell_type": "code",
   "execution_count": 68,
   "metadata": {},
   "outputs": [
    {
     "name": "stdout",
     "output_type": "stream",
     "text": [
      "SGDClassifier(alpha=0.001, average=False, class_weight='balanced',\n",
      "              early_stopping=False, epsilon=0.1, eta0=0.0, fit_intercept=True,\n",
      "              l1_ratio=0.15, learning_rate='optimal', loss='hinge',\n",
      "              max_iter=1000, n_iter_no_change=5, n_jobs=None, penalty='l1',\n",
      "              power_t=0.5, random_state=None, shuffle=True, tol=0.001,\n",
      "              validation_fraction=0.1, verbose=0, warm_start=False)\n",
      "==================================================\n",
      "{'alpha': 0.001, 'penalty': 'l1'}\n"
     ]
    }
   ],
   "source": [
    "print(model_3.best_estimator_)\n",
    "print(\"=\"*50)\n",
    "print(model_3.best_params_)"
   ]
  },
  {
   "cell_type": "code",
   "execution_count": 69,
   "metadata": {},
   "outputs": [
    {
     "data": {
      "image/png": "[encoded data removed]",
      "text/plain": [
       "<Figure size 432x288 with 1 Axes>"
      ]
     },
     "metadata": {
      "needs_background": "light"
     },
     "output_type": "display_data"
    }
   ],
   "source": [
    "train_auc_score_3=[n for i,n in enumerate(model_3.cv_results_[\"mean_train_score\"]) if i%2!=0]\n",
    "cv_auc_score_3=[m for i,m in enumerate(model_3.cv_results_[\"mean_test_score\"]) if i%2!=0]\n",
    "plt.plot(np.log10(param_grid[\"alpha\"]),train_auc_score_3,label=\"Train\")\n",
    "plt.plot(np.log10(param_grid[\"alpha\"]),cv_auc_score_3,label=\"CV\")\n",
    "plt.title(\"ROC AUC plot for train and test data\")\n",
    "plt.grid()\n",
    "plt.legend()\n",
    "plt.show()"
   ]
  },
  {
   "cell_type": "code",
   "execution_count": 70,
   "metadata": {},
   "outputs": [
    {
     "data": {
      "text/plain": [
       "SGDClassifier(alpha=0.001, average=False, class_weight='balanced',\n",
       "              early_stopping=False, epsilon=0.1, eta0=0.0, fit_intercept=True,\n",
       "              l1_ratio=0.15, learning_rate='optimal', loss='hinge',\n",
       "              max_iter=1000, n_iter_no_change=5, n_jobs=None, penalty='l1',\n",
       "              power_t=0.5, random_state=None, shuffle=True, tol=0.001,\n",
       "              validation_fraction=0.1, verbose=0, warm_start=False)"
      ]
     },
     "execution_count": 70,
     "metadata": {},
     "output_type": "execute_result"
    }
   ],
   "source": [
    "final_model_3=model_3.best_estimator_\n",
    "final_model_3.fit(train_set_3,y_train)"
   ]
  },
  {
   "cell_type": "code",
   "execution_count": 71,
   "metadata": {},
   "outputs": [
    {
     "name": "stdout",
     "output_type": "stream",
     "text": [
      "Train AUC score :  0.6886\n",
      "==================================================\n",
      "Test AUC score :  0.6868\n"
     ]
    }
   ],
   "source": [
    "print(\"Train AUC score : \",final_model_3.score(train_set_3,y_train))\n",
    "print(\"=\"*50)\n",
    "print(\"Test AUC score : \",final_model_3.score(test_set_3,y_test))"
   ]
  },
  {
   "cell_type": "code",
   "execution_count": 72,
   "metadata": {},
   "outputs": [],
   "source": [
    "ca_model_3=CalibratedClassifierCV(final_model_3)\n",
    "ca_model_3.fit(train_set_3,y_train)\n",
    "pred_train_3=ca_model_3.predict(train_set_3)\n",
    "prob_train_3=ca_model_3.predict_proba(train_set_3)\n",
    "pred_test_3=ca_model_3.predict(test_set_3)\n",
    "prob_set_3=ca_model_3.predict_proba(test_set_3)"
   ]
  },
  {
   "cell_type": "code",
   "execution_count": 73,
   "metadata": {},
   "outputs": [
    {
     "name": "stdout",
     "output_type": "stream",
     "text": [
      "0.6992783685266531\n",
      "0.6999173472533204\n"
     ]
    }
   ],
   "source": [
    "print(roc_auc_score(y_train,prob_train_3[:,1]))\n",
    "print(roc_auc_score(y_test,prob_set_3[:,1]))"
   ]
  },
  {
   "cell_type": "code",
   "execution_count": 74,
   "metadata": {},
   "outputs": [
    {
     "data": {
      "image/png": "[encoded data removed]",
      "text/plain": [
       "<Figure size 432x288 with 1 Axes>"
      ]
     },
     "metadata": {
      "needs_background": "light"
     },
     "output_type": "display_data"
    }
   ],
   "source": [
    "train_fpr_3,train_tpr_3,thresholds=roc_curve(y_train,prob_train_3[:,1])\n",
    "test_fpr_3,test_tpr_3,thresholds=roc_curve(y_test,prob_set_3[:,1])\n",
    "plt.plot(train_fpr_3,train_tpr_3,label=\"Train\")\n",
    "plt.plot(test_fpr_3,test_tpr_3,label=\"Test\")\n",
    "plt.plot([0.0,1.0],[0.0,1.0])\n",
    "plt.title(\"ROC curve for train and test data\")\n",
    "plt.xlabel(\"FPR\")\n",
    "plt.ylabel(\"TPR\")\n",
    "plt.grid()\n",
    "plt.legend()\n",
    "plt.show()"
   ]
  },
  {
   "cell_type": "code",
   "execution_count": 75,
   "metadata": {},
   "outputs": [
    {
     "data": {
      "image/png": "[encoded data removed]",
      "text/plain": [
       "<Figure size 432x288 with 2 Axes>"
      ]
     },
     "metadata": {
      "needs_background": "light"
     },
     "output_type": "display_data"
    },
    {
     "data": {
      "image/png": "[encoded data removed]",
      "text/plain": [
       "<Figure size 432x288 with 2 Axes>"
      ]
     },
     "metadata": {
      "needs_background": "light"
     },
     "output_type": "display_data"
    }
   ],
   "source": [
    "sns.heatmap(confusion_matrix(y_train,pred_train_3),annot=True,fmt=\"d\")\n",
    "plt.title(\"Confusion matrix for train data\")\n",
    "plt.show()\n",
    "sns.heatmap(confusion_matrix(y_test,pred_test_3),annot=True,fmt=\"d\")\n",
    "plt.title(\"Confusion matrix for test data\")\n",
    "plt.show()"
   ]
  },
  {
   "cell_type": "markdown",
   "metadata": {},
   "source": [
    "# Applying SGDClassifier on set-4"
   ]
  },
  {
   "cell_type": "code",
   "execution_count": 76,
   "metadata": {},
   "outputs": [],
   "source": [
    "train_set_4=hstack((tnoppp_train,price_train,quantity_train,teacher_prefix_train,school_state_train,project_grade_train,clean_categories_train,clean_subcategories_train,train_tfidf_w2v_vectors_titles,train_tfidf_w2v_vectors_essays))\n",
    "test_set_4=hstack((tnoppp_test,price_test,quantity_test,teacher_prefix_test,school_state_test,project_grade_test,clean_categories_test,clean_subcategories_test,test_tfidf_w2v_vectors_titles,test_tfidf_w2v_vectors_essays))"
   ]
  },
  {
   "cell_type": "code",
   "execution_count": 77,
   "metadata": {},
   "outputs": [
    {
     "data": {
      "text/plain": [
       "GridSearchCV(cv=10, error_score='raise-deprecating',\n",
       "             estimator=SGDClassifier(alpha=0.0001, average=False,\n",
       "                                     class_weight='balanced',\n",
       "                                     early_stopping=False, epsilon=0.1,\n",
       "                                     eta0=0.0, fit_intercept=True,\n",
       "                                     l1_ratio=0.15, learning_rate='optimal',\n",
       "                                     loss='hinge', max_iter=1000,\n",
       "                                     n_iter_no_change=5, n_jobs=None,\n",
       "                                     penalty='l2', power_t=0.5,\n",
       "                                     random_state=None, shuffle=True, tol=0.001,\n",
       "                                     validation_fraction=0.1, verbose=0,\n",
       "                                     warm_start=False),\n",
       "             iid='warn', n_jobs=None,\n",
       "             param_grid={'alpha': [0.0001, 0.001, 0.01, 0.1, 1, 10, 100, 1000,\n",
       "                                   10000],\n",
       "                         'penalty': ['l1', 'l2']},\n",
       "             pre_dispatch='2*n_jobs', refit=True, return_train_score=True,\n",
       "             scoring='roc_auc', verbose=0)"
      ]
     },
     "execution_count": 77,
     "metadata": {},
     "output_type": "execute_result"
    }
   ],
   "source": [
    "model_4=GridSearchCV(SGDClassifier(class_weight=\"balanced\"),param_grid,cv=10,scoring=\"roc_auc\",return_train_score=True)\n",
    "model_4.fit(train_set_4,y_train)"
   ]
  },
  {
   "cell_type": "code",
   "execution_count": 78,
   "metadata": {},
   "outputs": [
    {
     "name": "stdout",
     "output_type": "stream",
     "text": [
      "SGDClassifier(alpha=0.01, average=False, class_weight='balanced',\n",
      "              early_stopping=False, epsilon=0.1, eta0=0.0, fit_intercept=True,\n",
      "              l1_ratio=0.15, learning_rate='optimal', loss='hinge',\n",
      "              max_iter=1000, n_iter_no_change=5, n_jobs=None, penalty='l2',\n",
      "              power_t=0.5, random_state=None, shuffle=True, tol=0.001,\n",
      "              validation_fraction=0.1, verbose=0, warm_start=False)\n",
      "==================================================\n",
      "{'alpha': 0.01, 'penalty': 'l2'}\n"
     ]
    }
   ],
   "source": [
    "print(model_4.best_estimator_)\n",
    "print(\"=\"*50)\n",
    "print(model_4.best_params_)"
   ]
  },
  {
   "cell_type": "code",
   "execution_count": 79,
   "metadata": {},
   "outputs": [
    {
     "data": {
      "image/png": "[encoded data removed]",
      "text/plain": [
       "<Figure size 432x288 with 1 Axes>"
      ]
     },
     "metadata": {
      "needs_background": "light"
     },
     "output_type": "display_data"
    }
   ],
   "source": [
    "train_auc_score_4=[n for i,n in enumerate(model_4.cv_results_[\"mean_train_score\"]) if i%2!=0]\n",
    "test_auc_score_4=[m for i,m in enumerate(model_4.cv_results_[\"mean_test_score\"]) if i%2!=0]\n",
    "plt.plot(np.log10(param_grid[\"alpha\"]),train_auc_score_4,label=\"Train\")\n",
    "plt.plot(np.log10(param_grid[\"alpha\"]),test_auc_score_4,label=\"CV\")\n",
    "plt.title(\"ROC AUC score on train and test data\")\n",
    "plt.xlabel(\"log10(alpha)\")\n",
    "plt.ylabel(\"AUC\")\n",
    "plt.grid()\n",
    "plt.legend()\n",
    "plt.show()"
   ]
  },
  {
   "cell_type": "code",
   "execution_count": 80,
   "metadata": {},
   "outputs": [
    {
     "data": {
      "text/plain": [
       "SGDClassifier(alpha=0.01, average=False, class_weight='balanced',\n",
       "              early_stopping=False, epsilon=0.1, eta0=0.0, fit_intercept=True,\n",
       "              l1_ratio=0.15, learning_rate='optimal', loss='hinge',\n",
       "              max_iter=1000, n_iter_no_change=5, n_jobs=None, penalty='l2',\n",
       "              power_t=0.5, random_state=None, shuffle=True, tol=0.001,\n",
       "              validation_fraction=0.1, verbose=0, warm_start=False)"
      ]
     },
     "execution_count": 80,
     "metadata": {},
     "output_type": "execute_result"
    }
   ],
   "source": [
    "final_model_4=model_4.best_estimator_\n",
    "final_model_4.fit(train_set_4,y_train)"
   ]
  },
  {
   "cell_type": "code",
   "execution_count": 81,
   "metadata": {},
   "outputs": [
    {
     "name": "stdout",
     "output_type": "stream",
     "text": [
      "0.6169714285714286\n",
      "0.6124666666666667\n"
     ]
    }
   ],
   "source": [
    "print(final_model_4.score(train_set_4,y_train))\n",
    "print(final_model_4.score(test_set_4,y_test))"
   ]
  },
  {
   "cell_type": "code",
   "execution_count": 82,
   "metadata": {},
   "outputs": [],
   "source": [
    "ca_model_4=CalibratedClassifierCV(final_model_4)\n",
    "ca_model_4.fit(train_set_4,y_train)\n",
    "pred_train_4=ca_model_4.predict(train_set_4)\n",
    "prob_train_4=ca_model_4.predict_proba(train_set_4)\n",
    "pred_test_4=ca_model_4.predict(test_set_4)\n",
    "prob_test_4=ca_model_4.predict_proba(test_set_4)"
   ]
  },
  {
   "cell_type": "code",
   "execution_count": 83,
   "metadata": {},
   "outputs": [
    {
     "data": {
      "image/png": "[encoded data removed]",
      "text/plain": [
       "<Figure size 432x288 with 1 Axes>"
      ]
     },
     "metadata": {
      "needs_background": "light"
     },
     "output_type": "display_data"
    }
   ],
   "source": [
    "train_fpr_4,train_tpr_4,thresholds=roc_curve(y_train,prob_train_4[:,1])\n",
    "test_fpr_4,test_tpr_4,thresholds=roc_curve(y_test,prob_test_4[:,1])\n",
    "plt.plot(train_fpr_4,train_tpr_4,label=\"Train\")\n",
    "plt.plot(test_fpr_4,test_tpr_4,label=\"Test\")\n",
    "plt.plot([0.0,1.0],[0.0,1.0])\n",
    "plt.title(\"ROC curve on train and test data\")\n",
    "plt.xlabel(\"FPR\")\n",
    "plt.ylabel(\"TPR\")\n",
    "plt.grid()\n",
    "plt.legend()\n",
    "plt.show()"
   ]
  },
  {
   "cell_type": "code",
   "execution_count": 84,
   "metadata": {},
   "outputs": [
    {
     "data": {
      "image/png": "[encoded data removed]",
      "text/plain": [
       "<Figure size 432x288 with 2 Axes>"
      ]
     },
     "metadata": {
      "needs_background": "light"
     },
     "output_type": "display_data"
    },
    {
     "data": {
      "image/png": "[encoded data removed]",
      "text/plain": [
       "<Figure size 432x288 with 2 Axes>"
      ]
     },
     "metadata": {
      "needs_background": "light"
     },
     "output_type": "display_data"
    }
   ],
   "source": [
    "sns.heatmap(confusion_matrix(y_train,pred_train_4),annot=True,fmt=\"d\")\n",
    "plt.title(\"Confusion matrix on Train data\")\n",
    "plt.show()\n",
    "sns.heatmap(confusion_matrix(y_test,pred_test_4),annot=True,fmt=\"d\")\n",
    "plt.title(\"Confusion matrix on Test data\")\n",
    "plt.show()"
   ]
  },
  {
   "cell_type": "markdown",
   "metadata": {
    "colab_type": "text",
    "id": "_T2l87JfoUH-"
   },
   "source": [
    "<h2>2.5 Support Vector Machines with added Features `Set 5` </h2>"
   ]
  },
  {
   "cell_type": "code",
   "execution_count": 36,
   "metadata": {
    "colab": {},
    "colab_type": "code",
    "id": "1JBBsjAzoUH_"
   },
   "outputs": [],
   "source": [
    "num_words_title_train=[]\n",
    "for title in x_train[\"project_title\"].values:\n",
    "    num_words_title_train.append(len(title.split(' ')))\n",
    "num_words_title_test=[]\n",
    "for title in x_test[\"project_title\"].values:\n",
    "    num_words_title_test.append(len(title.split(\" \")))\n",
    "num_words_essay_train=[]\n",
    "for essay in x_train[\"essay\"].values:\n",
    "    num_words_essay_train.append(len(essay.split(' ')))\n",
    "num_words_essay_test=[]\n",
    "for essay in x_test[\"essay\"].values:\n",
    "    num_words_essay_test.append(len(essay.split(\" \")))\n",
    "    "
   ]
  },
  {
   "cell_type": "code",
   "execution_count": 37,
   "metadata": {},
   "outputs": [],
   "source": [
    "scaler_10=StandardScaler().fit(np.array(num_words_title_train).reshape(-1,1))\n",
    "n_w_t_train=scaler_10.transform(np.array(num_words_title_train).reshape(-1,1))\n",
    "n_w_t_test=scaler_10.transform(np.array(num_words_title_test).reshape(-1,1))\n",
    "scaler_20=StandardScaler().fit(np.array(num_words_essay_train).reshape(-1,1))\n",
    "n_w_e_train=scaler_20.transform(np.array(num_words_essay_train).reshape(-1,1))\n",
    "n_w_e_test=scaler_20.transform(np.array(num_words_essay_test).reshape(-1,1))"
   ]
  },
  {
   "cell_type": "code",
   "execution_count": 38,
   "metadata": {},
   "outputs": [],
   "source": [
    "sia=SentimentIntensityAnalyzer()\n",
    "sentiment_train_score=[]\n",
    "for essay in x_train[\"essay\"].values:\n",
    "    sentiment_train_score.append(sia.polarity_scores(essay))\n",
    "sentiment_train_score_=[]\n",
    "for essay in sentiment_train_score:\n",
    "    sentiment_train_score_.append(list(essay.values()))\n",
    "sentiment_test_score=[]\n",
    "for essay in x_test[\"essay\"].values:\n",
    "    sentiment_test_score.append(sia.polarity_scores(essay))\n",
    "sentiment_test_score_=[]\n",
    "for essay in sentiment_test_score:\n",
    "    sentiment_test_score_.append(list(essay.values()))\n",
    "    "
   ]
  },
  {
   "cell_type": "code",
   "execution_count": 45,
   "metadata": {},
   "outputs": [],
   "source": [
    "scaler_30=StandardScaler().fit(sentiment_train_score_)\n",
    "sentiment_score_train=scaler_30.transform(sentiment_train_score_)\n",
    "sentiment_score_test=scaler_30.transform(sentiment_test_score_)"
   ]
  },
  {
   "cell_type": "code",
   "execution_count": 46,
   "metadata": {},
   "outputs": [
    {
     "name": "stdout",
     "output_type": "stream",
     "text": [
      "(10539, 10539)\n"
     ]
    }
   ],
   "source": [
    "from scipy.linalg import eigh\n",
    "covar_matrix=np.matmul(train_essay_tfidf.toarray().T,train_essay_tfidf.toarray())\n",
    "print(covar_matrix.shape)"
   ]
  },
  {
   "cell_type": "code",
   "execution_count": 47,
   "metadata": {},
   "outputs": [],
   "source": [
    "eigh_values,eigh_vectors=eigh(covar_matrix)"
   ]
  },
  {
   "cell_type": "code",
   "execution_count": 48,
   "metadata": {},
   "outputs": [],
   "source": [
    "eigh_values=eigh_values[::-1]"
   ]
  },
  {
   "cell_type": "code",
   "execution_count": 49,
   "metadata": {},
   "outputs": [
    {
     "name": "stdout",
     "output_type": "stream",
     "text": [
      "[ 7.85355747e-02  1.00222003e-02  8.42811387e-03 ...  2.64118010e-07\n",
      " -4.36955760e-22 -1.55294948e-20]\n"
     ]
    }
   ],
   "source": [
    "percentage_explained_variance=eigh_values/np.sum(eigh_values)\n",
    "print(percentage_explained_variance)"
   ]
  },
  {
   "cell_type": "code",
   "execution_count": 52,
   "metadata": {},
   "outputs": [
    {
     "data": {
      "image/png": "[encoded data removed]",
      "text/plain": [
       "<Figure size 432x288 with 1 Axes>"
      ]
     },
     "metadata": {
      "needs_background": "light"
     },
     "output_type": "display_data"
    }
   ],
   "source": [
    "cumsum_variance=np.cumsum(percentage_explained_variance)\n",
    "plt.plot(cumsum_variance)\n",
    "plt.grid()\n",
    "plt.title(\"CDF of explained variance ratio\")\n",
    "plt.show()"
   ]
  },
  {
   "cell_type": "code",
   "execution_count": 53,
   "metadata": {},
   "outputs": [
    {
     "name": "stdout",
     "output_type": "stream",
     "text": [
      "0.8506511281192655\n"
     ]
    }
   ],
   "source": [
    "print(np.sum(percentage_explained_variance[:3000]))"
   ]
  },
  {
   "cell_type": "markdown",
   "metadata": {},
   "source": [
    "I took top 3000 dimensions of TfidfVectorized data of Essay which preserve 85% variance."
   ]
  },
  {
   "cell_type": "code",
   "execution_count": 54,
   "metadata": {},
   "outputs": [
    {
     "name": "stdout",
     "output_type": "stream",
     "text": [
      "(3000, 10539)\n"
     ]
    }
   ],
   "source": [
    "eigh_vectors=eigh_vectors[len(eigh_vectors)-3000:]\n",
    "print(eigh_vectors.shape)"
   ]
  },
  {
   "cell_type": "code",
   "execution_count": 55,
   "metadata": {},
   "outputs": [],
   "source": [
    "new_essay_train=np.matmul(train_essay_tfidf.toarray(),eigh_vectors.T)"
   ]
  },
  {
   "cell_type": "code",
   "execution_count": 56,
   "metadata": {},
   "outputs": [],
   "source": [
    "new_essay_test=np.matmul(test_essay_tfidf.toarray(),eigh_vectors.T)"
   ]
  },
  {
   "cell_type": "code",
   "execution_count": 57,
   "metadata": {},
   "outputs": [
    {
     "data": {
      "text/plain": [
       "(15000, 3000)"
      ]
     },
     "execution_count": 57,
     "metadata": {},
     "output_type": "execute_result"
    }
   ],
   "source": [
    "new_essay_test.shape"
   ]
  },
  {
   "cell_type": "code",
   "execution_count": 58,
   "metadata": {},
   "outputs": [
    {
     "data": {
      "text/plain": [
       "'\\nfrom sklearn.decomposition import TruncatedSVD\\ntsvd=TruncatedSVD(n_components=3000)\\ntsvd_essay_train=tsvd.fit_transform(train_essay_tfidf)\\n'"
      ]
     },
     "execution_count": 58,
     "metadata": {},
     "output_type": "execute_result"
    }
   ],
   "source": [
    "'''\n",
    "from sklearn.decomposition import TruncatedSVD\n",
    "tsvd=TruncatedSVD(n_components=3000)\n",
    "tsvd_essay_train=tsvd.fit_transform(train_essay_tfidf)\n",
    "'''"
   ]
  },
  {
   "cell_type": "markdown",
   "metadata": {},
   "source": [
    "<b><font color=\"red\">I did not use TruncatedSVD because it takes lot of time,and create memory error.</font></b>"
   ]
  },
  {
   "cell_type": "code",
   "execution_count": 58,
   "metadata": {},
   "outputs": [],
   "source": [
    "from scipy.sparse import hstack\n",
    "train_set_5=hstack((school_state_train,clean_categories_train,clean_subcategories_train,project_grade_train,teacher_prefix_train,quantity_train,tnoppp_train,price_train,sentiment_score_train,n_w_t_train,n_w_e_train,new_essay_train))\n",
    "test_set_5=hstack((school_state_test,clean_categories_test,clean_subcategories_test,project_grade_test,teacher_prefix_test,quantity_test,tnoppp_test,price_test,sentiment_score_test,n_w_t_test,n_w_e_test,new_essay_test))"
   ]
  },
  {
   "cell_type": "code",
   "execution_count": 59,
   "metadata": {},
   "outputs": [
    {
     "data": {
      "text/plain": [
       "GridSearchCV(cv=10, error_score='raise-deprecating',\n",
       "             estimator=SGDClassifier(alpha=0.0001, average=False,\n",
       "                                     class_weight='balanced',\n",
       "                                     early_stopping=False, epsilon=0.1,\n",
       "                                     eta0=0.0, fit_intercept=True,\n",
       "                                     l1_ratio=0.15, learning_rate='optimal',\n",
       "                                     loss='hinge', max_iter=1000,\n",
       "                                     n_iter_no_change=5, n_jobs=None,\n",
       "                                     penalty='l2', power_t=0.5,\n",
       "                                     random_state=None, shuffle=True, tol=0.001,\n",
       "                                     validation_fraction=0.1, verbose=0,\n",
       "                                     warm_start=False),\n",
       "             iid='warn', n_jobs=None,\n",
       "             param_grid={'alpha': [0.0001, 0.001, 0.01, 0.1, 1, 10, 100, 1000,\n",
       "                                   10000],\n",
       "                         'penalty': ['l1', 'l2']},\n",
       "             pre_dispatch='2*n_jobs', refit=True, return_train_score=True,\n",
       "             scoring='roc_auc', verbose=0)"
      ]
     },
     "execution_count": 59,
     "metadata": {},
     "output_type": "execute_result"
    }
   ],
   "source": [
    "from sklearn.linear_model import SGDClassifier\n",
    "from sklearn.model_selection import GridSearchCV\n",
    "param_grid={\"alpha\":[10**(-4),10**(-3),10**(-2),10**(-1),10**0,10**1,10**2,10**3,10**4],\"penalty\":[\"l1\",\"l2\"]}\n",
    "model_5=GridSearchCV(SGDClassifier(class_weight=\"balanced\"),param_grid,cv=10,scoring=\"roc_auc\",return_train_score=True)\n",
    "model_5.fit(train_set_5,y_train)"
   ]
  },
  {
   "cell_type": "code",
   "execution_count": 60,
   "metadata": {},
   "outputs": [
    {
     "name": "stdout",
     "output_type": "stream",
     "text": [
      "SGDClassifier(alpha=0.0001, average=False, class_weight='balanced',\n",
      "              early_stopping=False, epsilon=0.1, eta0=0.0, fit_intercept=True,\n",
      "              l1_ratio=0.15, learning_rate='optimal', loss='hinge',\n",
      "              max_iter=1000, n_iter_no_change=5, n_jobs=None, penalty='l2',\n",
      "              power_t=0.5, random_state=None, shuffle=True, tol=0.001,\n",
      "              validation_fraction=0.1, verbose=0, warm_start=False)\n",
      "==================================================\n",
      "{'alpha': 0.0001, 'penalty': 'l2'}\n",
      "==================================================\n",
      "Train AUC score :  0.7366584529261064\n",
      "==================================================\n",
      "Test AUC score :  0.690375354796501\n"
     ]
    }
   ],
   "source": [
    "print(model_5.best_estimator_)\n",
    "print(\"=\"*50)\n",
    "print(model_5.best_params_)\n",
    "print(\"=\"*50)\n",
    "print(\"Train AUC score : \",model_5.score(train_set_5,y_train))\n",
    "print(\"=\"*50)\n",
    "print(\"Test AUC score : \",model_5.score(test_set_5,y_test))"
   ]
  },
  {
   "cell_type": "code",
   "execution_count": 61,
   "metadata": {},
   "outputs": [
    {
     "data": {
      "image/png": "[encoded data removed]",
      "text/plain": [
       "<Figure size 432x288 with 1 Axes>"
      ]
     },
     "metadata": {
      "needs_background": "light"
     },
     "output_type": "display_data"
    }
   ],
   "source": [
    "train_auc_score_5=[n for i,n in enumerate(model_5.cv_results_[\"mean_train_score\"]) if i%2!=0]\n",
    "test_auc_score_5=[m for i,m in enumerate(model_5.cv_results_[\"mean_test_score\"]) if i%2!=0]\n",
    "plt.plot(np.log10(param_grid[\"alpha\"]),train_auc_score_5,label=\"Train\")\n",
    "plt.plot(np.log10(param_grid[\"alpha\"]),test_auc_score_5,label=\"CV\")\n",
    "plt.title(\"ROC AUC score on train and test data\")\n",
    "plt.xlabel(\"log10(alpha)\")\n",
    "plt.ylabel(\"AUC\")\n",
    "plt.grid()\n",
    "plt.legend()\n",
    "plt.show()"
   ]
  },
  {
   "cell_type": "code",
   "execution_count": null,
   "metadata": {},
   "outputs": [],
   "source": []
  },
  {
   "cell_type": "code",
   "execution_count": 62,
   "metadata": {},
   "outputs": [],
   "source": [
    "final_model_5=model_5.best_estimator_"
   ]
  },
  {
   "cell_type": "code",
   "execution_count": 63,
   "metadata": {},
   "outputs": [],
   "source": [
    "from sklearn.calibration import CalibratedClassifierCV\n",
    "ca_model_5=CalibratedClassifierCV(final_model_5)\n",
    "ca_model_5.fit(train_set_5,y_train)\n",
    "pred_train_5=ca_model_5.predict(train_set_5)\n",
    "prob_train_5=ca_model_5.predict_proba(train_set_5)\n",
    "pred_test_5=ca_model_5.predict(test_set_5)\n",
    "prob_test_5=ca_model_5.predict_proba(test_set_5)"
   ]
  },
  {
   "cell_type": "code",
   "execution_count": 66,
   "metadata": {},
   "outputs": [
    {
     "name": "stdout",
     "output_type": "stream",
     "text": [
      "AUC score for Train Data :  0.8472285714285714\n",
      "==================================================\n",
      "AUC score for Test Data :  0.85\n"
     ]
    }
   ],
   "source": [
    "print(\"AUC score for Train Data : \",ca_model_5.score(train_set_5,y_train))\n",
    "print(\"=\"*50)\n",
    "print(\"AUC score for Test Data : \",ca_model_5.score(test_set_5,y_test))"
   ]
  },
  {
   "cell_type": "code",
   "execution_count": 64,
   "metadata": {},
   "outputs": [
    {
     "data": {
      "image/png": "[encoded data removed]",
      "text/plain": [
       "<Figure size 432x288 with 1 Axes>"
      ]
     },
     "metadata": {
      "needs_background": "light"
     },
     "output_type": "display_data"
    }
   ],
   "source": [
    "from sklearn.metrics import roc_curve,confusion_matrix\n",
    "train_fpr_5,train_tpr_5,thresholds=roc_curve(y_train,prob_train_5[:,1])\n",
    "test_fpr_5,test_tpr_5,thresholds=roc_curve(y_test,prob_test_5[:,1])\n",
    "plt.plot(train_fpr_5,train_tpr_5,label=\"Train\")\n",
    "plt.plot(test_fpr_5,test_tpr_5,label=\"Test\")\n",
    "plt.plot([0.0,1.0],[0.0,1.0])\n",
    "plt.title(\"ROC curve on train and test data\")\n",
    "plt.xlabel(\"FPR\")\n",
    "plt.ylabel(\"TPR\")\n",
    "plt.grid()\n",
    "plt.legend()\n",
    "plt.show()"
   ]
  },
  {
   "cell_type": "code",
   "execution_count": 65,
   "metadata": {},
   "outputs": [
    {
     "data": {
      "image/png": "[encoded data removed]",
      "text/plain": [
       "<Figure size 432x288 with 2 Axes>"
      ]
     },
     "metadata": {
      "needs_background": "light"
     },
     "output_type": "display_data"
    },
    {
     "data": {
      "image/png": "[encoded data removed]",
      "text/plain": [
       "<Figure size 432x288 with 2 Axes>"
      ]
     },
     "metadata": {
      "needs_background": "light"
     },
     "output_type": "display_data"
    }
   ],
   "source": [
    "import seaborn as sns\n",
    "sns.heatmap(confusion_matrix(y_train,pred_train_5),annot=True,fmt=\"d\")\n",
    "plt.title(\"Confusion matrix on Train data\")\n",
    "plt.show()\n",
    "sns.heatmap(confusion_matrix(y_test,pred_test_5),annot=True,fmt=\"d\")\n",
    "plt.title(\"Confusion matrix on Test data\")\n",
    "plt.show()"
   ]
  },
  {
   "cell_type": "markdown",
   "metadata": {
    "colab_type": "text",
    "id": "51CZPd61oUIA"
   },
   "source": [
    "<h1>3. Conclusion</h1>"
   ]
  },
  {
   "cell_type": "code",
   "execution_count": 70,
   "metadata": {},
   "outputs": [
    {
     "name": "stdout",
     "output_type": "stream",
     "text": [
      "+---------------+--------+---------+-----------------+----------------+\n",
      "|     Model     | Alpha  | Penalty | Train AUC score | Test AUC score |\n",
      "+---------------+--------+---------+-----------------+----------------+\n",
      "| SGDClassifier |  0.01  |    l2   |       0.77      |      0.72      |\n",
      "| SGDClassifier | 0.0001 |    l1   |       0.78      |      0.71      |\n",
      "| SGDClassifier | 0.001  |    l1   |       0.68      |      0.68      |\n",
      "| SGDClassifier |  0.1   |    l2   |       0.62      |      0.61      |\n",
      "| SGDClassifier | 0.0001 |    l2   |       0.73      |      0.69      |\n",
      "+---------------+--------+---------+-----------------+----------------+\n"
     ]
    }
   ],
   "source": [
    "from prettytable import PrettyTable\n",
    "table=PrettyTable()\n",
    "table.field_names=[\"Model\",\"Alpha\",\"Penalty\",\"Train AUC score\",\"Test AUC score\"]\n",
    "table.add_row([\"SGDClassifier\",0.01,\"l2\",0.77,0.72])\n",
    "table.add_row([\"SGDClassifier\",0.0001,\"l1\",0.78,0.71])\n",
    "table.add_row([\"SGDClassifier\",0.001,\"l1\",0.68,0.68])\n",
    "table.add_row([\"SGDClassifier\",0.1,\"l2\",0.62,0.61])\n",
    "table.add_row([\"SGDClassifier\",0.0001,\"l2\",0.73,0.69])\n",
    "print(table)"
   ]
  },
  {
   "cell_type": "code",
   "execution_count": null,
   "metadata": {},
   "outputs": [],
   "source": []
  }
 ],
 "metadata": {
  "colab": {
   "collapsed_sections": [
    "1xr5XNfxoUHJ",
    "k_rW-gxmoUHR",
    "VMvzxx_koUHR",
    "HjDdqenYoUHX",
    "ElMda-g1oUHZ",
    "919fc_i1oUHf"
   ],
   "name": "7_DonorsChoose_SVM.ipynb",
   "provenance": [],
   "version": "0.3.2"
  },
  "kernelspec": {
   "display_name": "Python 3",
   "language": "python",
   "name": "python3"
  },
  "language_info": {
   "codemirror_mode": {
    "name": "ipython",
    "version": 3
   },
   "file_extension": ".py",
   "mimetype": "text/x-python",
   "name": "python",
   "nbconvert_exporter": "python",
   "pygments_lexer": "ipython3",
   "version": "3.7.3"
  }
 },
 "nbformat": 4,
 "nbformat_minor": 1
}
