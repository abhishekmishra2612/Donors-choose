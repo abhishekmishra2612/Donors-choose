{
 "cells": [
  {
   "cell_type": "markdown",
   "metadata": {
    "colab_type": "text",
    "id": "7Od5bBp9N1Lg"
   },
   "source": [
    "# DonorsChoose"
   ]
  },
  {
   "cell_type": "markdown",
   "metadata": {
    "colab_type": "text",
    "id": "5u7wpFZwN1Lh"
   },
   "source": [
    "<p>\n",
    "DonorsChoose.org receives hundreds of thousands of project proposals each year for classroom projects in need of funding. Right now, a large number of volunteers is needed to manually screen each submission before it's approved to be posted on the DonorsChoose.org website.\n",
    "</p>\n",
    "<p>\n",
    "    Next year, DonorsChoose.org expects to receive close to 500,000 project proposals. As a result, there are three main problems they need to solve:\n",
    "<ul>\n",
    "<li>\n",
    "    How to scale current manual processes and resources to screen 500,000 projects so that they can be posted as quickly and as efficiently as possible</li>\n",
    "    <li>How to increase the consistency of project vetting across different volunteers to improve the experience for teachers</li>\n",
    "    <li>How to focus volunteer time on the applications that need the most assistance</li>\n",
    "    </ul>\n",
    "</p>    \n",
    "<p>\n",
    "The goal of the competition is to predict whether or not a DonorsChoose.org project proposal submitted by a teacher will be approved, using the text of project descriptions as well as additional metadata about the project, teacher, and school. DonorsChoose.org can then use this information to identify projects most likely to need further review before approval.\n",
    "</p>"
   ]
  },
  {
   "cell_type": "markdown",
   "metadata": {
    "colab_type": "text",
    "id": "keOckW8PN1Li"
   },
   "source": [
    "## About the DonorsChoose Data Set\n",
    "\n",
    "The `train.csv` data set provided by DonorsChoose contains the following features:\n",
    "\n",
    "Feature | Description \n",
    "----------|---------------\n",
    "**`project_id`** | A unique identifier for the proposed project. **Example:** `p036502`   \n",
    "**`project_title`**    | Title of the project. **Examples:**<br><ul><li><code>Art Will Make You Happy!</code></li><li><code>First Grade Fun</code></li></ul> \n",
    "**`project_grade_category`** | Grade level of students for which the project is targeted. One of the following enumerated values: <br/><ul><li><code>Grades PreK-2</code></li><li><code>Grades 3-5</code></li><li><code>Grades 6-8</code></li><li><code>Grades 9-12</code></li></ul>  \n",
    " **`project_subject_categories`** | One or more (comma-separated) subject categories for the project from the following enumerated list of values:  <br/><ul><li><code>Applied Learning</code></li><li><code>Care &amp; Hunger</code></li><li><code>Health &amp; Sports</code></li><li><code>History &amp; Civics</code></li><li><code>Literacy &amp; Language</code></li><li><code>Math &amp; Science</code></li><li><code>Music &amp; The Arts</code></li><li><code>Special Needs</code></li><li><code>Warmth</code></li></ul><br/> **Examples:** <br/><ul><li><code>Music &amp; The Arts</code></li><li><code>Literacy &amp; Language, Math &amp; Science</code></li>  \n",
    "  **`school_state`** | State where school is located ([Two-letter U.S. postal code](https://en.wikipedia.org/wiki/List_of_U.S._state_abbreviations#Postal_codes)). **Example:** `WY`\n",
    "**`project_subject_subcategories`** | One or more (comma-separated) subject subcategories for the project. **Examples:** <br/><ul><li><code>Literacy</code></li><li><code>Literature &amp; Writing, Social Sciences</code></li></ul> \n",
    "**`project_resource_summary`** | An explanation of the resources needed for the project. **Example:** <br/><ul><li><code>My students need hands on literacy materials to manage sensory needs!</code</li></ul> \n",
    "**`project_essay_1`**    | First application essay<sup>*</sup>  \n",
    "**`project_essay_2`**    | Second application essay<sup>*</sup> \n",
    "**`project_essay_3`**    | Third application essay<sup>*</sup> \n",
    "**`project_essay_4`**    | Fourth application essay<sup>*</sup> \n",
    "**`project_submitted_datetime`** | Datetime when project application was submitted. **Example:** `2016-04-28 12:43:56.245`   \n",
    "**`teacher_id`** | A unique identifier for the teacher of the proposed project. **Example:** `bdf8baa8fedef6bfeec7ae4ff1c15c56`  \n",
    "**`teacher_prefix`** | Teacher's title. One of the following enumerated values: <br/><ul><li><code>nan</code></li><li><code>Dr.</code></li><li><code>Mr.</code></li><li><code>Mrs.</code></li><li><code>Ms.</code></li><li><code>Teacher.</code></li></ul>  \n",
    "**`teacher_number_of_previously_posted_projects`** | Number of project applications previously submitted by the same teacher. **Example:** `2` \n",
    "\n",
    "<sup>*</sup> See the section <b>Notes on the Essay Data</b> for more details about these features.\n",
    "\n",
    "Additionally, the `resources.csv` data set provides more data about the resources required for each project. Each line in this file represents a resource required by a project:\n",
    "\n",
    "Feature | Description \n",
    "----------|---------------\n",
    "**`id`** | A `project_id` value from the `train.csv` file.  **Example:** `p036502`   \n",
    "**`description`** | Desciption of the resource. **Example:** `Tenor Saxophone Reeds, Box of 25`   \n",
    "**`quantity`** | Quantity of the resource required. **Example:** `3`   \n",
    "**`price`** | Price of the resource required. **Example:** `9.95`   \n",
    "\n",
    "**Note:** Many projects require multiple resources. The `id` value corresponds to a `project_id` in train.csv, so you use it as a key to retrieve all resources needed for a project:\n",
    "\n",
    "The data set contains the following label (the value you will attempt to predict):\n",
    "\n",
    "Label | Description\n",
    "----------|---------------\n",
    "`project_is_approved` | A binary flag indicating whether DonorsChoose approved the project. A value of `0` indicates the project was not approved, and a value of `1` indicates the project was approved."
   ]
  },
  {
   "cell_type": "markdown",
   "metadata": {
    "colab_type": "text",
    "id": "uxakXcmGN1Lj"
   },
   "source": [
    "### Notes on the Essay Data\n",
    "\n",
    "<ul>\n",
    "Prior to May 17, 2016, the prompts for the essays were as follows:\n",
    "<li>__project_essay_1:__ \"Introduce us to your classroom\"</li>\n",
    "<li>__project_essay_2:__ \"Tell us more about your students\"</li>\n",
    "<li>__project_essay_3:__ \"Describe how your students will use the materials you're requesting\"</li>\n",
    "<li>__project_essay_3:__ \"Close by sharing why your project will make a difference\"</li>\n",
    "</ul>\n",
    "\n",
    "\n",
    "<ul>\n",
    "Starting on May 17, 2016, the number of essays was reduced from 4 to 2, and the prompts for the first 2 essays were changed to the following:<br>\n",
    "<li>__project_essay_1:__ \"Describe your students: What makes your students special? Specific details about their background, your neighborhood, and your school are all helpful.\"</li>\n",
    "<li>__project_essay_2:__ \"About your project: How will these materials make a difference in your students' learning and improve their school lives?\"</li>\n",
    "<br>For all projects with project_submitted_datetime of 2016-05-17 and later, the values of project_essay_3 and project_essay_4 will be NaN.\n",
    "</ul>\n"
   ]
  },
  {
   "cell_type": "code",
   "execution_count": 1,
   "metadata": {
    "colab": {},
    "colab_type": "code",
    "id": "Ac3XhloUN1Ll",
    "outputId": "85b85465-2d9f-4fc0-980a-b36834b07c96"
   },
   "outputs": [],
   "source": [
    "%matplotlib inline\n",
    "import warnings\n",
    "warnings.filterwarnings(\"ignore\")\n",
    "\n",
    "import sqlite3\n",
    "import pandas as pd\n",
    "import numpy as np\n",
    "import nltk\n",
    "import string\n",
    "import matplotlib.pyplot as plt\n",
    "import seaborn as sns\n",
    "from sklearn.feature_extraction.text import TfidfTransformer\n",
    "from sklearn.feature_extraction.text import TfidfVectorizer\n",
    "\n",
    "from sklearn.feature_extraction.text import CountVectorizer\n",
    "from sklearn.metrics import confusion_matrix\n",
    "from sklearn import metrics\n",
    "from sklearn.metrics import roc_curve, auc\n",
    "from nltk.stem.porter import PorterStemmer\n",
    "\n",
    "import re\n",
    "# Tutorial about Python regular expressions: https://pymotw.com/2/re/\n",
    "import string\n",
    "from nltk.corpus import stopwords\n",
    "from nltk.stem import PorterStemmer\n",
    "from nltk.stem.wordnet import WordNetLemmatizer\n",
    "\n",
    "from gensim.models import Word2Vec\n",
    "from gensim.models import KeyedVectors\n",
    "import pickle\n",
    "\n",
    "from tqdm import tqdm\n",
    "import os\n",
    "\n",
    "#from plotly import plotly\n",
    "#import plotly.offline as offline\n",
    "#import plotly.graph_objs as go\n",
    "#offline.init_notebook_mode()\n",
    "from collections import Counter"
   ]
  },
  {
   "cell_type": "markdown",
   "metadata": {
    "colab_type": "text",
    "id": "So4PAGWPN1Lv"
   },
   "source": [
    "## 1.1 Reading Data"
   ]
  },
  {
   "cell_type": "code",
   "execution_count": 2,
   "metadata": {
    "colab": {},
    "colab_type": "code",
    "id": "kV1VkghZN1Lw"
   },
   "outputs": [],
   "source": [
    "project_data = pd.read_csv('train_data.csv')\n",
    "resource_data = pd.read_csv('resources.csv')"
   ]
  },
  {
   "cell_type": "code",
   "execution_count": 3,
   "metadata": {
    "colab": {},
    "colab_type": "code",
    "id": "2XZKpv2zN1L0",
    "outputId": "8f6e9329-73c0-46a1-dcd3-cfbb1ebae005"
   },
   "outputs": [
    {
     "name": "stdout",
     "output_type": "stream",
     "text": [
      "Number of data points in train data (109248, 17)\n",
      "--------------------------------------------------\n",
      "The attributes of data : ['Unnamed: 0' 'id' 'teacher_id' 'teacher_prefix' 'school_state'\n",
      " 'project_submitted_datetime' 'project_grade_category'\n",
      " 'project_subject_categories' 'project_subject_subcategories'\n",
      " 'project_title' 'project_essay_1' 'project_essay_2' 'project_essay_3'\n",
      " 'project_essay_4' 'project_resource_summary'\n",
      " 'teacher_number_of_previously_posted_projects' 'project_is_approved']\n"
     ]
    }
   ],
   "source": [
    "print(\"Number of data points in train data\", project_data.shape)\n",
    "print('-'*50)\n",
    "print(\"The attributes of data :\", project_data.columns.values)"
   ]
  },
  {
   "cell_type": "code",
   "execution_count": 4,
   "metadata": {
    "colab": {},
    "colab_type": "code",
    "id": "56EW1wdvN1L5",
    "outputId": "bb0af8a7-834e-42ea-afcb-492b1e14d4df"
   },
   "outputs": [
    {
     "name": "stdout",
     "output_type": "stream",
     "text": [
      "Number of data points in train data (1541272, 4)\n",
      "['id' 'description' 'quantity' 'price']\n"
     ]
    },
    {
     "data": {
      "text/html": [
       "<div>\n",
       "<style scoped>\n",
       "    .dataframe tbody tr th:only-of-type {\n",
       "        vertical-align: middle;\n",
       "    }\n",
       "\n",
       "    .dataframe tbody tr th {\n",
       "        vertical-align: top;\n",
       "    }\n",
       "\n",
       "    .dataframe thead th {\n",
       "        text-align: right;\n",
       "    }\n",
       "</style>\n",
       "<table border=\"1\" class=\"dataframe\">\n",
       "  <thead>\n",
       "    <tr style=\"text-align: right;\">\n",
       "      <th></th>\n",
       "      <th>id</th>\n",
       "      <th>description</th>\n",
       "      <th>quantity</th>\n",
       "      <th>price</th>\n",
       "    </tr>\n",
       "  </thead>\n",
       "  <tbody>\n",
       "    <tr>\n",
       "      <th>0</th>\n",
       "      <td>p233245</td>\n",
       "      <td>LC652 - Lakeshore Double-Space Mobile Drying Rack</td>\n",
       "      <td>1</td>\n",
       "      <td>149.00</td>\n",
       "    </tr>\n",
       "    <tr>\n",
       "      <th>1</th>\n",
       "      <td>p069063</td>\n",
       "      <td>Bouncy Bands for Desks (Blue support pipes)</td>\n",
       "      <td>3</td>\n",
       "      <td>14.95</td>\n",
       "    </tr>\n",
       "  </tbody>\n",
       "</table>\n",
       "</div>"
      ],
      "text/plain": [
       "        id                                        description  quantity  \\\n",
       "0  p233245  LC652 - Lakeshore Double-Space Mobile Drying Rack         1   \n",
       "1  p069063        Bouncy Bands for Desks (Blue support pipes)         3   \n",
       "\n",
       "    price  \n",
       "0  149.00  \n",
       "1   14.95  "
      ]
     },
     "execution_count": 4,
     "metadata": {},
     "output_type": "execute_result"
    }
   ],
   "source": [
    "print(\"Number of data points in train data\", resource_data.shape)\n",
    "print(resource_data.columns.values)\n",
    "resource_data.head(2)"
   ]
  },
  {
   "cell_type": "markdown",
   "metadata": {
    "colab_type": "text",
    "id": "49t2H2HwN1L8"
   },
   "source": [
    "## 1.2 preprocessing of `project_subject_categories`"
   ]
  },
  {
   "cell_type": "code",
   "execution_count": 5,
   "metadata": {
    "colab": {},
    "colab_type": "code",
    "id": "RMx6975eN1L-"
   },
   "outputs": [],
   "source": [
    "catogories = list(project_data['project_subject_categories'].values)\n",
    "# remove special characters from list of strings python: https://stackoverflow.com/a/47301924/4084039\n",
    "\n",
    "# https://www.geeksforgeeks.org/removing-stop-words-nltk-python/\n",
    "# https://stackoverflow.com/questions/23669024/how-to-strip-a-specific-word-from-a-string\n",
    "# https://stackoverflow.com/questions/8270092/remove-all-whitespace-in-a-string-in-python\n",
    "cat_list = []\n",
    "for i in catogories:\n",
    "    temp = \"\"\n",
    "    # consider we have text like this \"Math & Science, Warmth, Care & Hunger\"\n",
    "    for j in i.split(','): # it will split it in three parts [\"Math & Science\", \"Warmth\", \"Care & Hunger\"]\n",
    "        if 'The' in j.split(): # this will split each of the catogory based on space \"Math & Science\"=> \"Math\",\"&\", \"Science\"\n",
    "            j=j.replace('The','') # if we have the words \"The\" we are going to replace it with ''(i.e removing 'The')\n",
    "        j = j.replace(' ','') # we are placeing all the ' '(space) with ''(empty) ex:\"Math & Science\"=>\"Math&Science\"\n",
    "        temp+=j.strip()+\" \" #\" abc \".strip() will return \"abc\", remove the trailing spaces\n",
    "        temp = temp.replace('&','_') # we are replacing the & value into \n",
    "    cat_list.append(temp.strip())\n",
    "    \n",
    "project_data['clean_categories'] = cat_list\n",
    "project_data.drop(['project_subject_categories'], axis=1, inplace=True)\n",
    "\n",
    "from collections import Counter\n",
    "my_counter = Counter()\n",
    "for word in project_data['clean_categories'].values:\n",
    "    my_counter.update(word.split())\n",
    "\n",
    "cat_dict = dict(my_counter)\n",
    "sorted_cat_dict = dict(sorted(cat_dict.items(), key=lambda kv: kv[1]))\n"
   ]
  },
  {
   "cell_type": "markdown",
   "metadata": {
    "colab_type": "text",
    "id": "hIRe9h-PN1MB"
   },
   "source": [
    "## 1.3 preprocessing of `project_subject_subcategories`"
   ]
  },
  {
   "cell_type": "code",
   "execution_count": 6,
   "metadata": {
    "colab": {},
    "colab_type": "code",
    "id": "KH655NiTN1MD"
   },
   "outputs": [],
   "source": [
    "sub_catogories = list(project_data['project_subject_subcategories'].values)\n",
    "# remove special characters from list of strings python: https://stackoverflow.com/a/47301924/4084039\n",
    "\n",
    "# https://www.geeksforgeeks.org/removing-stop-words-nltk-python/\n",
    "# https://stackoverflow.com/questions/23669024/how-to-strip-a-specific-word-from-a-string\n",
    "# https://stackoverflow.com/questions/8270092/remove-all-whitespace-in-a-string-in-python\n",
    "\n",
    "sub_cat_list = []\n",
    "for i in sub_catogories:\n",
    "    temp = \"\"\n",
    "    # consider we have text like this \"Math & Science, Warmth, Care & Hunger\"\n",
    "    for j in i.split(','): # it will split it in three parts [\"Math & Science\", \"Warmth\", \"Care & Hunger\"]\n",
    "        if 'The' in j.split(): # this will split each of the catogory based on space \"Math & Science\"=> \"Math\",\"&\", \"Science\"\n",
    "            j=j.replace('The','') # if we have the words \"The\" we are going to replace it with ''(i.e removing 'The')\n",
    "        j = j.replace(' ','') # we are placeing all the ' '(space) with ''(empty) ex:\"Math & Science\"=>\"Math&Science\"\n",
    "        temp +=j.strip()+\" \"#\" abc \".strip() will return \"abc\", remove the trailing spaces\n",
    "        temp = temp.replace('&','_')\n",
    "    sub_cat_list.append(temp.strip())\n",
    "\n",
    "project_data['clean_subcategories'] = sub_cat_list\n",
    "project_data.drop(['project_subject_subcategories'], axis=1, inplace=True)\n",
    "\n",
    "# count of all the words in corpus python: https://stackoverflow.com/a/22898595/4084039\n",
    "my_counter = Counter()\n",
    "for word in project_data['clean_subcategories'].values:\n",
    "    my_counter.update(word.split())\n",
    "    \n",
    "sub_cat_dict = dict(my_counter)\n",
    "sorted_sub_cat_dict = dict(sorted(sub_cat_dict.items(), key=lambda kv: kv[1]))"
   ]
  },
  {
   "cell_type": "markdown",
   "metadata": {
    "colab_type": "text",
    "id": "EftBxw8MN1MG"
   },
   "source": [
    "## 1.3 Text preprocessing"
   ]
  },
  {
   "cell_type": "code",
   "execution_count": 7,
   "metadata": {
    "colab": {},
    "colab_type": "code",
    "id": "Ak4yp4twN1MH"
   },
   "outputs": [],
   "source": [
    "# merge two column text dataframe: \n",
    "project_data[\"essay\"] = project_data[\"project_essay_1\"].map(str) +\\\n",
    "                        project_data[\"project_essay_2\"].map(str) + \\\n",
    "                        project_data[\"project_essay_3\"].map(str) + \\\n",
    "                        project_data[\"project_essay_4\"].map(str)"
   ]
  },
  {
   "cell_type": "code",
   "execution_count": 8,
   "metadata": {
    "colab": {},
    "colab_type": "code",
    "id": "q6ST72vNN1MK",
    "outputId": "4ecd7ed3-86c5-48b9-9f4d-2ba8be3237c3"
   },
   "outputs": [
    {
     "data": {
      "text/html": [
       "<div>\n",
       "<style scoped>\n",
       "    .dataframe tbody tr th:only-of-type {\n",
       "        vertical-align: middle;\n",
       "    }\n",
       "\n",
       "    .dataframe tbody tr th {\n",
       "        vertical-align: top;\n",
       "    }\n",
       "\n",
       "    .dataframe thead th {\n",
       "        text-align: right;\n",
       "    }\n",
       "</style>\n",
       "<table border=\"1\" class=\"dataframe\">\n",
       "  <thead>\n",
       "    <tr style=\"text-align: right;\">\n",
       "      <th></th>\n",
       "      <th>Unnamed: 0</th>\n",
       "      <th>id</th>\n",
       "      <th>teacher_id</th>\n",
       "      <th>teacher_prefix</th>\n",
       "      <th>school_state</th>\n",
       "      <th>project_submitted_datetime</th>\n",
       "      <th>project_grade_category</th>\n",
       "      <th>project_title</th>\n",
       "      <th>project_essay_1</th>\n",
       "      <th>project_essay_2</th>\n",
       "      <th>project_essay_3</th>\n",
       "      <th>project_essay_4</th>\n",
       "      <th>project_resource_summary</th>\n",
       "      <th>teacher_number_of_previously_posted_projects</th>\n",
       "      <th>project_is_approved</th>\n",
       "      <th>clean_categories</th>\n",
       "      <th>clean_subcategories</th>\n",
       "      <th>essay</th>\n",
       "    </tr>\n",
       "  </thead>\n",
       "  <tbody>\n",
       "    <tr>\n",
       "      <th>0</th>\n",
       "      <td>160221</td>\n",
       "      <td>p253737</td>\n",
       "      <td>c90749f5d961ff158d4b4d1e7dc665fc</td>\n",
       "      <td>Mrs.</td>\n",
       "      <td>IN</td>\n",
       "      <td>2016-12-05 13:43:57</td>\n",
       "      <td>Grades PreK-2</td>\n",
       "      <td>Educational Support for English Learners at Home</td>\n",
       "      <td>My students are English learners that are work...</td>\n",
       "      <td>\\\"The limits of your language are the limits o...</td>\n",
       "      <td>NaN</td>\n",
       "      <td>NaN</td>\n",
       "      <td>My students need opportunities to practice beg...</td>\n",
       "      <td>0</td>\n",
       "      <td>0</td>\n",
       "      <td>Literacy_Language</td>\n",
       "      <td>ESL Literacy</td>\n",
       "      <td>My students are English learners that are work...</td>\n",
       "    </tr>\n",
       "    <tr>\n",
       "      <th>1</th>\n",
       "      <td>140945</td>\n",
       "      <td>p258326</td>\n",
       "      <td>897464ce9ddc600bced1151f324dd63a</td>\n",
       "      <td>Mr.</td>\n",
       "      <td>FL</td>\n",
       "      <td>2016-10-25 09:22:10</td>\n",
       "      <td>Grades 6-8</td>\n",
       "      <td>Wanted: Projector for Hungry Learners</td>\n",
       "      <td>Our students arrive to our school eager to lea...</td>\n",
       "      <td>The projector we need for our school is very c...</td>\n",
       "      <td>NaN</td>\n",
       "      <td>NaN</td>\n",
       "      <td>My students need a projector to help with view...</td>\n",
       "      <td>7</td>\n",
       "      <td>1</td>\n",
       "      <td>History_Civics Health_Sports</td>\n",
       "      <td>Civics_Government TeamSports</td>\n",
       "      <td>Our students arrive to our school eager to lea...</td>\n",
       "    </tr>\n",
       "  </tbody>\n",
       "</table>\n",
       "</div>"
      ],
      "text/plain": [
       "   Unnamed: 0       id                        teacher_id teacher_prefix  \\\n",
       "0      160221  p253737  c90749f5d961ff158d4b4d1e7dc665fc           Mrs.   \n",
       "1      140945  p258326  897464ce9ddc600bced1151f324dd63a            Mr.   \n",
       "\n",
       "  school_state project_submitted_datetime project_grade_category  \\\n",
       "0           IN        2016-12-05 13:43:57          Grades PreK-2   \n",
       "1           FL        2016-10-25 09:22:10             Grades 6-8   \n",
       "\n",
       "                                      project_title  \\\n",
       "0  Educational Support for English Learners at Home   \n",
       "1             Wanted: Projector for Hungry Learners   \n",
       "\n",
       "                                     project_essay_1  \\\n",
       "0  My students are English learners that are work...   \n",
       "1  Our students arrive to our school eager to lea...   \n",
       "\n",
       "                                     project_essay_2 project_essay_3  \\\n",
       "0  \\\"The limits of your language are the limits o...             NaN   \n",
       "1  The projector we need for our school is very c...             NaN   \n",
       "\n",
       "  project_essay_4                           project_resource_summary  \\\n",
       "0             NaN  My students need opportunities to practice beg...   \n",
       "1             NaN  My students need a projector to help with view...   \n",
       "\n",
       "   teacher_number_of_previously_posted_projects  project_is_approved  \\\n",
       "0                                             0                    0   \n",
       "1                                             7                    1   \n",
       "\n",
       "               clean_categories           clean_subcategories  \\\n",
       "0             Literacy_Language                  ESL Literacy   \n",
       "1  History_Civics Health_Sports  Civics_Government TeamSports   \n",
       "\n",
       "                                               essay  \n",
       "0  My students are English learners that are work...  \n",
       "1  Our students arrive to our school eager to lea...  "
      ]
     },
     "execution_count": 8,
     "metadata": {},
     "output_type": "execute_result"
    }
   ],
   "source": [
    "project_data.head(2)"
   ]
  },
  {
   "cell_type": "code",
   "execution_count": 9,
   "metadata": {
    "colab": {},
    "colab_type": "code",
    "id": "N3wBpH8dN1MP"
   },
   "outputs": [],
   "source": [
    "#### 1.4.2.3 Using Pretrained Models: TFIDF weighted W2V"
   ]
  },
  {
   "cell_type": "code",
   "execution_count": 10,
   "metadata": {
    "colab": {},
    "colab_type": "code",
    "id": "3e3HbKghN1MS",
    "outputId": "705fc20a-f98d-48f1-bc54-8a333b01c034"
   },
   "outputs": [
    {
     "name": "stdout",
     "output_type": "stream",
     "text": [
      "My students are English learners that are working on English as their second or third languages. We are a melting pot of refugees, immigrants, and native-born Americans bringing the gift of language to our school. \\r\\n\\r\\n We have over 24 languages represented in our English Learner program with students at every level of mastery.  We also have over 40 countries represented with the families within our school.  Each student brings a wealth of knowledge and experiences to us that open our eyes to new cultures, beliefs, and respect.\\\"The limits of your language are the limits of your world.\\\"-Ludwig Wittgenstein  Our English learner's have a strong support system at home that begs for more resources.  Many times our parents are learning to read and speak English along side of their children.  Sometimes this creates barriers for parents to be able to help their child learn phonetics, letter recognition, and other reading skills.\\r\\n\\r\\nBy providing these dvd's and players, students are able to continue their mastery of the English language even if no one at home is able to assist.  All families with students within the Level 1 proficiency status, will be a offered to be a part of this program.  These educational videos will be specially chosen by the English Learner Teacher and will be sent home regularly to watch.  The videos are to help the child develop early reading skills.\\r\\n\\r\\nParents that do not have access to a dvd player will have the opportunity to check out a dvd player to use for the year.  The plan is to use these videos and educational dvd's for the years to come for other EL students.\\r\\nnannan\n",
      "==================================================\n",
      "The 51 fifth grade students that will cycle through my classroom this year all love learning, at least most of the time. At our school, 97.3% of the students receive free or reduced price lunch. Of the 560 students, 97.3% are minority students. \\r\\nThe school has a vibrant community that loves to get together and celebrate. Around Halloween there is a whole school parade to show off the beautiful costumes that students wear. On Cinco de Mayo we put on a big festival with crafts made by the students, dances, and games. At the end of the year the school hosts a carnival to celebrate the hard work put in during the school year, with a dunk tank being the most popular activity.My students will use these five brightly colored Hokki stools in place of regular, stationary, 4-legged chairs. As I will only have a total of ten in the classroom and not enough for each student to have an individual one, they will be used in a variety of ways. During independent reading time they will be used as special chairs students will each use on occasion. I will utilize them in place of chairs at my small group tables during math and reading times. The rest of the day they will be used by the students who need the highest amount of movement in their life in order to stay focused on school.\\r\\n\\r\\nWhenever asked what the classroom is missing, my students always say more Hokki Stools. They can't get their fill of the 5 stools we already have. When the students are sitting in group with me on the Hokki Stools, they are always moving, but at the same time doing their work. Anytime the students get to pick where they can sit, the Hokki Stools are the first to be taken. There are always students who head over to the kidney table to get one of the stools who are disappointed as there are not enough of them. \\r\\n\\r\\nWe ask a lot of students to sit for 7 hours a day. The Hokki stools will be a compromise that allow my students to do desk work and move at the same time. These stools will help students to meet their 60 minutes a day of movement by allowing them to activate their core muscles for balance while they sit. For many of my students, these chairs will take away the barrier that exists in schools for a child who can't sit still.nannan\n",
      "==================================================\n",
      "How do you remember your days of school? Was it in a sterile environment with plain walls, rows of desks, and a teacher in front of the room? A typical day in our room is nothing like that. I work hard to create a warm inviting themed room for my students look forward to coming to each day.\\r\\n\\r\\nMy class is made up of 28 wonderfully unique boys and girls of mixed races in Arkansas.\\r\\nThey attend a Title I school, which means there is a high enough percentage of free and reduced-price lunch to qualify. Our school is an \\\"open classroom\\\" concept, which is very unique as there are no walls separating the classrooms. These 9 and 10 year-old students are very eager learners; they are like sponges, absorbing all the information and experiences and keep on wanting more.With these resources such as the comfy red throw pillows and the whimsical nautical hanging decor and the blue fish nets, I will be able to help create the mood in our classroom setting to be one of a themed nautical environment. Creating a classroom environment is very important in the success in each and every child's education. The nautical photo props will be used with each child as they step foot into our classroom for the first time on Meet the Teacher evening. I'll take pictures of each child with them, have them developed, and then hung in our classroom ready for their first day of 4th grade.  This kind gesture will set the tone before even the first day of school! The nautical thank you cards will be used throughout the year by the students as they create thank you cards to their team groups.\\r\\n\\r\\nYour generous donations will help me to help make our classroom a fun, inviting, learning environment from day one.\\r\\n\\r\\nIt costs lost of money out of my own pocket on resources to get our classroom ready. Please consider helping with this project to make our new school year a very successful one. Thank you!nannan\n",
      "==================================================\n",
      "My kindergarten students have varied disabilities ranging from speech and language delays, cognitive delays, gross/fine motor delays, to autism. They are eager beavers and always strive to work their hardest working past their limitations. \\r\\n\\r\\nThe materials we have are the ones I seek out for my students. I teach in a Title I school where most of the students receive free or reduced price lunch.  Despite their disabilities and limitations, my students love coming to school and come eager to learn and explore.Have you ever felt like you had ants in your pants and you needed to groove and move as you were in a meeting? This is how my kids feel all the time. The want to be able to move as they learn or so they say.Wobble chairs are the answer and I love then because they develop their core, which enhances gross motor and in Turn fine motor skills. \\r\\nThey also want to learn through games, my kids don't want to sit and do worksheets. They want to learn to count by jumping and playing. Physical engagement is the key to our success. The number toss and color and shape mats can make that happen. My students will forget they are doing work and just have the fun a 6 year old deserves.nannan\n",
      "==================================================\n"
     ]
    },
    {
     "name": "stdout",
     "output_type": "stream",
     "text": [
      "The mediocre teacher tells. The good teacher explains. The superior teacher demonstrates. The great teacher inspires. -William A. Ward\\r\\n\\r\\nMy school has 803 students which is makeup is 97.6% African-American, making up the largest segment of the student body. A typical school in Dallas is made up of 23.2% African-American students. Most of the students are on free or reduced lunch. We aren't receiving doctors, lawyers, or engineers children from rich backgrounds or neighborhoods. As an educator I am inspiring minds of young children and we focus not only on academics but one smart, effective, efficient, and disciplined students with good character.In our classroom we can utilize the Bluetooth for swift transitions during class. I use a speaker which doesn't amplify the sound enough to receive the message. Due to the volume of my speaker my students can't hear videos or books clearly and it isn't making the lessons as meaningful. But with the bluetooth speaker my students will be able to hear and I can stop, pause and replay it at any time.\\r\\nThe cart will allow me to have more room for storage of things that are needed for the day and has an extra part to it I can use.  The table top chart has all of the letter, words and pictures for students to learn about different letters and it is more accessible.nannan\n",
      "==================================================\n"
     ]
    }
   ],
   "source": [
    "# printing some random reviews\n",
    "print(project_data['essay'].values[0])\n",
    "print(\"=\"*50)\n",
    "print(project_data['essay'].values[150])\n",
    "print(\"=\"*50)\n",
    "print(project_data['essay'].values[1000])\n",
    "print(\"=\"*50)\n",
    "print(project_data['essay'].values[20000])\n",
    "print(\"=\"*50)\n",
    "print(project_data['essay'].values[99999])\n",
    "print(\"=\"*50)"
   ]
  },
  {
   "cell_type": "code",
   "execution_count": 11,
   "metadata": {
    "colab": {},
    "colab_type": "code",
    "id": "1nYsCeFCN1MW"
   },
   "outputs": [],
   "source": [
    "# https://stackoverflow.com/a/47091490/4084039\n",
    "import re\n",
    "\n",
    "def decontracted(phrase):\n",
    "    # specific\n",
    "    phrase = re.sub(r\"won't\", \"will not\", phrase)\n",
    "    phrase = re.sub(r\"can\\'t\", \"can not\", phrase)\n",
    "\n",
    "    # general\n",
    "    phrase = re.sub(r\"n\\'t\", \" not\", phrase)\n",
    "    phrase = re.sub(r\"\\'re\", \" are\", phrase)\n",
    "    phrase = re.sub(r\"\\'s\", \" is\", phrase)\n",
    "    phrase = re.sub(r\"\\'d\", \" would\", phrase)\n",
    "    phrase = re.sub(r\"\\'ll\", \" will\", phrase)\n",
    "    phrase = re.sub(r\"\\'t\", \" not\", phrase)\n",
    "    phrase = re.sub(r\"\\'ve\", \" have\", phrase)\n",
    "    phrase = re.sub(r\"\\'m\", \" am\", phrase)\n",
    "    return phrase"
   ]
  },
  {
   "cell_type": "code",
   "execution_count": 12,
   "metadata": {
    "colab": {},
    "colab_type": "code",
    "id": "qIr2zr3mN1MZ",
    "outputId": "504b60cc-a606-483d-dfd2-443cc3a1cc76"
   },
   "outputs": [
    {
     "name": "stdout",
     "output_type": "stream",
     "text": [
      "My kindergarten students have varied disabilities ranging from speech and language delays, cognitive delays, gross/fine motor delays, to autism. They are eager beavers and always strive to work their hardest working past their limitations. \\r\\n\\r\\nThe materials we have are the ones I seek out for my students. I teach in a Title I school where most of the students receive free or reduced price lunch.  Despite their disabilities and limitations, my students love coming to school and come eager to learn and explore.Have you ever felt like you had ants in your pants and you needed to groove and move as you were in a meeting? This is how my kids feel all the time. The want to be able to move as they learn or so they say.Wobble chairs are the answer and I love then because they develop their core, which enhances gross motor and in Turn fine motor skills. \\r\\nThey also want to learn through games, my kids do not want to sit and do worksheets. They want to learn to count by jumping and playing. Physical engagement is the key to our success. The number toss and color and shape mats can make that happen. My students will forget they are doing work and just have the fun a 6 year old deserves.nannan\n",
      "==================================================\n"
     ]
    }
   ],
   "source": [
    "sent = decontracted(project_data['essay'].values[20000])\n",
    "print(sent)\n",
    "print(\"=\"*50)"
   ]
  },
  {
   "cell_type": "code",
   "execution_count": 13,
   "metadata": {
    "colab": {},
    "colab_type": "code",
    "id": "QybPh11vN1Md",
    "outputId": "2c4c7225-d387-4d5c-b9dc-130a88536392"
   },
   "outputs": [
    {
     "name": "stdout",
     "output_type": "stream",
     "text": [
      "My kindergarten students have varied disabilities ranging from speech and language delays, cognitive delays, gross/fine motor delays, to autism. They are eager beavers and always strive to work their hardest working past their limitations.     The materials we have are the ones I seek out for my students. I teach in a Title I school where most of the students receive free or reduced price lunch.  Despite their disabilities and limitations, my students love coming to school and come eager to learn and explore.Have you ever felt like you had ants in your pants and you needed to groove and move as you were in a meeting? This is how my kids feel all the time. The want to be able to move as they learn or so they say.Wobble chairs are the answer and I love then because they develop their core, which enhances gross motor and in Turn fine motor skills.   They also want to learn through games, my kids do not want to sit and do worksheets. They want to learn to count by jumping and playing. Physical engagement is the key to our success. The number toss and color and shape mats can make that happen. My students will forget they are doing work and just have the fun a 6 year old deserves.nannan\n"
     ]
    }
   ],
   "source": [
    "# \\r \\n \\t remove from string python: http://texthandler.com/info/remove-line-breaks-python/\n",
    "sent = sent.replace('\\\\r', ' ')\n",
    "sent = sent.replace('\\\\\"', ' ')\n",
    "sent = sent.replace('\\\\n', ' ')\n",
    "print(sent)"
   ]
  },
  {
   "cell_type": "code",
   "execution_count": 14,
   "metadata": {
    "colab": {},
    "colab_type": "code",
    "id": "irL9f3wBN1Mj",
    "outputId": "355ba527-c3b1-40dd-de66-1df4094f264f"
   },
   "outputs": [
    {
     "name": "stdout",
     "output_type": "stream",
     "text": [
      "My kindergarten students have varied disabilities ranging from speech and language delays cognitive delays gross fine motor delays to autism They are eager beavers and always strive to work their hardest working past their limitations The materials we have are the ones I seek out for my students I teach in a Title I school where most of the students receive free or reduced price lunch Despite their disabilities and limitations my students love coming to school and come eager to learn and explore Have you ever felt like you had ants in your pants and you needed to groove and move as you were in a meeting This is how my kids feel all the time The want to be able to move as they learn or so they say Wobble chairs are the answer and I love then because they develop their core which enhances gross motor and in Turn fine motor skills They also want to learn through games my kids do not want to sit and do worksheets They want to learn to count by jumping and playing Physical engagement is the key to our success The number toss and color and shape mats can make that happen My students will forget they are doing work and just have the fun a 6 year old deserves nannan\n"
     ]
    }
   ],
   "source": [
    "#remove spacial character: https://stackoverflow.com/a/5843547/4084039\n",
    "sent = re.sub('[^A-Za-z0-9]+', ' ', sent)\n",
    "print(sent)"
   ]
  },
  {
   "cell_type": "code",
   "execution_count": 15,
   "metadata": {
    "colab": {},
    "colab_type": "code",
    "id": "mOBm8phKN1Mp"
   },
   "outputs": [],
   "source": [
    "# https://gist.github.com/sebleier/554280\n",
    "# we are removing the words from the stop words list: 'no', 'nor', 'not'\n",
    "stopwords= ['i', 'me', 'my', 'myself', 'we', 'our', 'ours', 'ourselves', 'you', \"you're\", \"you've\",\\\n",
    "            \"you'll\", \"you'd\", 'your', 'yours', 'yourself', 'yourselves', 'he', 'him', 'his', 'himself', \\\n",
    "            'she', \"she's\", 'her', 'hers', 'herself', 'it', \"it's\", 'its', 'itself', 'they', 'them', 'their',\\\n",
    "            'theirs', 'themselves', 'what', 'which', 'who', 'whom', 'this', 'that', \"that'll\", 'these', 'those', \\\n",
    "            'am', 'is', 'are', 'was', 'were', 'be', 'been', 'being', 'have', 'has', 'had', 'having', 'do', 'does', \\\n",
    "            'did', 'doing', 'a', 'an', 'the', 'and', 'but', 'if', 'or', 'because', 'as', 'until', 'while', 'of', \\\n",
    "            'at', 'by', 'for', 'with', 'about', 'against', 'between', 'into', 'through', 'during', 'before', 'after',\\\n",
    "            'above', 'below', 'to', 'from', 'up', 'down', 'in', 'out', 'on', 'off', 'over', 'under', 'again', 'further',\\\n",
    "            'then', 'once', 'here', 'there', 'when', 'where', 'why', 'how', 'all', 'any', 'both', 'each', 'few', 'more',\\\n",
    "            'most', 'other', 'some', 'such', 'only', 'own', 'same', 'so', 'than', 'too', 'very', \\\n",
    "            's', 't', 'can', 'will', 'just', 'don', \"don't\", 'should', \"should've\", 'now', 'd', 'll', 'm', 'o', 're', \\\n",
    "            've', 'y', 'ain', 'aren', \"aren't\", 'couldn', \"couldn't\", 'didn', \"didn't\", 'doesn', \"doesn't\", 'hadn',\\\n",
    "            \"hadn't\", 'hasn', \"hasn't\", 'haven', \"haven't\", 'isn', \"isn't\", 'ma', 'mightn', \"mightn't\", 'mustn',\\\n",
    "            \"mustn't\", 'needn', \"needn't\", 'shan', \"shan't\", 'shouldn', \"shouldn't\", 'wasn', \"wasn't\", 'weren', \"weren't\", \\\n",
    "            'won', \"won't\", 'wouldn', \"wouldn't\"]"
   ]
  },
  {
   "cell_type": "code",
   "execution_count": 16,
   "metadata": {
    "colab": {},
    "colab_type": "code",
    "id": "ttJf1f7ON1Mt",
    "outputId": "6437b980-d16d-4f92-c591-9f751a575ecc"
   },
   "outputs": [
    {
     "name": "stderr",
     "output_type": "stream",
     "text": [
      "100%|█████████████████████████████████████████████████████████████████████████| 109248/109248 [03:49<00:00, 475.03it/s]\n"
     ]
    }
   ],
   "source": [
    "# Combining all the above stundents \n",
    "from tqdm import tqdm\n",
    "preprocessed_essays = []\n",
    "# tqdm is for printing the status bar\n",
    "for sentance in tqdm(project_data['essay'].values):\n",
    "    sent = decontracted(sentance)\n",
    "    sent = sent.replace('\\\\r', ' ')\n",
    "    sent = sent.replace('\\\\\"', ' ')\n",
    "    sent = sent.replace('\\\\n', ' ')\n",
    "    sent = re.sub('[^A-Za-z]+', ' ', sent)\n",
    "    # https://gist.github.com/sebleier/554280\n",
    "    sent = ' '.join(e.lower() for e in sent.split() if e.lower() not in stopwords)\n",
    "    preprocessed_essays.append(sent.strip())"
   ]
  },
  {
   "cell_type": "code",
   "execution_count": 17,
   "metadata": {
    "colab": {},
    "colab_type": "code",
    "id": "sEdZTzI5N1Mx",
    "outputId": "38cf15fb-c78b-4be1-c442-e785be4809d0"
   },
   "outputs": [
    {
     "data": {
      "text/plain": [
       "'kindergarten students varied disabilities ranging speech language delays cognitive delays gross fine motor delays autism eager beavers always strive work hardest working past limitations materials ones seek students teach title school students receive free reduced price lunch despite disabilities limitations students love coming school come eager learn explore ever felt like ants pants needed groove move meeting kids feel time want able move learn say wobble chairs answer love develop core enhances gross motor turn fine motor skills also want learn games kids not want sit worksheets want learn count jumping playing physical engagement key success number toss color shape mats make happen students forget work fun year old deserves nannan'"
      ]
     },
     "execution_count": 17,
     "metadata": {},
     "output_type": "execute_result"
    }
   ],
   "source": [
    "# after preprocesing\n",
    "preprocessed_essays[20000]"
   ]
  },
  {
   "cell_type": "markdown",
   "metadata": {
    "colab_type": "text",
    "id": "4AFlP-F-N1M0"
   },
   "source": [
    "<h2><font color='red'> 1.4 Preprocessing of `project_title`</font></h2>"
   ]
  },
  {
   "cell_type": "code",
   "execution_count": 18,
   "metadata": {
    "colab": {},
    "colab_type": "code",
    "id": "FCdq9z5FN1M1"
   },
   "outputs": [],
   "source": [
    "# similarly you can preprocess the titles also"
   ]
  },
  {
   "cell_type": "code",
   "execution_count": 19,
   "metadata": {},
   "outputs": [
    {
     "name": "stdout",
     "output_type": "stream",
     "text": [
      "Flexible Seating for Mrs. Jarvis' Terrific Third Graders!!\n",
      "==================================================\n",
      "Sailing Into a Super 4th Grade Year\n",
      "==================================================\n",
      "Bouncing Our Wiggles and Worries Away!\n",
      "==================================================\n",
      "We Need To Move It While We Input It!\n",
      "==================================================\n",
      "Read, Write, and Art!\n"
     ]
    }
   ],
   "source": [
    "#some random project titles.\n",
    "print(project_data[\"project_title\"].values[5])\n",
    "print('='*50)\n",
    "print(project_data['project_title'].values[1000])\n",
    "print('='*50)\n",
    "print(project_data[\"project_title\"].values[5000])\n",
    "print('='*50)\n",
    "print(project_data[\"project_title\"].values[20000])\n",
    "print('='*50)\n",
    "print(project_data['project_title'].values[45000])"
   ]
  },
  {
   "cell_type": "code",
   "execution_count": 20,
   "metadata": {},
   "outputs": [
    {
     "name": "stderr",
     "output_type": "stream",
     "text": [
      "100%|████████████████████████████████████████████████████████████████████████| 109248/109248 [00:12<00:00, 8479.02it/s]\n"
     ]
    }
   ],
   "source": [
    "preprocessed_titles = []\n",
    "# tqdm is for printing the status bar\n",
    "for sentance in tqdm(project_data['project_title'].values):\n",
    "    sent = decontracted(sentance)\n",
    "    sent = sent.replace('\\\\r', ' ')\n",
    "    sent = sent.replace('\\\\\"', ' ')\n",
    "    sent = sent.replace('\\\\n', ' ')\n",
    "    sent = re.sub('[^A-Za-z]+', ' ', sent)\n",
    "    # https://gist.github.com/sebleier/554280\n",
    "    sent = ' '.join(e.lower() for e in sent.split() if e.lower() not in stopwords)\n",
    "    preprocessed_titles.append(sent.strip())"
   ]
  },
  {
   "cell_type": "code",
   "execution_count": 21,
   "metadata": {},
   "outputs": [
    {
     "name": "stdout",
     "output_type": "stream",
     "text": [
      "sailing super th grade year\n",
      "==================================================\n",
      "let read let learn let thrive\n"
     ]
    }
   ],
   "source": [
    "print(preprocessed_titles[1000])\n",
    "print('='*50)\n",
    "print(preprocessed_titles[40000])"
   ]
  },
  {
   "cell_type": "markdown",
   "metadata": {
    "colab_type": "text",
    "id": "js2WD9bON1M5"
   },
   "source": [
    "## 1.5 Preparing data for models"
   ]
  },
  {
   "cell_type": "code",
   "execution_count": 22,
   "metadata": {
    "colab": {},
    "colab_type": "code",
    "id": "Kh3xw4fpN1M6",
    "outputId": "0cac8eb3-350f-457b-e139-6340672f06f3"
   },
   "outputs": [
    {
     "data": {
      "text/plain": [
       "Index(['Unnamed: 0', 'id', 'teacher_id', 'teacher_prefix', 'school_state',\n",
       "       'project_submitted_datetime', 'project_grade_category', 'project_title',\n",
       "       'project_essay_1', 'project_essay_2', 'project_essay_3',\n",
       "       'project_essay_4', 'project_resource_summary',\n",
       "       'teacher_number_of_previously_posted_projects', 'project_is_approved',\n",
       "       'clean_categories', 'clean_subcategories', 'essay'],\n",
       "      dtype='object')"
      ]
     },
     "execution_count": 22,
     "metadata": {},
     "output_type": "execute_result"
    }
   ],
   "source": [
    "project_data.columns"
   ]
  },
  {
   "cell_type": "markdown",
   "metadata": {
    "colab_type": "text",
    "id": "tLfdQa8hN1M9"
   },
   "source": [
    "we are going to consider\n",
    "\n",
    "       - school_state : categorical data\n",
    "       - clean_categories : categorical data\n",
    "       - clean_subcategories : categorical data\n",
    "       - project_grade_category : categorical data\n",
    "       - teacher_prefix : categorical data\n",
    "       \n",
    "       - project_title : text data\n",
    "       - text : text data\n",
    "       - project_resource_summary: text data (optinal)\n",
    "       \n",
    "       - quantity : numerical (optinal)\n",
    "       - teacher_number_of_previously_posted_projects : numerical\n",
    "       - price : numerical"
   ]
  },
  {
   "cell_type": "markdown",
   "metadata": {
    "colab_type": "text",
    "id": "hrCuADG4N1M-"
   },
   "source": [
    "### 1.5.1 Vectorizing Categorical data"
   ]
  },
  {
   "cell_type": "markdown",
   "metadata": {
    "colab_type": "text",
    "id": "wUA_GEXlN1M_"
   },
   "source": [
    "- https://www.appliedaicourse.com/course/applied-ai-course-online/lessons/handling-categorical-and-numerical-features/"
   ]
  },
  {
   "cell_type": "code",
   "execution_count": 23,
   "metadata": {
    "colab": {},
    "colab_type": "code",
    "id": "4oBdEQ8zN1NI"
   },
   "outputs": [],
   "source": [
    "# you can do the similar thing with state, teacher_prefix and project_grade_category also"
   ]
  },
  {
   "cell_type": "code",
   "execution_count": 24,
   "metadata": {},
   "outputs": [
    {
     "name": "stderr",
     "output_type": "stream",
     "text": [
      "100%|███████████████████████████████████████████████████████████████████████| 109248/109248 [00:05<00:00, 21458.93it/s]\n"
     ]
    },
    {
     "name": "stdout",
     "output_type": "stream",
     "text": [
      "['IN', 'FL', 'AZ', 'KY', 'TX', 'FL', 'CT', 'GA', 'SC', 'NC', 'CA', 'CA', 'NY', 'OK', 'MA']\n"
     ]
    }
   ],
   "source": [
    "preprocessed_school_state=[]\n",
    "for state in tqdm(project_data['school_state'].values):\n",
    "    state=decontracted(state)\n",
    "    state=state.replace(\".\",'')\n",
    "    state=state.replace('\"','')\n",
    "    state=state.replace('-','')\n",
    "    state=state.replace('_','')\n",
    "    state=state.replace(' ','')\n",
    "    state=re.sub('[^A-za-z]+','',state)\n",
    "    preprocessed_school_state.append(state.strip())\n",
    "print(preprocessed_school_state[:15])"
   ]
  },
  {
   "cell_type": "code",
   "execution_count": 25,
   "metadata": {},
   "outputs": [
    {
     "name": "stderr",
     "output_type": "stream",
     "text": [
      "100%|███████████████████████████████████████████████████████████████████████| 109248/109248 [00:05<00:00, 20918.54it/s]\n"
     ]
    },
    {
     "name": "stdout",
     "output_type": "stream",
     "text": [
      "['Mrs', 'Mr', 'Ms', 'Mrs', 'Mrs', 'Mrs', 'Mrs', 'Ms', 'Mrs', 'Ms', 'Mrs', 'Ms', 'Mrs', 'Mrs', 'Ms']\n"
     ]
    }
   ],
   "source": [
    "preprocessed_teacher_prefix=[]\n",
    "for prefix in tqdm(project_data[\"teacher_prefix\"].map(str).values):\n",
    "    prefix=decontracted(prefix)\n",
    "    prefix=prefix.replace(\".\",'')\n",
    "    prefix=prefix.replace('\"','')\n",
    "    prefix=prefix.replace('-','')\n",
    "    prefix=prefix.replace('_','')\n",
    "    prefix=prefix.replace(' ','')\n",
    "    prefix=re.sub('[^A-Za-z]+','',prefix)\n",
    "    preprocessed_teacher_prefix.append(prefix.strip())\n",
    "print(preprocessed_teacher_prefix[:15])"
   ]
  },
  {
   "cell_type": "code",
   "execution_count": 26,
   "metadata": {},
   "outputs": [
    {
     "name": "stdout",
     "output_type": "stream",
     "text": [
      "['Grades PreK-2' 'Grades 6-8' 'Grades 6-8' ... 'Grades PreK-2'\n",
      " 'Grades 3-5' 'Grades 6-8']\n"
     ]
    },
    {
     "name": "stderr",
     "output_type": "stream",
     "text": [
      "100%|███████████████████████████████████████████████████████████████████████| 109248/109248 [00:05<00:00, 19705.19it/s]\n"
     ]
    },
    {
     "name": "stdout",
     "output_type": "stream",
     "text": [
      "['GradesPreK2', 'Grades68', 'Grades68', 'GradesPreK2', 'GradesPreK2', 'Grades35', 'Grades68', 'Grades35', 'GradesPreK2', 'GradesPreK2', 'Grades35', 'GradesPreK2', 'Grades68', 'GradesPreK2', 'GradesPreK2', 'Grades35', 'GradesPreK2', 'Grades35', 'GradesPreK2', 'Grades35']\n"
     ]
    }
   ],
   "source": [
    "print(project_data[\"project_grade_category\"].values)\n",
    "preprocessed_project_grade=[]\n",
    "for grade in tqdm(project_data[\"project_grade_category\"].values):\n",
    "    grade=decontracted(grade)\n",
    "    grade=grade.replace('.','')\n",
    "    grade=grade.replace('\"','')\n",
    "    grade=grade.replace('-','')\n",
    "    grade=grade.replace(' ','')\n",
    "    grade=grade.replace('_','')\n",
    "    grade=re.sub('[^A-Za-z0-9]+','',grade)\n",
    "    preprocessed_project_grade.append(grade)\n",
    "print(preprocessed_project_grade[:20])"
   ]
  },
  {
   "cell_type": "markdown",
   "metadata": {
    "colab_type": "text",
    "id": "WHKUWpSlN1NL"
   },
   "source": [
    "### 1.5.2 Vectorizing Text data"
   ]
  },
  {
   "cell_type": "markdown",
   "metadata": {
    "colab_type": "text",
    "id": "-U5bh83MN1NM"
   },
   "source": [
    "#### 1.5.2.1 Bag of words"
   ]
  },
  {
   "cell_type": "code",
   "execution_count": 27,
   "metadata": {
    "colab": {},
    "colab_type": "code",
    "id": "HrheNuEzN1NQ"
   },
   "outputs": [],
   "source": [
    "# you can vectorize the title also \n",
    "# before you vectorize the title make sure you preprocess it"
   ]
  },
  {
   "cell_type": "markdown",
   "metadata": {
    "colab_type": "text",
    "id": "_ht9enK1N1NT"
   },
   "source": [
    "#### 1.5.2.2 TFIDF vectorizer"
   ]
  },
  {
   "cell_type": "markdown",
   "metadata": {
    "colab_type": "text",
    "id": "sYQKSZ_tN1NX"
   },
   "source": [
    "#### 1.5.2.3 Using Pretrained Models: Avg W2V"
   ]
  },
  {
   "cell_type": "markdown",
   "metadata": {
    "colab_type": "text",
    "id": "n4vhAHnMN1Nf"
   },
   "source": [
    "#### 1.5.2.3 Using Pretrained Models: TFIDF weighted W2V"
   ]
  },
  {
   "cell_type": "code",
   "execution_count": 28,
   "metadata": {
    "colab": {},
    "colab_type": "code",
    "id": "TKKYEcr5N1No"
   },
   "outputs": [],
   "source": [
    "# Similarly you can vectorize for title also"
   ]
  },
  {
   "cell_type": "markdown",
   "metadata": {
    "colab_type": "text",
    "id": "Q3wJWAplN1Ns"
   },
   "source": [
    "### 1.5.3 Vectorizing Numerical features"
   ]
  },
  {
   "cell_type": "code",
   "execution_count": 29,
   "metadata": {
    "colab": {},
    "colab_type": "code",
    "id": "GavfhROYN1Nt"
   },
   "outputs": [],
   "source": [
    "price_data = resource_data.groupby('id').agg({'price':'sum', 'quantity':'sum'}).reset_index()\n",
    "project_data = pd.merge(project_data, price_data, on='id', how='left')"
   ]
  },
  {
   "cell_type": "markdown",
   "metadata": {
    "colab_type": "text",
    "id": "Jn3lWK6kN1N2"
   },
   "source": [
    "### 1.5.4 Merging all the above features"
   ]
  },
  {
   "cell_type": "markdown",
   "metadata": {
    "colab_type": "text",
    "id": "-GfHAakkN1N3"
   },
   "source": [
    "- we need to merge all the numerical vectors i.e catogorical, text, numerical vectors"
   ]
  },
  {
   "cell_type": "code",
   "execution_count": 30,
   "metadata": {
    "colab": {},
    "colab_type": "code",
    "id": "dBL_SI8CN1N-"
   },
   "outputs": [],
   "source": [
    "# please write all the code with proper documentation, and proper titles for each subsection\n",
    "# when you plot any graph make sure you use \n",
    "    # a. Title, that describes your plot, this will be very helpful to the reader\n",
    "    # b. Legends if needed\n",
    "    # c. X-axis label\n",
    "    # d. Y-axis label"
   ]
  },
  {
   "cell_type": "code",
   "execution_count": 31,
   "metadata": {},
   "outputs": [],
   "source": [
    "project_data[\"preprocessed_school_state\"]=preprocessed_school_state\n",
    "project_data[\"preprocessed_teacher_prefix\"]=preprocessed_teacher_prefix\n",
    "project_data[\"preprocessed_project_grade\"]=preprocessed_project_grade\n",
    "project_data[\"preprocessed_titles\"]=preprocessed_titles\n",
    "project_data[\"preprocessed_essays\"]=preprocessed_essays"
   ]
  },
  {
   "cell_type": "code",
   "execution_count": 32,
   "metadata": {},
   "outputs": [],
   "source": [
    "data_set_0=project_data[[\"clean_categories\",\"clean_subcategories\",\"preprocessed_school_state\",\"preprocessed_teacher_prefix\",\"preprocessed_project_grade\",\"price\",\"teacher_number_of_previously_posted_projects\",\"preprocessed_titles\",\"preprocessed_essays\"]]"
   ]
  },
  {
   "cell_type": "code",
   "execution_count": 33,
   "metadata": {},
   "outputs": [
    {
     "data": {
      "text/html": [
       "<div>\n",
       "<style scoped>\n",
       "    .dataframe tbody tr th:only-of-type {\n",
       "        vertical-align: middle;\n",
       "    }\n",
       "\n",
       "    .dataframe tbody tr th {\n",
       "        vertical-align: top;\n",
       "    }\n",
       "\n",
       "    .dataframe thead th {\n",
       "        text-align: right;\n",
       "    }\n",
       "</style>\n",
       "<table border=\"1\" class=\"dataframe\">\n",
       "  <thead>\n",
       "    <tr style=\"text-align: right;\">\n",
       "      <th></th>\n",
       "      <th>clean_categories</th>\n",
       "      <th>clean_subcategories</th>\n",
       "      <th>preprocessed_school_state</th>\n",
       "      <th>preprocessed_teacher_prefix</th>\n",
       "      <th>preprocessed_project_grade</th>\n",
       "      <th>price</th>\n",
       "      <th>teacher_number_of_previously_posted_projects</th>\n",
       "      <th>preprocessed_titles</th>\n",
       "      <th>preprocessed_essays</th>\n",
       "    </tr>\n",
       "  </thead>\n",
       "  <tbody>\n",
       "    <tr>\n",
       "      <th>0</th>\n",
       "      <td>Literacy_Language</td>\n",
       "      <td>ESL Literacy</td>\n",
       "      <td>IN</td>\n",
       "      <td>Mrs</td>\n",
       "      <td>GradesPreK2</td>\n",
       "      <td>154.60</td>\n",
       "      <td>0</td>\n",
       "      <td>educational support english learners home</td>\n",
       "      <td>students english learners working english seco...</td>\n",
       "    </tr>\n",
       "    <tr>\n",
       "      <th>1</th>\n",
       "      <td>History_Civics Health_Sports</td>\n",
       "      <td>Civics_Government TeamSports</td>\n",
       "      <td>FL</td>\n",
       "      <td>Mr</td>\n",
       "      <td>Grades68</td>\n",
       "      <td>299.00</td>\n",
       "      <td>7</td>\n",
       "      <td>wanted projector hungry learners</td>\n",
       "      <td>students arrive school eager learn polite gene...</td>\n",
       "    </tr>\n",
       "    <tr>\n",
       "      <th>2</th>\n",
       "      <td>Health_Sports</td>\n",
       "      <td>Health_Wellness TeamSports</td>\n",
       "      <td>AZ</td>\n",
       "      <td>Ms</td>\n",
       "      <td>Grades68</td>\n",
       "      <td>516.85</td>\n",
       "      <td>1</td>\n",
       "      <td>soccer equipment awesome middle school students</td>\n",
       "      <td>true champions not always ones win guts mia ha...</td>\n",
       "    </tr>\n",
       "    <tr>\n",
       "      <th>3</th>\n",
       "      <td>Literacy_Language Math_Science</td>\n",
       "      <td>Literacy Mathematics</td>\n",
       "      <td>KY</td>\n",
       "      <td>Mrs</td>\n",
       "      <td>GradesPreK2</td>\n",
       "      <td>232.90</td>\n",
       "      <td>4</td>\n",
       "      <td>techie kindergarteners</td>\n",
       "      <td>work unique school filled esl english second l...</td>\n",
       "    </tr>\n",
       "    <tr>\n",
       "      <th>4</th>\n",
       "      <td>Math_Science</td>\n",
       "      <td>Mathematics</td>\n",
       "      <td>TX</td>\n",
       "      <td>Mrs</td>\n",
       "      <td>GradesPreK2</td>\n",
       "      <td>67.98</td>\n",
       "      <td>1</td>\n",
       "      <td>interactive math tools</td>\n",
       "      <td>second grade classroom next year made around k...</td>\n",
       "    </tr>\n",
       "  </tbody>\n",
       "</table>\n",
       "</div>"
      ],
      "text/plain": [
       "                 clean_categories           clean_subcategories  \\\n",
       "0               Literacy_Language                  ESL Literacy   \n",
       "1    History_Civics Health_Sports  Civics_Government TeamSports   \n",
       "2                   Health_Sports    Health_Wellness TeamSports   \n",
       "3  Literacy_Language Math_Science          Literacy Mathematics   \n",
       "4                    Math_Science                   Mathematics   \n",
       "\n",
       "  preprocessed_school_state preprocessed_teacher_prefix  \\\n",
       "0                        IN                         Mrs   \n",
       "1                        FL                          Mr   \n",
       "2                        AZ                          Ms   \n",
       "3                        KY                         Mrs   \n",
       "4                        TX                         Mrs   \n",
       "\n",
       "  preprocessed_project_grade   price  \\\n",
       "0                GradesPreK2  154.60   \n",
       "1                   Grades68  299.00   \n",
       "2                   Grades68  516.85   \n",
       "3                GradesPreK2  232.90   \n",
       "4                GradesPreK2   67.98   \n",
       "\n",
       "   teacher_number_of_previously_posted_projects  \\\n",
       "0                                             0   \n",
       "1                                             7   \n",
       "2                                             1   \n",
       "3                                             4   \n",
       "4                                             1   \n",
       "\n",
       "                               preprocessed_titles  \\\n",
       "0        educational support english learners home   \n",
       "1                 wanted projector hungry learners   \n",
       "2  soccer equipment awesome middle school students   \n",
       "3                           techie kindergarteners   \n",
       "4                           interactive math tools   \n",
       "\n",
       "                                 preprocessed_essays  \n",
       "0  students english learners working english seco...  \n",
       "1  students arrive school eager learn polite gene...  \n",
       "2  true champions not always ones win guts mia ha...  \n",
       "3  work unique school filled esl english second l...  \n",
       "4  second grade classroom next year made around k...  "
      ]
     },
     "execution_count": 33,
     "metadata": {},
     "output_type": "execute_result"
    }
   ],
   "source": [
    "data_set_0.head()"
   ]
  },
  {
   "cell_type": "markdown",
   "metadata": {
    "colab_type": "text",
    "id": "58YP-aXEN1OB"
   },
   "source": [
    "# Assignment 4: Naive Bayes"
   ]
  },
  {
   "cell_type": "markdown",
   "metadata": {
    "colab_type": "text",
    "id": "cdOrIZk5N1OB"
   },
   "source": [
    "<ol>\n",
    "    <li><strong>Apply Multinomial NaiveBayes on these feature sets</strong>\n",
    "        <ul>\n",
    "            <li><font color='red'>Set 1</font>: categorical, numerical features + project_title(BOW) + preprocessed_eassay (BOW)</li>\n",
    "            <li><font color='red'>Set 2</font>: categorical, numerical features + project_title(TFIDF)+  preprocessed_eassay (TFIDF)</li>\n",
    "        </ul>\n",
    "    </li>\n",
    "    <br>\n",
    "    <li><strong>The hyper paramter tuning(find best Alpha)</strong>\n",
    "        <ul>\n",
    "    <li>Find the best hyper parameter which will give the maximum <a href='https://www.appliedaicourse.com/course/applied-ai-course-online/lessons/receiver-operating-characteristic-curve-roc-curve-and-auc-1/'>AUC</a> value</li>\n",
    "    <li>Consider a wide range of alpha values for hyperparameter tuning, start as low as 0.00001</li>\n",
    "    <li>Find the best hyper paramter using k-fold cross validation or simple cross validation data</li>\n",
    "    <li>Use gridsearch cv or randomsearch cv or you can also write your own for loops to do this task of hyperparameter tuning</li>\n",
    "        </ul>\n",
    "    </li>\n",
    "    <br>\n",
    "    <li><strong>Feature importance</strong>\n",
    "        <ul>\n",
    "    <li>Find the top 10 features of positive class and top 10 features of negative class for both feature sets <font color='red'>Set 1</font> and <font color='red'>Set 2</font> using values of `feature_log_prob_` parameter of  <a href='https://scikit-learn.org/stable/modules/generated/sklearn.naive_bayes.MultinomialNB.html'>MultinomialNB</a> and print their corresponding feature names</li>\n",
    "        </ul>\n",
    "    </li>\n",
    "    <br>\n",
    "    <li><strong>Representation of results</strong>\n",
    "        <ul>\n",
    "    <li>You need to plot the performance of model both on train data and cross validation data for each hyper parameter, like shown in the figure. Here on X-axis you will have alpha values, since they have a wide range, just to represent those alpha values on the graph, apply log function on those alpha values.\n",
    "    <img src='train_cv_auc.JPG' width=300px></li>\n",
    "    <li>Once after you found the best hyper parameter, you need to train your model with it, and find the AUC on test data and plot the ROC curve on both train and test.\n",
    "    <img src='train_test_auc.JPG' width=300px></li>\n",
    "    <li>Along with plotting ROC curve, you need to print the <a href='https://www.appliedaicourse.com/course/applied-ai-course-online/lessons/confusion-matrix-tpr-fpr-fnr-tnr-1/'>confusion matrix</a> with predicted and original labels of test data points. Please visualize your confusion matrices using <a href='https://seaborn.pydata.org/generated/seaborn.heatmap.html'>seaborn heatmaps.\n",
    "    <img src='confusion_matrix.png' width=300px></li>\n",
    "        </ul>\n",
    "    </li>\n",
    "    <br>\n",
    "    <li><strong>Conclusion</strong>\n",
    "        <ul>\n",
    "    <li>You need to summarize the results at the end of the notebook, summarize it in the table format. To print out a table please refer to this prettytable library<a href='http://zetcode.com/python/prettytable/'>  link</a> \n",
    "        <img src='summary.JPG' width=400px>\n",
    "    </li>\n",
    "        </ul>\n",
    "</ol>"
   ]
  },
  {
   "cell_type": "markdown",
   "metadata": {
    "colab_type": "text",
    "id": "dQY4H_DjN1OC"
   },
   "source": [
    "<h1>2. Naive Bayes </h1>"
   ]
  },
  {
   "cell_type": "markdown",
   "metadata": {
    "colab_type": "text",
    "id": "Urn-yYqJN1OE"
   },
   "source": [
    "<h2>2.1 Splitting data into Train and cross validation(or test): Stratified Sampling</h2>"
   ]
  },
  {
   "cell_type": "code",
   "execution_count": 34,
   "metadata": {
    "colab": {},
    "colab_type": "code",
    "id": "C-53q_BlN1OF"
   },
   "outputs": [],
   "source": [
    "# please write all the code with proper documentation, and proper titles for each subsection\n",
    "# go through documentations and blogs before you start coding\n",
    "# first figure out what to do, and then think about how to do.\n",
    "# reading and understanding error messages will be very much helpfull in debugging your code\n",
    "# when you plot any graph make sure you use \n",
    "    # a. Title, that describes your plot, this will be very helpful to the reader\n",
    "    # b. Legends if needed\n",
    "    # c. X-axis label\n",
    "    # d. Y-axis label"
   ]
  },
  {
   "cell_type": "code",
   "execution_count": 35,
   "metadata": {},
   "outputs": [],
   "source": [
    "import sklearn\n",
    "from sklearn.neighbors import KNeighborsClassifier\n",
    "from sklearn.model_selection import train_test_split\n",
    "from scipy.sparse import hstack"
   ]
  },
  {
   "cell_type": "code",
   "execution_count": 36,
   "metadata": {},
   "outputs": [],
   "source": [
    "x__train,x__test,y__train,y__test=train_test_split(data_set_0,project_data[\"project_is_approved\"],test_size=0.3,random_state=2)"
   ]
  },
  {
   "cell_type": "markdown",
   "metadata": {},
   "source": [
    "# 2.2 Make Data Model Ready:encoding numerical,categorical features"
   ]
  },
  {
   "cell_type": "code",
   "execution_count": 37,
   "metadata": {},
   "outputs": [
    {
     "name": "stderr",
     "output_type": "stream",
     "text": [
      "C:\\Users\\hp\\Anaconda3\\lib\\site-packages\\sklearn\\utils\\validation.py:595: DataConversionWarning: Data with input dtype int64 was converted to float64 by StandardScaler.\n",
      "  warnings.warn(msg, DataConversionWarning)\n",
      "C:\\Users\\hp\\Anaconda3\\lib\\site-packages\\sklearn\\utils\\validation.py:595: DataConversionWarning: Data with input dtype int64 was converted to float64 by StandardScaler.\n",
      "  warnings.warn(msg, DataConversionWarning)\n"
     ]
    }
   ],
   "source": [
    "from sklearn.preprocessing import StandardScaler\n",
    "\n",
    "scaler_1=StandardScaler()\n",
    "price_one_hot=scaler_1.fit_transform(x__train[\"price\"].values.reshape(-1,1))\n",
    "scaler_2=StandardScaler()\n",
    "teacher_num_one_hot=scaler_2.fit_transform(x__train[\"teacher_number_of_previously_posted_projects\"].values.reshape(-1,1))"
   ]
  },
  {
   "cell_type": "code",
   "execution_count": 38,
   "metadata": {},
   "outputs": [],
   "source": [
    "x__train[\"price\"]=price_one_hot\n",
    "x__train[\"teacher_number_of_previously_posted_projects\"]=teacher_num_one_hot"
   ]
  },
  {
   "cell_type": "code",
   "execution_count": 39,
   "metadata": {},
   "outputs": [],
   "source": [
    "from sklearn.feature_extraction.text import CountVectorizer,TfidfVectorizer\n",
    "vectorizer_1=CountVectorizer(lowercase=False,binary=True)\n",
    "categories_one_hot=vectorizer_1.fit_transform(x__train[\"clean_categories\"].values)\n",
    "x__train[\"clean_categories\"]=categories_one_hot\n",
    "vectorizer_2=CountVectorizer(lowercase=False,binary=True)\n",
    "subcategories_one_hot=vectorizer_2.fit_transform(x__train[\"clean_subcategories\"].values)\n",
    "x__train[\"clean_subcategories\"]=subcategories_one_hot\n",
    "vectorizer_3=CountVectorizer(lowercase=False,binary=True)\n",
    "school_state_one_hot=vectorizer_3.fit_transform(x__train[\"preprocessed_school_state\"].values)\n",
    "x__train[\"preprocessed_school_state\"]=school_state_one_hot\n",
    "vectorizer_4=CountVectorizer(lowercase=False,binary=True)\n",
    "teacher_prefix_one_hot=vectorizer_4.fit_transform(x__train[\"preprocessed_teacher_prefix\"].values)\n",
    "x__train[\"preprocessed_teacher_prefix\"]=teacher_prefix_one_hot\n",
    "vectorizer_5=CountVectorizer(lowercase=False,binary=True)\n",
    "project_grade_one_hot=vectorizer_5.fit_transform(x__train[\"preprocessed_project_grade\"].values)\n",
    "x__train[\"preprocessed_project_grade\"]=project_grade_one_hot"
   ]
  },
  {
   "cell_type": "code",
   "execution_count": 40,
   "metadata": {},
   "outputs": [],
   "source": [
    "from sklearn.model_selection import cross_val_score"
   ]
  },
  {
   "cell_type": "markdown",
   "metadata": {
    "colab_type": "text",
    "id": "fZmrR3aBN1OJ"
   },
   "source": [
    "<h2>2.3 Make Data Model Ready: encoding eassay, and project_title</h2>"
   ]
  },
  {
   "cell_type": "code",
   "execution_count": 41,
   "metadata": {
    "colab": {},
    "colab_type": "code",
    "id": "05rTs-7XN1OK"
   },
   "outputs": [],
   "source": [
    "# please write all the code with proper documentation, and proper titles for each subsection\n",
    "# go through documentations and blogs before you start coding\n",
    "# first figure out what to do, and then think about how to do.\n",
    "# reading and understanding error messages will be very much helpfull in debugging your code\n",
    "# make sure you featurize train and test data separatly\n",
    "\n",
    "# when you plot any graph make sure you use \n",
    "    # a. Title, that describes your plot, this will be very helpful to the reader\n",
    "    # b. Legends if needed\n",
    "    # c. X-axis label\n",
    "    # d. Y-axis label"
   ]
  },
  {
   "cell_type": "code",
   "execution_count": 42,
   "metadata": {},
   "outputs": [],
   "source": [
    "vectorizer_6=CountVectorizer()\n",
    "title_one_hot=vectorizer_6.fit_transform(x__train[\"preprocessed_titles\"].values)\n",
    "title_one_hot=title_one_hot\n",
    "x__train[\"preprocessed_titles\"]=title_one_hot\n",
    "vectorizer_7=CountVectorizer()\n",
    "essay_one_hot=vectorizer_7.fit_transform(x__train[\"preprocessed_essays\"].values)\n",
    "essay_one_hot=essay_one_hot\n",
    "x__train[\"preprocessed_essays\"]=essay_one_hot"
   ]
  },
  {
   "cell_type": "code",
   "execution_count": 43,
   "metadata": {},
   "outputs": [
    {
     "name": "stderr",
     "output_type": "stream",
     "text": [
      "C:\\Users\\hp\\Anaconda3\\lib\\site-packages\\sklearn\\utils\\validation.py:595: DataConversionWarning: Data with input dtype int64 was converted to float64 by StandardScaler.\n",
      "  warnings.warn(msg, DataConversionWarning)\n"
     ]
    }
   ],
   "source": [
    "test_price_one_hot=scaler_1.transform(x__test[\"price\"].values.reshape(-1,1))\n",
    "test_teacher_num_one_hot=scaler_2.transform(x__test[\"teacher_number_of_previously_posted_projects\"].values.reshape(-1,1))\n",
    "test_category_one_hot=vectorizer_1.transform(x__test[\"clean_categories\"].values)\n",
    "test_subcategories_one_hot=vectorizer_2.transform(x__test[\"clean_subcategories\"].values)\n",
    "test_school_state_one_hot=vectorizer_3.transform(x__test[\"preprocessed_school_state\"].values)\n",
    "teat_prefix_one_hot=vectorizer_4.transform(x__test[\"preprocessed_teacher_prefix\"].values)\n",
    "test_project_grade_one_hot=vectorizer_5.transform(x__test[\"preprocessed_project_grade\"].values)\n",
    "test_title_one_hot=vectorizer_6.transform(x__test[\"preprocessed_titles\"].values)\n",
    "test_essay_one_hot=vectorizer_7.transform(x__test[\"preprocessed_essays\"].values)"
   ]
  },
  {
   "cell_type": "code",
   "execution_count": 44,
   "metadata": {},
   "outputs": [],
   "source": [
    "x_test_data=hstack((test_price_one_hot,test_teacher_num_one_hot,test_category_one_hot,test_subcategories_one_hot,test_school_state_one_hot,teat_prefix_one_hot,test_project_grade_one_hot,test_title_one_hot,test_essay_one_hot))"
   ]
  },
  {
   "cell_type": "code",
   "execution_count": 45,
   "metadata": {},
   "outputs": [
    {
     "data": {
      "text/plain": [
       "(32775, 61355)"
      ]
     },
     "execution_count": 45,
     "metadata": {},
     "output_type": "execute_result"
    }
   ],
   "source": [
    "x_test_data.shape"
   ]
  },
  {
   "cell_type": "markdown",
   "metadata": {
    "colab_type": "text",
    "id": "tJemgtg6N1OM"
   },
   "source": [
    "<h2>2.4 Appling NB() on different kind of featurization as mentioned in the instructions</h2>\n",
    "\n",
    "<br>Apply Naive Bayes on different kind of featurization as mentioned in the instructions\n",
    "<br> For Every model that you work on make sure you do the step 2 and step 3 of instrucations"
   ]
  },
  {
   "cell_type": "markdown",
   "metadata": {
    "colab_type": "text",
    "id": "xzli_RRdN1OM"
   },
   "source": [
    "### 2.4.1 Applying Naive Bayes on BOW,<font color='red'> SET 1</font>"
   ]
  },
  {
   "cell_type": "code",
   "execution_count": 46,
   "metadata": {
    "colab": {},
    "colab_type": "code",
    "id": "G8sy7LJmN1OO"
   },
   "outputs": [],
   "source": [
    "# Please write all the code with proper documentation"
   ]
  },
  {
   "cell_type": "code",
   "execution_count": 47,
   "metadata": {},
   "outputs": [],
   "source": [
    "from scipy.sparse import hstack\n",
    "x_train_data=hstack((price_one_hot,teacher_num_one_hot,categories_one_hot,subcategories_one_hot,school_state_one_hot,teacher_prefix_one_hot,project_grade_one_hot,title_one_hot,essay_one_hot))"
   ]
  },
  {
   "cell_type": "code",
   "execution_count": 48,
   "metadata": {},
   "outputs": [
    {
     "data": {
      "text/plain": [
       "(76473, 61355)"
      ]
     },
     "execution_count": 48,
     "metadata": {},
     "output_type": "execute_result"
    }
   ],
   "source": [
    "x_train_data.shape"
   ]
  },
  {
   "cell_type": "code",
   "execution_count": 49,
   "metadata": {},
   "outputs": [],
   "source": [
    "from sklearn.model_selection import GridSearchCV"
   ]
  },
  {
   "cell_type": "code",
   "execution_count": 50,
   "metadata": {},
   "outputs": [
    {
     "data": {
      "text/plain": [
       "GridSearchCV(cv=10, error_score='raise-deprecating',\n",
       "       estimator=MultinomialNB(alpha=1.0, class_prior=[0.5, 0.5], fit_prior=True),\n",
       "       fit_params=None, iid='warn', n_jobs=None,\n",
       "       param_grid={'alpha': [1e-05, 0.0001, 0.001, 0.01, 0.1, 1, 10, 100, 1000, 10000, 100000]},\n",
       "       pre_dispatch='2*n_jobs', refit=True, return_train_score='warn',\n",
       "       scoring='roc_auc', verbose=0)"
      ]
     },
     "execution_count": 50,
     "metadata": {},
     "output_type": "execute_result"
    }
   ],
   "source": [
    "from sklearn.naive_bayes import MultinomialNB\n",
    "alpha_range={\"alpha\":[10**(-5),10**(-4),10**(-3),10**(-2),10**(-1),10**0,10**1,10**2,10**3,10**4,10**5]}\n",
    "mnb=MultinomialNB(class_prior=[0.5,0.5])\n",
    "grid_search=GridSearchCV(mnb,alpha_range,cv=10,scoring=\"roc_auc\")\n",
    "grid_search.fit(abs(x_train_data),y__train)"
   ]
  },
  {
   "cell_type": "code",
   "execution_count": 51,
   "metadata": {},
   "outputs": [
    {
     "data": {
      "text/plain": [
       "MultinomialNB(alpha=0.1, class_prior=[0.5, 0.5], fit_prior=True)"
      ]
     },
     "execution_count": 51,
     "metadata": {},
     "output_type": "execute_result"
    }
   ],
   "source": [
    "grid_search.best_estimator_"
   ]
  },
  {
   "cell_type": "code",
   "execution_count": 52,
   "metadata": {},
   "outputs": [
    {
     "data": {
      "text/plain": [
       "0.70258361888543"
      ]
     },
     "execution_count": 52,
     "metadata": {},
     "output_type": "execute_result"
    }
   ],
   "source": [
    "grid_search.score(x_test_data,y__test)"
   ]
  },
  {
   "cell_type": "code",
   "execution_count": 53,
   "metadata": {},
   "outputs": [
    {
     "data": {
      "text/plain": [
       "{'mean_fit_time': array([0.56604719, 0.55666974, 0.56526494, 0.5942642 , 0.59433491,\n",
       "        0.58139894, 0.58631942, 0.5758158 , 0.64292042, 0.59562945,\n",
       "        0.59124169]),\n",
       " 'std_fit_time': array([0.08500899, 0.1001663 , 0.05793105, 0.08504094, 0.05847418,\n",
       "        0.09136626, 0.10707412, 0.03501095, 0.08092581, 0.05864547,\n",
       "        0.0666318 ]),\n",
       " 'mean_score_time': array([0.14358554, 0.06577721, 0.03087168, 0.02555876, 0.02554569,\n",
       "        0.02809031, 0.03705628, 0.02415304, 0.0234864 , 0.02646852,\n",
       "        0.02643757]),\n",
       " 'std_score_time': array([0.32152703, 0.09553029, 0.01136082, 0.01548173, 0.00269844,\n",
       "        0.00897238, 0.01693878, 0.00614594, 0.00263957, 0.00553181,\n",
       "        0.00986425]),\n",
       " 'param_alpha': masked_array(data=[1e-05, 0.0001, 0.001, 0.01, 0.1, 1, 10, 100, 1000,\n",
       "                    10000, 100000],\n",
       "              mask=[False, False, False, False, False, False, False, False,\n",
       "                    False, False, False],\n",
       "        fill_value='?',\n",
       "             dtype=object),\n",
       " 'params': [{'alpha': 1e-05},\n",
       "  {'alpha': 0.0001},\n",
       "  {'alpha': 0.001},\n",
       "  {'alpha': 0.01},\n",
       "  {'alpha': 0.1},\n",
       "  {'alpha': 1},\n",
       "  {'alpha': 10},\n",
       "  {'alpha': 100},\n",
       "  {'alpha': 1000},\n",
       "  {'alpha': 10000},\n",
       "  {'alpha': 100000}],\n",
       " 'split0_test_score': array([0.66726697, 0.67919227, 0.69359416, 0.70849126, 0.71761406,\n",
       "        0.70951522, 0.64903323, 0.5       , 0.5       , 0.5       ,\n",
       "        0.57028301]),\n",
       " 'split1_test_score': array([0.63957282, 0.65347692, 0.67052399, 0.69017223, 0.70443505,\n",
       "        0.69582629, 0.62699959, 0.5       , 0.5       , 0.5       ,\n",
       "        0.54535933]),\n",
       " 'split2_test_score': array([0.64757758, 0.65906513, 0.67320598, 0.68850787, 0.69991599,\n",
       "        0.69950861, 0.64277684, 0.5       , 0.5       , 0.50043215,\n",
       "        0.55380297]),\n",
       " 'split3_test_score': array([0.64768164, 0.6604293 , 0.67634436, 0.69363244, 0.70834625,\n",
       "        0.70738908, 0.64047487, 0.5       , 0.5       , 0.5       ,\n",
       "        0.5491236 ]),\n",
       " 'split4_test_score': array([0.63605417, 0.64836227, 0.66355278, 0.6809006 , 0.69763104,\n",
       "        0.70401538, 0.64378799, 0.5       , 0.5       , 0.5       ,\n",
       "        0.56539225]),\n",
       " 'split5_test_score': array([0.65633658, 0.66867353, 0.68360617, 0.69914812, 0.71087176,\n",
       "        0.70339048, 0.63650688, 0.5       , 0.5       , 0.5       ,\n",
       "        0.5613825 ]),\n",
       " 'split6_test_score': array([0.64353018, 0.65776222, 0.67525057, 0.69564593, 0.7130823 ,\n",
       "        0.71422835, 0.65792488, 0.5       , 0.5       , 0.5       ,\n",
       "        0.56846437]),\n",
       " 'split7_test_score': array([0.6466145 , 0.66009591, 0.67642548, 0.69549773, 0.71036694,\n",
       "        0.70763325, 0.63538749, 0.5       , 0.5       , 0.49984594,\n",
       "        0.55160239]),\n",
       " 'split8_test_score': array([0.64602185, 0.65706643, 0.67017527, 0.68392541, 0.69435481,\n",
       "        0.68996279, 0.62492364, 0.5       , 0.5       , 0.5       ,\n",
       "        0.55775158]),\n",
       " 'split9_test_score': array([0.63190315, 0.64437043, 0.65947992, 0.67812798, 0.69680171,\n",
       "        0.69778965, 0.63756831, 0.5       , 0.5       , 0.5       ,\n",
       "        0.55741605]),\n",
       " 'mean_test_score': array([0.64625636, 0.65884985, 0.67421628, 0.69140533, 0.70534222,\n",
       "        0.70292598, 0.63953841, 0.5       , 0.5       , 0.50002781,\n",
       "        0.55805763]),\n",
       " 'std_test_score': array([0.0095353 , 0.00931281, 0.00914328, 0.00862589, 0.0074749 ,\n",
       "        0.00686401, 0.00926689, 0.        , 0.        , 0.0001424 ,\n",
       "        0.00789925]),\n",
       " 'rank_test_score': array([ 6,  5,  4,  3,  1,  2,  7, 10, 10,  9,  8]),\n",
       " 'split0_train_score': array([0.92824142, 0.92386266, 0.91600966, 0.9011592 , 0.86999887,\n",
       "        0.8041137 , 0.67373735, 0.5       , 0.5       , 0.50003093,\n",
       "        0.55679617]),\n",
       " 'split1_train_score': array([0.92894038, 0.92460298, 0.91684666, 0.90212073, 0.87098512,\n",
       "        0.80475952, 0.67443602, 0.5       , 0.5       , 0.50003093,\n",
       "        0.55960768]),\n",
       " 'split2_train_score': array([0.92813224, 0.92378266, 0.91601573, 0.90136342, 0.87057571,\n",
       "        0.80480201, 0.67457605, 0.5       , 0.5       , 0.49999144,\n",
       "        0.55868785]),\n",
       " 'split3_train_score': array([0.92848334, 0.92421004, 0.91656265, 0.90205168, 0.87146309,\n",
       "        0.80600677, 0.67543742, 0.5       , 0.5       , 0.50003948,\n",
       "        0.55916513]),\n",
       " 'split4_train_score': array([0.92923612, 0.92490845, 0.91715778, 0.90250101, 0.8716447 ,\n",
       "        0.80552373, 0.67382357, 0.5       , 0.5       , 0.50003092,\n",
       "        0.55739476]),\n",
       " 'split5_train_score': array([0.92819169, 0.92382569, 0.91599305, 0.90113537, 0.86990977,\n",
       "        0.8040131 , 0.67475124, 0.5       , 0.5       , 0.50003092,\n",
       "        0.55781553]),\n",
       " 'split6_train_score': array([0.92917363, 0.92492372, 0.91725344, 0.90267632, 0.87182308,\n",
       "        0.80536222, 0.67313765, 0.5       , 0.5       , 0.50003092,\n",
       "        0.55701609]),\n",
       " 'split7_train_score': array([0.92930976, 0.92505065, 0.91738499, 0.90277431, 0.87180601,\n",
       "        0.8054747 , 0.67452986, 0.5       , 0.5       , 0.50004804,\n",
       "        0.55886074]),\n",
       " 'split8_train_score': array([0.92870914, 0.92427174, 0.91634976, 0.90143287, 0.8703458 ,\n",
       "        0.80512797, 0.67697767, 0.5       , 0.5       , 0.50003092,\n",
       "        0.55828701]),\n",
       " 'split9_train_score': array([0.9289825 , 0.92463972, 0.91685681, 0.90211398, 0.87096392,\n",
       "        0.80454684, 0.67453468, 0.5       , 0.5       , 0.50003948,\n",
       "        0.55823464]),\n",
       " 'mean_train_score': array([0.92874002, 0.92440783, 0.91664305, 0.90193289, 0.87095161,\n",
       "        0.80497306, 0.67459415, 0.5       , 0.5       , 0.5000304 ,\n",
       "        0.55818656]),\n",
       " 'std_train_score': array([4.29322381e-04, 4.58956042e-04, 5.08413554e-04, 5.89455298e-04,\n",
       "        6.88052925e-04, 6.09542950e-04, 9.94950090e-04, 0.00000000e+00,\n",
       "        0.00000000e+00, 1.41265573e-05, 8.81089338e-04])}"
      ]
     },
     "execution_count": 53,
     "metadata": {},
     "output_type": "execute_result"
    }
   ],
   "source": [
    "grid_search.cv_results_"
   ]
  },
  {
   "cell_type": "code",
   "execution_count": 54,
   "metadata": {},
   "outputs": [
    {
     "name": "stdout",
     "output_type": "stream",
     "text": [
      "0.7053422200090143\n",
      "{'alpha': 0.1}\n"
     ]
    }
   ],
   "source": [
    "print(grid_search.best_score_)\n",
    "print(grid_search.best_params_)"
   ]
  },
  {
   "cell_type": "code",
   "execution_count": 99,
   "metadata": {},
   "outputs": [
    {
     "data": {
      "image/png": "[encoded data removed]",
      "text/plain": [
       "<Figure size 432x288 with 1 Axes>"
      ]
     },
     "metadata": {
      "needs_background": "light"
     },
     "output_type": "display_data"
    }
   ],
   "source": [
    "test_score=grid_search.cv_results_[\"mean_test_score\"]\n",
    "train_score=grid_search.cv_results_[\"mean_train_score\"]\n",
    "%matplotlib inline\n",
    "hyperparameter=[10**(-5),10**(-4),10**(-3),10**(-2),10**(-1),10**0,10**1,10**2,10**3,10**4,10**5]\n",
    "plt.plot(np.log(hyperparameter),list(test_score),color='blue',label=\"test\")\n",
    "plt.plot(np.log(hyperparameter),list(train_score),color='red',label=\"train\") \n",
    "plt.legend()\n",
    "plt.grid()\n",
    "plt.show()"
   ]
  },
  {
   "cell_type": "code",
   "execution_count": 56,
   "metadata": {},
   "outputs": [],
   "source": [
    "from sklearn.metrics import roc_auc_score,auc"
   ]
  },
  {
   "cell_type": "code",
   "execution_count": 57,
   "metadata": {},
   "outputs": [],
   "source": [
    "final_1_model=MultinomialNB(alpha=0.1,class_prior=[0.5,0.5])\n",
    "final_1_model.fit(abs(x_train_data),y__train)\n",
    "pred_y_train=final_1_model.predict(x_train_data)\n",
    "prob_y_train=final_1_model.predict_proba(x_train_data)\n",
    "pred_y_test=final_1_model.predict(x_test_data)\n",
    "prob_y_test=final_1_model.predict_proba(x_test_data)"
   ]
  },
  {
   "cell_type": "code",
   "execution_count": 58,
   "metadata": {},
   "outputs": [],
   "source": [
    "fpr,tpr,thresholds=roc_curve(y__train,prob_y_train[:,1])\n",
    "fpr_test,tpr_test,thresholds_test=roc_curve(y__test,prob_y_test[:,1])"
   ]
  },
  {
   "cell_type": "code",
   "execution_count": 59,
   "metadata": {},
   "outputs": [
    {
     "data": {
      "image/png": "[encoded data removed]",
      "text/plain": [
       "<Figure size 432x288 with 1 Axes>"
      ]
     },
     "metadata": {
      "needs_background": "light"
     },
     "output_type": "display_data"
    }
   ],
   "source": [
    "%matplotlib inline\n",
    "plt.plot(fpr,tpr,label=\"Training\",color=\"Blue\")\n",
    "plt.plot(fpr_test,tpr_test,label=\"Test_data\",color=\"Red\")\n",
    "plt.plot([0,1],[0,1])\n",
    "plt.title(\"Roc Curve of training and test data\")\n",
    "plt.xlabel(\"FPR\")\n",
    "plt.ylabel(\"TPR\")\n",
    "plt.legend()\n",
    "plt.show()"
   ]
  },
  {
   "cell_type": "markdown",
   "metadata": {},
   "source": [
    "<b>Observation</b>\n",
    "From the roc curve i can say that area under roc curve of training data is more than area under roc curve of test data."
   ]
  },
  {
   "cell_type": "code",
   "execution_count": 60,
   "metadata": {},
   "outputs": [
    {
     "data": {
      "image/png": "[encoded data removed]",
      "text/plain": [
       "<Figure size 432x288 with 2 Axes>"
      ]
     },
     "metadata": {
      "needs_background": "light"
     },
     "output_type": "display_data"
    },
    {
     "data": {
      "image/png": "[encoded data removed]",
      "text/plain": [
       "<Figure size 432x288 with 2 Axes>"
      ]
     },
     "metadata": {
      "needs_background": "light"
     },
     "output_type": "display_data"
    }
   ],
   "source": [
    "from sklearn.metrics import confusion_matrix\n",
    "import seaborn as sns\n",
    "sns.heatmap(confusion_matrix(y__train,pred_y_train),annot=True,fmt=\"d\")\n",
    "plt.title(\"confusion matrix for train data\")\n",
    "plt.show()\n",
    "sns.heatmap(confusion_matrix(y__test,pred_y_test),annot=True,fmt=\"d\")\n",
    "plt.title(\"confusion matrix for test data\")\n",
    "plt.show()"
   ]
  },
  {
   "cell_type": "markdown",
   "metadata": {
    "colab_type": "text",
    "id": "WcsQ4_6VN1OQ"
   },
   "source": [
    "#### 2.4.1.1 Top 10 important features of positive class from<font color='red'> SET 1</font>"
   ]
  },
  {
   "cell_type": "code",
   "execution_count": 61,
   "metadata": {
    "colab": {},
    "colab_type": "code",
    "id": "Lj0N7EdHN1OR"
   },
   "outputs": [],
   "source": [
    "# Please write all the code with proper documentation."
   ]
  },
  {
   "cell_type": "code",
   "execution_count": 96,
   "metadata": {},
   "outputs": [
    {
     "name": "stdout",
     "output_type": "stream",
     "text": [
      " So the top 10 features of positive class are--\n",
      "feature name : school , value : -4.156226\n",
      "feature name : learning , value : -4.524651\n",
      "feature name : classroom , value : -4.545158\n",
      "feature name : not , value : -4.813156\n",
      "feature name : learn , value : -4.860345\n",
      "feature name : help , value : -4.889564\n",
      "feature name : many , value : -5.030629\n",
      "feature name : nannan , value : -5.046428\n",
      "feature name : need , value : -5.158686\n",
      "feature name : work , value : -5.160292\n"
     ]
    }
   ],
   "source": [
    "\n",
    "features_list=[\"price\",\"teacher_number_of_previously_posted_projects\"]+list(vectorizer_1.get_feature_names())+list(vectorizer_2.get_feature_names())+list(vectorizer_3.get_feature_names())+list(vectorizer_4.get_feature_names())+list(vectorizer_5.get_feature_names())+list(vectorizer_6.get_feature_names())+list(vectorizer_7.get_feature_names())\n",
    "a = final_1_model.feature_log_prob_\n",
    "b = a[1].argsort()[-11:-1][::-1]\n",
    "print(\" So the top 10 features of positive class are--\")\n",
    "for i in range(10):\n",
    " print(\"feature name : %s , value : %f\"%(features_list[b[i]],float(a[1,b[i]])))"
   ]
  },
  {
   "cell_type": "markdown",
   "metadata": {},
   "source": [
    "<b><font color='red'> I have used text data to find the top 10 important features.\n",
    "    I apply countvectorizer on text data.<font/><b/>"
   ]
  },
  {
   "cell_type": "markdown",
   "metadata": {
    "colab_type": "text",
    "id": "mq21rLlsN1OS"
   },
   "source": [
    "#### 2.4.1.2 Top 10 important features of negative class from<font color='red'> SET 1</font>"
   ]
  },
  {
   "cell_type": "code",
   "execution_count": 63,
   "metadata": {
    "colab": {},
    "colab_type": "code",
    "id": "4fG1Lm9CN1OT"
   },
   "outputs": [],
   "source": [
    "# Please write all the code with proper documentation"
   ]
  },
  {
   "cell_type": "code",
   "execution_count": 95,
   "metadata": {},
   "outputs": [
    {
     "name": "stdout",
     "output_type": "stream",
     "text": [
      " So the top 10 features of negative class are--\n",
      "feature name : school , value : -4.106025\n",
      "feature name : learning , value : -4.444614\n",
      "feature name : classroom , value : -4.598886\n",
      "feature name : not , value : -4.793968\n",
      "feature name : learn , value : -4.807622\n",
      "feature name : help , value : -4.825050\n",
      "feature name : nannan , value : -4.994218\n",
      "feature name : many , value : -5.025575\n",
      "feature name : need , value : -5.127980\n",
      "feature name : work , value : -5.165625\n"
     ]
    }
   ],
   "source": [
    "a = final_1_model.feature_log_prob_\n",
    "b = a[0].argsort()[-11:-1][::-1]\n",
    "print(\" So the top 10 features of negative class are--\")\n",
    "for i in range(10):\n",
    " print(\"feature name : %s , value : %f\"%(features_list[b[i]],float(a\n",
    "[0,b[i]])))"
   ]
  },
  {
   "cell_type": "markdown",
   "metadata": {
    "colab_type": "text",
    "id": "4c1EK-EgN1OZ"
   },
   "source": [
    "### 2.4.2 Applying Naive Bayes on TFIDF,<font color='red'> SET 2</font>"
   ]
  },
  {
   "cell_type": "code",
   "execution_count": 65,
   "metadata": {
    "colab": {},
    "colab_type": "code",
    "id": "QfJBWFlxN1Oa"
   },
   "outputs": [],
   "source": [
    "# Please write all the code with proper documentation"
   ]
  },
  {
   "cell_type": "code",
   "execution_count": 66,
   "metadata": {},
   "outputs": [],
   "source": [
    "from sklearn.feature_extraction.text import TfidfVectorizer\n",
    "x_train,x_test,y_train,y_test=train_test_split(data_set_0,project_data[\"project_is_approved\"].values,test_size=0.3,random_state=2)\n",
    "tfidf_vectorizer_1=TfidfVectorizer()\n",
    "title_train_one_hot=tfidf_vectorizer_1.fit_transform(x_train[\"preprocessed_titles\"].values)\n",
    "title_test_one_hot=tfidf_vectorizer_1.transform(x_test[\"preprocessed_titles\"].values)\n",
    "tfidf_vectorizer_2=TfidfVectorizer()\n",
    "essay_train_one_hot=tfidf_vectorizer_2.fit_transform(x_train[\"preprocessed_essays\"].values)\n",
    "essay_test_one_hot=tfidf_vectorizer_2.transform(x_test[\"preprocessed_essays\"].values)\n",
    "x_train_data_2=hstack((price_one_hot,teacher_num_one_hot,categories_one_hot,subcategories_one_hot,school_state_one_hot,teacher_prefix_one_hot,project_grade_one_hot,title_train_one_hot,essay_train_one_hot))\n",
    "x_test_data_2=hstack((test_price_one_hot,test_teacher_num_one_hot,test_category_one_hot,test_subcategories_one_hot,test_school_state_one_hot,teat_prefix_one_hot,test_project_grade_one_hot,title_test_one_hot,essay_test_one_hot))"
   ]
  },
  {
   "cell_type": "code",
   "execution_count": 67,
   "metadata": {},
   "outputs": [
    {
     "name": "stdout",
     "output_type": "stream",
     "text": [
      "MultinomialNB(alpha=0.1, class_prior=[0.5, 0.5], fit_prior=True)\n",
      "==================================================\n",
      "0.6728947947289259\n"
     ]
    }
   ],
   "source": [
    "alpha_range=[{\"alpha\":[10**-5,10**-4,10**-3,10**-2,10**-1,10**0,10**1,10**2,10**3,10**4,10**5]}]\n",
    "mnb_2=MultinomialNB(class_prior=[0.5,0.5])\n",
    "model=GridSearchCV(mnb_2,alpha_range,cv=10,scoring=\"roc_auc\")\n",
    "model.fit(abs(x_train_data_2),y_train)\n",
    "print(model.best_estimator_)\n",
    "print(\"=\"*50)\n",
    "print(model.score(x_test_data_2,y_test))"
   ]
  },
  {
   "cell_type": "markdown",
   "metadata": {},
   "source": [
    "<b>Observation:-</b>\n",
    "from the above curve between area under roc curve and range of the log of alpha, i observed that the maximum value of auc is 0.6727 and it is for alpha=0.1"
   ]
  },
  {
   "cell_type": "code",
   "execution_count": 68,
   "metadata": {},
   "outputs": [
    {
     "data": {
      "text/plain": [
       "MultinomialNB(alpha=0.1, class_prior=[0.5, 0.5], fit_prior=True)"
      ]
     },
     "execution_count": 68,
     "metadata": {},
     "output_type": "execute_result"
    }
   ],
   "source": [
    "model.best_estimator_"
   ]
  },
  {
   "cell_type": "code",
   "execution_count": 69,
   "metadata": {},
   "outputs": [
    {
     "data": {
      "image/png": "[encoded data removed]",
      "text/plain": [
       "<Figure size 432x288 with 1 Axes>"
      ]
     },
     "metadata": {
      "needs_background": "light"
     },
     "output_type": "display_data"
    }
   ],
   "source": [
    "cv_score=model.cv_results_[\"mean_test_score\"]\n",
    "train_score=model.cv_results_[\"mean_train_score\"]\n",
    "%matplotlib inline\n",
    "plt.plot(np.log(hyperparameter),train_score,label=\"train\")\n",
    "plt.plot(np.log(hyperparameter),cv_score,label=\"test\")\n",
    "plt.legend()\n",
    "plt.grid()\n",
    "plt.show()"
   ]
  },
  {
   "cell_type": "code",
   "execution_count": 70,
   "metadata": {},
   "outputs": [],
   "source": [
    "final_mnb_2=MultinomialNB(alpha=0.1,class_prior=[0.5,0.5])\n",
    "final_mnb_2.fit(abs(x_train_data_2),y_train)\n",
    "pred_train_2=final_mnb_2.predict(x_train_data_2)\n",
    "pred_test_2=final_mnb_2.predict(x_test_data_2)\n",
    "prob_train_2=final_mnb_2.predict_proba(x_train_data_2)\n",
    "prob_test_2=final_mnb_2.predict_proba(x_test_data_2)"
   ]
  },
  {
   "cell_type": "code",
   "execution_count": 71,
   "metadata": {},
   "outputs": [
    {
     "data": {
      "image/png": "[encoded data removed]",
      "text/plain": [
       "<Figure size 432x288 with 1 Axes>"
      ]
     },
     "metadata": {
      "needs_background": "light"
     },
     "output_type": "display_data"
    }
   ],
   "source": [
    "fpr_train,tpr_train,thresholds=roc_curve(y_train,prob_train_2[:,1])\n",
    "fpr_test,tpr_test,thresholds=roc_curve(y_test,prob_test_2[:,1])\n",
    "plt.plot(fpr_train,tpr_train,label=\"Training\",color=\"Blue\")\n",
    "plt.plot(fpr_test,tpr_test,label=\"Test_data\",color=\"Red\")\n",
    "plt.plot([0,1],[0,1])\n",
    "plt.title(\"Roc Curve of training and test data\")\n",
    "plt.xlabel(\"FPR\")\n",
    "plt.ylabel(\"TPR\")\n",
    "plt.legend()\n",
    "plt.show()"
   ]
  },
  {
   "cell_type": "markdown",
   "metadata": {},
   "source": [
    "<b>Observation:-</b>\n",
    "\n",
    "area under roc curve of trainig data is more than area under roc curve for test data"
   ]
  },
  {
   "cell_type": "code",
   "execution_count": 72,
   "metadata": {},
   "outputs": [
    {
     "data": {
      "image/png": "[encoded data removed]",
      "text/plain": [
       "<Figure size 432x288 with 2 Axes>"
      ]
     },
     "metadata": {
      "needs_background": "light"
     },
     "output_type": "display_data"
    },
    {
     "data": {
      "image/png": "[encoded data removed]",
      "text/plain": [
       "<Figure size 432x288 with 2 Axes>"
      ]
     },
     "metadata": {
      "needs_background": "light"
     },
     "output_type": "display_data"
    }
   ],
   "source": [
    "sns.heatmap(confusion_matrix(y_train,pred_train_2),annot=True,fmt=\"d\")\n",
    "plt.title(\"confusion matrix for train data\")\n",
    "plt.show()\n",
    "sns.heatmap(confusion_matrix(y_test,pred_test_2),annot=True,fmt=\"d\")\n",
    "plt.title(\"confusion matrix for test data\")\n",
    "plt.show()"
   ]
  },
  {
   "cell_type": "markdown",
   "metadata": {
    "colab_type": "text",
    "id": "RlDghTPlN1Oc"
   },
   "source": [
    "#### 2.4.2.1 Top 10 important features of positive class from<font color='red'> SET 2</font>"
   ]
  },
  {
   "cell_type": "code",
   "execution_count": 97,
   "metadata": {
    "colab": {},
    "colab_type": "code",
    "id": "MuYcE0THN1Oc"
   },
   "outputs": [
    {
     "name": "stdout",
     "output_type": "stream",
     "text": [
      " So the top 10 features of positive class are--\n",
      "feature name : Mrs , value : -3.502842\n",
      "feature name : teacher_number_of_previously_posted_projects , value : -3.526267\n",
      "feature name : Literacy_Language , value : -3.582787\n",
      "feature name : GradesPreK2 , value : -3.771880\n",
      "feature name : Math_Science , value : -3.844772\n",
      "feature name : Ms , value : -3.906037\n",
      "feature name : Grades35 , value : -3.934813\n",
      "feature name : Literacy , value : -4.015715\n",
      "feature name : Mathematics , value : -4.224963\n",
      "feature name : Literature_Writing , value : -4.446862\n"
     ]
    }
   ],
   "source": [
    "# Please write all the code with proper documentation\n",
    "features_list_set_2=[\"price\",\"teacher_number_of_previously_posted_projects\"]+list(vectorizer_1.get_feature_names())+list(vectorizer_2.get_feature_names())+list(vectorizer_3.get_feature_names())+list(vectorizer_4.get_feature_names())+list(vectorizer_5.get_feature_names())+list(tfidf_vectorizer_1.get_feature_names())+list(tfidf_vectorizer_2.get_feature_names())\n",
    "a = final_mnb_2.feature_log_prob_\n",
    "b = a[1].argsort()[-11:-1][::-1]\n",
    "print(\" So the top 10 features of positive class are--\")\n",
    "for i in range(10):\n",
    " print(\"feature name : %s , value : %f\"%(features_list_set_2[b[i]],float(a\n",
    "[1,b[i]])))\n"
   ]
  },
  {
   "cell_type": "markdown",
   "metadata": {
    "colab_type": "text",
    "id": "E2F4tscgN1Oe"
   },
   "source": [
    "#### 2.4.2.2 Top 10 important features of negative class from<font color='red'> SET 2</font>"
   ]
  },
  {
   "cell_type": "code",
   "execution_count": 98,
   "metadata": {
    "colab": {},
    "colab_type": "code",
    "id": "8-u4Xh2UN1Og"
   },
   "outputs": [
    {
     "name": "stdout",
     "output_type": "stream",
     "text": [
      " So the top 10 features of negative class are--\n",
      "feature no : Mrs , value : -3.570007\n",
      "feature no : Literacy_Language , value : -3.731506\n",
      "feature no : GradesPreK2 , value : -3.783034\n",
      "feature no : teacher_number_of_previously_posted_projects , value : -3.787684\n",
      "feature no : Math_Science , value : -3.794878\n",
      "feature no : Ms , value : -3.869751\n",
      "feature no : Grades35 , value : -4.000249\n",
      "feature no : Mathematics , value : -4.219801\n",
      "feature no : Literacy , value : -4.232807\n",
      "feature no : Literature_Writing , value : -4.530034\n"
     ]
    }
   ],
   "source": [
    "# Please write all the code with proper documentation\n",
    "a = final_mnb_2.feature_log_prob_\n",
    "b = a[0].argsort()[-11:-1][::-1]\n",
    "print(\" So the top 10 features of negative class are--\")\n",
    "for i in range(10):\n",
    " print(\"feature no : %s , value : %f\"%(features_list_set_2[b[i]],float(a[0\n",
    ",b[i]])))\n"
   ]
  },
  {
   "cell_type": "markdown",
   "metadata": {
    "colab_type": "text",
    "id": "vz0LvF7mN1Oi"
   },
   "source": [
    "<h1>3. Conclusions</h1>"
   ]
  },
  {
   "cell_type": "code",
   "execution_count": 75,
   "metadata": {
    "colab": {},
    "colab_type": "code",
    "id": "nxMjhk9xN1Oi"
   },
   "outputs": [
    {
     "name": "stdout",
     "output_type": "stream",
     "text": [
      "+------------+---------------+----------------+-------+\n",
      "| vectorizer |     Model     | Hyperparameter |  AUC  |\n",
      "+------------+---------------+----------------+-------+\n",
      "|    BOW     | MultinomialNB |      0.1       | 0.708 |\n",
      "|   TFIDF    | MultinomialNB |      0.1       | 0.678 |\n",
      "+------------+---------------+----------------+-------+\n"
     ]
    }
   ],
   "source": [
    "from prettytable import PrettyTable\n",
    "table=PrettyTable()\n",
    "table.field_names=(\"vectorizer\",\"Model\",\"Hyperparameter\",\"AUC\")\n",
    "table.add_row([\"BOW\",\"MultinomialNB\",\"0.1\",\"0.708\"])\n",
    "table.add_row([\"TFIDF\",\"MultinomialNB\",\"0.1\",\"0.678\"])\n",
    "print(table)"
   ]
  },
  {
   "cell_type": "markdown",
   "metadata": {},
   "source": [
    "<b>Conclusion:-<b/>   \n",
    "MOdel 1 on BOW gives 0.708 area under roc curve with hyperparameter 0.1  while model 2 ON TFIDF gives 0.678 area under curve with hyperparameter 0.1 which is alpha.\n",
    "\n",
    "Thus we can say that my MultinomialNB on BOW performs better than model on TFIDF."
   ]
  },
  {
   "cell_type": "code",
   "execution_count": null,
   "metadata": {},
   "outputs": [],
   "source": []
  }
 ],
 "metadata": {
  "colab": {
   "collapsed_sections": [
    "hrCuADG4N1M-",
    "-U5bh83MN1NM",
    "_ht9enK1N1NT",
    "sYQKSZ_tN1NX",
    "n4vhAHnMN1Nf",
    "xzli_RRdN1OM",
    "WcsQ4_6VN1OQ",
    "mq21rLlsN1OS",
    "4c1EK-EgN1OZ",
    "RlDghTPlN1Oc",
    "E2F4tscgN1Oe"
   ],
   "name": "4_DonorsChoose_NB.ipynb",
   "provenance": [],
   "version": "0.3.2"
  },
  "kernelspec": {
   "display_name": "Python 3",
   "language": "python",
   "name": "python3"
  },
  "language_info": {
   "codemirror_mode": {
    "name": "ipython",
    "version": 3
   },
   "file_extension": ".py",
   "mimetype": "text/x-python",
   "name": "python",
   "nbconvert_exporter": "python",
   "pygments_lexer": "ipython3",
   "version": "3.7.1"
  }
 },
 "nbformat": 4,
 "nbformat_minor": 1
}
