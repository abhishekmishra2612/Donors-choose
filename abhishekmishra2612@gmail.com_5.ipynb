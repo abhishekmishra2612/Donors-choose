{
 "cells": [
  {
   "cell_type": "markdown",
   "metadata": {
    "colab_type": "text",
    "id": "7pzFaN8TOh78"
   },
   "source": [
    "# DonorsChoose"
   ]
  },
  {
   "cell_type": "markdown",
   "metadata": {
    "colab_type": "text",
    "id": "EVZ5rn7COh7-"
   },
   "source": [
    "<p>\n",
    "DonorsChoose.org receives hundreds of thousands of project proposals each year for classroom projects in need of funding. Right now, a large number of volunteers is needed to manually screen each submission before it's approved to be posted on the DonorsChoose.org website.\n",
    "</p>\n",
    "<p>\n",
    "    Next year, DonorsChoose.org expects to receive close to 500,000 project proposals. As a result, there are three main problems they need to solve:\n",
    "<ul>\n",
    "<li>\n",
    "    How to scale current manual processes and resources to screen 500,000 projects so that they can be posted as quickly and as efficiently as possible</li>\n",
    "    <li>How to increase the consistency of project vetting across different volunteers to improve the experience for teachers</li>\n",
    "    <li>How to focus volunteer time on the applications that need the most assistance</li>\n",
    "    </ul>\n",
    "</p>    \n",
    "<p>\n",
    "The goal of the competition is to predict whether or not a DonorsChoose.org project proposal submitted by a teacher will be approved, using the text of project descriptions as well as additional metadata about the project, teacher, and school. DonorsChoose.org can then use this information to identify projects most likely to need further review before approval.\n",
    "</p>"
   ]
  },
  {
   "cell_type": "markdown",
   "metadata": {
    "colab_type": "text",
    "id": "UZQ1FGY_Oh7_"
   },
   "source": [
    "## About the DonorsChoose Data Set\n",
    "\n",
    "The `train.csv` data set provided by DonorsChoose contains the following features:\n",
    "\n",
    "Feature | Description \n",
    "----------|---------------\n",
    "**`project_id`** | A unique identifier for the proposed project. **Example:** `p036502`   \n",
    "**`project_title`**    | Title of the project. **Examples:**<br><ul><li><code>Art Will Make You Happy!</code></li><li><code>First Grade Fun</code></li></ul> \n",
    "**`project_grade_category`** | Grade level of students for which the project is targeted. One of the following enumerated values: <br/><ul><li><code>Grades PreK-2</code></li><li><code>Grades 3-5</code></li><li><code>Grades 6-8</code></li><li><code>Grades 9-12</code></li></ul>  \n",
    " **`project_subject_categories`** | One or more (comma-separated) subject categories for the project from the following enumerated list of values:  <br/><ul><li><code>Applied Learning</code></li><li><code>Care &amp; Hunger</code></li><li><code>Health &amp; Sports</code></li><li><code>History &amp; Civics</code></li><li><code>Literacy &amp; Language</code></li><li><code>Math &amp; Science</code></li><li><code>Music &amp; The Arts</code></li><li><code>Special Needs</code></li><li><code>Warmth</code></li></ul><br/> **Examples:** <br/><ul><li><code>Music &amp; The Arts</code></li><li><code>Literacy &amp; Language, Math &amp; Science</code></li>  \n",
    "  **`school_state`** | State where school is located ([Two-letter U.S. postal code](https://en.wikipedia.org/wiki/List_of_U.S._state_abbreviations#Postal_codes)). **Example:** `WY`\n",
    "**`project_subject_subcategories`** | One or more (comma-separated) subject subcategories for the project. **Examples:** <br/><ul><li><code>Literacy</code></li><li><code>Literature &amp; Writing, Social Sciences</code></li></ul> \n",
    "**`project_resource_summary`** | An explanation of the resources needed for the project. **Example:** <br/><ul><li><code>My students need hands on literacy materials to manage sensory needs!</code</li></ul> \n",
    "**`project_essay_1`**    | First application essay<sup>*</sup>  \n",
    "**`project_essay_2`**    | Second application essay<sup>*</sup> \n",
    "**`project_essay_3`**    | Third application essay<sup>*</sup> \n",
    "**`project_essay_4`**    | Fourth application essay<sup>*</sup> \n",
    "**`project_submitted_datetime`** | Datetime when project application was submitted. **Example:** `2016-04-28 12:43:56.245`   \n",
    "**`teacher_id`** | A unique identifier for the teacher of the proposed project. **Example:** `bdf8baa8fedef6bfeec7ae4ff1c15c56`  \n",
    "**`teacher_prefix`** | Teacher's title. One of the following enumerated values: <br/><ul><li><code>nan</code></li><li><code>Dr.</code></li><li><code>Mr.</code></li><li><code>Mrs.</code></li><li><code>Ms.</code></li><li><code>Teacher.</code></li></ul>  \n",
    "**`teacher_number_of_previously_posted_projects`** | Number of project applications previously submitted by the same teacher. **Example:** `2` \n",
    "\n",
    "<sup>*</sup> See the section <b>Notes on the Essay Data</b> for more details about these features.\n",
    "\n",
    "Additionally, the `resources.csv` data set provides more data about the resources required for each project. Each line in this file represents a resource required by a project:\n",
    "\n",
    "Feature | Description \n",
    "----------|---------------\n",
    "**`id`** | A `project_id` value from the `train.csv` file.  **Example:** `p036502`   \n",
    "**`description`** | Desciption of the resource. **Example:** `Tenor Saxophone Reeds, Box of 25`   \n",
    "**`quantity`** | Quantity of the resource required. **Example:** `3`   \n",
    "**`price`** | Price of the resource required. **Example:** `9.95`   \n",
    "\n",
    "**Note:** Many projects require multiple resources. The `id` value corresponds to a `project_id` in train.csv, so you use it as a key to retrieve all resources needed for a project:\n",
    "\n",
    "The data set contains the following label (the value you will attempt to predict):\n",
    "\n",
    "Label | Description\n",
    "----------|---------------\n",
    "`project_is_approved` | A binary flag indicating whether DonorsChoose approved the project. A value of `0` indicates the project was not approved, and a value of `1` indicates the project was approved."
   ]
  },
  {
   "cell_type": "markdown",
   "metadata": {
    "colab_type": "text",
    "id": "sCCs5GkfOh8A"
   },
   "source": [
    "### Notes on the Essay Data\n",
    "\n",
    "<ul>\n",
    "Prior to May 17, 2016, the prompts for the essays were as follows:\n",
    "<li>__project_essay_1:__ \"Introduce us to your classroom\"</li>\n",
    "<li>__project_essay_2:__ \"Tell us more about your students\"</li>\n",
    "<li>__project_essay_3:__ \"Describe how your students will use the materials you're requesting\"</li>\n",
    "<li>__project_essay_3:__ \"Close by sharing why your project will make a difference\"</li>\n",
    "</ul>\n",
    "\n",
    "\n",
    "<ul>\n",
    "Starting on May 17, 2016, the number of essays was reduced from 4 to 2, and the prompts for the first 2 essays were changed to the following:<br>\n",
    "<li>__project_essay_1:__ \"Describe your students: What makes your students special? Specific details about their background, your neighborhood, and your school are all helpful.\"</li>\n",
    "<li>__project_essay_2:__ \"About your project: How will these materials make a difference in your students' learning and improve their school lives?\"</li>\n",
    "<br>For all projects with project_submitted_datetime of 2016-05-17 and later, the values of project_essay_3 and project_essay_4 will be NaN.\n",
    "</ul>\n"
   ]
  },
  {
   "cell_type": "code",
   "execution_count": 1,
   "metadata": {
    "colab": {},
    "colab_type": "code",
    "id": "bq-I4gTiOh8B",
    "outputId": "7fa6df60-d2e1-483b-8b5b-c287060d7dd2"
   },
   "outputs": [],
   "source": [
    "%matplotlib inline\n",
    "import warnings\n",
    "warnings.filterwarnings(\"ignore\")\n",
    "\n",
    "import sqlite3\n",
    "import pandas as pd\n",
    "import numpy as np\n",
    "import nltk\n",
    "import string\n",
    "import matplotlib.pyplot as plt\n",
    "import seaborn as sns\n",
    "from sklearn.feature_extraction.text import TfidfTransformer\n",
    "from sklearn.feature_extraction.text import TfidfVectorizer\n",
    "\n",
    "from sklearn.feature_extraction.text import CountVectorizer\n",
    "from sklearn.metrics import confusion_matrix\n",
    "from sklearn import metrics\n",
    "from sklearn.metrics import roc_curve, auc\n",
    "from nltk.stem.porter import PorterStemmer\n",
    "\n",
    "import re\n",
    "# Tutorial about Python regular expressions: https://pymotw.com/2/re/\n",
    "import string\n",
    "from nltk.corpus import stopwords\n",
    "from nltk.stem import PorterStemmer\n",
    "from nltk.stem.wordnet import WordNetLemmatizer\n",
    "\n",
    "from gensim.models import Word2Vec\n",
    "from gensim.models import KeyedVectors\n",
    "import pickle\n",
    "\n",
    "from tqdm import tqdm\n",
    "import os\n",
    "\n",
    "#from plotly import plotly\n",
    "#import plotly.offline as offline\n",
    "#import plotly.graph_objs as go\n",
    "#offline.init_notebook_mode()\n",
    "from collections import Counter\n"
   ]
  },
  {
   "cell_type": "markdown",
   "metadata": {
    "colab_type": "text",
    "id": "zLR1LA2oOh8L"
   },
   "source": [
    "## 1.1 Reading Data"
   ]
  },
  {
   "cell_type": "code",
   "execution_count": 2,
   "metadata": {
    "colab": {},
    "colab_type": "code",
    "id": "h_7d8KKsOh8M"
   },
   "outputs": [],
   "source": [
    "project_data = pd.read_csv('train_data.csv')\n",
    "resource_data = pd.read_csv('resources.csv')"
   ]
  },
  {
   "cell_type": "code",
   "execution_count": 3,
   "metadata": {
    "colab": {},
    "colab_type": "code",
    "id": "z-37jMkROh8P",
    "outputId": "e1f7c478-cebd-438d-c78e-869b8cb02893"
   },
   "outputs": [
    {
     "name": "stdout",
     "output_type": "stream",
     "text": [
      "Number of data points in train data (109248, 17)\n",
      "--------------------------------------------------\n",
      "The attributes of data : ['Unnamed: 0' 'id' 'teacher_id' 'teacher_prefix' 'school_state'\n",
      " 'project_submitted_datetime' 'project_grade_category'\n",
      " 'project_subject_categories' 'project_subject_subcategories'\n",
      " 'project_title' 'project_essay_1' 'project_essay_2' 'project_essay_3'\n",
      " 'project_essay_4' 'project_resource_summary'\n",
      " 'teacher_number_of_previously_posted_projects' 'project_is_approved']\n"
     ]
    }
   ],
   "source": [
    "print(\"Number of data points in train data\", project_data.shape)\n",
    "print('-'*50)\n",
    "print(\"The attributes of data :\", project_data.columns.values)"
   ]
  },
  {
   "cell_type": "code",
   "execution_count": 4,
   "metadata": {},
   "outputs": [],
   "source": [
    "import random\n",
    "n=109248\n",
    "m=50000\n",
    "p=m/n\n",
    "data_list=[]\n",
    "for i in range(n):\n",
    "    if(random.random()<=p):\n",
    "        data_list.append(project_data.iloc[i])\n",
    "project_data=pd.DataFrame(data=data_list,columns=project_data.columns)        "
   ]
  },
  {
   "cell_type": "markdown",
   "metadata": {},
   "source": [
    "<b><font color=\"red\">Note</font>:</b> Due to Memory issue i used just 50k data points."
   ]
  },
  {
   "cell_type": "code",
   "execution_count": 5,
   "metadata": {},
   "outputs": [
    {
     "data": {
      "text/plain": [
       "(50086, 17)"
      ]
     },
     "execution_count": 5,
     "metadata": {},
     "output_type": "execute_result"
    }
   ],
   "source": [
    "project_data.shape"
   ]
  },
  {
   "cell_type": "code",
   "execution_count": 6,
   "metadata": {
    "colab": {},
    "colab_type": "code",
    "id": "JFvPg4TZOh8U",
    "outputId": "c90140d4-aeca-4315-d468-29bfe1e66fff"
   },
   "outputs": [
    {
     "name": "stdout",
     "output_type": "stream",
     "text": [
      "Number of data points in train data (1541272, 4)\n",
      "['id' 'description' 'quantity' 'price']\n"
     ]
    },
    {
     "data": {
      "text/html": [
       "<div>\n",
       "<style scoped>\n",
       "    .dataframe tbody tr th:only-of-type {\n",
       "        vertical-align: middle;\n",
       "    }\n",
       "\n",
       "    .dataframe tbody tr th {\n",
       "        vertical-align: top;\n",
       "    }\n",
       "\n",
       "    .dataframe thead th {\n",
       "        text-align: right;\n",
       "    }\n",
       "</style>\n",
       "<table border=\"1\" class=\"dataframe\">\n",
       "  <thead>\n",
       "    <tr style=\"text-align: right;\">\n",
       "      <th></th>\n",
       "      <th>id</th>\n",
       "      <th>description</th>\n",
       "      <th>quantity</th>\n",
       "      <th>price</th>\n",
       "    </tr>\n",
       "  </thead>\n",
       "  <tbody>\n",
       "    <tr>\n",
       "      <th>0</th>\n",
       "      <td>p233245</td>\n",
       "      <td>LC652 - Lakeshore Double-Space Mobile Drying Rack</td>\n",
       "      <td>1</td>\n",
       "      <td>149.00</td>\n",
       "    </tr>\n",
       "    <tr>\n",
       "      <th>1</th>\n",
       "      <td>p069063</td>\n",
       "      <td>Bouncy Bands for Desks (Blue support pipes)</td>\n",
       "      <td>3</td>\n",
       "      <td>14.95</td>\n",
       "    </tr>\n",
       "  </tbody>\n",
       "</table>\n",
       "</div>"
      ],
      "text/plain": [
       "        id                                        description  quantity  \\\n",
       "0  p233245  LC652 - Lakeshore Double-Space Mobile Drying Rack         1   \n",
       "1  p069063        Bouncy Bands for Desks (Blue support pipes)         3   \n",
       "\n",
       "    price  \n",
       "0  149.00  \n",
       "1   14.95  "
      ]
     },
     "execution_count": 6,
     "metadata": {},
     "output_type": "execute_result"
    }
   ],
   "source": [
    "print(\"Number of data points in train data\", resource_data.shape)\n",
    "print(resource_data.columns.values)\n",
    "resource_data.head(2)"
   ]
  },
  {
   "cell_type": "markdown",
   "metadata": {
    "colab_type": "text",
    "id": "pTDWxnUOOh8Y"
   },
   "source": [
    "## 1.2 preprocessing of `project_subject_categories`"
   ]
  },
  {
   "cell_type": "code",
   "execution_count": 7,
   "metadata": {
    "colab": {},
    "colab_type": "code",
    "id": "gw_I3RrXOh8Z"
   },
   "outputs": [],
   "source": [
    "catogories = list(project_data['project_subject_categories'].values)\n",
    "# remove special characters from list of strings python: https://stackoverflow.com/a/47301924/4084039\n",
    "\n",
    "# https://www.geeksforgeeks.org/removing-stop-words-nltk-python/\n",
    "# https://stackoverflow.com/questions/23669024/how-to-strip-a-specific-word-from-a-string\n",
    "# https://stackoverflow.com/questions/8270092/remove-all-whitespace-in-a-string-in-python\n",
    "cat_list = []\n",
    "for i in catogories:\n",
    "    temp = \"\"\n",
    "    # consider we have text like this \"Math & Science, Warmth, Care & Hunger\"\n",
    "    for j in i.split(','): # it will split it in three parts [\"Math & Science\", \"Warmth\", \"Care & Hunger\"]\n",
    "        if 'The' in j.split(): # this will split each of the catogory based on space \"Math & Science\"=> \"Math\",\"&\", \"Science\"\n",
    "            j=j.replace('The','') # if we have the words \"The\" we are going to replace it with ''(i.e removing 'The')\n",
    "        j = j.replace(' ','') # we are placeing all the ' '(space) with ''(empty) ex:\"Math & Science\"=>\"Math&Science\"\n",
    "        temp+=j.strip()+\" \" #\" abc \".strip() will return \"abc\", remove the trailing spaces\n",
    "        temp = temp.replace('&','_') # we are replacing the & value into \n",
    "    cat_list.append(temp.strip())\n",
    "    \n",
    "project_data['clean_categories'] = cat_list\n",
    "project_data.drop(['project_subject_categories'], axis=1, inplace=True)\n",
    "\n",
    "from collections import Counter\n",
    "my_counter = Counter()\n",
    "for word in project_data['clean_categories'].values:\n",
    "    my_counter.update(word.split())\n",
    "\n",
    "cat_dict = dict(my_counter)\n",
    "sorted_cat_dict = dict(sorted(cat_dict.items(), key=lambda kv: kv[1]))\n"
   ]
  },
  {
   "cell_type": "markdown",
   "metadata": {
    "colab_type": "text",
    "id": "uPeyOZOvOh8d"
   },
   "source": [
    "## 1.3 preprocessing of `project_subject_subcategories`"
   ]
  },
  {
   "cell_type": "code",
   "execution_count": 8,
   "metadata": {
    "colab": {},
    "colab_type": "code",
    "id": "uA4uC5YxOh8d"
   },
   "outputs": [],
   "source": [
    "sub_catogories = list(project_data['project_subject_subcategories'].values)\n",
    "# remove special characters from list of strings python: https://stackoverflow.com/a/47301924/4084039\n",
    "\n",
    "# https://www.geeksforgeeks.org/removing-stop-words-nltk-python/\n",
    "# https://stackoverflow.com/questions/23669024/how-to-strip-a-specific-word-from-a-string\n",
    "# https://stackoverflow.com/questions/8270092/remove-all-whitespace-in-a-string-in-python\n",
    "\n",
    "sub_cat_list = []\n",
    "for i in sub_catogories:\n",
    "    temp = \"\"\n",
    "    # consider we have text like this \"Math & Science, Warmth, Care & Hunger\"\n",
    "    for j in i.split(','): # it will split it in three parts [\"Math & Science\", \"Warmth\", \"Care & Hunger\"]\n",
    "        if 'The' in j.split(): # this will split each of the catogory based on space \"Math & Science\"=> \"Math\",\"&\", \"Science\"\n",
    "            j=j.replace('The','') # if we have the words \"The\" we are going to replace it with ''(i.e removing 'The')\n",
    "        j = j.replace(' ','') # we are placeing all the ' '(space) with ''(empty) ex:\"Math & Science\"=>\"Math&Science\"\n",
    "        temp +=j.strip()+\" \"#\" abc \".strip() will return \"abc\", remove the trailing spaces\n",
    "        temp = temp.replace('&','_')\n",
    "    sub_cat_list.append(temp.strip())\n",
    "\n",
    "project_data['clean_subcategories'] = sub_cat_list\n",
    "project_data.drop(['project_subject_subcategories'], axis=1, inplace=True)\n",
    "\n",
    "# count of all the words in corpus python: https://stackoverflow.com/a/22898595/4084039\n",
    "my_counter = Counter()\n",
    "for word in project_data['clean_subcategories'].values:\n",
    "    my_counter.update(word.split())\n",
    "    \n",
    "sub_cat_dict = dict(my_counter)\n",
    "sorted_sub_cat_dict = dict(sorted(sub_cat_dict.items(), key=lambda kv: kv[1]))"
   ]
  },
  {
   "cell_type": "markdown",
   "metadata": {
    "colab_type": "text",
    "id": "yWnCu3ufOh8h"
   },
   "source": [
    "## 1.3 Text preprocessing"
   ]
  },
  {
   "cell_type": "code",
   "execution_count": 9,
   "metadata": {
    "colab": {},
    "colab_type": "code",
    "id": "U05smU87Oh8i"
   },
   "outputs": [],
   "source": [
    "# merge two column text dataframe: \n",
    "project_data[\"essay\"] = project_data[\"project_essay_1\"].map(str) +\\\n",
    "                        project_data[\"project_essay_2\"].map(str) + \\\n",
    "                        project_data[\"project_essay_3\"].map(str) + \\\n",
    "                        project_data[\"project_essay_4\"].map(str)"
   ]
  },
  {
   "cell_type": "code",
   "execution_count": 10,
   "metadata": {
    "colab": {},
    "colab_type": "code",
    "id": "AuHJ0TPjOh8k",
    "outputId": "51dd6ce4-2245-409a-a25e-3faada0c7be7"
   },
   "outputs": [
    {
     "data": {
      "text/html": [
       "<div>\n",
       "<style scoped>\n",
       "    .dataframe tbody tr th:only-of-type {\n",
       "        vertical-align: middle;\n",
       "    }\n",
       "\n",
       "    .dataframe tbody tr th {\n",
       "        vertical-align: top;\n",
       "    }\n",
       "\n",
       "    .dataframe thead th {\n",
       "        text-align: right;\n",
       "    }\n",
       "</style>\n",
       "<table border=\"1\" class=\"dataframe\">\n",
       "  <thead>\n",
       "    <tr style=\"text-align: right;\">\n",
       "      <th></th>\n",
       "      <th>Unnamed: 0</th>\n",
       "      <th>id</th>\n",
       "      <th>teacher_id</th>\n",
       "      <th>teacher_prefix</th>\n",
       "      <th>school_state</th>\n",
       "      <th>project_submitted_datetime</th>\n",
       "      <th>project_grade_category</th>\n",
       "      <th>project_title</th>\n",
       "      <th>project_essay_1</th>\n",
       "      <th>project_essay_2</th>\n",
       "      <th>project_essay_3</th>\n",
       "      <th>project_essay_4</th>\n",
       "      <th>project_resource_summary</th>\n",
       "      <th>teacher_number_of_previously_posted_projects</th>\n",
       "      <th>project_is_approved</th>\n",
       "      <th>clean_categories</th>\n",
       "      <th>clean_subcategories</th>\n",
       "      <th>essay</th>\n",
       "    </tr>\n",
       "  </thead>\n",
       "  <tbody>\n",
       "    <tr>\n",
       "      <th>1</th>\n",
       "      <td>140945</td>\n",
       "      <td>p258326</td>\n",
       "      <td>897464ce9ddc600bced1151f324dd63a</td>\n",
       "      <td>Mr.</td>\n",
       "      <td>FL</td>\n",
       "      <td>2016-10-25 09:22:10</td>\n",
       "      <td>Grades 6-8</td>\n",
       "      <td>Wanted: Projector for Hungry Learners</td>\n",
       "      <td>Our students arrive to our school eager to lea...</td>\n",
       "      <td>The projector we need for our school is very c...</td>\n",
       "      <td>NaN</td>\n",
       "      <td>NaN</td>\n",
       "      <td>My students need a projector to help with view...</td>\n",
       "      <td>7</td>\n",
       "      <td>1</td>\n",
       "      <td>History_Civics Health_Sports</td>\n",
       "      <td>Civics_Government TeamSports</td>\n",
       "      <td>Our students arrive to our school eager to lea...</td>\n",
       "    </tr>\n",
       "    <tr>\n",
       "      <th>6</th>\n",
       "      <td>21147</td>\n",
       "      <td>p099819</td>\n",
       "      <td>9b40170bfa65e399981717ee8731efc3</td>\n",
       "      <td>Mrs.</td>\n",
       "      <td>CT</td>\n",
       "      <td>2017-02-17 19:58:56</td>\n",
       "      <td>Grades 6-8</td>\n",
       "      <td>Chromebooks for Special Education Reading Program</td>\n",
       "      <td>My students are a dynamic and very energetic g...</td>\n",
       "      <td>My students are an engaging and active group o...</td>\n",
       "      <td>NaN</td>\n",
       "      <td>NaN</td>\n",
       "      <td>My students need some dependable laptops for d...</td>\n",
       "      <td>1</td>\n",
       "      <td>1</td>\n",
       "      <td>Literacy_Language SpecialNeeds</td>\n",
       "      <td>Literacy SpecialNeeds</td>\n",
       "      <td>My students are a dynamic and very energetic g...</td>\n",
       "    </tr>\n",
       "  </tbody>\n",
       "</table>\n",
       "</div>"
      ],
      "text/plain": [
       "   Unnamed: 0       id                        teacher_id teacher_prefix  \\\n",
       "1      140945  p258326  897464ce9ddc600bced1151f324dd63a            Mr.   \n",
       "6       21147  p099819  9b40170bfa65e399981717ee8731efc3           Mrs.   \n",
       "\n",
       "  school_state project_submitted_datetime project_grade_category  \\\n",
       "1           FL        2016-10-25 09:22:10             Grades 6-8   \n",
       "6           CT        2017-02-17 19:58:56             Grades 6-8   \n",
       "\n",
       "                                       project_title  \\\n",
       "1              Wanted: Projector for Hungry Learners   \n",
       "6  Chromebooks for Special Education Reading Program   \n",
       "\n",
       "                                     project_essay_1  \\\n",
       "1  Our students arrive to our school eager to lea...   \n",
       "6  My students are a dynamic and very energetic g...   \n",
       "\n",
       "                                     project_essay_2 project_essay_3  \\\n",
       "1  The projector we need for our school is very c...             NaN   \n",
       "6  My students are an engaging and active group o...             NaN   \n",
       "\n",
       "  project_essay_4                           project_resource_summary  \\\n",
       "1             NaN  My students need a projector to help with view...   \n",
       "6             NaN  My students need some dependable laptops for d...   \n",
       "\n",
       "   teacher_number_of_previously_posted_projects  project_is_approved  \\\n",
       "1                                             7                    1   \n",
       "6                                             1                    1   \n",
       "\n",
       "                 clean_categories           clean_subcategories  \\\n",
       "1    History_Civics Health_Sports  Civics_Government TeamSports   \n",
       "6  Literacy_Language SpecialNeeds         Literacy SpecialNeeds   \n",
       "\n",
       "                                               essay  \n",
       "1  Our students arrive to our school eager to lea...  \n",
       "6  My students are a dynamic and very energetic g...  "
      ]
     },
     "execution_count": 10,
     "metadata": {},
     "output_type": "execute_result"
    }
   ],
   "source": [
    "project_data.head(2)"
   ]
  },
  {
   "cell_type": "code",
   "execution_count": 11,
   "metadata": {
    "colab": {},
    "colab_type": "code",
    "id": "_-dRYBFlOh8o"
   },
   "outputs": [],
   "source": [
    "#### 1.4.2.3 Using Pretrained Models: TFIDF weighted W2V"
   ]
  },
  {
   "cell_type": "code",
   "execution_count": 12,
   "metadata": {
    "colab": {},
    "colab_type": "code",
    "id": "zjTFpwQ6Oh8s",
    "outputId": "23131400-2935-4ce4-9d58-58967b0f7cdf"
   },
   "outputs": [
    {
     "name": "stdout",
     "output_type": "stream",
     "text": [
      "Our students arrive to our school eager to learn. They are polite, generous, and strive to be the best they can be. They know that with an education, they can succeed in life and help improve on the lives that they have now.\\r\\n\\r\\nOur school focuses on families with low incomes and tries to give each student the education they deserve. While we do not have much, the students use the materials they are given and do the very best they can with them.The projector we need for our school is very crucial for the academic improvement of our students. As technology continues to grow, there are so many resources in the internet that we as teachers use to further the growth of our students. However, our school is very limited with resources - particularly, technology - and without it, we are at a disadvantage. One of the things that could really help our classrooms is a projector.\\r\\n\\r\\n\\r\\nWith a projector, not only is it crucial with instruction, but also for the growth of our students. With a projector, we can show presentations, documentaries, photos of historical land sites, math problems and so much more. With a projector, we can make teaching and learning easier while also targeting the different types of learners we have in our classrooms:  auditory, visual, kinesthetic, etc. \\r\\nnannan\n",
      "==================================================\n",
      "I'm a sixth grade teacher at Achieve Academy in Thornton, CO. We are a STEAM school, which means we teach everything with an emphasis on integrating science, technology, engineering, art, and math. \\r\\n\\r\\nStudents at Achieve are amazing; however, we serve a high-needs, high-poverty area. \\r\\n\\r\\nParents are depending on our school to provide enriching educational opportunities. They require (and deserve!) the best education possible to enable them to close the achievement gap. We come from a diverse background; multiple language are spoken in our school.\\r\\nTechnology is easily the most expensive part of being a STEAM school. We must rely on outside resources to supplement our school district’s abilities to customize learning for our students. We are raising money to purchase eleven Chromebooks to supplement our classrooms' existing technology. With the additional Chromebooks, both sixth grade classes will have one Chromebook per two students, instead of our current one to five ratio.\\r\\n\\r\\nTechnology in the classroom leads to greater student motivation and engagement, individualized instruction, and a greater variety of ways for students to demonstrate their learning. These Chromebooks will allow students to access, practice, and interact with learning standards on a whole new level. Research will go beyond just writing essays. Students will be able to create documentaries or websites to showcase what they learned, and develop 21st-century skills that will ensure they are college and work-force ready. The use of blogs will allow them to practice computer skills while discussing books with kids in other classes or even other states! Math and reading will be more customized to each student's individual learning with websites like MyOn, Google Classroom, and Khan Academy.nannan\n",
      "==================================================\n",
      "My school's student population comes from three different primary schools so there is an influx of new students every year. We are a high poverty and high mobility Title I school in a small town attached to a larger school district. The school is entirely free and reduced lunch status. \\r\\n\\r\\nBeing in urban surrounding, we have very little green space on which to plant a sustainable garden. But we do have a long walkway between 2 buildings that would be perfect spot for an outdoor vegetable garden. \\r\\nThe students in our school we be able to see how vegetable are made available from the planting to harvesting. They can then translate what they are learning in the garden boxes into healthier lifestyle choices. \\r\\nGrowing sustainable food is a cross curricular activity for the students. From building the beds to planting seeds and harvesting full grown vegetable from organic potting soil , students will be using math, reading, science and social studies. What we don't use as a school to feed our students will be given away to local food banks to feed those who are food insecure.nannan\n",
      "==================================================\n",
      "Reading and writing are important skills in a child’s life that determine their ability to effectively communicate and succeed in the world of academia. Reading and writing is a challenge for many of my students. At the end of the year, I want each of them to read and write at or above grade level. \\r\\n\\r\\nMy students are bright, hardworking eighth graders. They are eager to learn and work extremely hard to achieve academic success. Several of my students are reading and writing below grade level. I teach in an inclusive setting and many of my students come from diversified socioeconomic and cultural backgrounds, with a high number of ELL students. I currently teach in a high-needs school district in Memphis, Tennessee that has experienced severe budget cuts, which has limited the resources that we are able to provide to our students.Scholastic Scope magazines provide high interest text in multiple genres, provides writing lessons and opportunities, and asks students to think critically about what they are reading. They will learn to read closely, to analyze text, to write about what they are reading, and to connect what they read to their own lives. Many of the articles in Scholastic Scope also have national, world, and historical content, so students will also gain knowledge of relevant real world events. Students will become better readers, writers, and thinkers with the use of this magazine. Scholastic Scope provides additional practice in reading and writing on topics that students find relevant and engaging. These supplemental materials are directly tied to Common Core standards and they provide an opportunity for practice on important college and career ready skills.nannan\n",
      "==================================================\n"
     ]
    }
   ],
   "source": [
    "# printing some random reviews\n",
    "print(project_data['essay'].values[0])\n",
    "print(\"=\"*50)\n",
    "print(project_data['essay'].values[150])\n",
    "print(\"=\"*50)\n",
    "print(project_data['essay'].values[1000])\n",
    "print(\"=\"*50)\n",
    "print(project_data['essay'].values[19000])\n",
    "print(\"=\"*50)"
   ]
  },
  {
   "cell_type": "code",
   "execution_count": 13,
   "metadata": {
    "colab": {},
    "colab_type": "code",
    "id": "MGdcsQGDOh8v"
   },
   "outputs": [],
   "source": [
    "# https://stackoverflow.com/a/47091490/4084039\n",
    "import re\n",
    "\n",
    "def decontracted(phrase):\n",
    "    # specific\n",
    "    phrase = re.sub(r\"won't\", \"will not\", phrase)\n",
    "    phrase = re.sub(r\"can\\'t\", \"can not\", phrase)\n",
    "\n",
    "    # general\n",
    "    phrase = re.sub(r\"n\\'t\", \" not\", phrase)\n",
    "    phrase = re.sub(r\"\\'re\", \" are\", phrase)\n",
    "    phrase = re.sub(r\"\\'s\", \" is\", phrase)\n",
    "    phrase = re.sub(r\"\\'d\", \" would\", phrase)\n",
    "    phrase = re.sub(r\"\\'ll\", \" will\", phrase)\n",
    "    phrase = re.sub(r\"\\'t\", \" not\", phrase)\n",
    "    phrase = re.sub(r\"\\'ve\", \" have\", phrase)\n",
    "    phrase = re.sub(r\"\\'m\", \" am\", phrase)\n",
    "    return phrase"
   ]
  },
  {
   "cell_type": "code",
   "execution_count": 14,
   "metadata": {
    "colab": {},
    "colab_type": "code",
    "id": "loyUeAjHOh8z",
    "outputId": "81ddaada-e995-4404-ab93-b049c94a85e8"
   },
   "outputs": [
    {
     "name": "stdout",
     "output_type": "stream",
     "text": [
      "Reading and writing are important skills in a child’s life that determine their ability to effectively communicate and succeed in the world of academia. Reading and writing is a challenge for many of my students. At the end of the year, I want each of them to read and write at or above grade level. \\r\\n\\r\\nMy students are bright, hardworking eighth graders. They are eager to learn and work extremely hard to achieve academic success. Several of my students are reading and writing below grade level. I teach in an inclusive setting and many of my students come from diversified socioeconomic and cultural backgrounds, with a high number of ELL students. I currently teach in a high-needs school district in Memphis, Tennessee that has experienced severe budget cuts, which has limited the resources that we are able to provide to our students.Scholastic Scope magazines provide high interest text in multiple genres, provides writing lessons and opportunities, and asks students to think critically about what they are reading. They will learn to read closely, to analyze text, to write about what they are reading, and to connect what they read to their own lives. Many of the articles in Scholastic Scope also have national, world, and historical content, so students will also gain knowledge of relevant real world events. Students will become better readers, writers, and thinkers with the use of this magazine. Scholastic Scope provides additional practice in reading and writing on topics that students find relevant and engaging. These supplemental materials are directly tied to Common Core standards and they provide an opportunity for practice on important college and career ready skills.nannan\n",
      "==================================================\n"
     ]
    }
   ],
   "source": [
    "sent = decontracted(project_data['essay'].values[19000])\n",
    "print(sent)\n",
    "print(\"=\"*50)"
   ]
  },
  {
   "cell_type": "code",
   "execution_count": 15,
   "metadata": {
    "colab": {},
    "colab_type": "code",
    "id": "yLZz_CbMOh84",
    "outputId": "861d8e1d-550c-4861-a3ac-efa430d4ad07"
   },
   "outputs": [
    {
     "name": "stdout",
     "output_type": "stream",
     "text": [
      "Reading and writing are important skills in a child’s life that determine their ability to effectively communicate and succeed in the world of academia. Reading and writing is a challenge for many of my students. At the end of the year, I want each of them to read and write at or above grade level.     My students are bright, hardworking eighth graders. They are eager to learn and work extremely hard to achieve academic success. Several of my students are reading and writing below grade level. I teach in an inclusive setting and many of my students come from diversified socioeconomic and cultural backgrounds, with a high number of ELL students. I currently teach in a high-needs school district in Memphis, Tennessee that has experienced severe budget cuts, which has limited the resources that we are able to provide to our students.Scholastic Scope magazines provide high interest text in multiple genres, provides writing lessons and opportunities, and asks students to think critically about what they are reading. They will learn to read closely, to analyze text, to write about what they are reading, and to connect what they read to their own lives. Many of the articles in Scholastic Scope also have national, world, and historical content, so students will also gain knowledge of relevant real world events. Students will become better readers, writers, and thinkers with the use of this magazine. Scholastic Scope provides additional practice in reading and writing on topics that students find relevant and engaging. These supplemental materials are directly tied to Common Core standards and they provide an opportunity for practice on important college and career ready skills.nannan\n"
     ]
    }
   ],
   "source": [
    "# \\r \\n \\t remove from string python: http://texthandler.com/info/remove-line-breaks-python/\n",
    "sent = sent.replace('\\\\r', ' ')\n",
    "sent = sent.replace('\\\\\"', ' ')\n",
    "sent = sent.replace('\\\\n', ' ')\n",
    "print(sent)"
   ]
  },
  {
   "cell_type": "code",
   "execution_count": 16,
   "metadata": {
    "colab": {},
    "colab_type": "code",
    "id": "QBEg9vnkOh8_",
    "outputId": "ae570fb3-3203-4540-ddfb-a0661e23f7a7"
   },
   "outputs": [
    {
     "name": "stdout",
     "output_type": "stream",
     "text": [
      "Reading and writing are important skills in a child s life that determine their ability to effectively communicate and succeed in the world of academia Reading and writing is a challenge for many of my students At the end of the year I want each of them to read and write at or above grade level My students are bright hardworking eighth graders They are eager to learn and work extremely hard to achieve academic success Several of my students are reading and writing below grade level I teach in an inclusive setting and many of my students come from diversified socioeconomic and cultural backgrounds with a high number of ELL students I currently teach in a high needs school district in Memphis Tennessee that has experienced severe budget cuts which has limited the resources that we are able to provide to our students Scholastic Scope magazines provide high interest text in multiple genres provides writing lessons and opportunities and asks students to think critically about what they are reading They will learn to read closely to analyze text to write about what they are reading and to connect what they read to their own lives Many of the articles in Scholastic Scope also have national world and historical content so students will also gain knowledge of relevant real world events Students will become better readers writers and thinkers with the use of this magazine Scholastic Scope provides additional practice in reading and writing on topics that students find relevant and engaging These supplemental materials are directly tied to Common Core standards and they provide an opportunity for practice on important college and career ready skills nannan\n"
     ]
    }
   ],
   "source": [
    "#remove spacial character: https://stackoverflow.com/a/5843547/4084039\n",
    "sent = re.sub('[^A-Za-z0-9]+', ' ', sent)\n",
    "print(sent)"
   ]
  },
  {
   "cell_type": "code",
   "execution_count": 17,
   "metadata": {
    "colab": {},
    "colab_type": "code",
    "id": "f9xBNXfxOh9F"
   },
   "outputs": [],
   "source": [
    "# https://gist.github.com/sebleier/554280\n",
    "# we are removing the words from the stop words list: 'no', 'nor', 'not'\n",
    "stopwords= ['i', 'me', 'my', 'myself', 'we', 'our', 'ours', 'ourselves', 'you', \"you're\", \"you've\",\\\n",
    "            \"you'll\", \"you'd\", 'your', 'yours', 'yourself', 'yourselves', 'he', 'him', 'his', 'himself', \\\n",
    "            'she', \"she's\", 'her', 'hers', 'herself', 'it', \"it's\", 'its', 'itself', 'they', 'them', 'their',\\\n",
    "            'theirs', 'themselves', 'what', 'which', 'who', 'whom', 'this', 'that', \"that'll\", 'these', 'those', \\\n",
    "            'am', 'is', 'are', 'was', 'were', 'be', 'been', 'being', 'have', 'has', 'had', 'having', 'do', 'does', \\\n",
    "            'did', 'doing', 'a', 'an', 'the', 'and', 'but', 'if', 'or', 'because', 'as', 'until', 'while', 'of', \\\n",
    "            'at', 'by', 'for', 'with', 'about', 'against', 'between', 'into', 'through', 'during', 'before', 'after',\\\n",
    "            'above', 'below', 'to', 'from', 'up', 'down', 'in', 'out', 'on', 'off', 'over', 'under', 'again', 'further',\\\n",
    "            'then', 'once', 'here', 'there', 'when', 'where', 'why', 'how', 'all', 'any', 'both', 'each', 'few', 'more',\\\n",
    "            'most', 'other', 'some', 'such', 'only', 'own', 'same', 'so', 'than', 'too', 'very', \\\n",
    "            's', 't', 'can', 'will', 'just', 'don', \"don't\", 'should', \"should've\", 'now', 'd', 'll', 'm', 'o', 're', \\\n",
    "            've', 'y', 'ain', 'aren', \"aren't\", 'couldn', \"couldn't\", 'didn', \"didn't\", 'doesn', \"doesn't\", 'hadn',\\\n",
    "            \"hadn't\", 'hasn', \"hasn't\", 'haven', \"haven't\", 'isn', \"isn't\", 'ma', 'mightn', \"mightn't\", 'mustn',\\\n",
    "            \"mustn't\", 'needn', \"needn't\", 'shan', \"shan't\", 'shouldn', \"shouldn't\", 'wasn', \"wasn't\", 'weren', \"weren't\", \\\n",
    "            'won', \"won't\", 'wouldn', \"wouldn't\"]"
   ]
  },
  {
   "cell_type": "code",
   "execution_count": 18,
   "metadata": {
    "colab": {},
    "colab_type": "code",
    "id": "ykn0tBvpOh9M",
    "outputId": "86b5e136-bfb4-4881-dda8-6de1752ffb6d"
   },
   "outputs": [
    {
     "name": "stderr",
     "output_type": "stream",
     "text": [
      "100%|██████████| 50086/50086 [01:04<00:00, 778.54it/s] \n"
     ]
    }
   ],
   "source": [
    "# Combining all the above stundents \n",
    "from tqdm import tqdm\n",
    "preprocessed_essays = []\n",
    "# tqdm is for printing the status bar\n",
    "for sentance in tqdm(project_data['essay'].values):\n",
    "    sent = decontracted(sentance)\n",
    "    sent = sent.replace('\\\\r', ' ')\n",
    "    sent = sent.replace('\\\\\"', ' ')\n",
    "    sent = sent.replace('\\\\n', ' ')\n",
    "    sent = re.sub('[^A-Za-z0-9]+', ' ', sent)\n",
    "    # https://gist.github.com/sebleier/554280\n",
    "    sent = ' '.join(e.lower() for e in sent.split() if e.lower() not in stopwords)\n",
    "    preprocessed_essays.append(sent.strip())"
   ]
  },
  {
   "cell_type": "code",
   "execution_count": 19,
   "metadata": {
    "colab": {},
    "colab_type": "code",
    "id": "xQcuOWaaOh9P",
    "outputId": "26a0789c-ccca-4fb5-b6c7-8eba65a400d3"
   },
   "outputs": [
    {
     "data": {
      "text/plain": [
       "'reading writing important skills child life determine ability effectively communicate succeed world academia reading writing challenge many students end year want read write grade level students bright hardworking eighth graders eager learn work extremely hard achieve academic success several students reading writing grade level teach inclusive setting many students come diversified socioeconomic cultural backgrounds high number ell students currently teach high needs school district memphis tennessee experienced severe budget cuts limited resources able provide students scholastic scope magazines provide high interest text multiple genres provides writing lessons opportunities asks students think critically reading learn read closely analyze text write reading connect read lives many articles scholastic scope also national world historical content students also gain knowledge relevant real world events students become better readers writers thinkers use magazine scholastic scope provides additional practice reading writing topics students find relevant engaging supplemental materials directly tied common core standards provide opportunity practice important college career ready skills nannan'"
      ]
     },
     "execution_count": 19,
     "metadata": {},
     "output_type": "execute_result"
    }
   ],
   "source": [
    "# after preprocesing\n",
    "preprocessed_essays[19000]"
   ]
  },
  {
   "cell_type": "markdown",
   "metadata": {
    "colab_type": "text",
    "id": "dATutMFcOh9S"
   },
   "source": [
    "<h2><font color='red'> 1.4 Preprocessing of `project_title`</font></h2>"
   ]
  },
  {
   "cell_type": "code",
   "execution_count": 20,
   "metadata": {
    "colab": {},
    "colab_type": "code",
    "id": "7BrWMw3vOh9T"
   },
   "outputs": [],
   "source": [
    "# similarly you can preprocess the titles also"
   ]
  },
  {
   "cell_type": "code",
   "execution_count": 21,
   "metadata": {},
   "outputs": [
    {
     "name": "stderr",
     "output_type": "stream",
     "text": [
      "100%|██████████| 50086/50086 [00:02<00:00, 20948.06it/s]\n"
     ]
    }
   ],
   "source": [
    "preprocessed_titles = []\n",
    "# tqdm is for printing the status bar\n",
    "for sentance in tqdm(project_data['project_title'].values):\n",
    "    sent = decontracted(sentance)\n",
    "    sent = sent.replace('\\\\r', ' ')\n",
    "    sent = sent.replace('\\\\\"', ' ')\n",
    "    sent = sent.replace('\\\\n', ' ')\n",
    "    sent = re.sub('[^A-Za-z0-9]+', ' ', sent)\n",
    "    # https://gist.github.com/sebleier/554280\n",
    "    sent = ' '.join(e.lower() for e in sent.split() if e.lower() not in stopwords)\n",
    "    preprocessed_titles.append(sent.strip())"
   ]
  },
  {
   "cell_type": "code",
   "execution_count": 22,
   "metadata": {},
   "outputs": [
    {
     "name": "stdout",
     "output_type": "stream",
     "text": [
      "veggies veggies\n",
      "==================================================\n",
      "high interest texts improve reading writing skills\n"
     ]
    }
   ],
   "source": [
    "print(preprocessed_titles[1000])\n",
    "print('='*50)\n",
    "print(preprocessed_titles[19000])"
   ]
  },
  {
   "cell_type": "markdown",
   "metadata": {
    "colab_type": "text",
    "id": "q7zXfuktOh9W"
   },
   "source": [
    "## 1.5 Preparing data for models"
   ]
  },
  {
   "cell_type": "code",
   "execution_count": 23,
   "metadata": {
    "colab": {},
    "colab_type": "code",
    "id": "GWx5ER5XOh9X",
    "outputId": "06f931bc-ff9a-4635-9af7-f65d095a7448"
   },
   "outputs": [
    {
     "data": {
      "text/plain": [
       "Index(['Unnamed: 0', 'id', 'teacher_id', 'teacher_prefix', 'school_state',\n",
       "       'project_submitted_datetime', 'project_grade_category', 'project_title',\n",
       "       'project_essay_1', 'project_essay_2', 'project_essay_3',\n",
       "       'project_essay_4', 'project_resource_summary',\n",
       "       'teacher_number_of_previously_posted_projects', 'project_is_approved',\n",
       "       'clean_categories', 'clean_subcategories', 'essay'],\n",
       "      dtype='object')"
      ]
     },
     "execution_count": 23,
     "metadata": {},
     "output_type": "execute_result"
    }
   ],
   "source": [
    "project_data.columns"
   ]
  },
  {
   "cell_type": "markdown",
   "metadata": {
    "colab_type": "text",
    "id": "j2-sbIVbOh9a"
   },
   "source": [
    "we are going to consider\n",
    "\n",
    "       - school_state : categorical data\n",
    "       - clean_categories : categorical data\n",
    "       - clean_subcategories : categorical data\n",
    "       - project_grade_category : categorical data\n",
    "       - teacher_prefix : categorical data\n",
    "       \n",
    "       - project_title : text data\n",
    "       - text : text data\n",
    "       - project_resource_summary: text data (optinal)\n",
    "       \n",
    "       - quantity : numerical (optinal)\n",
    "       - teacher_number_of_previously_posted_projects : numerical\n",
    "       - price : numerical"
   ]
  },
  {
   "cell_type": "markdown",
   "metadata": {
    "colab_type": "text",
    "id": "OeLLx404Oh9c"
   },
   "source": [
    "### 1.5.1 Vectorizing Categorical data"
   ]
  },
  {
   "cell_type": "markdown",
   "metadata": {
    "colab_type": "text",
    "id": "iRhx2UDvOh9c"
   },
   "source": [
    "- https://www.appliedaicourse.com/course/applied-ai-course-online/lessons/handling-categorical-and-numerical-features/"
   ]
  },
  {
   "cell_type": "code",
   "execution_count": 24,
   "metadata": {
    "colab": {},
    "colab_type": "code",
    "id": "uvq0T_QCOh9l"
   },
   "outputs": [],
   "source": [
    "# you can do the similar thing with state, teacher_prefix and project_grade_category also"
   ]
  },
  {
   "cell_type": "code",
   "execution_count": 25,
   "metadata": {},
   "outputs": [
    {
     "name": "stderr",
     "output_type": "stream",
     "text": [
      "100%|██████████| 50086/50086 [00:01<00:00, 35458.19it/s]\n"
     ]
    },
    {
     "name": "stdout",
     "output_type": "stream",
     "text": [
      "['FL', 'CT', 'CA', 'OK', 'MA', 'FL', 'FL', 'AL', 'TX', 'LA', 'VA', 'IN', 'NC', 'AR', 'WA']\n"
     ]
    }
   ],
   "source": [
    "preprocessed_school_state=[]\n",
    "for state in tqdm(project_data['school_state'].values):\n",
    "    state=decontracted(state)\n",
    "    state=state.replace(\".\",'')\n",
    "    state=state.replace('\"','')\n",
    "    state=state.replace('-','')\n",
    "    state=state.replace('_','')\n",
    "    state=state.replace(' ','')\n",
    "    state=re.sub('[^A-za-z]+','',state)\n",
    "    preprocessed_school_state.append(state.strip())\n",
    "print(preprocessed_school_state[:15])"
   ]
  },
  {
   "cell_type": "code",
   "execution_count": 26,
   "metadata": {},
   "outputs": [
    {
     "name": "stderr",
     "output_type": "stream",
     "text": [
      "100%|██████████| 50086/50086 [00:01<00:00, 35172.88it/s]\n"
     ]
    },
    {
     "name": "stdout",
     "output_type": "stream",
     "text": [
      "['Mr', 'Mrs', 'Ms', 'Mrs', 'Ms', 'Mrs', 'Mrs', 'Mrs', 'Ms', 'Teacher', 'Mrs', 'Mrs', 'Mrs', 'Mrs', 'Mrs']\n"
     ]
    }
   ],
   "source": [
    "preprocessed_teacher_prefix=[]\n",
    "for prefix in tqdm(project_data[\"teacher_prefix\"].map(str).values):\n",
    "    prefix=decontracted(prefix)\n",
    "    prefix=prefix.replace(\".\",'')\n",
    "    prefix=prefix.replace('\"','')\n",
    "    prefix=prefix.replace('-','')\n",
    "    prefix=prefix.replace('_','')\n",
    "    prefix=prefix.replace(' ','')\n",
    "    prefix=re.sub('[^A-Za-z]+','',prefix)\n",
    "    preprocessed_teacher_prefix.append(prefix.strip())\n",
    "print(preprocessed_teacher_prefix[:15])"
   ]
  },
  {
   "cell_type": "code",
   "execution_count": 27,
   "metadata": {},
   "outputs": [
    {
     "name": "stdout",
     "output_type": "stream",
     "text": [
      "['Grades 6-8' 'Grades 6-8' 'Grades PreK-2' ... 'Grades 3-5'\n",
      " 'Grades PreK-2' 'Grades PreK-2']\n"
     ]
    },
    {
     "name": "stderr",
     "output_type": "stream",
     "text": [
      "100%|██████████| 50086/50086 [00:01<00:00, 37048.62it/s]\n"
     ]
    },
    {
     "name": "stdout",
     "output_type": "stream",
     "text": [
      "['Grades68', 'Grades68', 'GradesPreK2', 'GradesPreK2', 'GradesPreK2', 'GradesPreK2', 'GradesPreK2', 'Grades35', 'GradesPreK2', 'Grades35', 'GradesPreK2', 'GradesPreK2', 'GradesPreK2', 'GradesPreK2', 'GradesPreK2', 'GradesPreK2', 'Grades912', 'GradesPreK2', 'Grades35', 'GradesPreK2']\n"
     ]
    }
   ],
   "source": [
    "print(project_data[\"project_grade_category\"].values)\n",
    "preprocessed_project_grade=[]\n",
    "for grade in tqdm(project_data[\"project_grade_category\"].values):\n",
    "    grade=decontracted(grade)\n",
    "    grade=grade.replace('.','')\n",
    "    grade=grade.replace('\"','')\n",
    "    grade=grade.replace('-','')\n",
    "    grade=grade.replace(' ','')\n",
    "    grade=grade.replace('_','')\n",
    "    grade=re.sub('[^A-Za-z0-9]+','',grade)\n",
    "    preprocessed_project_grade.append(grade)\n",
    "print(preprocessed_project_grade[:20])"
   ]
  },
  {
   "cell_type": "markdown",
   "metadata": {
    "colab_type": "text",
    "id": "ACyCSq0LOh9o"
   },
   "source": [
    "### 1.5.2 Vectorizing Text data"
   ]
  },
  {
   "cell_type": "code",
   "execution_count": 28,
   "metadata": {
    "colab": {},
    "colab_type": "code",
    "id": "3v7igAHLOh-J"
   },
   "outputs": [],
   "source": [
    "price_data = resource_data.groupby('id').agg({'price':'sum', 'quantity':'sum'}).reset_index()\n",
    "project_data = pd.merge(project_data, price_data, on='id', how='left')"
   ]
  },
  {
   "cell_type": "markdown",
   "metadata": {
    "colab_type": "text",
    "id": "upVvAD8KOh-S"
   },
   "source": [
    "- we need to merge all the numerical vectors i.e catogorical, text, numerical vectors"
   ]
  },
  {
   "cell_type": "markdown",
   "metadata": {
    "colab_type": "text",
    "id": "6sZvMoQfOh-b"
   },
   "source": [
    "__ Computing Sentiment Scores__"
   ]
  },
  {
   "cell_type": "code",
   "execution_count": 29,
   "metadata": {
    "colab": {},
    "colab_type": "code",
    "id": "8D0ZIhL2Oh-e",
    "outputId": "4ac4b39e-93a0-4468-8d64-94f111265b74"
   },
   "outputs": [
    {
     "name": "stdout",
     "output_type": "stream",
     "text": [
      "neg: 0.01, neu: 0.745, pos: 0.245, compound: 0.9975, "
     ]
    }
   ],
   "source": [
    "\n",
    "import nltk\n",
    "from nltk.sentiment.vader import SentimentIntensityAnalyzer\n",
    "\n",
    "# import nltk\n",
    "# nltk.download('vader_lexicon')\n",
    "\n",
    "sid = SentimentIntensityAnalyzer()\n",
    "\n",
    "for_sentiment = 'a person is a person no matter how small dr seuss i teach the smallest students with the biggest enthusiasm \\\n",
    "for learning my students learn in many different ways using all of our senses and multiple intelligences i use a wide range\\\n",
    "of techniques to help all my students succeed students in my class come from a variety of different backgrounds which makes\\\n",
    "for wonderful sharing of experiences and cultures including native americans our school is a caring community of successful \\\n",
    "learners which can be seen through collaborative student project based learning in and out of the classroom kindergarteners \\\n",
    "in my class love to work with hands on materials and have many different opportunities to practice a skill before it is\\\n",
    "mastered having the social skills to work cooperatively with friends is a crucial aspect of the kindergarten curriculum\\\n",
    "montana is the perfect place to learn about agriculture and nutrition my students love to role play in our pretend kitchen\\\n",
    "in the early childhood classroom i have had several kids ask me can we try cooking with real food i will take their idea \\\n",
    "and create common core cooking lessons where we learn important math and writing concepts while cooking delicious healthy \\\n",
    "food for snack time my students will have a grounded appreciation for the work that went into making the food and knowledge \\\n",
    "of where the ingredients came from as well as how it is healthy for their bodies this project would expand our learning of \\\n",
    "nutrition and agricultural cooking recipes by having us peel our own apples to make homemade applesauce make our own bread \\\n",
    "and mix up healthy plants from our classroom garden in the spring we will also create our own cookbooks to be printed and \\\n",
    "shared with families students will gain math and literature skills as well as a life long enjoyment for healthy cooking \\\n",
    "nannan'\n",
    "ss = sid.polarity_scores(for_sentiment)\n",
    "\n",
    "for k in ss:\n",
    "    print('{0}: {1}, '.format(k, ss[k]), end='')\n",
    "\n",
    "# we can use these 4 things as features/attributes (neg, neu, pos, compound)\n",
    "# neg: 0.0, neu: 0.753, pos: 0.247, compound: 0.93\n",
    "\n"
   ]
  },
  {
   "cell_type": "code",
   "execution_count": 30,
   "metadata": {},
   "outputs": [
    {
     "name": "stdout",
     "output_type": "stream",
     "text": [
      "{'neg': 0.01, 'neu': 0.745, 'pos': 0.245, 'compound': 0.9975}\n"
     ]
    }
   ],
   "source": [
    "print(ss)"
   ]
  },
  {
   "cell_type": "markdown",
   "metadata": {
    "colab_type": "text",
    "id": "Drelm2SEOh-i"
   },
   "source": [
    "# Assignment 5: Logistic Regression"
   ]
  },
  {
   "cell_type": "markdown",
   "metadata": {
    "colab_type": "text",
    "id": "ZPHEJ2gOOh-l"
   },
   "source": [
    "<ol>\n",
    "    <li><strong>[Task-1] Logistic Regression(either SGDClassifier with log loss, or LogisticRegression) on these feature sets</strong>\n",
    "        <ul>\n",
    "            <li><font color='red'>Set 1</font>: categorical, numerical features + project_title(BOW) + preprocessed_eassay (`BOW with bi-grams` with `min_df=10` and `max_features=5000`)</li>\n",
    "            <li><font color='red'>Set 2</font>: categorical, numerical features + project_title(TFIDF)+  preprocessed_eassay (`TFIDF with bi-grams` with `min_df=10` and `max_features=5000`)</li>\n",
    "            <li><font color='red'>Set 3</font>: categorical, numerical features + project_title(AVG W2V)+  preprocessed_eassay (AVG W2V)</li>\n",
    "            <li><font color='red'>Set 4</font>: categorical, numerical features + project_title(TFIDF W2V)+  preprocessed_essay (TFIDF W2V)</li>        </ul>\n",
    "    </li>\n",
    "    <br>\n",
    "    <li><strong>Hyper paramter tuning (find best hyper parameters corresponding the algorithm that you choose)</strong>\n",
    "        <ul>\n",
    "    <li>Find the best hyper parameter which will give the maximum <a href='https://www.appliedaicourse.com/course/applied-ai-course-online/lessons/receiver-operating-characteristic-curve-roc-curve-and-auc-1/'>AUC</a> value</li>\n",
    "    <li>Find the best hyper paramter using k-fold cross validation or simple cross validation data</li>\n",
    "    <li>Use gridsearch cv or randomsearch cv or you can also write your own for loops to do this task of hyperparameter tuning</li>          \n",
    "        </ul>\n",
    "    </li>\n",
    "    <br>\n",
    "    <li><strong>Representation of results</strong>\n",
    "        <ul>\n",
    "    <li>You need to plot the performance of model both on train data and cross validation data for each hyper parameter, like shown in the figure.\n",
    "    <img src='train_cv_auc.JPG' width=300px></li>\n",
    "    <li>Once after you found the best hyper parameter, you need to train your model with it, and find the AUC on test data and plot the ROC curve on both train and test.\n",
    "    <img src='train_test_auc.JPG' width=300px></li>\n",
    "    <li>Along with plotting ROC curve, you need to print the <a href='https://www.appliedaicourse.com/course/applied-ai-course-online/lessons/confusion-matrix-tpr-fpr-fnr-tnr-1/'>confusion matrix</a> with predicted and original labels of test data points. Please visualize your confusion matrices using <a href='https://seaborn.pydata.org/generated/seaborn.heatmap.html'>seaborn heatmaps.\n",
    "    <img src='confusion_matrix.png' width=300px></li>\n",
    "        </ul>\n",
    "    </li>\n",
    "    <br>\n",
    "    <li><strong>[Task-2] Apply Logistic Regression on the below feature set <font color='red'> Set 5 </font> by finding the best hyper parameter as suggested in step 2 and step 3.</strong>\n",
    "    <li> Consider these set of features <font color='red'> Set 5 :</font>\n",
    "            <ul>\n",
    "                <li><strong>school_state</strong> : categorical data</li>\n",
    "                <li><strong>clean_categories</strong> : categorical data</li>\n",
    "                <li><strong>clean_subcategories</strong> : categorical data</li>\n",
    "                <li><strong>project_grade_category</strong> :categorical data</li>\n",
    "                <li><strong>teacher_prefix</strong> : categorical data</li>\n",
    "                <li><strong>quantity</strong> : numerical data</li>\n",
    "                <li><strong>teacher_number_of_previously_posted_projects</strong> : numerical data</li>\n",
    "                <li><strong>price</strong> : numerical data</li>\n",
    "                <li><strong>sentiment score's of each of the essay</strong> : numerical data</li>\n",
    "                <li><strong>number of words in the title</strong> : numerical data</li>\n",
    "                <li><strong>number of words in the combine essays</strong> : numerical data</li>\n",
    "            </ul>\n",
    "        And apply the Logistic regression on these features by finding the best hyper paramter as suggested in step 2 and step 3 <br>\n",
    "    </li>\n",
    "    <br>\n",
    "    <li><strong>Conclusion</strong>\n",
    "        <ul>\n",
    "    <li>You need to summarize the results at the end of the notebook, summarize it in the table format. To print out a table please refer to this prettytable library<a href='http://zetcode.com/python/prettytable/'>  link</a> \n",
    "        <img src='summary.JPG' width=400px>\n",
    "    </li>\n",
    "        </ul>\n",
    "</ol>"
   ]
  },
  {
   "cell_type": "markdown",
   "metadata": {
    "colab_type": "text",
    "id": "g-wL7ps2Oh-m"
   },
   "source": [
    "<h4><font color='red'>Note: Data Leakage</font></h4>\n",
    "\n",
    "1. There will be an issue of data-leakage if you vectorize the entire data and then split it into train/cv/test.\n",
    "2. To avoid the issue of data-leakage, make sure to split your data first and then vectorize it. \n",
    "3. While vectorizing your data, apply the method fit_transform() on you train data, and apply the method transform() on cv/test data.\n",
    "4. For more details please go through this <a href='https://soundcloud.com/applied-ai-course/leakage-bow-and-tfidf'>link.</a>"
   ]
  },
  {
   "cell_type": "markdown",
   "metadata": {
    "colab_type": "text",
    "id": "cy1c6UN2Oh-n"
   },
   "source": [
    "<h1>2. Logistic Regression </h1>"
   ]
  },
  {
   "cell_type": "markdown",
   "metadata": {
    "colab_type": "text",
    "id": "oJIsZrjrOh-o"
   },
   "source": [
    "<h2>2.1 Splitting data into Train and cross validation(or test): Stratified Sampling</h2>"
   ]
  },
  {
   "cell_type": "code",
   "execution_count": 31,
   "metadata": {
    "colab": {},
    "colab_type": "code",
    "id": "Uadl5GfvOh-o"
   },
   "outputs": [],
   "source": [
    "# please write all the code with proper documentation, and proper titles for each subsection\n",
    "# go through documentations and blogs before you start coding\n",
    "# first figure out what to do, and then think about how to do.\n",
    "# reading and understanding error messages will be very much helpfull in debugging your code\n",
    "# when you plot any graph make sure you use \n",
    "    # a. Title, that describes your plot, this will be very helpful to the reader\n",
    "    # b. Legends if needed\n",
    "    # c. X-axis label\n",
    "    # d. Y-axis label"
   ]
  },
  {
   "cell_type": "code",
   "execution_count": 32,
   "metadata": {},
   "outputs": [],
   "source": [
    "dataset_0=project_data[[\"clean_categories\",\"clean_subcategories\",]]\n",
    "dataset_0[\"school_state\"]=preprocessed_school_state\n",
    "dataset_0[\"teacher_prefix\"]=preprocessed_teacher_prefix\n",
    "dataset_0[\"project_grade\"]=preprocessed_project_grade\n",
    "dataset_0[\"price\"]=project_data[\"price\"]\n",
    "dataset_0[\"teacher_number_of_previously_posted_projects\"]=project_data[\"teacher_number_of_previously_posted_projects\"]\n",
    "dataset_0[\"titles\"]=preprocessed_titles\n",
    "dataset_0[\"essays\"]=preprocessed_essays\n",
    "dataset_0[\"quantity\"]=project_data[\"quantity\"]"
   ]
  },
  {
   "cell_type": "code",
   "execution_count": 33,
   "metadata": {},
   "outputs": [],
   "source": [
    "from sklearn.model_selection import train_test_split,GridSearchCV\n",
    "x_train,x_test,y_train,y_test=train_test_split(dataset_0,project_data[\"project_is_approved\"].values,test_size=0.3,random_state=2)"
   ]
  },
  {
   "cell_type": "code",
   "execution_count": 34,
   "metadata": {},
   "outputs": [
    {
     "data": {
      "text/html": [
       "<div>\n",
       "<style scoped>\n",
       "    .dataframe tbody tr th:only-of-type {\n",
       "        vertical-align: middle;\n",
       "    }\n",
       "\n",
       "    .dataframe tbody tr th {\n",
       "        vertical-align: top;\n",
       "    }\n",
       "\n",
       "    .dataframe thead th {\n",
       "        text-align: right;\n",
       "    }\n",
       "</style>\n",
       "<table border=\"1\" class=\"dataframe\">\n",
       "  <thead>\n",
       "    <tr style=\"text-align: right;\">\n",
       "      <th></th>\n",
       "      <th>clean_categories</th>\n",
       "      <th>clean_subcategories</th>\n",
       "      <th>school_state</th>\n",
       "      <th>teacher_prefix</th>\n",
       "      <th>project_grade</th>\n",
       "      <th>price</th>\n",
       "      <th>teacher_number_of_previously_posted_projects</th>\n",
       "      <th>titles</th>\n",
       "      <th>essays</th>\n",
       "      <th>quantity</th>\n",
       "    </tr>\n",
       "  </thead>\n",
       "  <tbody>\n",
       "    <tr>\n",
       "      <th>45800</th>\n",
       "      <td>Literacy_Language</td>\n",
       "      <td>Literacy Literature_Writing</td>\n",
       "      <td>FL</td>\n",
       "      <td>Ms</td>\n",
       "      <td>Grades68</td>\n",
       "      <td>69.99</td>\n",
       "      <td>0</td>\n",
       "      <td>kindle love learning</td>\n",
       "      <td>classroom want empower students create change ...</td>\n",
       "      <td>22</td>\n",
       "    </tr>\n",
       "    <tr>\n",
       "      <th>47921</th>\n",
       "      <td>AppliedLearning</td>\n",
       "      <td>EarlyDevelopment</td>\n",
       "      <td>SC</td>\n",
       "      <td>Mrs</td>\n",
       "      <td>GradesPreK2</td>\n",
       "      <td>399.46</td>\n",
       "      <td>16</td>\n",
       "      <td>rainbows circle time</td>\n",
       "      <td>majority students come lower income background...</td>\n",
       "      <td>1</td>\n",
       "    </tr>\n",
       "    <tr>\n",
       "      <th>41731</th>\n",
       "      <td>AppliedLearning Health_Sports</td>\n",
       "      <td>EarlyDevelopment Health_Wellness</td>\n",
       "      <td>MI</td>\n",
       "      <td>Ms</td>\n",
       "      <td>GradesPreK2</td>\n",
       "      <td>69.95</td>\n",
       "      <td>0</td>\n",
       "      <td>get wobble wiggles</td>\n",
       "      <td>kindergarten classroom belongs us students exp...</td>\n",
       "      <td>5</td>\n",
       "    </tr>\n",
       "    <tr>\n",
       "      <th>13237</th>\n",
       "      <td>AppliedLearning Math_Science</td>\n",
       "      <td>College_CareerPrep Mathematics</td>\n",
       "      <td>CA</td>\n",
       "      <td>Mr</td>\n",
       "      <td>Grades912</td>\n",
       "      <td>593.01</td>\n",
       "      <td>29</td>\n",
       "      <td>college aspiring math students need ricoh printer</td>\n",
       "      <td>teach geometry many students classified risk c...</td>\n",
       "      <td>1</td>\n",
       "    </tr>\n",
       "    <tr>\n",
       "      <th>29784</th>\n",
       "      <td>Literacy_Language Math_Science</td>\n",
       "      <td>Literacy Mathematics</td>\n",
       "      <td>TX</td>\n",
       "      <td>Ms</td>\n",
       "      <td>GradesPreK2</td>\n",
       "      <td>197.83</td>\n",
       "      <td>1</td>\n",
       "      <td>mathematician scientist working action</td>\n",
       "      <td>students extremely excited increase math scien...</td>\n",
       "      <td>52</td>\n",
       "    </tr>\n",
       "  </tbody>\n",
       "</table>\n",
       "</div>"
      ],
      "text/plain": [
       "                     clean_categories               clean_subcategories  \\\n",
       "45800               Literacy_Language       Literacy Literature_Writing   \n",
       "47921                 AppliedLearning                  EarlyDevelopment   \n",
       "41731   AppliedLearning Health_Sports  EarlyDevelopment Health_Wellness   \n",
       "13237    AppliedLearning Math_Science    College_CareerPrep Mathematics   \n",
       "29784  Literacy_Language Math_Science              Literacy Mathematics   \n",
       "\n",
       "      school_state teacher_prefix project_grade   price  \\\n",
       "45800           FL             Ms      Grades68   69.99   \n",
       "47921           SC            Mrs   GradesPreK2  399.46   \n",
       "41731           MI             Ms   GradesPreK2   69.95   \n",
       "13237           CA             Mr     Grades912  593.01   \n",
       "29784           TX             Ms   GradesPreK2  197.83   \n",
       "\n",
       "       teacher_number_of_previously_posted_projects  \\\n",
       "45800                                             0   \n",
       "47921                                            16   \n",
       "41731                                             0   \n",
       "13237                                            29   \n",
       "29784                                             1   \n",
       "\n",
       "                                                  titles  \\\n",
       "45800                               kindle love learning   \n",
       "47921                               rainbows circle time   \n",
       "41731                                 get wobble wiggles   \n",
       "13237  college aspiring math students need ricoh printer   \n",
       "29784             mathematician scientist working action   \n",
       "\n",
       "                                                  essays  quantity  \n",
       "45800  classroom want empower students create change ...        22  \n",
       "47921  majority students come lower income background...         1  \n",
       "41731  kindergarten classroom belongs us students exp...         5  \n",
       "13237  teach geometry many students classified risk c...         1  \n",
       "29784  students extremely excited increase math scien...        52  "
      ]
     },
     "execution_count": 34,
     "metadata": {},
     "output_type": "execute_result"
    }
   ],
   "source": [
    "x_train.head()"
   ]
  },
  {
   "cell_type": "markdown",
   "metadata": {
    "colab_type": "text",
    "id": "PDLSDy4bOh-s"
   },
   "source": [
    "<h2>2.2 Make Data Model Ready: encoding numerical, categorical features</h2>"
   ]
  },
  {
   "cell_type": "code",
   "execution_count": 35,
   "metadata": {
    "colab": {},
    "colab_type": "code",
    "id": "CHCHH_ZyOh-t"
   },
   "outputs": [],
   "source": [
    "# please write all the code with proper documentation, and proper titles for each subsection\n",
    "# go through documentations and blogs before you start coding \n",
    "# first figure out what to do, and then think about how to do.\n",
    "# reading and understanding error messages will be very much helpfull in debugging your code\n",
    "# make sure you featurize train and test data separatly\n",
    "\n",
    "# when you plot any graph make sure you use \n",
    "    # a. Title, that describes your plot, this will be very helpful to the reader\n",
    "    # b. Legends if needed\n",
    "    # c. X-axis label\n",
    "    # d. Y-axis label"
   ]
  },
  {
   "cell_type": "code",
   "execution_count": 36,
   "metadata": {},
   "outputs": [],
   "source": [
    "from sklearn.feature_extraction.text import CountVectorizer,TfidfVectorizer\n",
    "count_vect_1=CountVectorizer(lowercase=False,binary=True)\n",
    "train_categories_one_hot=count_vect_1.fit_transform(x_train[\"clean_categories\"].values)\n",
    "test_categories_one_hot=count_vect_1.transform(x_test[\"clean_categories\"].values)\n",
    "count_vect_2=CountVectorizer(lowercase=False,binary=True)\n",
    "train_subcategories_one_hot=count_vect_2.fit_transform(x_train[\"clean_subcategories\"].values)\n",
    "test_subcategories_one_hot=count_vect_2.transform(x_test[\"clean_subcategories\"].values)\n",
    "count_vect_3=CountVectorizer(lowercase=False,binary=True)\n",
    "train_school_state_one_hot=count_vect_3.fit_transform(x_train[\"school_state\"].values)\n",
    "test_school_state_one_hot=count_vect_3.transform(x_test[\"school_state\"].values)\n",
    "count_vect_4=CountVectorizer(lowercase=False,binary=True)\n",
    "train_teacher_prefix=count_vect_4.fit_transform(x_train[\"teacher_prefix\"].values)\n",
    "test_teacher_prefix=count_vect_4.transform(x_test[\"teacher_prefix\"].values)\n",
    "count_vect_5=CountVectorizer(lowercase=False,binary=True)\n",
    "train_project_grade=count_vect_5.fit_transform(x_train[\"project_grade\"].values)\n",
    "test_project_grade=count_vect_5.transform(x_test[\"project_grade\"].values)\n",
    "\n",
    "from sklearn.preprocessing import StandardScaler\n",
    "\n",
    "scaler_1=StandardScaler()\n",
    "train_price=scaler_1.fit_transform(x_train[\"price\"].values.reshape(-1,1))\n",
    "test_price=scaler_1.transform(x_test[\"price\"].values.reshape(-1,1))\n",
    "scaler_2=StandardScaler()\n",
    "train_teacher_num=scaler_2.fit_transform(x_train[\"teacher_number_of_previously_posted_projects\"].values.reshape(-1,1))\n",
    "test_teacher_num=scaler_2.transform(x_test[\"teacher_number_of_previously_posted_projects\"].values.reshape(-1,1))"
   ]
  },
  {
   "cell_type": "markdown",
   "metadata": {
    "colab_type": "text",
    "id": "P-xc_4G3Oh-w"
   },
   "source": [
    "<h2>2.3 Make Data Model Ready: encoding eassay, and project_title</h2>"
   ]
  },
  {
   "cell_type": "code",
   "execution_count": 37,
   "metadata": {
    "colab": {},
    "colab_type": "code",
    "id": "uiEkXDYWOh-x"
   },
   "outputs": [],
   "source": [
    "# please write all the code with proper documentation, and proper titles for each subsection\n",
    "# go through documentations and blogs before you start coding\n",
    "# first figure out what to do, and then think about how to do.\n",
    "# reading and understanding error messages will be very much helpfull in debugging your code\n",
    "# make sure you featurize train and test data separatly\n",
    "\n",
    "# when you plot any graph make sure you use \n",
    "    # a. Title, that describes your plot, this will be very helpful to the reader\n",
    "    # b. Legends if needed\n",
    "    # c. X-axis label\n",
    "    # d. Y-axis label"
   ]
  },
  {
   "cell_type": "code",
   "execution_count": 38,
   "metadata": {},
   "outputs": [],
   "source": [
    "count_vect_titles=CountVectorizer()\n",
    "train_title_bow=count_vect_titles.fit_transform(x_train[\"titles\"].values)\n",
    "test_title_bow=count_vect_titles.transform(x_test[\"titles\"].values)\n",
    "count_vect_essays=CountVectorizer(ngram_range=(1,2),min_df=10,max_features=5000)\n",
    "train_essay_bow=count_vect_essays.fit_transform(x_train[\"essays\"].values)\n",
    "test_essay_bow=count_vect_essays.transform(x_test[\"essays\"].values)"
   ]
  },
  {
   "cell_type": "code",
   "execution_count": 39,
   "metadata": {},
   "outputs": [],
   "source": [
    "tfidf_vect_titles=TfidfVectorizer()\n",
    "train_title_tfidf=tfidf_vect_titles.fit_transform(x_train[\"titles\"].values)\n",
    "test_title_tfidf=tfidf_vect_titles.transform(x_test[\"titles\"].values)\n",
    "tfidf_vect_essays=TfidfVectorizer(ngram_range=(1,2),min_df=10,max_features=5000)\n",
    "train_essay_tfidf=tfidf_vect_essays.fit_transform(x_train[\"essays\"].values)\n",
    "test_essay_tfidf=tfidf_vect_essays.transform(x_test[\"essays\"].values)"
   ]
  },
  {
   "cell_type": "code",
   "execution_count": 40,
   "metadata": {},
   "outputs": [
    {
     "name": "stderr",
     "output_type": "stream",
     "text": [
      "100%|██████████| 35060/35060 [00:01<00:00, 20206.74it/s]\n"
     ]
    },
    {
     "name": "stdout",
     "output_type": "stream",
     "text": [
      "35060\n",
      "50\n"
     ]
    }
   ],
   "source": [
    "train_title_list=[]\n",
    "for i in x_train[\"titles\"].values:\n",
    "    train_title_list.append(i.split())\n",
    "w2v_model_titles=Word2Vec(train_title_list,min_count=5,size=50)\n",
    "title_w2v_words=w2v_model_titles.wv.vocab\n",
    "\n",
    "train_avg_w2v_vectors_titles = []; # the avg-w2v for each sentence/review is stored in this list\n",
    "for sentence in tqdm(x_train[\"titles\"].values): \n",
    "    vector = np.zeros(50) # as word vectors are of zero length\n",
    "    cnt_words =0; # num of words with a valid vector in the sentence/review\n",
    "    for word in sentence.split(): \n",
    "        if word in title_w2v_words:\n",
    "            vector +=w2v_model_titles.wv[word]\n",
    "            cnt_words += 1\n",
    "    if cnt_words != 0:\n",
    "        vector /= cnt_words\n",
    "    train_avg_w2v_vectors_titles.append(vector)\n",
    "\n",
    "print(len(train_avg_w2v_vectors_titles))\n",
    "print(len(train_avg_w2v_vectors_titles[0]))"
   ]
  },
  {
   "cell_type": "code",
   "execution_count": 41,
   "metadata": {},
   "outputs": [
    {
     "name": "stderr",
     "output_type": "stream",
     "text": [
      "100%|██████████| 15026/15026 [00:00<00:00, 21810.31it/s]\n"
     ]
    },
    {
     "name": "stdout",
     "output_type": "stream",
     "text": [
      "15026\n",
      "50\n"
     ]
    }
   ],
   "source": [
    "\n",
    "test_avg_w2v_vectors_titles = [] # the avg-w2v for each sentence/review is stored in this list\n",
    "for sentence in tqdm(x_test[\"titles\"].values): \n",
    "    vector = np.zeros(50) # as word vectors are of zero length\n",
    "    cnt_words =0; # num of words with a valid vector in the sentence/review\n",
    "    for word in sentence.split(): \n",
    "        if word in title_w2v_words:\n",
    "            vector +=w2v_model_titles.wv[word]\n",
    "            cnt_words += 1\n",
    "    if cnt_words != 0:\n",
    "        vector /= cnt_words\n",
    "    test_avg_w2v_vectors_titles.append(vector)\n",
    "\n",
    "print(len(test_avg_w2v_vectors_titles))\n",
    "print(len(test_avg_w2v_vectors_titles[0]))"
   ]
  },
  {
   "cell_type": "code",
   "execution_count": 42,
   "metadata": {},
   "outputs": [
    {
     "name": "stderr",
     "output_type": "stream",
     "text": [
      "100%|██████████| 35060/35060 [00:46<00:00, 749.58it/s] \n"
     ]
    },
    {
     "name": "stdout",
     "output_type": "stream",
     "text": [
      "35060\n",
      "50\n"
     ]
    }
   ],
   "source": [
    "train_essay_list=[]\n",
    "for i in x_train[\"essays\"].values:\n",
    "    train_essay_list.append(i.split())\n",
    "    \n",
    "w2v_model_essays=Word2Vec(train_essay_list,min_count=10,size=50)\n",
    "\n",
    "essay_w2v_words=w2v_model_essays.wv.vocab\n",
    "train_avg_w2v_vectors_essays = []; # the avg-w2v for each sentence/review is stored in this list\n",
    "for sentence in tqdm(x_train[\"essays\"].values): # for each review/sentence\n",
    "    vector = np.zeros(50) # as word vectors are of zero length\n",
    "    cnt_words =0; # num of words with a valid vector in the sentence/review\n",
    "    for word in sentence.split(): # for each word in a review/sentence\n",
    "        if word in essay_w2v_words:\n",
    "            vector +=w2v_model_essays.wv[word]\n",
    "            cnt_words += 1\n",
    "    if cnt_words != 0:\n",
    "        vector /= cnt_words\n",
    "    train_avg_w2v_vectors_essays.append(vector)\n",
    "\n",
    "print(len(train_avg_w2v_vectors_essays))\n",
    "print(len(train_avg_w2v_vectors_essays[0]))"
   ]
  },
  {
   "cell_type": "code",
   "execution_count": 43,
   "metadata": {},
   "outputs": [
    {
     "name": "stderr",
     "output_type": "stream",
     "text": [
      "100%|██████████| 15026/15026 [00:20<00:00, 723.89it/s]\n"
     ]
    },
    {
     "name": "stdout",
     "output_type": "stream",
     "text": [
      "15026\n",
      "50\n"
     ]
    }
   ],
   "source": [
    "test_avg_w2v_vectors_essays = []; # the avg-w2v for each sentence/review is stored in this list\n",
    "for sentence in tqdm(x_test[\"essays\"].values): # for each review/sentence\n",
    "    vector = np.zeros(50) # as word vectors are of zero length\n",
    "    cnt_words =0; # num of words with a valid vector in the sentence/review\n",
    "    for word in sentence.split(): # for each word in a review/sentence\n",
    "        if word in essay_w2v_words:\n",
    "            vector +=w2v_model_essays.wv[word]\n",
    "            cnt_words += 1\n",
    "    if cnt_words != 0:\n",
    "        vector /= cnt_words\n",
    "    test_avg_w2v_vectors_essays.append(vector)\n",
    "\n",
    "print(len(test_avg_w2v_vectors_essays))\n",
    "print(len(test_avg_w2v_vectors_essays[0]))"
   ]
  },
  {
   "cell_type": "code",
   "execution_count": 44,
   "metadata": {},
   "outputs": [
    {
     "name": "stderr",
     "output_type": "stream",
     "text": [
      "100%|██████████| 35060/35060 [00:02<00:00, 11998.65it/s]\n"
     ]
    },
    {
     "name": "stdout",
     "output_type": "stream",
     "text": [
      "35060\n",
      "50\n"
     ]
    }
   ],
   "source": [
    "tfidf_model_titles = TfidfVectorizer()\n",
    "tfidf_matrix_train_title=tfidf_model_titles.fit_transform(x_train[\"titles\"].values)\n",
    "tfidf_matrix_test_title=tfidf_model_titles.transform(x_test[\"titles\"].values)\n",
    "# we are converting a dictionary with word as a key, and the idf as a value\n",
    "dictionary_t = dict(zip(tfidf_model_titles.get_feature_names(), list(tfidf_model_titles.idf_)))\n",
    "tfidf_words_titles = set(tfidf_model_titles.get_feature_names())\n",
    "\n",
    "train_tfidf_w2v_vectors_titles = []; # the avg-w2v for each sentence/review is stored in this list\n",
    "for sentence in tqdm(x_train[\"titles\"].values): # for each review/sentence\n",
    "    vector = np.zeros(50) # as word vectors are of zero length\n",
    "    tf_idf_weight =0; # num of words with a valid vector in the sentence/review\n",
    "    for word in sentence.split(): # for each word in a review/sentence\n",
    "        if (word in title_w2v_words) and (word in tfidf_words_titles):\n",
    "            vec = w2v_model_titles.wv[word] # getting the vector for each word\n",
    "            # here we are multiplying idf value(dictionary[word]) and the tf value((sentence.count(word)/len(sentence.split())))\n",
    "            tf_idf = dictionary_t[word]*(sentence.count(word)/len(sentence.split())) # getting the tfidf value for each word\n",
    "            vector += (vec * tf_idf) # calculating tfidf weighted w2v\n",
    "            tf_idf_weight += tf_idf\n",
    "    if tf_idf_weight != 0:\n",
    "        vector /= tf_idf_weight\n",
    "    train_tfidf_w2v_vectors_titles.append(vector)\n",
    "\n",
    "print(len(train_tfidf_w2v_vectors_titles))\n",
    "print(len(train_tfidf_w2v_vectors_titles[0]))"
   ]
  },
  {
   "cell_type": "code",
   "execution_count": 45,
   "metadata": {},
   "outputs": [
    {
     "name": "stderr",
     "output_type": "stream",
     "text": [
      "100%|██████████| 15026/15026 [00:01<00:00, 11315.01it/s]\n"
     ]
    },
    {
     "name": "stdout",
     "output_type": "stream",
     "text": [
      "15026\n",
      "50\n"
     ]
    }
   ],
   "source": [
    "test_tfidf_w2v_vectors_titles = []; # the avg-w2v for each sentence/review is stored in this list\n",
    "for sentence in tqdm(x_test[\"titles\"].values): # for each review/sentence\n",
    "    vector = np.zeros(50) # as word vectors are of zero length\n",
    "    tf_idf_weight =0; # num of words with a valid vector in the sentence/review\n",
    "    for word in sentence.split(): # for each word in a review/sentence\n",
    "        if (word in title_w2v_words) and (word in tfidf_words_titles):\n",
    "            vec = w2v_model_titles.wv[word] # getting the vector for each word\n",
    "            # here we are multiplying idf value(dictionary[word]) and the tf value((sentence.count(word)/len(sentence.split())))\n",
    "            tf_idf = dictionary_t[word]*(sentence.count(word)/len(sentence.split())) # getting the tfidf value for each word\n",
    "            vector += (vec * tf_idf) # calculating tfidf weighted w2v\n",
    "            tf_idf_weight += tf_idf\n",
    "    if tf_idf_weight != 0:\n",
    "        vector /= tf_idf_weight\n",
    "    test_tfidf_w2v_vectors_titles.append(vector)\n",
    "\n",
    "print(len(test_tfidf_w2v_vectors_titles))\n",
    "print(len(test_tfidf_w2v_vectors_titles[0]))"
   ]
  },
  {
   "cell_type": "code",
   "execution_count": 46,
   "metadata": {},
   "outputs": [
    {
     "name": "stderr",
     "output_type": "stream",
     "text": [
      "100%|██████████| 35060/35060 [02:53<00:00, 201.65it/s]\n"
     ]
    },
    {
     "name": "stdout",
     "output_type": "stream",
     "text": [
      "35060\n",
      "50\n"
     ]
    }
   ],
   "source": [
    "tfidf_model_essay = TfidfVectorizer()\n",
    "tfidf_matrix_essay_train=tfidf_model_essay.fit_transform(x_train[\"essays\"].values)\n",
    "tfidf_matrix_essay_test=tfidf_model_essay.transform(x_test[\"essays\"].values)\n",
    "# we are converting a dictionary with word as a key, and the idf as a value\n",
    "dictionary_e = dict(zip(tfidf_model_essay.get_feature_names(), list(tfidf_model_essay.idf_)))\n",
    "tfidf_words_essay= set(tfidf_model_essay.get_feature_names())\n",
    "\n",
    "train_tfidf_w2v_vectors_essays = [] # the avg-w2v for each sentence/review is stored in this list\n",
    "for sentence in tqdm(x_train[\"essays\"].values): # for each review/sentence\n",
    "    vector = np.zeros(50) # as word vectors are of zero length\n",
    "    tf_idf_weight =0 # num of words with a valid vector in the sentence/review\n",
    "    for word in sentence.split(): # for each word in a review/sentence\n",
    "        if (word in essay_w2v_words) and (word in tfidf_words_essay):\n",
    "            vec = w2v_model_essays.wv[word] # getting the vector for each word\n",
    "            # here we are multiplying idf value(dictionary[word]) and the tf value((sentence.count(word)/len(sentence.split())))\n",
    "            tf_idf = dictionary_e[word]*(sentence.count(word)/len(sentence.split())) # getting the tfidf value for each word\n",
    "            vector += (vec * tf_idf) # calculating tfidf weighted w2v\n",
    "            tf_idf_weight += tf_idf\n",
    "    if tf_idf_weight != 0:\n",
    "        vector /= tf_idf_weight\n",
    "    train_tfidf_w2v_vectors_essays.append(vector)\n",
    "\n",
    "print(len(train_tfidf_w2v_vectors_essays))\n",
    "print(len(train_tfidf_w2v_vectors_essays[0]))"
   ]
  },
  {
   "cell_type": "code",
   "execution_count": 47,
   "metadata": {},
   "outputs": [
    {
     "name": "stderr",
     "output_type": "stream",
     "text": [
      "100%|██████████| 15026/15026 [01:11<00:00, 211.51it/s]\n"
     ]
    },
    {
     "name": "stdout",
     "output_type": "stream",
     "text": [
      "15026\n",
      "50\n"
     ]
    }
   ],
   "source": [
    "test_tfidf_w2v_vectors_essays = []; # the avg-w2v for each sentence/review is stored in this list\n",
    "for sentence in tqdm(x_test[\"essays\"].values): # for each review/sentence\n",
    "    vector = np.zeros(50) # as word vectors are of zero length\n",
    "    tf_idf_weight =0; # num of words with a valid vector in the sentence/review\n",
    "    for word in sentence.split(): # for each word in a review/sentence\n",
    "        if (word in essay_w2v_words) and (word in tfidf_words_essay):\n",
    "            vec = w2v_model_essays.wv[word] # getting the vector for each word\n",
    "            # here we are multiplying idf value(dictionary[word]) and the tf value((sentence.count(word)/len(sentence.split())))\n",
    "            tf_idf = dictionary_e[word]*(sentence.count(word)/len(sentence.split())) # getting the tfidf value for each word\n",
    "            vector += (vec * tf_idf) # calculating tfidf weighted w2v\n",
    "            tf_idf_weight += tf_idf\n",
    "    if tf_idf_weight != 0:\n",
    "        vector /= tf_idf_weight\n",
    "    test_tfidf_w2v_vectors_essays.append(vector)\n",
    "\n",
    "print(len(test_tfidf_w2v_vectors_essays))\n",
    "print(len(test_tfidf_w2v_vectors_essays[0]))"
   ]
  },
  {
   "cell_type": "markdown",
   "metadata": {
    "colab_type": "text",
    "id": "uw_dfo2ZOh-0"
   },
   "source": [
    "<h2>2.4 Appling Logistic Regression on different kind of featurization as mentioned in the instructions</h2>\n",
    "\n",
    "<br>Apply Logistic Regression on different kind of featurization as mentioned in the instructions\n",
    "<br> For Every model that you work on make sure you do the step 2 and step 3 of instrucations"
   ]
  },
  {
   "cell_type": "markdown",
   "metadata": {
    "colab": {},
    "colab_type": "code",
    "id": "hP1tBLs1Oh-1"
   },
   "source": [
    "# Applying Logistic Regression on Set-1"
   ]
  },
  {
   "cell_type": "code",
   "execution_count": 48,
   "metadata": {},
   "outputs": [],
   "source": [
    "from scipy.sparse import hstack\n",
    "train_set_1=hstack((train_categories_one_hot,train_subcategories_one_hot,train_school_state_one_hot,train_teacher_prefix,train_project_grade,train_price,train_teacher_num,train_title_bow,train_essay_bow))\n",
    "test_set_1=hstack((test_categories_one_hot,test_subcategories_one_hot,test_school_state_one_hot,test_teacher_prefix,test_project_grade,test_price,test_teacher_num,test_title_bow,test_essay_bow))"
   ]
  },
  {
   "cell_type": "code",
   "execution_count": 49,
   "metadata": {},
   "outputs": [
    {
     "data": {
      "text/plain": [
       "GridSearchCV(cv=10, error_score='raise-deprecating',\n",
       "             estimator=LogisticRegression(C=1.0, class_weight='balanced',\n",
       "                                          dual=False, fit_intercept=True,\n",
       "                                          intercept_scaling=1, l1_ratio=None,\n",
       "                                          max_iter=100, multi_class='warn',\n",
       "                                          n_jobs=None, penalty='l2',\n",
       "                                          random_state=None, solver='warn',\n",
       "                                          tol=0.0001, verbose=0,\n",
       "                                          warm_start=False),\n",
       "             iid='warn', n_jobs=None,\n",
       "             param_grid=[{'C': [0.0001, 0.001, 0.01, 0.1, 1, 10, 100, 1000,\n",
       "                                10000]}],\n",
       "             pre_dispatch='2*n_jobs', refit=True, return_train_score=True,\n",
       "             scoring='roc_auc', verbose=0)"
      ]
     },
     "execution_count": 49,
     "metadata": {},
     "output_type": "execute_result"
    }
   ],
   "source": [
    "from sklearn.linear_model import LogisticRegression\n",
    "hyper_parameter=[{\"C\":[10**(-4),10**(-3),10**(-2),10**(-1),10**0,10**1,10**2,10**3,10**4]}]\n",
    "model_1=GridSearchCV(LogisticRegression(class_weight=\"balanced\"),hyper_parameter,cv=10,scoring=\"roc_auc\",return_train_score=True)\n",
    "model_1.fit(train_set_1,y_train)"
   ]
  },
  {
   "cell_type": "code",
   "execution_count": 67,
   "metadata": {},
   "outputs": [
    {
     "name": "stdout",
     "output_type": "stream",
     "text": [
      "LogisticRegression(C=0.001, class_weight='balanced', dual=False,\n",
      "                   fit_intercept=True, intercept_scaling=1, l1_ratio=None,\n",
      "                   max_iter=100, multi_class='warn', n_jobs=None, penalty='l2',\n",
      "                   random_state=None, solver='warn', tol=0.0001, verbose=0,\n",
      "                   warm_start=False)\n",
      "====================================================================================================\n",
      "{'C': 0.001}\n"
     ]
    }
   ],
   "source": [
    "print(model_1.best_estimator_)\n",
    "print(\"=\"*100)\n",
    "print(model_1.best_params_)"
   ]
  },
  {
   "cell_type": "code",
   "execution_count": 76,
   "metadata": {},
   "outputs": [
    {
     "data": {
      "image/png": "[encoded data removed]",
      "text/plain": [
       "<Figure size 432x288 with 1 Axes>"
      ]
     },
     "metadata": {
      "needs_background": "light"
     },
     "output_type": "display_data"
    }
   ],
   "source": [
    "%matplotlib inline\n",
    "parameter=[10**(-4),10**(-3),10**(-2),10**(-1),10**0,10**1,10**2,10**3,10**4]\n",
    "train_score_1=model_1.cv_results_[\"mean_train_score\"]\n",
    "cv_score_1=model_1.cv_results_[\"mean_test_score\"]\n",
    "plt.plot(np.log10(parameter),train_score_1,label=\"Train\")\n",
    "plt.plot(np.log10(parameter),cv_score_1,label=\"Test\")\n",
    "plt.title(\"AUC curve on Train and CV data\")\n",
    "plt.xlabel(\"log10(hyperparameter)\")\n",
    "plt.ylabel(\"AUC value\")\n",
    "plt.grid()\n",
    "plt.legend()\n",
    "plt.show()"
   ]
  },
  {
   "cell_type": "code",
   "execution_count": 71,
   "metadata": {},
   "outputs": [
    {
     "name": "stdout",
     "output_type": "stream",
     "text": [
      "Train AUC score :  0.7831951928636511\n",
      "Test AUC score :  0.7103154974213972\n"
     ]
    }
   ],
   "source": [
    "print(\"Train AUC score : \",model_1.score(train_set_1,y_train))\n",
    "print(\"Test AUC score : \",model_1.score(test_set_1,y_test))"
   ]
  },
  {
   "cell_type": "code",
   "execution_count": 72,
   "metadata": {},
   "outputs": [],
   "source": [
    "from sklearn.metrics import roc_curve,confusion_matrix\n",
    "final_model_1=model_1.best_estimator_\n",
    "final_model_1.fit(train_set_1,y_train)\n",
    "pred_train_1=final_model_1.predict(train_set_1)\n",
    "prob_train_1=final_model_1.predict_proba(train_set_1)\n",
    "pred_test_1=final_model_1.predict(test_set_1)\n",
    "prob_test_1=final_model_1.predict_proba(test_set_1)"
   ]
  },
  {
   "cell_type": "code",
   "execution_count": 113,
   "metadata": {},
   "outputs": [
    {
     "name": "stdout",
     "output_type": "stream",
     "text": [
      "ROC AUC score on Train dataset :  0.7831951928636511\n",
      "Roc auc score on test data :  0.7103154974213972\n"
     ]
    }
   ],
   "source": [
    "from sklearn.metrics import roc_auc_score\n",
    "print(\"ROC AUC score on Train dataset : \",roc_auc_score(y_train,prob_train_1[:,1]))\n",
    "print(\"Roc auc score on test data : \",roc_auc_score(y_test,prob_test_1[:,1]))"
   ]
  },
  {
   "cell_type": "code",
   "execution_count": 73,
   "metadata": {},
   "outputs": [
    {
     "data": {
      "image/png": "[encoded data removed]",
      "text/plain": [
       "<Figure size 432x288 with 1 Axes>"
      ]
     },
     "metadata": {
      "needs_background": "light"
     },
     "output_type": "display_data"
    }
   ],
   "source": [
    "train_fpr_1,train_tpr_1,thresholds=roc_curve(y_train,prob_train_1[:,1])\n",
    "test_fpr_1,test_tpr_1,thresholds=roc_curve(y_test,prob_test_1[:,1])\n",
    "plt.plot(train_fpr_1,train_tpr_1,label=\"Train\")\n",
    "plt.plot(test_fpr_1,test_tpr_1,label=\"Test\")\n",
    "plt.plot([0.0,1.0],[0.0,1.0])\n",
    "plt.title(\"Roc curve of train and test data\")\n",
    "plt.xlabel(\"FPR\")\n",
    "plt.ylabel(\"TPR\")\n",
    "plt.grid()\n",
    "plt.legend()\n",
    "plt.show()"
   ]
  },
  {
   "cell_type": "code",
   "execution_count": 77,
   "metadata": {},
   "outputs": [
    {
     "data": {
      "image/png": "[encoded data removed]",
      "text/plain": [
       "<Figure size 432x288 with 2 Axes>"
      ]
     },
     "metadata": {
      "needs_background": "light"
     },
     "output_type": "display_data"
    },
    {
     "data": {
      "image/png": "[encoded data removed]",
      "text/plain": [
       "<Figure size 432x288 with 2 Axes>"
      ]
     },
     "metadata": {
      "needs_background": "light"
     },
     "output_type": "display_data"
    }
   ],
   "source": [
    "import seaborn as sns\n",
    "\n",
    "sns.heatmap(confusion_matrix(y_train,pred_train_1),annot=True,fmt='d')\n",
    "plt.title(\"Confusion matrix on Trainning data\")\n",
    "plt.show()\n",
    "\n",
    "sns.heatmap(confusion_matrix(y_test,pred_test_1),annot=True,fmt=\"d\")\n",
    "plt.title(\"Confusion matrix on Test data\")\n",
    "plt.show()"
   ]
  },
  {
   "cell_type": "markdown",
   "metadata": {},
   "source": [
    "# Applying Logistic Regression on Set-2"
   ]
  },
  {
   "cell_type": "code",
   "execution_count": 50,
   "metadata": {},
   "outputs": [],
   "source": [
    "train_set_2=hstack((train_categories_one_hot,train_subcategories_one_hot,train_school_state_one_hot,train_teacher_prefix,train_project_grade,train_price,train_teacher_num,train_title_tfidf,train_essay_tfidf))\n",
    "test_set_2=hstack((test_categories_one_hot,test_subcategories_one_hot,test_school_state_one_hot,test_teacher_prefix,test_project_grade,test_price,test_teacher_num,test_title_tfidf,test_essay_tfidf))"
   ]
  },
  {
   "cell_type": "code",
   "execution_count": 51,
   "metadata": {},
   "outputs": [
    {
     "data": {
      "text/plain": [
       "GridSearchCV(cv=10, error_score='raise-deprecating',\n",
       "             estimator=LogisticRegression(C=1.0, class_weight='balanced',\n",
       "                                          dual=False, fit_intercept=True,\n",
       "                                          intercept_scaling=1, l1_ratio=None,\n",
       "                                          max_iter=100, multi_class='warn',\n",
       "                                          n_jobs=None, penalty='l2',\n",
       "                                          random_state=None, solver='warn',\n",
       "                                          tol=0.0001, verbose=0,\n",
       "                                          warm_start=False),\n",
       "             iid='warn', n_jobs=None,\n",
       "             param_grid=[{'C': [0.0001, 0.001, 0.01, 0.1, 1, 10, 100, 1000,\n",
       "                                10000]}],\n",
       "             pre_dispatch='2*n_jobs', refit=True, return_train_score=True,\n",
       "             scoring='roc_auc', verbose=0)"
      ]
     },
     "execution_count": 51,
     "metadata": {},
     "output_type": "execute_result"
    }
   ],
   "source": [
    "model_2=GridSearchCV(LogisticRegression(class_weight=\"balanced\"),hyper_parameter,cv=10,scoring=\"roc_auc\",return_train_score=True)\n",
    "model_2.fit(train_set_2,y_train)"
   ]
  },
  {
   "cell_type": "code",
   "execution_count": 78,
   "metadata": {},
   "outputs": [
    {
     "name": "stdout",
     "output_type": "stream",
     "text": [
      "LogisticRegression(C=0.1, class_weight='balanced', dual=False,\n",
      "                   fit_intercept=True, intercept_scaling=1, l1_ratio=None,\n",
      "                   max_iter=100, multi_class='warn', n_jobs=None, penalty='l2',\n",
      "                   random_state=None, solver='warn', tol=0.0001, verbose=0,\n",
      "                   warm_start=False)\n",
      "==================================================\n",
      "{'C': 0.1}\n",
      "==================================================\n",
      "Train AUC score :  0.8127916998711808\n",
      "==================================================\n",
      "Test AUC score :  0.7001794680320275\n"
     ]
    }
   ],
   "source": [
    "print(model_2.best_estimator_)\n",
    "print(\"=\"*50)\n",
    "print(model_2.best_params_)\n",
    "print(\"=\"*50)\n",
    "print(\"Train AUC score : \",model_2.score(train_set_2,y_train))\n",
    "print(\"=\"*50)\n",
    "print(\"Test AUC score : \",model_2.score(test_set_2,y_test))"
   ]
  },
  {
   "cell_type": "code",
   "execution_count": 82,
   "metadata": {},
   "outputs": [
    {
     "data": {
      "image/png": "[encoded data removed]",
      "text/plain": [
       "<Figure size 432x288 with 1 Axes>"
      ]
     },
     "metadata": {
      "needs_background": "light"
     },
     "output_type": "display_data"
    }
   ],
   "source": [
    "train_score_2=model_2.cv_results_[\"mean_train_score\"]\n",
    "test_score_2=model_2.cv_results_[\"mean_test_score\"]\n",
    "plt.plot(np.log10(parameter),train_score_2,label=\"Train\")\n",
    "plt.plot(np.log10(parameter),test_score_2,label=\"Test\")\n",
    "plt.title(\"AUC curve on Train and CV data\")\n",
    "plt.xlabel(\"log10(hyperparameter)\")\n",
    "plt.ylabel(\"AUC value\")\n",
    "plt.grid()\n",
    "plt.legend()\n",
    "plt.show()"
   ]
  },
  {
   "cell_type": "code",
   "execution_count": 83,
   "metadata": {},
   "outputs": [],
   "source": [
    "final_model_2=model_2.best_estimator_\n",
    "final_model_2.fit(train_set_2,y_train)\n",
    "pred_train_2=final_model_2.predict(train_set_2)\n",
    "prob_train_2=final_model_2.predict_proba(train_set_2)\n",
    "pred_test_2=final_model_2.predict(test_set_2)\n",
    "prob_test_2=final_model_2.predict_proba(test_set_2)"
   ]
  },
  {
   "cell_type": "code",
   "execution_count": 114,
   "metadata": {},
   "outputs": [
    {
     "name": "stdout",
     "output_type": "stream",
     "text": [
      "ROC AUC score on Train dataset :  0.8127916998711808\n",
      "Roc auc score on test data :  0.7001794680320275\n"
     ]
    }
   ],
   "source": [
    "print(\"ROC AUC score on Train dataset : \",roc_auc_score(y_train,prob_train_2[:,1]))\n",
    "print(\"Roc auc score on test data : \",roc_auc_score(y_test,prob_test_2[:,1]))"
   ]
  },
  {
   "cell_type": "code",
   "execution_count": 84,
   "metadata": {},
   "outputs": [
    {
     "data": {
      "image/png": "[encoded data removed]",
      "text/plain": [
       "<Figure size 432x288 with 1 Axes>"
      ]
     },
     "metadata": {
      "needs_background": "light"
     },
     "output_type": "display_data"
    }
   ],
   "source": [
    "train_fpr_2,train_tpr_2,thresholds=roc_curve(y_train,prob_train_2[:,1])\n",
    "test_fpr_2,test_tpr_2,thresholds=roc_curve(y_test,prob_test_2[:,1])\n",
    "plt.plot(train_fpr_2,train_tpr_2,label=\"Train\")\n",
    "plt.plot(test_fpr_2,test_tpr_2,label=\"Test\")\n",
    "plt.title(\"ROC curve on train and CV data\")\n",
    "plt.xlabel(\"FPR\")\n",
    "plt.ylabel(\"TPR\")\n",
    "plt.plot((0,1),(0,1))\n",
    "plt.grid()\n",
    "plt.legend()\n",
    "plt.show()"
   ]
  },
  {
   "cell_type": "code",
   "execution_count": 86,
   "metadata": {},
   "outputs": [
    {
     "data": {
      "image/png": "[encoded data removed]",
      "text/plain": [
       "<Figure size 432x288 with 2 Axes>"
      ]
     },
     "metadata": {
      "needs_background": "light"
     },
     "output_type": "display_data"
    },
    {
     "data": {
      "image/png": "[encoded data removed]",
      "text/plain": [
       "<Figure size 432x288 with 2 Axes>"
      ]
     },
     "metadata": {
      "needs_background": "light"
     },
     "output_type": "display_data"
    }
   ],
   "source": [
    "sns.heatmap(confusion_matrix(y_train,pred_train_2),annot=True,fmt='d')\n",
    "plt.title(\"Confusion matrix on Trainning data\")\n",
    "plt.show()\n",
    "sns.heatmap(confusion_matrix(y_test,pred_test_2),annot=True,fmt=\"d\")\n",
    "plt.title(\"Confusion matrix on Test data\")\n",
    "plt.show()"
   ]
  },
  {
   "cell_type": "markdown",
   "metadata": {},
   "source": [
    "# Applying Logistic Regression on Set-3"
   ]
  },
  {
   "cell_type": "code",
   "execution_count": 52,
   "metadata": {},
   "outputs": [],
   "source": [
    "train_set_3=hstack((train_categories_one_hot,train_subcategories_one_hot,train_school_state_one_hot,train_teacher_prefix,train_project_grade,train_price,train_teacher_num,train_avg_w2v_vectors_titles,train_avg_w2v_vectors_essays))\n",
    "test_set_3=hstack((test_categories_one_hot,test_subcategories_one_hot,test_school_state_one_hot,test_teacher_prefix,test_project_grade,test_price,test_teacher_num,test_avg_w2v_vectors_titles,test_avg_w2v_vectors_essays))"
   ]
  },
  {
   "cell_type": "code",
   "execution_count": 53,
   "metadata": {},
   "outputs": [
    {
     "data": {
      "text/plain": [
       "GridSearchCV(cv=10, error_score='raise-deprecating',\n",
       "             estimator=LogisticRegression(C=1.0, class_weight='balanced',\n",
       "                                          dual=False, fit_intercept=True,\n",
       "                                          intercept_scaling=1, l1_ratio=None,\n",
       "                                          max_iter=100, multi_class='warn',\n",
       "                                          n_jobs=None, penalty='l2',\n",
       "                                          random_state=None, solver='warn',\n",
       "                                          tol=0.0001, verbose=0,\n",
       "                                          warm_start=False),\n",
       "             iid='warn', n_jobs=None,\n",
       "             param_grid=[{'C': [0.0001, 0.001, 0.01, 0.1, 1, 10, 100, 1000,\n",
       "                                10000]}],\n",
       "             pre_dispatch='2*n_jobs', refit=True, return_train_score=True,\n",
       "             scoring='roc_auc', verbose=0)"
      ]
     },
     "execution_count": 53,
     "metadata": {},
     "output_type": "execute_result"
    }
   ],
   "source": [
    "model_3=GridSearchCV(LogisticRegression(class_weight=\"balanced\"),hyper_parameter,cv=10,scoring=\"roc_auc\",return_train_score=True)\n",
    "model_3.fit(train_set_3,y_train)"
   ]
  },
  {
   "cell_type": "code",
   "execution_count": 87,
   "metadata": {},
   "outputs": [
    {
     "name": "stdout",
     "output_type": "stream",
     "text": [
      "LogisticRegression(C=1, class_weight='balanced', dual=False, fit_intercept=True,\n",
      "                   intercept_scaling=1, l1_ratio=None, max_iter=100,\n",
      "                   multi_class='warn', n_jobs=None, penalty='l2',\n",
      "                   random_state=None, solver='warn', tol=0.0001, verbose=0,\n",
      "                   warm_start=False)\n",
      "==================================================\n",
      "{'C': 1}\n",
      "==================================================\n",
      "Train AUC score :  0.7085652548780542\n",
      "Test AUC score :  0.6855450049644954\n"
     ]
    }
   ],
   "source": [
    "print(model_3.best_estimator_)\n",
    "print(\"=\"*50)\n",
    "print(model_3.best_params_)\n",
    "print(\"=\"*50)\n",
    "print(\"Train AUC score : \",model_3.score(train_set_3,y_train))\n",
    "print(\"Test AUC score : \",model_3.score(test_set_3,y_test))"
   ]
  },
  {
   "cell_type": "code",
   "execution_count": 89,
   "metadata": {},
   "outputs": [
    {
     "data": {
      "image/png": "[encoded data removed]",
      "text/plain": [
       "<Figure size 432x288 with 1 Axes>"
      ]
     },
     "metadata": {
      "needs_background": "light"
     },
     "output_type": "display_data"
    }
   ],
   "source": [
    "train_score_3=model_3.cv_results_[\"mean_train_score\"]\n",
    "test_score_3=model_3.cv_results_[\"mean_test_score\"]\n",
    "plt.plot(np.log10(parameter),train_score_3,label=\"Train\")\n",
    "plt.plot(np.log10(parameter),test_score_3,label=\"Test\")\n",
    "plt.title(\"ROC AUC curve score plot on Train and CV data\")\n",
    "plt.xlabel(\"log10(hyperparameter)\")\n",
    "plt.ylabel(\"AUC value\")\n",
    "plt.grid()\n",
    "plt.legend()\n",
    "plt.show()"
   ]
  },
  {
   "cell_type": "code",
   "execution_count": 90,
   "metadata": {},
   "outputs": [],
   "source": [
    "final_model_3=model_3.best_estimator_\n",
    "final_model_3.fit(train_set_3,y_train)\n",
    "pred_train_3=final_model_3.predict(train_set_3)\n",
    "prob_train_3=final_model_3.predict_proba(train_set_3)\n",
    "pred_test_3=final_model_3.predict(test_set_3)\n",
    "prob_test_3=final_model_3.predict_proba(test_set_3)"
   ]
  },
  {
   "cell_type": "code",
   "execution_count": 115,
   "metadata": {},
   "outputs": [
    {
     "name": "stdout",
     "output_type": "stream",
     "text": [
      "ROC AUC score on Train dataset :  0.7085652548780542\n",
      "Roc auc score on test data :  0.6855450049644954\n"
     ]
    }
   ],
   "source": [
    "print(\"ROC AUC score on Train dataset : \",roc_auc_score(y_train,prob_train_3[:,1]))\n",
    "print(\"Roc auc score on test data : \",roc_auc_score(y_test,prob_test_3[:,1]))"
   ]
  },
  {
   "cell_type": "code",
   "execution_count": 91,
   "metadata": {},
   "outputs": [
    {
     "data": {
      "image/png": "[encoded data removed]",
      "text/plain": [
       "<Figure size 432x288 with 1 Axes>"
      ]
     },
     "metadata": {
      "needs_background": "light"
     },
     "output_type": "display_data"
    }
   ],
   "source": [
    "train_fpr_3,train_tpr_3,thresholds=roc_curve(y_train,prob_train_3[:,1])\n",
    "test_fpr_3,test_tpr_3,thresholds=roc_curve(y_test,prob_test_3[:,1])\n",
    "plt.plot(train_fpr_3,train_tpr_3,label=\"Train\")\n",
    "plt.plot(test_fpr_3,test_tpr_3,label=\"Test\")\n",
    "plt.plot((0,1),(0,1))\n",
    "plt.title(\"ROC curve on train and cv data\")\n",
    "plt.xlabel(\"FPR\")\n",
    "plt.ylabel(\"TPR\")\n",
    "plt.grid()\n",
    "plt.legend()\n",
    "plt.show()"
   ]
  },
  {
   "cell_type": "code",
   "execution_count": 92,
   "metadata": {},
   "outputs": [
    {
     "data": {
      "image/png": "[encoded data removed]",
      "text/plain": [
       "<Figure size 432x288 with 2 Axes>"
      ]
     },
     "metadata": {
      "needs_background": "light"
     },
     "output_type": "display_data"
    },
    {
     "data": {
      "image/png": "[encoded data removed]",
      "text/plain": [
       "<Figure size 432x288 with 2 Axes>"
      ]
     },
     "metadata": {
      "needs_background": "light"
     },
     "output_type": "display_data"
    }
   ],
   "source": [
    "sns.heatmap(confusion_matrix(y_train,pred_train_3),annot=True,fmt='d')\n",
    "plt.title(\"Confusion matrix on Trainning data\")\n",
    "plt.show()\n",
    "sns.heatmap(confusion_matrix(y_test,pred_test_3),annot=True,fmt=\"d\")\n",
    "plt.title(\"Confusion matrix on Test data\")\n",
    "plt.show()"
   ]
  },
  {
   "cell_type": "markdown",
   "metadata": {},
   "source": [
    "# Applying Logistic Regression on Set-4"
   ]
  },
  {
   "cell_type": "code",
   "execution_count": 54,
   "metadata": {},
   "outputs": [],
   "source": [
    "train_set_4=hstack((train_categories_one_hot,train_subcategories_one_hot,train_school_state_one_hot,train_teacher_prefix,train_project_grade,train_price,train_teacher_num,train_tfidf_w2v_vectors_titles,train_tfidf_w2v_vectors_essays))\n",
    "test_set_4=hstack((test_categories_one_hot,test_subcategories_one_hot,test_school_state_one_hot,test_teacher_prefix,test_project_grade,test_price,test_teacher_num,test_tfidf_w2v_vectors_titles,test_tfidf_w2v_vectors_essays))"
   ]
  },
  {
   "cell_type": "code",
   "execution_count": 55,
   "metadata": {},
   "outputs": [
    {
     "data": {
      "text/plain": [
       "GridSearchCV(cv=10, error_score='raise-deprecating',\n",
       "             estimator=LogisticRegression(C=1.0, class_weight='balanced',\n",
       "                                          dual=False, fit_intercept=True,\n",
       "                                          intercept_scaling=1, l1_ratio=None,\n",
       "                                          max_iter=100, multi_class='warn',\n",
       "                                          n_jobs=None, penalty='l2',\n",
       "                                          random_state=None, solver='warn',\n",
       "                                          tol=0.0001, verbose=0,\n",
       "                                          warm_start=False),\n",
       "             iid='warn', n_jobs=None,\n",
       "             param_grid=[{'C': [0.0001, 0.001, 0.01, 0.1, 1, 10, 100, 1000,\n",
       "                                10000]}],\n",
       "             pre_dispatch='2*n_jobs', refit=True, return_train_score=True,\n",
       "             scoring='roc_auc', verbose=0)"
      ]
     },
     "execution_count": 55,
     "metadata": {},
     "output_type": "execute_result"
    }
   ],
   "source": [
    "model_4=GridSearchCV(LogisticRegression(class_weight=\"balanced\"),hyper_parameter,cv=10,scoring=\"roc_auc\",return_train_score=True)\n",
    "model_4.fit(train_set_4,y_train)"
   ]
  },
  {
   "cell_type": "code",
   "execution_count": 93,
   "metadata": {},
   "outputs": [
    {
     "name": "stdout",
     "output_type": "stream",
     "text": [
      "LogisticRegression(C=0.01, class_weight='balanced', dual=False,\n",
      "                   fit_intercept=True, intercept_scaling=1, l1_ratio=None,\n",
      "                   max_iter=100, multi_class='warn', n_jobs=None, penalty='l2',\n",
      "                   random_state=None, solver='warn', tol=0.0001, verbose=0,\n",
      "                   warm_start=False)\n",
      "==================================================\n",
      "{'C': 0.01}\n",
      "==================================================\n",
      "Train AUC score :  0.7086129257981632\n",
      "Train AUC score :  0.6918209522749461\n"
     ]
    }
   ],
   "source": [
    "print(model_4.best_estimator_)\n",
    "print(\"=\"*50)\n",
    "print(model_4.best_params_)\n",
    "print('='*50)\n",
    "print(\"Train AUC score : \",model_4.score(train_set_4,y_train))\n",
    "print(\"Train AUC score : \",model_4.score(test_set_4,y_test))"
   ]
  },
  {
   "cell_type": "code",
   "execution_count": 94,
   "metadata": {},
   "outputs": [
    {
     "data": {
      "image/png": "[encoded data removed]",
      "text/plain": [
       "<Figure size 432x288 with 1 Axes>"
      ]
     },
     "metadata": {
      "needs_background": "light"
     },
     "output_type": "display_data"
    }
   ],
   "source": [
    "train_score_4=model_4.cv_results_[\"mean_train_score\"]\n",
    "test_score_4=model_4.cv_results_[\"mean_test_score\"]\n",
    "plt.plot(np.log10(parameter),train_score_4,label=\"Train\")\n",
    "plt.plot(np.log10(parameter),test_score_4,label=\"Test\")\n",
    "plt.title(\"ROC curve plot on Train and CV data\")\n",
    "plt.xlabel(\"log10(hyperparameter)\")\n",
    "plt.ylabel(\"AUC value\")\n",
    "plt.grid()\n",
    "plt.legend()\n",
    "plt.show()"
   ]
  },
  {
   "cell_type": "code",
   "execution_count": 95,
   "metadata": {},
   "outputs": [],
   "source": [
    "final_model_4=model_4.best_estimator_\n",
    "final_model_4.fit(train_set_4,y_train)\n",
    "pred_train_4=final_model_4.predict(train_set_4)\n",
    "prob_train_4=final_model_4.predict_proba(train_set_4)\n",
    "pred_test_4=final_model_4.predict(test_set_4)\n",
    "prob_test_4=final_model_4.predict_proba(test_set_4)"
   ]
  },
  {
   "cell_type": "code",
   "execution_count": 116,
   "metadata": {},
   "outputs": [
    {
     "name": "stdout",
     "output_type": "stream",
     "text": [
      "ROC AUC score on Train dataset :  0.7085652548780542\n",
      "Roc auc score on test data :  0.6855450049644954\n"
     ]
    }
   ],
   "source": [
    "print(\"ROC AUC score on Train dataset : \",roc_auc_score(y_train,prob_train_3[:,1]))\n",
    "print(\"Roc auc score on test data : \",roc_auc_score(y_test,prob_test_3[:,1]))"
   ]
  },
  {
   "cell_type": "code",
   "execution_count": 96,
   "metadata": {},
   "outputs": [
    {
     "data": {
      "image/png": "[encoded data removed]",
      "text/plain": [
       "<Figure size 432x288 with 1 Axes>"
      ]
     },
     "metadata": {
      "needs_background": "light"
     },
     "output_type": "display_data"
    }
   ],
   "source": [
    "train_fpr_4,train_tpr_4,thresholds=roc_curve(y_train,prob_train_4[:,1])\n",
    "test_fpr_4,test_tpr_4,thresholds=roc_curve(y_test,prob_test_4[:,1])\n",
    "plt.plot(train_fpr_4,train_tpr_4,label=\"Train\")\n",
    "plt.plot(test_fpr_4,test_tpr_4,label=\"Test\")\n",
    "plt.plot((0,1),(0,1))\n",
    "plt.title(\"ROC curve on train and cv data\")\n",
    "plt.xlabel(\"FPR\")\n",
    "plt.ylabel(\"TPR\")\n",
    "plt.grid()\n",
    "plt.legend()\n",
    "plt.show()"
   ]
  },
  {
   "cell_type": "code",
   "execution_count": 122,
   "metadata": {},
   "outputs": [
    {
     "data": {
      "image/png": "[encoded data removed]",
      "text/plain": [
       "<Figure size 432x288 with 2 Axes>"
      ]
     },
     "metadata": {
      "needs_background": "light"
     },
     "output_type": "display_data"
    },
    {
     "data": {
      "image/png": "[encoded data removed]",
      "text/plain": [
       "<Figure size 432x288 with 2 Axes>"
      ]
     },
     "metadata": {
      "needs_background": "light"
     },
     "output_type": "display_data"
    }
   ],
   "source": [
    "sns.heatmap(confusion_matrix(y_train,pred_train_4),annot=True,fmt='d')\n",
    "plt.title(\"Confusion matrix on Trainning data\")\n",
    "plt.show()\n",
    "sns.heatmap(confusion_matrix(y_test,pred_test_4),annot=True,fmt=\"d\")\n",
    "plt.title(\"Confusion matrix on Test data\")\n",
    "plt.show()"
   ]
  },
  {
   "cell_type": "markdown",
   "metadata": {
    "colab_type": "text",
    "id": "MFNbcFUZOh-2"
   },
   "source": [
    "<h2>2.5 Logistic Regression with added Features `Set 5` </h2>"
   ]
  },
  {
   "cell_type": "code",
   "execution_count": 56,
   "metadata": {
    "colab": {},
    "colab_type": "code",
    "id": "PfNbQ8PuOh-3"
   },
   "outputs": [],
   "source": [
    "scaler_quantity=StandardScaler()\n",
    "train_quantity_one_hot=scaler_quantity.fit_transform(x_train[\"quantity\"].values.reshape(-1,1))\n",
    "test_quantity_one_hot=scaler_quantity.transform(x_test[\"quantity\"].values.reshape(-1,1))"
   ]
  },
  {
   "cell_type": "code",
   "execution_count": 57,
   "metadata": {},
   "outputs": [],
   "source": [
    "train_title_num=[]\n",
    "for i in x_train[\"titles\"].values:\n",
    "    train_title_num.append(len(i.split()))\n",
    "title_scaler=StandardScaler()\n",
    "train_title_number=title_scaler.fit_transform(np.array(train_title_num).reshape(-1,1))"
   ]
  },
  {
   "cell_type": "code",
   "execution_count": 58,
   "metadata": {},
   "outputs": [],
   "source": [
    "test_title_num=[]\n",
    "for i in x_test[\"titles\"].values:\n",
    "    test_title_num.append(len(i.split()))\n",
    "test_title_number=title_scaler.transform(np.array(test_title_num).reshape(-1,1))    "
   ]
  },
  {
   "cell_type": "code",
   "execution_count": 59,
   "metadata": {},
   "outputs": [],
   "source": [
    "train_essay_num=[]\n",
    "for i in x_train[\"essays\"].values:\n",
    "    train_essay_num.append(len(i.split()))\n",
    "essay_scaler=StandardScaler()\n",
    "train_essay_number=essay_scaler.fit_transform(np.array(train_essay_num).reshape(-1,1))\n",
    "test_essay_num=[]\n",
    "for j in x_test[\"essays\"].values:\n",
    "    test_essay_num.append(len(j.split()))\n",
    "test_essay_number=essay_scaler.transform(np.array(test_essay_num).reshape(-1,1))    "
   ]
  },
  {
   "cell_type": "code",
   "execution_count": 60,
   "metadata": {},
   "outputs": [],
   "source": [
    "import nltk\n",
    "from nltk.sentiment.vader import SentimentIntensityAnalyzer\n",
    "sia_train=SentimentIntensityAnalyzer()\n",
    "train_sentiment_scores_list=[]\n",
    "for essay in x_train[\"essays\"].values:\n",
    "    train_sentiment_scores_list.append(sia_train.polarity_scores(essay))"
   ]
  },
  {
   "cell_type": "code",
   "execution_count": 61,
   "metadata": {},
   "outputs": [],
   "source": [
    "train_sentiment_scores_list_=[]\n",
    "for score in train_sentiment_scores_list:    \n",
    "    train_sentiment_scores_list_.append(list(score.values()))"
   ]
  },
  {
   "cell_type": "code",
   "execution_count": 62,
   "metadata": {},
   "outputs": [],
   "source": [
    "sentiment_scaler=StandardScaler()\n",
    "train_sentiment_scores=sentiment_scaler.fit_transform(np.array(train_sentiment_scores_list_))"
   ]
  },
  {
   "cell_type": "code",
   "execution_count": 63,
   "metadata": {},
   "outputs": [],
   "source": [
    "sia_test=SentimentIntensityAnalyzer()\n",
    "test_sentiment_scores_list=[]\n",
    "for essay in x_test[\"essays\"].values:\n",
    "    test_sentiment_scores_list.append(sia_test.polarity_scores(essay))"
   ]
  },
  {
   "cell_type": "code",
   "execution_count": 64,
   "metadata": {},
   "outputs": [],
   "source": [
    "test_sentiment_scores_list_=[]\n",
    "for score in test_sentiment_scores_list:\n",
    "    test_sentiment_scores_list_.append(list(score.values()))"
   ]
  },
  {
   "cell_type": "code",
   "execution_count": 65,
   "metadata": {},
   "outputs": [],
   "source": [
    "test_sentiment_scores=sentiment_scaler.transform(np.array(test_sentiment_scores_list_))"
   ]
  },
  {
   "cell_type": "code",
   "execution_count": 66,
   "metadata": {},
   "outputs": [],
   "source": [
    "train_set_5=hstack((train_categories_one_hot,train_subcategories_one_hot,train_school_state_one_hot,train_teacher_prefix,train_project_grade,train_price,train_teacher_num,train_quantity_one_hot,train_sentiment_scores,train_title_number,train_essay_number))\n",
    "test_set_5=hstack((test_categories_one_hot,test_subcategories_one_hot,test_school_state_one_hot,test_teacher_prefix,test_project_grade,test_price,test_teacher_num,test_quantity_one_hot,test_sentiment_scores,test_title_number,test_essay_number))"
   ]
  },
  {
   "cell_type": "code",
   "execution_count": 97,
   "metadata": {},
   "outputs": [
    {
     "data": {
      "text/plain": [
       "GridSearchCV(cv=10, error_score='raise-deprecating',\n",
       "             estimator=LogisticRegression(C=1.0, class_weight='balanced',\n",
       "                                          dual=False, fit_intercept=True,\n",
       "                                          intercept_scaling=1, l1_ratio=None,\n",
       "                                          max_iter=100, multi_class='warn',\n",
       "                                          n_jobs=None, penalty='l2',\n",
       "                                          random_state=None, solver='warn',\n",
       "                                          tol=0.0001, verbose=0,\n",
       "                                          warm_start=False),\n",
       "             iid='warn', n_jobs=None,\n",
       "             param_grid=[{'C': [0.0001, 0.001, 0.01, 0.1, 1, 10, 100, 1000,\n",
       "                                10000]}],\n",
       "             pre_dispatch='2*n_jobs', refit=True, return_train_score=True,\n",
       "             scoring='roc_auc', verbose=0)"
      ]
     },
     "execution_count": 97,
     "metadata": {},
     "output_type": "execute_result"
    }
   ],
   "source": [
    "model_5=GridSearchCV(LogisticRegression(class_weight=\"balanced\"),hyper_parameter,cv=10,scoring=\"roc_auc\",return_train_score=True)\n",
    "model_5.fit(train_set_5,y_train)"
   ]
  },
  {
   "cell_type": "code",
   "execution_count": 98,
   "metadata": {},
   "outputs": [
    {
     "name": "stdout",
     "output_type": "stream",
     "text": [
      "LogisticRegression(C=0.001, class_weight='balanced', dual=False,\n",
      "                   fit_intercept=True, intercept_scaling=1, l1_ratio=None,\n",
      "                   max_iter=100, multi_class='warn', n_jobs=None, penalty='l2',\n",
      "                   random_state=None, solver='warn', tol=0.0001, verbose=0,\n",
      "                   warm_start=False)\n",
      "==================================================\n",
      "{'C': 0.001}\n",
      "==================================================\n",
      "Train AUC score :  0.6440550683859975\n",
      "Test AUC score :  0.6418940456788954\n"
     ]
    }
   ],
   "source": [
    "print(model_5.best_estimator_)\n",
    "print('='*50)\n",
    "print(model_5.best_params_)\n",
    "print('='*50)\n",
    "print(\"Train AUC score : \",model_5.score(train_set_5,y_train))\n",
    "print(\"Test AUC score : \",model_5.score(test_set_5,y_test))"
   ]
  },
  {
   "cell_type": "code",
   "execution_count": 99,
   "metadata": {},
   "outputs": [
    {
     "data": {
      "image/png": "[encoded data removed]",
      "text/plain": [
       "<Figure size 432x288 with 1 Axes>"
      ]
     },
     "metadata": {
      "needs_background": "light"
     },
     "output_type": "display_data"
    }
   ],
   "source": [
    "train_score_5=model_5.cv_results_[\"mean_train_score\"]\n",
    "test_score_5=model_5.cv_results_[\"mean_test_score\"]\n",
    "plt.plot(np.log10(parameter),train_score_5,label=\"Train data\")\n",
    "plt.plot(np.log10(parameter),test_score_5,label=\"CV data\")\n",
    "plt.title(\"ROC AUC score curve on Train and CV data\")\n",
    "plt.xlabel(\"log10(hyperparameter)\")\n",
    "plt.ylabel(\"AUC value\")\n",
    "plt.grid()\n",
    "plt.legend()\n",
    "plt.show()"
   ]
  },
  {
   "cell_type": "code",
   "execution_count": 101,
   "metadata": {},
   "outputs": [],
   "source": [
    "final_model_5=model_5.best_estimator_\n",
    "final_model_5.fit(train_set_5,y_train)\n",
    "pred_train_5=final_model_5.predict(train_set_5)\n",
    "prob_train_5=final_model_5.predict_proba(train_set_5)\n",
    "pred_test_5=final_model_5.predict(test_set_5)\n",
    "prob_test_5=final_model_5.predict_proba(test_set_5)"
   ]
  },
  {
   "cell_type": "code",
   "execution_count": 117,
   "metadata": {},
   "outputs": [
    {
     "name": "stdout",
     "output_type": "stream",
     "text": [
      "ROC AUC score on Train dataset :  0.6440550683859975\n",
      "Roc auc score on test data :  0.6418940456788954\n"
     ]
    }
   ],
   "source": [
    "print(\"ROC AUC score on Train dataset : \",roc_auc_score(y_train,prob_train_5[:,1]))\n",
    "print(\"Roc auc score on test data : \",roc_auc_score(y_test,prob_test_5[:,1]))"
   ]
  },
  {
   "cell_type": "code",
   "execution_count": 102,
   "metadata": {},
   "outputs": [
    {
     "data": {
      "image/png": "[encoded data removed]",
      "text/plain": [
       "<Figure size 432x288 with 1 Axes>"
      ]
     },
     "metadata": {
      "needs_background": "light"
     },
     "output_type": "display_data"
    }
   ],
   "source": [
    "train_fpr_5,train_tpr_5,thresholds=roc_curve(y_train,prob_train_5[:,1])\n",
    "test_fpr_5,test_tpr_5,thresholds=roc_curve(y_test,prob_test_5[:,1])\n",
    "plt.plot(train_fpr_5,train_tpr_5,label=\"Train\")\n",
    "plt.plot(test_fpr_5,test_tpr_5,label=\"Test\")\n",
    "plt.plot((0,1),(0,1))\n",
    "plt.title(\"Roc curve on train and test data\")\n",
    "plt.xlabel(\"fpr\")\n",
    "plt.ylabel(\"tpr\")\n",
    "plt.grid()\n",
    "plt.legend()\n",
    "plt.show()"
   ]
  },
  {
   "cell_type": "code",
   "execution_count": 103,
   "metadata": {},
   "outputs": [
    {
     "data": {
      "image/png": "[encoded data removed]",
      "text/plain": [
       "<Figure size 432x288 with 2 Axes>"
      ]
     },
     "metadata": {
      "needs_background": "light"
     },
     "output_type": "display_data"
    },
    {
     "data": {
      "image/png": "[encoded data removed]",
      "text/plain": [
       "<Figure size 432x288 with 2 Axes>"
      ]
     },
     "metadata": {
      "needs_background": "light"
     },
     "output_type": "display_data"
    }
   ],
   "source": [
    "sns.heatmap(confusion_matrix(y_train,pred_train_5),annot=True,fmt='d')\n",
    "plt.title(\"Confusion matrix on Trainning data\")\n",
    "plt.show()\n",
    "sns.heatmap(confusion_matrix(y_test,pred_test_5),annot=True,fmt=\"d\")\n",
    "plt.title(\"Confusion matrix on Test data\")\n",
    "plt.show()"
   ]
  },
  {
   "cell_type": "markdown",
   "metadata": {
    "colab_type": "text",
    "id": "pnpdIsN4Oh-5"
   },
   "source": [
    "<h1>3. Conclusion</h1>"
   ]
  },
  {
   "cell_type": "code",
   "execution_count": 104,
   "metadata": {
    "colab": {},
    "colab_type": "code",
    "id": "tEXoNncrOh-6"
   },
   "outputs": [],
   "source": [
    "from prettytable import PrettyTable"
   ]
  },
  {
   "cell_type": "code",
   "execution_count": 105,
   "metadata": {},
   "outputs": [],
   "source": [
    "Table=PrettyTable()"
   ]
  },
  {
   "cell_type": "code",
   "execution_count": 106,
   "metadata": {},
   "outputs": [
    {
     "name": "stdout",
     "output_type": "stream",
     "text": [
      "+------------------------+---------------------+-----------------+-----------------+----------------+\n",
      "|       Vectorizer       |        Model        | Hyper_Parameter | Train AUC score | Test AUC score |\n",
      "+------------------------+---------------------+-----------------+-----------------+----------------+\n",
      "|          BOW           | Logistic Regression |      0.001      |      0.783      |     0.712      |\n",
      "|         TFIDF          | Logistic Regression |       0.1       |      0.812      |     0.701      |\n",
      "|        avg_w2v         | Logistic Regression |        1        |      0.708      |     0.635      |\n",
      "|       tfidf_w2v        | Logistic Regression |       0.01      |      0.708      |     0.691      |\n",
      "|  Using sentiment score | Logistic Regression |      0.001      |      0.644      |     0.641      |\n",
      "+------------------------+---------------------+-----------------+-----------------+----------------+\n"
     ]
    }
   ],
   "source": [
    "Table.field_names=[\"Vectorizer\",\"Model\",\"Hyper_Parameter\",\"Train AUC score\",\"Test AUC score\"]\n",
    "\n",
    "Table.add_row([\"BOW\",\"Logistic Regression\",0.001,0.783,0.712])\n",
    "Table.add_row([\"TFIDF\",\"Logistic Regression\",0.1,0.812,.701])\n",
    "Table.add_row([\"avg_w2v\",\"Logistic Regression\",1,0.708,0.635])\n",
    "Table.add_row([\"tfidf_w2v\",\"Logistic Regression\",0.01,0.708,0.691])\n",
    "Table.add_row([\" Using sentiment score\",\"Logistic Regression\",0.001,0.644,0.641])\n",
    "print(Table)"
   ]
  },
  {
   "cell_type": "markdown",
   "metadata": {
    "collapsed": true
   },
   "source": [
    "<b>Observations:</b>\n",
    "\n",
    "In this table i observed that Logistic Regression on dataset having BOW vectorizer give maximum Test accuracy 71.2% with C=0.001. And Logistic Regression applied on TFIDF vectorizer gave 70.1% test accuracy with C=0.1"
   ]
  },
  {
   "cell_type": "code",
   "execution_count": null,
   "metadata": {},
   "outputs": [],
   "source": []
  }
 ],
 "metadata": {
  "colab": {
   "collapsed_sections": [
    "OeLLx404Oh9c",
    "ACyCSq0LOh9o",
    "NMbzzOsPOh9p",
    "z2gxZ2ogOh9w",
    "73m5MNjoOh90",
    "pAcQahGBOh99"
   ],
   "name": "5_DonorsChoose_LR.ipynb",
   "provenance": [],
   "version": "0.3.2"
  },
  "kernelspec": {
   "display_name": "Python 3",
   "language": "python",
   "name": "python3"
  },
  "language_info": {
   "codemirror_mode": {
    "name": "ipython",
    "version": 3
   },
   "file_extension": ".py",
   "mimetype": "text/x-python",
   "name": "python",
   "nbconvert_exporter": "python",
   "pygments_lexer": "ipython3",
   "version": "3.7.3"
  }
 },
 "nbformat": 4,
 "nbformat_minor": 1
}
