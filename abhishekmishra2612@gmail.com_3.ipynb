{
  "nbformat": 4,
  "nbformat_minor": 0,
  "metadata": {
    "colab": {
      "name": "abhishekmishra2612@gmail.com_3.ipynb",
      "provenance": [],
      "collapsed_sections": [],
      "machine_shape": "hm"
    },
    "kernelspec": {
      "name": "python3",
      "display_name": "Python 3"
    },
    "language_info": {
      "codemirror_mode": {
        "name": "ipython",
        "version": 3
      },
      "file_extension": ".py",
      "mimetype": "text/x-python",
      "name": "python",
      "nbconvert_exporter": "python",
      "pygments_lexer": "ipython3",
      "version": "3.7.3"
    },
    "accelerator": "GPU"
  },
  "cells": [
    {
      "cell_type": "markdown",
      "metadata": {
        "colab_type": "text",
        "id": "-Ab-X-IrCyl0"
      },
      "source": [
        "# DonorsChoose"
      ]
    },
    {
      "cell_type": "markdown",
      "metadata": {
        "colab_type": "text",
        "id": "etNpzy7rCyl2"
      },
      "source": [
        "<p>\n",
        "DonorsChoose.org receives hundreds of thousands of project proposals each year for classroom projects in need of funding. Right now, a large number of volunteers is needed to manually screen each submission before it's approved to be posted on the DonorsChoose.org website.\n",
        "</p>\n",
        "<p>\n",
        "    Next year, DonorsChoose.org expects to receive close to 500,000 project proposals. As a result, there are three main problems they need to solve:\n",
        "<ul>\n",
        "<li>\n",
        "    How to scale current manual processes and resources to screen 500,000 projects so that they can be posted as quickly and as efficiently as possible</li>\n",
        "    <li>How to increase the consistency of project vetting across different volunteers to improve the experience for teachers</li>\n",
        "    <li>How to focus volunteer time on the applications that need the most assistance</li>\n",
        "    </ul>\n",
        "</p>    \n",
        "<p>\n",
        "The goal of the competition is to predict whether or not a DonorsChoose.org project proposal submitted by a teacher will be approved, using the text of project descriptions as well as additional metadata about the project, teacher, and school. DonorsChoose.org can then use this information to identify projects most likely to need further review before approval.\n",
        "</p>"
      ]
    },
    {
      "cell_type": "markdown",
      "metadata": {
        "colab_type": "text",
        "id": "kO2Kg7TgCyl4"
      },
      "source": [
        "## About the DonorsChoose Data Set\n",
        "\n",
        "The `train.csv` data set provided by DonorsChoose contains the following features:\n",
        "\n",
        "Feature | Description \n",
        "----------|---------------\n",
        "**`project_id`** | A unique identifier for the proposed project. **Example:** `p036502`   \n",
        "**`project_title`**    | Title of the project. **Examples:**<br><ul><li><code>Art Will Make You Happy!</code></li><li><code>First Grade Fun</code></li></ul> \n",
        "**`project_grade_category`** | Grade level of students for which the project is targeted. One of the following enumerated values: <br/><ul><li><code>Grades PreK-2</code></li><li><code>Grades 3-5</code></li><li><code>Grades 6-8</code></li><li><code>Grades 9-12</code></li></ul>  \n",
        " **`project_subject_categories`** | One or more (comma-separated) subject categories for the project from the following enumerated list of values:  <br/><ul><li><code>Applied Learning</code></li><li><code>Care &amp; Hunger</code></li><li><code>Health &amp; Sports</code></li><li><code>History &amp; Civics</code></li><li><code>Literacy &amp; Language</code></li><li><code>Math &amp; Science</code></li><li><code>Music &amp; The Arts</code></li><li><code>Special Needs</code></li><li><code>Warmth</code></li></ul><br/> **Examples:** <br/><ul><li><code>Music &amp; The Arts</code></li><li><code>Literacy &amp; Language, Math &amp; Science</code></li>  \n",
        "  **`school_state`** | State where school is located ([Two-letter U.S. postal code](https://en.wikipedia.org/wiki/List_of_U.S._state_abbreviations#Postal_codes)). **Example:** `WY`\n",
        "**`project_subject_subcategories`** | One or more (comma-separated) subject subcategories for the project. **Examples:** <br/><ul><li><code>Literacy</code></li><li><code>Literature &amp; Writing, Social Sciences</code></li></ul> \n",
        "**`project_resource_summary`** | An explanation of the resources needed for the project. **Example:** <br/><ul><li><code>My students need hands on literacy materials to manage sensory needs!</code</li></ul> \n",
        "**`project_essay_1`**    | First application essay<sup>*</sup>  \n",
        "**`project_essay_2`**    | Second application essay<sup>*</sup> \n",
        "**`project_essay_3`**    | Third application essay<sup>*</sup> \n",
        "**`project_essay_4`**    | Fourth application essay<sup>*</sup> \n",
        "**`project_submitted_datetime`** | Datetime when project application was submitted. **Example:** `2016-04-28 12:43:56.245`   \n",
        "**`teacher_id`** | A unique identifier for the teacher of the proposed project. **Example:** `bdf8baa8fedef6bfeec7ae4ff1c15c56`  \n",
        "**`teacher_prefix`** | Teacher's title. One of the following enumerated values: <br/><ul><li><code>nan</code></li><li><code>Dr.</code></li><li><code>Mr.</code></li><li><code>Mrs.</code></li><li><code>Ms.</code></li><li><code>Teacher.</code></li></ul>  \n",
        "**`teacher_number_of_previously_posted_projects`** | Number of project applications previously submitted by the same teacher. **Example:** `2` \n",
        "\n",
        "<sup>*</sup> See the section <b>Notes on the Essay Data</b> for more details about these features.\n",
        "\n",
        "Additionally, the `resources.csv` data set provides more data about the resources required for each project. Each line in this file represents a resource required by a project:\n",
        "\n",
        "Feature | Description \n",
        "----------|---------------\n",
        "**`id`** | A `project_id` value from the `train.csv` file.  **Example:** `p036502`   \n",
        "**`description`** | Desciption of the resource. **Example:** `Tenor Saxophone Reeds, Box of 25`   \n",
        "**`quantity`** | Quantity of the resource required. **Example:** `3`   \n",
        "**`price`** | Price of the resource required. **Example:** `9.95`   \n",
        "\n",
        "**Note:** Many projects require multiple resources. The `id` value corresponds to a `project_id` in train.csv, so you use it as a key to retrieve all resources needed for a project:\n",
        "\n",
        "The data set contains the following label (the value you will attempt to predict):\n",
        "\n",
        "Label | Description\n",
        "----------|---------------\n",
        "`project_is_approved` | A binary flag indicating whether DonorsChoose approved the project. A value of `0` indicates the project was not approved, and a value of `1` indicates the project was approved."
      ]
    },
    {
      "cell_type": "markdown",
      "metadata": {
        "colab_type": "text",
        "id": "dBGA_YStCyl6"
      },
      "source": [
        "### Notes on the Essay Data\n",
        "\n",
        "<ul>\n",
        "Prior to May 17, 2016, the prompts for the essays were as follows:\n",
        "<li>__project_essay_1:__ \"Introduce us to your classroom\"</li>\n",
        "<li>__project_essay_2:__ \"Tell us more about your students\"</li>\n",
        "<li>__project_essay_3:__ \"Describe how your students will use the materials you're requesting\"</li>\n",
        "<li>__project_essay_3:__ \"Close by sharing why your project will make a difference\"</li>\n",
        "</ul>\n",
        "\n",
        "\n",
        "<ul>\n",
        "Starting on May 17, 2016, the number of essays was reduced from 4 to 2, and the prompts for the first 2 essays were changed to the following:<br>\n",
        "<li>__project_essay_1:__ \"Describe your students: What makes your students special? Specific details about their background, your neighborhood, and your school are all helpful.\"</li>\n",
        "<li>__project_essay_2:__ \"About your project: How will these materials make a difference in your students' learning and improve their school lives?\"</li>\n",
        "<br>For all projects with project_submitted_datetime of 2016-05-17 and later, the values of project_essay_3 and project_essay_4 will be NaN.\n",
        "</ul>\n"
      ]
    },
    {
      "cell_type": "code",
      "metadata": {
        "colab_type": "code",
        "id": "XTrCJ5p9Cyl7",
        "colab": {}
      },
      "source": [
        "%matplotlib inline\n",
        "import warnings\n",
        "warnings.filterwarnings(\"ignore\")\n",
        "\n",
        "import sqlite3\n",
        "import pandas as pd\n",
        "import numpy as np\n",
        "import nltk\n",
        "import string\n",
        "import matplotlib.pyplot as plt\n",
        "import seaborn as sns\n",
        "from sklearn.feature_extraction.text import TfidfTransformer\n",
        "from sklearn.feature_extraction.text import TfidfVectorizer\n",
        "\n",
        "from sklearn.feature_extraction.text import CountVectorizer\n",
        "from sklearn.metrics import confusion_matrix\n",
        "from sklearn import metrics\n",
        "from sklearn.metrics import roc_curve, auc\n",
        "from nltk.stem.porter import PorterStemmer\n",
        "\n",
        "import re\n",
        "# Tutorial about Python regular expressions: https://pymotw.com/2/re/\n",
        "import string\n",
        "from nltk.corpus import stopwords\n",
        "from nltk.stem import PorterStemmer\n",
        "from nltk.stem.wordnet import WordNetLemmatizer\n",
        "\n",
        "from gensim.models import Word2Vec\n",
        "from gensim.models import KeyedVectors\n",
        "import pickle\n",
        "\n",
        "from tqdm import tqdm\n",
        "import os\n",
        "\n",
        "#from plotly import plotly\n",
        "#import plotly.offline as offline\n",
        "#import plotly.graph_objs as go\n",
        "#offline.init_notebook_mode()\n",
        "from collections import Counter"
      ],
      "execution_count": 0,
      "outputs": []
    },
    {
      "cell_type": "code",
      "metadata": {
        "id": "9wJP23DnPcBp",
        "colab_type": "code",
        "outputId": "7921a0f6-6dc6-440c-af41-920964180132",
        "colab": {
          "base_uri": "https://localhost:8080/",
          "height": 122
        }
      },
      "source": [
        "from google.colab import drive\n",
        "drive.mount(\"/content/drive/\")"
      ],
      "execution_count": 3,
      "outputs": [
        {
          "output_type": "stream",
          "text": [
            "Go to this URL in a browser: https://accounts.google.com/o/oauth2/auth?client_id=947318989803-6bn6qk8qdgf4n4g3pfee6491hc0brc4i.apps.googleusercontent.com&redirect_uri=urn%3aietf%3awg%3aoauth%3a2.0%3aoob&response_type=code&scope=email%20https%3a%2f%2fwww.googleapis.com%2fauth%2fdocs.test%20https%3a%2f%2fwww.googleapis.com%2fauth%2fdrive%20https%3a%2f%2fwww.googleapis.com%2fauth%2fdrive.photos.readonly%20https%3a%2f%2fwww.googleapis.com%2fauth%2fpeopleapi.readonly\n",
            "\n",
            "Enter your authorization code:\n",
            "··········\n",
            "Mounted at /content/drive/\n"
          ],
          "name": "stdout"
        }
      ]
    },
    {
      "cell_type": "markdown",
      "metadata": {
        "colab_type": "text",
        "id": "MjknLZQqCymQ"
      },
      "source": [
        "## 1.1 Reading Data"
      ]
    },
    {
      "cell_type": "code",
      "metadata": {
        "colab_type": "code",
        "id": "abtcqBS8CymT",
        "colab": {}
      },
      "source": [
        "Project_Data = pd.read_csv(\"/content/drive/My Drive/Colab Notebooks/train_data.csv\")\n",
        "resource_data = pd.read_csv(\"/content/drive/My Drive/Colab Notebooks/Resources.csv\")"
      ],
      "execution_count": 0,
      "outputs": []
    },
    {
      "cell_type": "code",
      "metadata": {
        "colab_type": "code",
        "id": "Prf2ghjDCymX",
        "outputId": "134651f0-e0f7-4c95-c021-aef15022317a",
        "colab": {
          "base_uri": "https://localhost:8080/",
          "height": 153
        }
      },
      "source": [
        "print(\"Number of data points in train data\", Project_Data.shape)\n",
        "print('-'*50)\n",
        "print(\"The attributes of data :\", Project_Data.columns.values)"
      ],
      "execution_count": 5,
      "outputs": [
        {
          "output_type": "stream",
          "text": [
            "Number of data points in train data (109248, 17)\n",
            "--------------------------------------------------\n",
            "The attributes of data : ['Unnamed: 0' 'id' 'teacher_id' 'teacher_prefix' 'school_state'\n",
            " 'project_submitted_datetime' 'project_grade_category'\n",
            " 'project_subject_categories' 'project_subject_subcategories'\n",
            " 'project_title' 'project_essay_1' 'project_essay_2' 'project_essay_3'\n",
            " 'project_essay_4' 'project_resource_summary'\n",
            " 'teacher_number_of_previously_posted_projects' 'project_is_approved']\n"
          ],
          "name": "stdout"
        }
      ]
    },
    {
      "cell_type": "code",
      "metadata": {
        "id": "B67QJDAnPQ35",
        "colab_type": "code",
        "outputId": "2b98e996-4750-4e3a-9c2b-3e61e1d5ba32",
        "colab": {
          "base_uri": "https://localhost:8080/",
          "height": 34
        }
      },
      "source": [
        "project_data=Project_Data.sample(n=50000)\n",
        "project_data.shape"
      ],
      "execution_count": 6,
      "outputs": [
        {
          "output_type": "execute_result",
          "data": {
            "text/plain": [
              "(50000, 17)"
            ]
          },
          "metadata": {
            "tags": []
          },
          "execution_count": 6
        }
      ]
    },
    {
      "cell_type": "code",
      "metadata": {
        "colab_type": "code",
        "id": "BTGMDQoPCymc",
        "outputId": "89132fb4-b3ae-40dd-8bb4-2e143ce19733",
        "colab": {
          "base_uri": "https://localhost:8080/",
          "height": 496
        }
      },
      "source": [
        "# how to replace elements in list python: https://stackoverflow.com/a/2582163/4084039\n",
        "cols = ['Date' if x=='project_submitted_datetime' else x for x in list(project_data.columns)]\n",
        "\n",
        "\n",
        "#sort dataframe based on time pandas python: https://stackoverflow.com/a/49702492/4084039\n",
        "project_data['Date'] = pd.to_datetime(project_data['project_submitted_datetime'])\n",
        "project_data.drop('project_submitted_datetime', axis=1, inplace=True)\n",
        "project_data.sort_values(by=['Date'], inplace=True)\n",
        "\n",
        "\n",
        "# how to reorder columns pandas python: https://stackoverflow.com/a/13148611/4084039\n",
        "project_data = project_data[cols]\n",
        "\n",
        "\n",
        "project_data.head()"
      ],
      "execution_count": 7,
      "outputs": [
        {
          "output_type": "execute_result",
          "data": {
            "text/html": [
              "<div>\n",
              "<style scoped>\n",
              "    .dataframe tbody tr th:only-of-type {\n",
              "        vertical-align: middle;\n",
              "    }\n",
              "\n",
              "    .dataframe tbody tr th {\n",
              "        vertical-align: top;\n",
              "    }\n",
              "\n",
              "    .dataframe thead th {\n",
              "        text-align: right;\n",
              "    }\n",
              "</style>\n",
              "<table border=\"1\" class=\"dataframe\">\n",
              "  <thead>\n",
              "    <tr style=\"text-align: right;\">\n",
              "      <th></th>\n",
              "      <th>Unnamed: 0</th>\n",
              "      <th>id</th>\n",
              "      <th>teacher_id</th>\n",
              "      <th>teacher_prefix</th>\n",
              "      <th>school_state</th>\n",
              "      <th>Date</th>\n",
              "      <th>project_grade_category</th>\n",
              "      <th>project_subject_categories</th>\n",
              "      <th>project_subject_subcategories</th>\n",
              "      <th>project_title</th>\n",
              "      <th>project_essay_1</th>\n",
              "      <th>project_essay_2</th>\n",
              "      <th>project_essay_3</th>\n",
              "      <th>project_essay_4</th>\n",
              "      <th>project_resource_summary</th>\n",
              "      <th>teacher_number_of_previously_posted_projects</th>\n",
              "      <th>project_is_approved</th>\n",
              "    </tr>\n",
              "  </thead>\n",
              "  <tbody>\n",
              "    <tr>\n",
              "      <th>51140</th>\n",
              "      <td>74477</td>\n",
              "      <td>p189804</td>\n",
              "      <td>4a97f3a390bfe21b99cf5e2b81981c73</td>\n",
              "      <td>Mrs.</td>\n",
              "      <td>CA</td>\n",
              "      <td>2016-04-27 00:46:53</td>\n",
              "      <td>Grades PreK-2</td>\n",
              "      <td>Literacy &amp; Language</td>\n",
              "      <td>Literacy</td>\n",
              "      <td>Mobile Learning with a Mobile Listening Center</td>\n",
              "      <td>Having a class of 24 students comes with diver...</td>\n",
              "      <td>I have a class of twenty-four kindergarten stu...</td>\n",
              "      <td>By having a mobile listening and storage cente...</td>\n",
              "      <td>A mobile listening center will help keep equip...</td>\n",
              "      <td>My students need a mobile listening center to ...</td>\n",
              "      <td>10</td>\n",
              "      <td>1</td>\n",
              "    </tr>\n",
              "    <tr>\n",
              "      <th>23374</th>\n",
              "      <td>72317</td>\n",
              "      <td>p087808</td>\n",
              "      <td>598621c141cda5fb184ee7e8ccdd3fcc</td>\n",
              "      <td>Ms.</td>\n",
              "      <td>CA</td>\n",
              "      <td>2016-04-27 02:04:15</td>\n",
              "      <td>Grades PreK-2</td>\n",
              "      <td>Literacy &amp; Language</td>\n",
              "      <td>ESL, Literacy</td>\n",
              "      <td>iPad for Learners</td>\n",
              "      <td>Never has society so rapidly changed. Technolo...</td>\n",
              "      <td>Our Language Arts and Social Justice Magnet Sc...</td>\n",
              "      <td>\\\"Is it my turn, Ms. K? When am I going to be ...</td>\n",
              "      <td>By donating to this project, you will give my ...</td>\n",
              "      <td>My students need 1 ipad mini.</td>\n",
              "      <td>127</td>\n",
              "      <td>1</td>\n",
              "    </tr>\n",
              "    <tr>\n",
              "      <th>86551</th>\n",
              "      <td>114684</td>\n",
              "      <td>p049177</td>\n",
              "      <td>679f50f18ce50aabcc602d17f7627206</td>\n",
              "      <td>Mrs.</td>\n",
              "      <td>HI</td>\n",
              "      <td>2016-04-27 02:18:58</td>\n",
              "      <td>Grades 3-5</td>\n",
              "      <td>Math &amp; Science</td>\n",
              "      <td>Applied Sciences, Mathematics</td>\n",
              "      <td>Dash and Dot Robotic Duo Needed</td>\n",
              "      <td>Do you remember the first time you saw Star Wa...</td>\n",
              "      <td>I am a teacher/librarian at an elementary scho...</td>\n",
              "      <td>My students need a Dash and Dot robot duo to e...</td>\n",
              "      <td>These robots incorporate the STEM subject area...</td>\n",
              "      <td>My students need a Dash &amp; Dot Pack and Wonder ...</td>\n",
              "      <td>41</td>\n",
              "      <td>1</td>\n",
              "    </tr>\n",
              "    <tr>\n",
              "      <th>7176</th>\n",
              "      <td>79341</td>\n",
              "      <td>p091436</td>\n",
              "      <td>bb2599c4a114d211b3381abe9f899bf8</td>\n",
              "      <td>Mrs.</td>\n",
              "      <td>OH</td>\n",
              "      <td>2016-04-27 07:24:47</td>\n",
              "      <td>Grades PreK-2</td>\n",
              "      <td>Math &amp; Science, Applied Learning</td>\n",
              "      <td>Applied Sciences, Early Development</td>\n",
              "      <td>Robots are Taking over 2nd Grade</td>\n",
              "      <td>Computer coding and robotics, my second grader...</td>\n",
              "      <td>We are a small, rural school in Northwest Ohio...</td>\n",
              "      <td>We have a new technology teacher to our distri...</td>\n",
              "      <td>You can help this dream of ours become a reali...</td>\n",
              "      <td>My students need a robot mouse STEM activity s...</td>\n",
              "      <td>72</td>\n",
              "      <td>1</td>\n",
              "    </tr>\n",
              "    <tr>\n",
              "      <th>70898</th>\n",
              "      <td>128817</td>\n",
              "      <td>p239087</td>\n",
              "      <td>11a60ddd63717c59fdd5a13ea92d34aa</td>\n",
              "      <td>Mrs.</td>\n",
              "      <td>KY</td>\n",
              "      <td>2016-04-27 08:02:22</td>\n",
              "      <td>Grades 3-5</td>\n",
              "      <td>Math &amp; Science, Literacy &amp; Language</td>\n",
              "      <td>Environmental Science, Literacy</td>\n",
              "      <td>Time for Kids....To Learn About Science and more!</td>\n",
              "      <td>I teach 4th grade math, writing, social studie...</td>\n",
              "      <td>My 4th grade students are excited learners and...</td>\n",
              "      <td>Very few students have materials at home to he...</td>\n",
              "      <td>This project will change the lives of my stude...</td>\n",
              "      <td>My students need a real-world cross-curricular...</td>\n",
              "      <td>1</td>\n",
              "      <td>1</td>\n",
              "    </tr>\n",
              "  </tbody>\n",
              "</table>\n",
              "</div>"
            ],
            "text/plain": [
              "       Unnamed: 0  ... project_is_approved\n",
              "51140       74477  ...                   1\n",
              "23374       72317  ...                   1\n",
              "86551      114684  ...                   1\n",
              "7176        79341  ...                   1\n",
              "70898      128817  ...                   1\n",
              "\n",
              "[5 rows x 17 columns]"
            ]
          },
          "metadata": {
            "tags": []
          },
          "execution_count": 7
        }
      ]
    },
    {
      "cell_type": "code",
      "metadata": {
        "colab_type": "code",
        "id": "ntdWuRoUCymj",
        "outputId": "42a932e4-8be0-423a-e992-b94cf846bed3",
        "colab": {
          "base_uri": "https://localhost:8080/",
          "height": 145
        }
      },
      "source": [
        "print(\"Number of data points in resource data\", resource_data.shape)\n",
        "print(resource_data.columns.values)\n",
        "resource_data.head(2)"
      ],
      "execution_count": 8,
      "outputs": [
        {
          "output_type": "stream",
          "text": [
            "Number of data points in resource data (1541272, 4)\n",
            "['id' 'description' 'quantity' 'price']\n"
          ],
          "name": "stdout"
        },
        {
          "output_type": "execute_result",
          "data": {
            "text/html": [
              "<div>\n",
              "<style scoped>\n",
              "    .dataframe tbody tr th:only-of-type {\n",
              "        vertical-align: middle;\n",
              "    }\n",
              "\n",
              "    .dataframe tbody tr th {\n",
              "        vertical-align: top;\n",
              "    }\n",
              "\n",
              "    .dataframe thead th {\n",
              "        text-align: right;\n",
              "    }\n",
              "</style>\n",
              "<table border=\"1\" class=\"dataframe\">\n",
              "  <thead>\n",
              "    <tr style=\"text-align: right;\">\n",
              "      <th></th>\n",
              "      <th>id</th>\n",
              "      <th>description</th>\n",
              "      <th>quantity</th>\n",
              "      <th>price</th>\n",
              "    </tr>\n",
              "  </thead>\n",
              "  <tbody>\n",
              "    <tr>\n",
              "      <th>0</th>\n",
              "      <td>p233245</td>\n",
              "      <td>LC652 - Lakeshore Double-Space Mobile Drying Rack</td>\n",
              "      <td>1</td>\n",
              "      <td>149.00</td>\n",
              "    </tr>\n",
              "    <tr>\n",
              "      <th>1</th>\n",
              "      <td>p069063</td>\n",
              "      <td>Bouncy Bands for Desks (Blue support pipes)</td>\n",
              "      <td>3</td>\n",
              "      <td>14.95</td>\n",
              "    </tr>\n",
              "  </tbody>\n",
              "</table>\n",
              "</div>"
            ],
            "text/plain": [
              "        id                                        description  quantity   price\n",
              "0  p233245  LC652 - Lakeshore Double-Space Mobile Drying Rack         1  149.00\n",
              "1  p069063        Bouncy Bands for Desks (Blue support pipes)         3   14.95"
            ]
          },
          "metadata": {
            "tags": []
          },
          "execution_count": 8
        }
      ]
    },
    {
      "cell_type": "markdown",
      "metadata": {
        "colab_type": "text",
        "id": "6WZaYhwJCymp"
      },
      "source": [
        "## 1.2 preprocessing of `project_subject_categories`"
      ]
    },
    {
      "cell_type": "code",
      "metadata": {
        "colab_type": "code",
        "id": "Mdkhq7PRCymr",
        "colab": {}
      },
      "source": [
        "catogories = list(project_data['project_subject_categories'].values)\n",
        "# remove special characters from list of strings python: https://stackoverflow.com/a/47301924/4084039\n",
        "\n",
        "# https://www.geeksforgeeks.org/removing-stop-words-nltk-python/\n",
        "# https://stackoverflow.com/questions/23669024/how-to-strip-a-specific-word-from-a-string\n",
        "# https://stackoverflow.com/questions/8270092/remove-all-whitespace-in-a-string-in-python\n",
        "cat_list = []\n",
        "for i in catogories:\n",
        "    temp = \"\"\n",
        "    # consider we have text like this \"Math & Science, Warmth, Care & Hunger\"\n",
        "    for j in i.split(','): # it will split it in three parts [\"Math & Science\", \"Warmth\", \"Care & Hunger\"]\n",
        "        if 'The' in j.split(): # this will split each of the catogory based on space \"Math & Science\"=> \"Math\",\"&\", \"Science\"\n",
        "            j=j.replace('The','') # if we have the words \"The\" we are going to replace it with ''(i.e removing 'The')\n",
        "        j = j.replace(' ','') # we are placeing all the ' '(space) with ''(empty) ex:\"Math & Science\"=>\"Math&Science\"\n",
        "        temp+=j.strip()+\" \" #\" abc \".strip() will return \"abc\", remove the trailing spaces\n",
        "        temp = temp.replace('&','_') # we are replacing the & value into \n",
        "    cat_list.append(temp.strip())\n",
        "    \n",
        "project_data['clean_categories'] = cat_list\n",
        "project_data.drop(['project_subject_categories'], axis=1, inplace=True)\n",
        "\n",
        "from collections import Counter\n",
        "my_counter = Counter()\n",
        "for word in project_data['clean_categories'].values:\n",
        "    my_counter.update(word.split())\n",
        "\n",
        "cat_dict = dict(my_counter)\n",
        "sorted_cat_dict = dict(sorted(cat_dict.items(), key=lambda kv: kv[1]))\n"
      ],
      "execution_count": 0,
      "outputs": []
    },
    {
      "cell_type": "markdown",
      "metadata": {
        "colab_type": "text",
        "id": "386yx3T2Cymv"
      },
      "source": [
        "## 1.3 preprocessing of `project_subject_subcategories`"
      ]
    },
    {
      "cell_type": "code",
      "metadata": {
        "colab_type": "code",
        "id": "4QSP0r8XCymw",
        "colab": {}
      },
      "source": [
        "sub_catogories = list(project_data['project_subject_subcategories'].values)\n",
        "# remove special characters from list of strings python: https://stackoverflow.com/a/47301924/4084039\n",
        "\n",
        "# https://www.geeksforgeeks.org/removing-stop-words-nltk-python/\n",
        "# https://stackoverflow.com/questions/23669024/how-to-strip-a-specific-word-from-a-string\n",
        "# https://stackoverflow.com/questions/8270092/remove-all-whitespace-in-a-string-in-python\n",
        "\n",
        "sub_cat_list = []\n",
        "for i in sub_catogories:\n",
        "    temp = \"\"\n",
        "    # consider we have text like this \"Math & Science, Warmth, Care & Hunger\"\n",
        "    for j in i.split(','): # it will split it in three parts [\"Math & Science\", \"Warmth\", \"Care & Hunger\"]\n",
        "        if 'The' in j.split(): # this will split each of the catogory based on space \"Math & Science\"=> \"Math\",\"&\", \"Science\"\n",
        "            j=j.replace('The','') # if we have the words \"The\" we are going to replace it with ''(i.e removing 'The')\n",
        "        j = j.replace(' ','') # we are placeing all the ' '(space) with ''(empty) ex:\"Math & Science\"=>\"Math&Science\"\n",
        "        temp +=j.strip()+\" \"#\" abc \".strip() will return \"abc\", remove the trailing spaces\n",
        "        temp = temp.replace('&','_')\n",
        "    sub_cat_list.append(temp.strip())\n",
        "\n",
        "project_data['clean_subcategories'] = sub_cat_list\n",
        "project_data.drop(['project_subject_subcategories'], axis=1, inplace=True)\n",
        "\n",
        "# count of all the words in corpus python: https://stackoverflow.com/a/22898595/4084039\n",
        "my_counter = Counter()\n",
        "for word in project_data['clean_subcategories'].values:\n",
        "    my_counter.update(word.split())\n",
        "    \n",
        "sub_cat_dict = dict(my_counter)\n",
        "sorted_sub_cat_dict = dict(sorted(sub_cat_dict.items(), key=lambda kv: kv[1]))"
      ],
      "execution_count": 0,
      "outputs": []
    },
    {
      "cell_type": "markdown",
      "metadata": {
        "colab_type": "text",
        "id": "NANzhWlLCynN"
      },
      "source": [
        "## 1.3 Text preprocessing"
      ]
    },
    {
      "cell_type": "code",
      "metadata": {
        "colab_type": "code",
        "id": "yqsmu-BTCynQ",
        "colab": {}
      },
      "source": [
        "# merge two column text dataframe: \n",
        "project_data[\"essay\"] = project_data[\"project_essay_1\"].map(str) +\\\n",
        "                        project_data[\"project_essay_2\"].map(str) + \\\n",
        "                        project_data[\"project_essay_3\"].map(str) + \\\n",
        "                        project_data[\"project_essay_4\"].map(str)"
      ],
      "execution_count": 0,
      "outputs": []
    },
    {
      "cell_type": "code",
      "metadata": {
        "colab_type": "code",
        "id": "xxtnd3maCynV",
        "outputId": "318a352a-2a91-438b-9467-68ee4dd0c8d4",
        "colab": {
          "base_uri": "https://localhost:8080/",
          "height": 301
        }
      },
      "source": [
        "project_data.head(2)"
      ],
      "execution_count": 12,
      "outputs": [
        {
          "output_type": "execute_result",
          "data": {
            "text/html": [
              "<div>\n",
              "<style scoped>\n",
              "    .dataframe tbody tr th:only-of-type {\n",
              "        vertical-align: middle;\n",
              "    }\n",
              "\n",
              "    .dataframe tbody tr th {\n",
              "        vertical-align: top;\n",
              "    }\n",
              "\n",
              "    .dataframe thead th {\n",
              "        text-align: right;\n",
              "    }\n",
              "</style>\n",
              "<table border=\"1\" class=\"dataframe\">\n",
              "  <thead>\n",
              "    <tr style=\"text-align: right;\">\n",
              "      <th></th>\n",
              "      <th>Unnamed: 0</th>\n",
              "      <th>id</th>\n",
              "      <th>teacher_id</th>\n",
              "      <th>teacher_prefix</th>\n",
              "      <th>school_state</th>\n",
              "      <th>Date</th>\n",
              "      <th>project_grade_category</th>\n",
              "      <th>project_title</th>\n",
              "      <th>project_essay_1</th>\n",
              "      <th>project_essay_2</th>\n",
              "      <th>project_essay_3</th>\n",
              "      <th>project_essay_4</th>\n",
              "      <th>project_resource_summary</th>\n",
              "      <th>teacher_number_of_previously_posted_projects</th>\n",
              "      <th>project_is_approved</th>\n",
              "      <th>clean_categories</th>\n",
              "      <th>clean_subcategories</th>\n",
              "      <th>essay</th>\n",
              "    </tr>\n",
              "  </thead>\n",
              "  <tbody>\n",
              "    <tr>\n",
              "      <th>51140</th>\n",
              "      <td>74477</td>\n",
              "      <td>p189804</td>\n",
              "      <td>4a97f3a390bfe21b99cf5e2b81981c73</td>\n",
              "      <td>Mrs.</td>\n",
              "      <td>CA</td>\n",
              "      <td>2016-04-27 00:46:53</td>\n",
              "      <td>Grades PreK-2</td>\n",
              "      <td>Mobile Learning with a Mobile Listening Center</td>\n",
              "      <td>Having a class of 24 students comes with diver...</td>\n",
              "      <td>I have a class of twenty-four kindergarten stu...</td>\n",
              "      <td>By having a mobile listening and storage cente...</td>\n",
              "      <td>A mobile listening center will help keep equip...</td>\n",
              "      <td>My students need a mobile listening center to ...</td>\n",
              "      <td>10</td>\n",
              "      <td>1</td>\n",
              "      <td>Literacy_Language</td>\n",
              "      <td>Literacy</td>\n",
              "      <td>Having a class of 24 students comes with diver...</td>\n",
              "    </tr>\n",
              "    <tr>\n",
              "      <th>23374</th>\n",
              "      <td>72317</td>\n",
              "      <td>p087808</td>\n",
              "      <td>598621c141cda5fb184ee7e8ccdd3fcc</td>\n",
              "      <td>Ms.</td>\n",
              "      <td>CA</td>\n",
              "      <td>2016-04-27 02:04:15</td>\n",
              "      <td>Grades PreK-2</td>\n",
              "      <td>iPad for Learners</td>\n",
              "      <td>Never has society so rapidly changed. Technolo...</td>\n",
              "      <td>Our Language Arts and Social Justice Magnet Sc...</td>\n",
              "      <td>\\\"Is it my turn, Ms. K? When am I going to be ...</td>\n",
              "      <td>By donating to this project, you will give my ...</td>\n",
              "      <td>My students need 1 ipad mini.</td>\n",
              "      <td>127</td>\n",
              "      <td>1</td>\n",
              "      <td>Literacy_Language</td>\n",
              "      <td>ESL Literacy</td>\n",
              "      <td>Never has society so rapidly changed. Technolo...</td>\n",
              "    </tr>\n",
              "  </tbody>\n",
              "</table>\n",
              "</div>"
            ],
            "text/plain": [
              "       Unnamed: 0  ...                                              essay\n",
              "51140       74477  ...  Having a class of 24 students comes with diver...\n",
              "23374       72317  ...  Never has society so rapidly changed. Technolo...\n",
              "\n",
              "[2 rows x 18 columns]"
            ]
          },
          "metadata": {
            "tags": []
          },
          "execution_count": 12
        }
      ]
    },
    {
      "cell_type": "code",
      "metadata": {
        "colab_type": "code",
        "id": "2ou8qSzkCyna",
        "colab": {}
      },
      "source": [
        "#### 1.4.2.3 Using Pretrained Models: TFIDF weighted W2V"
      ],
      "execution_count": 0,
      "outputs": []
    },
    {
      "cell_type": "code",
      "metadata": {
        "colab_type": "code",
        "id": "TCl7L1DhCyne",
        "outputId": "45eea95f-1aee-499f-9ce9-034c38f8530a",
        "colab": {
          "base_uri": "https://localhost:8080/",
          "height": 173
        }
      },
      "source": [
        "# printing some random reviews\n",
        "print(project_data['essay'].values[0])\n",
        "print(\"=\"*50)\n",
        "print(project_data['essay'].values[150])\n",
        "print(\"=\"*50)\n",
        "print(project_data['essay'].values[1000])\n",
        "print(\"=\"*50)\n",
        "print(project_data['essay'].values[19000])\n",
        "print(\"=\"*50)"
      ],
      "execution_count": 14,
      "outputs": [
        {
          "output_type": "stream",
          "text": [
            "Having a class of 24 students comes with diverse learners.  Some students learn best through auditory means.I have a class of twenty-four kindergarten students.\\r\\nMy students attend a Title 1 school and a great majority are English language learners. Most of our students come from low-income homes, and all students receive free breakfast and lunch. My students are enthusiastic learners, but too often are faced with many types of hardships at home. School is often a safe haven for them.By having a mobile listening and storage center, my students will be able to reinforce and enhance what they are learning.  They will be able to listen to stories using the mobile listening center to help reinforce the high frequency words that have been introduced.  In addition, they will be able to listen to stories that reinforce reading comprehension skills and strategies amongst other auditory experiences.A mobile listening center will help keep equipment neat and organized....ready to use to help reinforce and enhance literacy skills. Numerous students will be able to use the center to help increase student learning.\n",
            "==================================================\n",
            "My students thrive on active and creative learning environments. The supplies requested will construct a classroom filled with themed units and hands-on learning opportunities. Students celebrate the fun of learning by altering the classroom environment to match real world unit themes!Students in Rm 2144 are energetic middle school writing rock stars! Our building has a 48% low-income, but is filled with positive energy and color. In our room, students leave the textbooks behind as they explore real world careers within ELA CCS. Each unit includes a visitor from the community, singing, dancing, and days of exploration! The supplies requested would support our method of \\\"travel\\\" by transforming our classroom into a new world!\\r\\nSome examples of our Classroom Transformation Review Days include : \\r\\n- Surgery Day (Doctor Writing Unit) \\r\\nstudents dress as doctors as they handle a ER center where they must \\\"solve all the patients problems\\\"\\r\\n- Lazor Tag (Pantagraph Unit) \\r\\nstudents enter a room filled with blacklights, neon glow sticks, and highlighters as they identify descriptive details and summarize articles \\r\\n- Camp Fire (Up Up & Away Unit) \\r\\nstudents visit a campfire in the woods and share narrative writing with classmatesThe requested materials will support our classroom transformation review days. As stated above, students participate in themed units. Each unit includes ELA CCS as well as songs, dances, decorations, and transformation review days! \\r\\nSome examples of our Classroom Transformation Review Days include : \\r\\n- Surgery Day (Doctor Writing Unit) \\r\\nstudents dress as doctors as they handle a ER center where they must \\\"solve all the patients problems\\\"\\r\\n- Lazor Tag (Pantagraph Unit) \\r\\nstudents enter a room filled with blacklights, neon glow sticks, and highlighters as they identify descriptive details and summarize articles \\r\\n- Camp Fire (Up Up & Away Unit) \\r\\nstudents visit a campfire in the woods and share narrative writing with classmates\\r\\nWith these supplies to support our active and hands on learning environment, students will be able to take learning into their own hands as they explore fun elements within each theme.This hands-on and active way of learning, although financially cumbersome and time consuming, is life changing for struggling learners. Students no longer sit still in class while being lectured by educators. Rather, students become active participates in their education while connecting the content to real world experiences! \\r\\nThe smallest donation would help to support a struggling learner make a change, turn a corner, and begin feeling successful. Every student deserves to feel success\n",
            "==================================================\n",
            "We learn through hands-on learning which is why we do centers. We love to move around and that includes our housekeeping center, literacy center, sensory table, playdough center, science and social studies center, art center, puzzles center, morning board center, technology center, and math center.We have twenty Pre-K students in our class. They love to get up and sing and dance and learn through moving. We have centers every day that creates this type of learning, but have not been able to open our technology center due to lack of resources. We are a Pre-K-8th grade school in a small rural community with no businesses close around.The teachers will download apps on the Ipad and demonstrate how to complete the activities on the projector in the classroom. During centers, students will have the chance to go to the technology center and learn through the apps the alphabet and numbers which reinforces what is being taught through the curriculum and other centers.Students will be able to use the technology and learn by using a hands on approach in the 21st century and to learn how to write their name using a keyboard as they will have to use as they progress through school.\n",
            "==================================================\n",
            "The students at Shands Elementary are one of a kind. They are genuinely unique. Half of the classrooms are bilingual learners that strive everyday to learn english proficiency through English and Spanish lessons for math, spelling and reading. The english speaking classrooms open up their space to help and encourage the students for success, while eagerly learning spanish as they can from the bilingual students. \\r\\n\\r\\nThis school has 26 1:1 ipad carts which equips a low socioeconomic group of students to become familiar with 21st century learning and collaboration to develop work skills for the future.Breakout EDU creates ultra-engaging learning games for people of all ages. Games (Breakouts) teach teamwork, problem solving, critical thinking, and troubleshooting by presenting participants with challenges that ignite their natural drive to problem-solve. Breakouts are perfect for classrooms and staff trainings! At the end of a Breakout, the students and teachers will be eager for the next!  Breakouts can be used to teach core academic subjects including math, science, history, language arts and have embedded standards that apply problem solving strategies within a real world OR collaborative context. After using these in both and classroom and professional developments, I am hooked!nannan\n",
            "==================================================\n"
          ],
          "name": "stdout"
        }
      ]
    },
    {
      "cell_type": "code",
      "metadata": {
        "colab_type": "code",
        "id": "Yqj4vGVoCynh",
        "colab": {}
      },
      "source": [
        "# https://stackoverflow.com/a/47091490/4084039\n",
        "import re\n",
        "\n",
        "def decontracted(phrase):\n",
        "    # specific\n",
        "    phrase = re.sub(r\"won't\", \"will not\", phrase)\n",
        "    phrase = re.sub(r\"can\\'t\", \"can not\", phrase)\n",
        "\n",
        "    # general\n",
        "    phrase = re.sub(r\"n\\'t\", \" not\", phrase)\n",
        "    phrase = re.sub(r\"\\'re\", \" are\", phrase)\n",
        "    phrase = re.sub(r\"\\'s\", \" is\", phrase)\n",
        "    phrase = re.sub(r\"\\'d\", \" would\", phrase)\n",
        "    phrase = re.sub(r\"\\'ll\", \" will\", phrase)\n",
        "    phrase = re.sub(r\"\\'t\", \" not\", phrase)\n",
        "    phrase = re.sub(r\"\\'ve\", \" have\", phrase)\n",
        "    phrase = re.sub(r\"\\'m\", \" am\", phrase)\n",
        "    return phrase"
      ],
      "execution_count": 0,
      "outputs": []
    },
    {
      "cell_type": "code",
      "metadata": {
        "colab_type": "code",
        "id": "aDUbe9piCynj",
        "outputId": "e7ef9a33-3ed4-419c-bbf6-d2fa04788fae",
        "colab": {
          "base_uri": "https://localhost:8080/",
          "height": 71
        }
      },
      "source": [
        "sent = decontracted(project_data['essay'].values[19000])\n",
        "print(sent)\n",
        "print(\"=\"*50)"
      ],
      "execution_count": 16,
      "outputs": [
        {
          "output_type": "stream",
          "text": [
            "The students at Shands Elementary are one of a kind. They are genuinely unique. Half of the classrooms are bilingual learners that strive everyday to learn english proficiency through English and Spanish lessons for math, spelling and reading. The english speaking classrooms open up their space to help and encourage the students for success, while eagerly learning spanish as they can from the bilingual students. \\r\\n\\r\\nThis school has 26 1:1 ipad carts which equips a low socioeconomic group of students to become familiar with 21st century learning and collaboration to develop work skills for the future.Breakout EDU creates ultra-engaging learning games for people of all ages. Games (Breakouts) teach teamwork, problem solving, critical thinking, and troubleshooting by presenting participants with challenges that ignite their natural drive to problem-solve. Breakouts are perfect for classrooms and staff trainings! At the end of a Breakout, the students and teachers will be eager for the next!  Breakouts can be used to teach core academic subjects including math, science, history, language arts and have embedded standards that apply problem solving strategies within a real world OR collaborative context. After using these in both and classroom and professional developments, I am hooked!nannan\n",
            "==================================================\n"
          ],
          "name": "stdout"
        }
      ]
    },
    {
      "cell_type": "code",
      "metadata": {
        "colab_type": "code",
        "id": "vXSbHYJ4Cynp",
        "outputId": "21f33ee1-8887-468e-9554-151f12f303e0",
        "colab": {
          "base_uri": "https://localhost:8080/",
          "height": 54
        }
      },
      "source": [
        "# \\r \\n \\t remove from string python: http://texthandler.com/info/remove-line-breaks-python/\n",
        "sent = sent.replace('\\\\r', ' ')\n",
        "sent = sent.replace('\\\\\"', ' ')\n",
        "sent = sent.replace('\\\\n', ' ')\n",
        "print(sent)"
      ],
      "execution_count": 17,
      "outputs": [
        {
          "output_type": "stream",
          "text": [
            "The students at Shands Elementary are one of a kind. They are genuinely unique. Half of the classrooms are bilingual learners that strive everyday to learn english proficiency through English and Spanish lessons for math, spelling and reading. The english speaking classrooms open up their space to help and encourage the students for success, while eagerly learning spanish as they can from the bilingual students.     This school has 26 1:1 ipad carts which equips a low socioeconomic group of students to become familiar with 21st century learning and collaboration to develop work skills for the future.Breakout EDU creates ultra-engaging learning games for people of all ages. Games (Breakouts) teach teamwork, problem solving, critical thinking, and troubleshooting by presenting participants with challenges that ignite their natural drive to problem-solve. Breakouts are perfect for classrooms and staff trainings! At the end of a Breakout, the students and teachers will be eager for the next!  Breakouts can be used to teach core academic subjects including math, science, history, language arts and have embedded standards that apply problem solving strategies within a real world OR collaborative context. After using these in both and classroom and professional developments, I am hooked!nannan\n"
          ],
          "name": "stdout"
        }
      ]
    },
    {
      "cell_type": "code",
      "metadata": {
        "colab_type": "code",
        "id": "67Agrz_YCynt",
        "outputId": "976b7d3c-50b6-45d1-8a35-d0d743c4495e",
        "colab": {
          "base_uri": "https://localhost:8080/",
          "height": 54
        }
      },
      "source": [
        "#remove spacial character: https://stackoverflow.com/a/5843547/4084039\n",
        "sent = re.sub('[^A-Za-z0-9]+', ' ', sent)\n",
        "print(sent)"
      ],
      "execution_count": 18,
      "outputs": [
        {
          "output_type": "stream",
          "text": [
            "The students at Shands Elementary are one of a kind They are genuinely unique Half of the classrooms are bilingual learners that strive everyday to learn english proficiency through English and Spanish lessons for math spelling and reading The english speaking classrooms open up their space to help and encourage the students for success while eagerly learning spanish as they can from the bilingual students This school has 26 1 1 ipad carts which equips a low socioeconomic group of students to become familiar with 21st century learning and collaboration to develop work skills for the future Breakout EDU creates ultra engaging learning games for people of all ages Games Breakouts teach teamwork problem solving critical thinking and troubleshooting by presenting participants with challenges that ignite their natural drive to problem solve Breakouts are perfect for classrooms and staff trainings At the end of a Breakout the students and teachers will be eager for the next Breakouts can be used to teach core academic subjects including math science history language arts and have embedded standards that apply problem solving strategies within a real world OR collaborative context After using these in both and classroom and professional developments I am hooked nannan\n"
          ],
          "name": "stdout"
        }
      ]
    },
    {
      "cell_type": "code",
      "metadata": {
        "colab_type": "code",
        "id": "hhyPw-8wCyny",
        "colab": {}
      },
      "source": [
        "# https://gist.github.com/sebleier/554280\n",
        "# we are removing the words from the stop words list: 'no', 'nor', 'not'\n",
        "stopwords= ['i', 'me', 'my', 'myself', 'we', 'our', 'ours', 'ourselves', 'you', \"you're\", \"you've\",\\\n",
        "            \"you'll\", \"you'd\", 'your', 'yours', 'yourself', 'yourselves', 'he', 'him', 'his', 'himself', \\\n",
        "            'she', \"she's\", 'her', 'hers', 'herself', 'it', \"it's\", 'its', 'itself', 'they', 'them', 'their',\\\n",
        "            'theirs', 'themselves', 'what', 'which', 'who', 'whom', 'this', 'that', \"that'll\", 'these', 'those', \\\n",
        "            'am', 'is', 'are', 'was', 'were', 'be', 'been', 'being', 'have', 'has', 'had', 'having', 'do', 'does', \\\n",
        "            'did', 'doing', 'a', 'an', 'the', 'and', 'but', 'if', 'or', 'because', 'as', 'until', 'while', 'of', \\\n",
        "            'at', 'by', 'for', 'with', 'about', 'against', 'between', 'into', 'through', 'during', 'before', 'after',\\\n",
        "            'above', 'below', 'to', 'from', 'up', 'down', 'in', 'out', 'on', 'off', 'over', 'under', 'again', 'further',\\\n",
        "            'then', 'once', 'here', 'there', 'when', 'where', 'why', 'how', 'all', 'any', 'both', 'each', 'few', 'more',\\\n",
        "            'most', 'other', 'some', 'such', 'only', 'own', 'same', 'so', 'than', 'too', 'very', \\\n",
        "            's', 't', 'can', 'will', 'just', 'don', \"don't\", 'should', \"should've\", 'now', 'd', 'll', 'm', 'o', 're', \\\n",
        "            've', 'y', 'ain', 'aren', \"aren't\", 'couldn', \"couldn't\", 'didn', \"didn't\", 'doesn', \"doesn't\", 'hadn',\\\n",
        "            \"hadn't\", 'hasn', \"hasn't\", 'haven', \"haven't\", 'isn', \"isn't\", 'ma', 'mightn', \"mightn't\", 'mustn',\\\n",
        "            \"mustn't\", 'needn', \"needn't\", 'shan', \"shan't\", 'shouldn', \"shouldn't\", 'wasn', \"wasn't\", 'weren', \"weren't\", \\\n",
        "            'won', \"won't\", 'wouldn', \"wouldn't\"]"
      ],
      "execution_count": 0,
      "outputs": []
    },
    {
      "cell_type": "code",
      "metadata": {
        "colab_type": "code",
        "id": "d6RCdphRCyn0",
        "outputId": "ab417f7b-f710-46b0-93fa-37fe0eb4f508",
        "colab": {
          "base_uri": "https://localhost:8080/",
          "height": 34
        }
      },
      "source": [
        "# Combining all the above stundents \n",
        "from tqdm import tqdm\n",
        "preprocessed_essays = []\n",
        "# tqdm is for printing the status bar\n",
        "for sentance in tqdm(project_data['essay'].values):\n",
        "    sent = decontracted(sentance)\n",
        "    sent = sent.replace('\\\\r', ' ')\n",
        "    sent = sent.replace('\\\\\"', ' ')\n",
        "    sent = sent.replace('\\\\n', ' ')\n",
        "    sent = re.sub('[^A-Za-z0-9]+', ' ', sent)\n",
        "    # https://gist.github.com/sebleier/554280\n",
        "    sent = ' '.join(e.lower() for e in sent.split() if e.lower() not in stopwords)\n",
        "    preprocessed_essays.append(sent.strip())"
      ],
      "execution_count": 20,
      "outputs": [
        {
          "output_type": "stream",
          "text": [
            "100%|██████████| 50000/50000 [00:24<00:00, 2020.21it/s]\n"
          ],
          "name": "stderr"
        }
      ]
    },
    {
      "cell_type": "code",
      "metadata": {
        "colab_type": "code",
        "id": "rPo9cLvNCyn3",
        "outputId": "0f7465f0-5b46-4d35-a1f5-beab78388e38",
        "colab": {
          "base_uri": "https://localhost:8080/",
          "height": 54
        }
      },
      "source": [
        "# after preprocesing\n",
        "preprocessed_essays[19999]"
      ],
      "execution_count": 21,
      "outputs": [
        {
          "output_type": "execute_result",
          "data": {
            "text/plain": [
              "'classroom filled 22 unique second graders multi cultural 6 different home languages varying economic levels wide continuum social academic needs diversity come together find strength excited facilitate encourage learning along great team second grade teachers wonderful school staff believe students school translates everyone working together see students succeed math brings challenges understanding relationship operations equations comparisons written math expressions sides equal sign comparison symbol students used seeing one side answer rather another expression problems 8 3 5 20 2 x 3 really challenge thinking number balance scales great hands tool help visually see equation works students able use balances not specific lessons also times explore deepen understanding year students going using variety actual children literature learn reading skills comprehension skills well positive force world live using books practice reading comprehension skills taught connects students learning applies reading independently see real books books spark love reading encourage students seek books also introduce powerful themes allow discussion encouragement students see ways impact world around positive way not books used lessons teach available students read read independently partners please support students understanding math reading contributing project positive impact lives lives around nannan'"
            ]
          },
          "metadata": {
            "tags": []
          },
          "execution_count": 21
        }
      ]
    },
    {
      "cell_type": "markdown",
      "metadata": {
        "colab_type": "text",
        "id": "QeUw6WMKCyn7"
      },
      "source": [
        "<h2><font color='red'> 1.4 Preprocessing of `project_title`</font></h2>"
      ]
    },
    {
      "cell_type": "code",
      "metadata": {
        "colab_type": "code",
        "id": "Ql9ttfW3Cyn7",
        "colab": {}
      },
      "source": [
        "# similarly you can preprocess the titles also"
      ],
      "execution_count": 0,
      "outputs": []
    },
    {
      "cell_type": "code",
      "metadata": {
        "id": "Oy2bKWTYPQ6o",
        "colab_type": "code",
        "outputId": "467092d2-0b18-43e8-ebfc-083e1bec0cc3",
        "colab": {
          "base_uri": "https://localhost:8080/",
          "height": 153
        }
      },
      "source": [
        "#some random project titles.\n",
        "print(project_data[\"project_title\"].values[5])\n",
        "print('='*50)\n",
        "print(project_data['project_title'].values[1000])\n",
        "print('='*50)\n",
        "print(project_data[\"project_title\"].values[5000])\n",
        "print('='*50)\n",
        "print(project_data[\"project_title\"].values[19000])\n",
        "print('='*50)"
      ],
      "execution_count": 23,
      "outputs": [
        {
          "output_type": "stream",
          "text": [
            "Getting Plugged into Learning\n",
            "==================================================\n",
            "Center Time!! We can't wait to use technology!!\n",
            "==================================================\n",
            "FaceAbook - share & connect in book chats\n",
            "==================================================\n",
            "BreakoutEDU: Changing the Way We Learn!\n",
            "==================================================\n"
          ],
          "name": "stdout"
        }
      ]
    },
    {
      "cell_type": "code",
      "metadata": {
        "id": "Gf-zpL1ZPQ6y",
        "colab_type": "code",
        "outputId": "1ecd413d-ca34-4cf2-d66d-33e5705511aa",
        "colab": {
          "base_uri": "https://localhost:8080/",
          "height": 34
        }
      },
      "source": [
        "preprocessed_titles = []\n",
        "# tqdm is for printing the status bar\n",
        "for sentance in tqdm(project_data['project_title'].values):\n",
        "    sent = decontracted(sentance)\n",
        "    sent = sent.replace('\\\\r', ' ')\n",
        "    sent = sent.replace('\\\\\"', ' ')\n",
        "    sent = sent.replace('\\\\n', ' ')\n",
        "    sent = re.sub('[^A-Za-z0-9]+', ' ', sent)\n",
        "    # https://gist.github.com/sebleier/554280\n",
        "    sent = ' '.join(e.lower() for e in sent.split() if e.lower() not in stopwords)\n",
        "    preprocessed_titles.append(sent.strip())"
      ],
      "execution_count": 24,
      "outputs": [
        {
          "output_type": "stream",
          "text": [
            "100%|██████████| 50000/50000 [00:01<00:00, 49612.00it/s]\n"
          ],
          "name": "stderr"
        }
      ]
    },
    {
      "cell_type": "code",
      "metadata": {
        "id": "LmsUnsymPQ62",
        "colab_type": "code",
        "outputId": "e58be412-1cae-4933-fd31-ec2c9080c7d7",
        "colab": {
          "base_uri": "https://localhost:8080/",
          "height": 68
        }
      },
      "source": [
        "print(preprocessed_titles[1000])\n",
        "print('='*50)\n",
        "print(preprocessed_titles[19000])"
      ],
      "execution_count": 25,
      "outputs": [
        {
          "output_type": "stream",
          "text": [
            "center time not wait use technology\n",
            "==================================================\n",
            "breakoutedu changing way learn\n"
          ],
          "name": "stdout"
        }
      ]
    },
    {
      "cell_type": "markdown",
      "metadata": {
        "colab_type": "text",
        "id": "NQg4ZfFtCyn9"
      },
      "source": [
        "## 1.5 Preparing data for models"
      ]
    },
    {
      "cell_type": "code",
      "metadata": {
        "colab_type": "code",
        "id": "V4GS54ZTCyn-",
        "outputId": "97cb463a-e04f-4e6a-e575-355aaf10e37d",
        "colab": {
          "base_uri": "https://localhost:8080/",
          "height": 136
        }
      },
      "source": [
        "project_data.columns"
      ],
      "execution_count": 26,
      "outputs": [
        {
          "output_type": "execute_result",
          "data": {
            "text/plain": [
              "Index(['Unnamed: 0', 'id', 'teacher_id', 'teacher_prefix', 'school_state',\n",
              "       'Date', 'project_grade_category', 'project_title', 'project_essay_1',\n",
              "       'project_essay_2', 'project_essay_3', 'project_essay_4',\n",
              "       'project_resource_summary',\n",
              "       'teacher_number_of_previously_posted_projects', 'project_is_approved',\n",
              "       'clean_categories', 'clean_subcategories', 'essay'],\n",
              "      dtype='object')"
            ]
          },
          "metadata": {
            "tags": []
          },
          "execution_count": 26
        }
      ]
    },
    {
      "cell_type": "markdown",
      "metadata": {
        "colab_type": "text",
        "id": "6FDsc1epCyoD"
      },
      "source": [
        "we are going to consider\n",
        "\n",
        "       - school_state : categorical data\n",
        "       - clean_categories : categorical data\n",
        "       - clean_subcategories : categorical data\n",
        "       - project_grade_category : categorical data\n",
        "       - teacher_prefix : categorical data\n",
        "       \n",
        "       - project_title : text data\n",
        "       - text : text data\n",
        "       - project_resource_summary: text data (optinal)\n",
        "       \n",
        "       - quantity : numerical (optinal)\n",
        "       - teacher_number_of_previously_posted_projects : numerical\n",
        "       - price : numerical"
      ]
    },
    {
      "cell_type": "markdown",
      "metadata": {
        "colab_type": "text",
        "id": "0d0QeeQ-CyoD"
      },
      "source": [
        "### 1.5.1 Vectorizing Categorical data"
      ]
    },
    {
      "cell_type": "markdown",
      "metadata": {
        "colab_type": "text",
        "id": "kFZFSOirCyoD"
      },
      "source": [
        "- https://www.appliedaicourse.com/course/applied-ai-course-online/lessons/handling-categorical-and-numerical-features/"
      ]
    },
    {
      "cell_type": "code",
      "metadata": {
        "colab_type": "code",
        "id": "0ecQOf-JCyoL",
        "colab": {}
      },
      "source": [
        "# you can do the similar thing with state, teacher_prefix and project_grade_category also"
      ],
      "execution_count": 0,
      "outputs": []
    },
    {
      "cell_type": "code",
      "metadata": {
        "id": "xoESJKJQPQ7W",
        "colab_type": "code",
        "outputId": "571a067a-7c33-4f21-d574-410d1fd9212f",
        "colab": {
          "base_uri": "https://localhost:8080/",
          "height": 34
        }
      },
      "source": [
        "print(project_data[\"school_state\"].values)"
      ],
      "execution_count": 28,
      "outputs": [
        {
          "output_type": "stream",
          "text": [
            "['CA' 'CA' 'HI' ... 'CA' 'HI' 'CA']\n"
          ],
          "name": "stdout"
        }
      ]
    },
    {
      "cell_type": "code",
      "metadata": {
        "id": "sLWuU9VOPQ7c",
        "colab_type": "code",
        "outputId": "37481624-c5a9-4593-fb6d-e2fc4e93d2b4",
        "colab": {
          "base_uri": "https://localhost:8080/",
          "height": 51
        }
      },
      "source": [
        "preprocessed_school_state=[]\n",
        "for state in tqdm(project_data['school_state'].values):\n",
        "    state=decontracted(state)\n",
        "    state=state.replace(\".\",'')\n",
        "    state=state.replace('\"','')\n",
        "    state=state.replace('-','')\n",
        "    state=state.replace('_','')\n",
        "    state=state.replace(' ','')\n",
        "    state=re.sub('[^A-za-z]+','',state)\n",
        "    preprocessed_school_state.append(state.strip())\n",
        "print(preprocessed_school_state[:15])    "
      ],
      "execution_count": 29,
      "outputs": [
        {
          "output_type": "stream",
          "text": [
            "100%|██████████| 50000/50000 [00:00<00:00, 121777.84it/s]"
          ],
          "name": "stderr"
        },
        {
          "output_type": "stream",
          "text": [
            "['CA', 'CA', 'HI', 'OH', 'KY', 'SC', 'FL', 'CA', 'NY', 'CA', 'VA', 'NY', 'GA', 'OK', 'PA']\n"
          ],
          "name": "stdout"
        },
        {
          "output_type": "stream",
          "text": [
            "\n"
          ],
          "name": "stderr"
        }
      ]
    },
    {
      "cell_type": "code",
      "metadata": {
        "id": "67vPKByYPQ7g",
        "colab_type": "code",
        "outputId": "97396253-a7c9-43d9-f1c7-7ee5ff3b382c",
        "colab": {
          "base_uri": "https://localhost:8080/",
          "height": 51
        }
      },
      "source": [
        "preprocessed_teacher_prefix=[]\n",
        "for prefix in tqdm(project_data[\"teacher_prefix\"].map(str).values):\n",
        "    prefix=decontracted(prefix)\n",
        "    prefix=prefix.replace(\".\",'')\n",
        "    prefix=prefix.replace('\"','')\n",
        "    prefix=prefix.replace('-','')\n",
        "    prefix=prefix.replace('_','')\n",
        "    prefix=prefix.replace(' ','')\n",
        "    prefix=re.sub('[^A-Za-z]+','',prefix)\n",
        "    preprocessed_teacher_prefix.append(prefix.strip())\n",
        "print(preprocessed_teacher_prefix[:15])    "
      ],
      "execution_count": 30,
      "outputs": [
        {
          "output_type": "stream",
          "text": [
            "100%|██████████| 50000/50000 [00:00<00:00, 119505.99it/s]"
          ],
          "name": "stderr"
        },
        {
          "output_type": "stream",
          "text": [
            "['Mrs', 'Ms', 'Mrs', 'Mrs', 'Mrs', 'Mrs', 'Mrs', 'Mrs', 'Mrs', 'Mr', 'Mrs', 'Ms', 'Ms', 'Mrs', 'Mr']\n"
          ],
          "name": "stdout"
        },
        {
          "output_type": "stream",
          "text": [
            "\n"
          ],
          "name": "stderr"
        }
      ]
    },
    {
      "cell_type": "code",
      "metadata": {
        "id": "fkLqdYu9PQ7l",
        "colab_type": "code",
        "outputId": "ded9121b-3fe1-44a5-cb36-0985637c8870",
        "colab": {
          "base_uri": "https://localhost:8080/",
          "height": 122
        }
      },
      "source": [
        "print(project_data[\"project_grade_category\"].values)\n",
        "preprocessed_project_grade=[]\n",
        "for grade in tqdm(project_data[\"project_grade_category\"].values):\n",
        "    grade=decontracted(grade)\n",
        "    grade=grade.replace('.','')\n",
        "    grade=grade.replace('\"','')\n",
        "    grade=grade.replace('-','')\n",
        "    grade=grade.replace(' ','')\n",
        "    grade=grade.replace('_','')\n",
        "    grade=re.sub('[^A-Za-z0-9]+','',grade)\n",
        "    preprocessed_project_grade.append(grade)\n",
        "print(preprocessed_project_grade[:20])    "
      ],
      "execution_count": 31,
      "outputs": [
        {
          "output_type": "stream",
          "text": [
            " 23%|██▎       | 11379/50000 [00:00<00:00, 113783.06it/s]"
          ],
          "name": "stderr"
        },
        {
          "output_type": "stream",
          "text": [
            "['Grades PreK-2' 'Grades PreK-2' 'Grades 3-5' ... 'Grades 3-5'\n",
            " 'Grades 9-12' 'Grades PreK-2']\n"
          ],
          "name": "stdout"
        },
        {
          "output_type": "stream",
          "text": [
            "100%|██████████| 50000/50000 [00:00<00:00, 114474.05it/s]"
          ],
          "name": "stderr"
        },
        {
          "output_type": "stream",
          "text": [
            "['GradesPreK2', 'GradesPreK2', 'Grades35', 'GradesPreK2', 'Grades35', 'GradesPreK2', 'Grades35', 'Grades35', 'Grades35', 'Grades912', 'Grades35', 'Grades35', 'GradesPreK2', 'GradesPreK2', 'Grades68', 'Grades68', 'GradesPreK2', 'Grades68', 'GradesPreK2', 'Grades35']\n"
          ],
          "name": "stdout"
        },
        {
          "output_type": "stream",
          "text": [
            "\n"
          ],
          "name": "stderr"
        }
      ]
    },
    {
      "cell_type": "markdown",
      "metadata": {
        "colab_type": "text",
        "id": "6Em6Kb2-CypR"
      },
      "source": [
        "### 1.5.3 Vectorizing Numerical features"
      ]
    },
    {
      "cell_type": "code",
      "metadata": {
        "colab_type": "code",
        "id": "dQunmy9FCypT",
        "colab": {}
      },
      "source": [
        "price_data = resource_data.groupby('id').agg({'price':'sum', 'quantity':'sum'}).reset_index()\n",
        "project_data = pd.merge(project_data, price_data, on='id', how='left')"
      ],
      "execution_count": 0,
      "outputs": []
    },
    {
      "cell_type": "markdown",
      "metadata": {
        "colab_type": "text",
        "id": "5UbaJH21Cypa"
      },
      "source": [
        "### 1.5.4 Merging all the above features"
      ]
    },
    {
      "cell_type": "markdown",
      "metadata": {
        "colab_type": "text",
        "id": "fAZixvIeCypb"
      },
      "source": [
        "- we need to merge all the numerical vectors i.e catogorical, text, numerical vectors"
      ]
    },
    {
      "cell_type": "code",
      "metadata": {
        "id": "k2urTr29PQ7z",
        "colab_type": "code",
        "outputId": "49eae5ad-1f84-476f-aa53-ef701e3ef508",
        "colab": {
          "base_uri": "https://localhost:8080/",
          "height": 219
        }
      },
      "source": [
        "project_data.head(1)"
      ],
      "execution_count": 33,
      "outputs": [
        {
          "output_type": "execute_result",
          "data": {
            "text/html": [
              "<div>\n",
              "<style scoped>\n",
              "    .dataframe tbody tr th:only-of-type {\n",
              "        vertical-align: middle;\n",
              "    }\n",
              "\n",
              "    .dataframe tbody tr th {\n",
              "        vertical-align: top;\n",
              "    }\n",
              "\n",
              "    .dataframe thead th {\n",
              "        text-align: right;\n",
              "    }\n",
              "</style>\n",
              "<table border=\"1\" class=\"dataframe\">\n",
              "  <thead>\n",
              "    <tr style=\"text-align: right;\">\n",
              "      <th></th>\n",
              "      <th>Unnamed: 0</th>\n",
              "      <th>id</th>\n",
              "      <th>teacher_id</th>\n",
              "      <th>teacher_prefix</th>\n",
              "      <th>school_state</th>\n",
              "      <th>Date</th>\n",
              "      <th>project_grade_category</th>\n",
              "      <th>project_title</th>\n",
              "      <th>project_essay_1</th>\n",
              "      <th>project_essay_2</th>\n",
              "      <th>project_essay_3</th>\n",
              "      <th>project_essay_4</th>\n",
              "      <th>project_resource_summary</th>\n",
              "      <th>teacher_number_of_previously_posted_projects</th>\n",
              "      <th>project_is_approved</th>\n",
              "      <th>clean_categories</th>\n",
              "      <th>clean_subcategories</th>\n",
              "      <th>essay</th>\n",
              "      <th>price</th>\n",
              "      <th>quantity</th>\n",
              "    </tr>\n",
              "  </thead>\n",
              "  <tbody>\n",
              "    <tr>\n",
              "      <th>0</th>\n",
              "      <td>74477</td>\n",
              "      <td>p189804</td>\n",
              "      <td>4a97f3a390bfe21b99cf5e2b81981c73</td>\n",
              "      <td>Mrs.</td>\n",
              "      <td>CA</td>\n",
              "      <td>2016-04-27 00:46:53</td>\n",
              "      <td>Grades PreK-2</td>\n",
              "      <td>Mobile Learning with a Mobile Listening Center</td>\n",
              "      <td>Having a class of 24 students comes with diver...</td>\n",
              "      <td>I have a class of twenty-four kindergarten stu...</td>\n",
              "      <td>By having a mobile listening and storage cente...</td>\n",
              "      <td>A mobile listening center will help keep equip...</td>\n",
              "      <td>My students need a mobile listening center to ...</td>\n",
              "      <td>10</td>\n",
              "      <td>1</td>\n",
              "      <td>Literacy_Language</td>\n",
              "      <td>Literacy</td>\n",
              "      <td>Having a class of 24 students comes with diver...</td>\n",
              "      <td>329.0</td>\n",
              "      <td>1</td>\n",
              "    </tr>\n",
              "  </tbody>\n",
              "</table>\n",
              "</div>"
            ],
            "text/plain": [
              "   Unnamed: 0       id  ...  price quantity\n",
              "0       74477  p189804  ...  329.0        1\n",
              "\n",
              "[1 rows x 20 columns]"
            ]
          },
          "metadata": {
            "tags": []
          },
          "execution_count": 33
        }
      ]
    },
    {
      "cell_type": "code",
      "metadata": {
        "id": "9PACH20wPQ8B",
        "colab_type": "code",
        "colab": {}
      },
      "source": [
        "dataset_0=project_data[[\"clean_categories\",\"clean_subcategories\",]]\n",
        "dataset_0[\"school_state\"]=preprocessed_school_state\n",
        "dataset_0[\"teacher_prefix\"]=preprocessed_teacher_prefix\n",
        "dataset_0[\"project_grade\"]=preprocessed_project_grade\n",
        "dataset_0[\"price\"]=project_data[\"price\"]\n",
        "dataset_0[\"teacher_number_of_previously_posted_projects\"]=project_data[\"teacher_number_of_previously_posted_projects\"]\n",
        "dataset_0[\"titles\"]=preprocessed_titles\n",
        "dataset_0[\"essays\"]=preprocessed_essays"
      ],
      "execution_count": 0,
      "outputs": []
    },
    {
      "cell_type": "code",
      "metadata": {
        "id": "QbYWI1LmPQ8F",
        "colab_type": "code",
        "outputId": "83f74ede-bcc1-40cd-bf7e-fb61e45c89d1",
        "colab": {
          "base_uri": "https://localhost:8080/",
          "height": 629
        }
      },
      "source": [
        "dataset_0.head()"
      ],
      "execution_count": 35,
      "outputs": [
        {
          "output_type": "execute_result",
          "data": {
            "text/html": [
              "<div>\n",
              "<style scoped>\n",
              "    .dataframe tbody tr th:only-of-type {\n",
              "        vertical-align: middle;\n",
              "    }\n",
              "\n",
              "    .dataframe tbody tr th {\n",
              "        vertical-align: top;\n",
              "    }\n",
              "\n",
              "    .dataframe thead th {\n",
              "        text-align: right;\n",
              "    }\n",
              "</style>\n",
              "<table border=\"1\" class=\"dataframe\">\n",
              "  <thead>\n",
              "    <tr style=\"text-align: right;\">\n",
              "      <th></th>\n",
              "      <th>clean_categories</th>\n",
              "      <th>clean_subcategories</th>\n",
              "      <th>school_state</th>\n",
              "      <th>teacher_prefix</th>\n",
              "      <th>project_grade</th>\n",
              "      <th>price</th>\n",
              "      <th>teacher_number_of_previously_posted_projects</th>\n",
              "      <th>titles</th>\n",
              "      <th>essays</th>\n",
              "    </tr>\n",
              "  </thead>\n",
              "  <tbody>\n",
              "    <tr>\n",
              "      <th>0</th>\n",
              "      <td>Literacy_Language</td>\n",
              "      <td>Literacy</td>\n",
              "      <td>CA</td>\n",
              "      <td>Mrs</td>\n",
              "      <td>GradesPreK2</td>\n",
              "      <td>329.00</td>\n",
              "      <td>10</td>\n",
              "      <td>mobile learning mobile listening center</td>\n",
              "      <td>class 24 students comes diverse learners stude...</td>\n",
              "    </tr>\n",
              "    <tr>\n",
              "      <th>1</th>\n",
              "      <td>Literacy_Language</td>\n",
              "      <td>ESL Literacy</td>\n",
              "      <td>CA</td>\n",
              "      <td>Ms</td>\n",
              "      <td>GradesPreK2</td>\n",
              "      <td>299.99</td>\n",
              "      <td>127</td>\n",
              "      <td>ipad learners</td>\n",
              "      <td>never society rapidly changed technology invad...</td>\n",
              "    </tr>\n",
              "    <tr>\n",
              "      <th>2</th>\n",
              "      <td>Math_Science</td>\n",
              "      <td>AppliedSciences Mathematics</td>\n",
              "      <td>HI</td>\n",
              "      <td>Mrs</td>\n",
              "      <td>Grades35</td>\n",
              "      <td>479.94</td>\n",
              "      <td>41</td>\n",
              "      <td>dash dot robotic duo needed</td>\n",
              "      <td>remember first time saw star wars wall e robot...</td>\n",
              "    </tr>\n",
              "    <tr>\n",
              "      <th>3</th>\n",
              "      <td>Math_Science AppliedLearning</td>\n",
              "      <td>AppliedSciences EarlyDevelopment</td>\n",
              "      <td>OH</td>\n",
              "      <td>Mrs</td>\n",
              "      <td>GradesPreK2</td>\n",
              "      <td>50.96</td>\n",
              "      <td>72</td>\n",
              "      <td>robots taking 2nd grade</td>\n",
              "      <td>computer coding robotics second graders excite...</td>\n",
              "    </tr>\n",
              "    <tr>\n",
              "      <th>4</th>\n",
              "      <td>Math_Science Literacy_Language</td>\n",
              "      <td>EnvironmentalScience Literacy</td>\n",
              "      <td>KY</td>\n",
              "      <td>Mrs</td>\n",
              "      <td>Grades35</td>\n",
              "      <td>6.81</td>\n",
              "      <td>1</td>\n",
              "      <td>time kids learn science</td>\n",
              "      <td>teach 4th grade math writing social studies sc...</td>\n",
              "    </tr>\n",
              "  </tbody>\n",
              "</table>\n",
              "</div>"
            ],
            "text/plain": [
              "                 clean_categories  ...                                             essays\n",
              "0               Literacy_Language  ...  class 24 students comes diverse learners stude...\n",
              "1               Literacy_Language  ...  never society rapidly changed technology invad...\n",
              "2                    Math_Science  ...  remember first time saw star wars wall e robot...\n",
              "3    Math_Science AppliedLearning  ...  computer coding robotics second graders excite...\n",
              "4  Math_Science Literacy_Language  ...  teach 4th grade math writing social studies sc...\n",
              "\n",
              "[5 rows x 9 columns]"
            ]
          },
          "metadata": {
            "tags": []
          },
          "execution_count": 35
        }
      ]
    },
    {
      "cell_type": "markdown",
      "metadata": {
        "colab_type": "text",
        "id": "V3vrK7BSCypi"
      },
      "source": [
        "# Assignment 3: Apply KNN"
      ]
    },
    {
      "cell_type": "markdown",
      "metadata": {
        "colab_type": "text",
        "id": "WFI1ug-gCypi"
      },
      "source": [
        "<ol>\n",
        "    <li><strong>[Task-1] Apply KNN(brute force version) on these feature sets</strong>\n",
        "        <ul>\n",
        "            <li><font color='red'>Set 1</font>: categorical, numerical features + project_title(BOW) + preprocessed_essay (BOW)</li>\n",
        "            <li><font color='red'>Set 2</font>: categorical, numerical features + project_title(TFIDF)+  preprocessed_essay (TFIDF)</li>\n",
        "            <li><font color='red'>Set 3</font>: categorical, numerical features + project_title(AVG W2V)+  preprocessed_essay (AVG W2V)</li>\n",
        "            <li><font color='red'>Set 4</font>: categorical, numerical features + project_title(TFIDF W2V)+  preprocessed_essay (TFIDF W2V)</li>\n",
        "        </ul>\n",
        "    </li>\n",
        "    <br>\n",
        "    <li><strong>Hyper paramter tuning to find best K</strong>\n",
        "        <ul>\n",
        "    <li>Find the best hyper parameter which results in the maximum <a href='https://www.appliedaicourse.com/course/applied-ai-course-online/lessons/receiver-operating-characteristic-curve-roc-curve-and-auc-1/'>AUC</a> value</li>\n",
        "    <li>Find the best hyper paramter using k-fold cross validation (or) simple cross validation data</li>\n",
        "    <li>Use gridsearch-cv or randomsearch-cv or  write your own for loops to do this task</li>\n",
        "        </ul>\n",
        "    </li>\n",
        "    <br>\n",
        "    <li>\n",
        "    <strong>Representation of results</strong>\n",
        "        <ul>\n",
        "    <li>You need to plot the performance of model both on train data and cross validation data for each hyper parameter, as shown in the figure\n",
        "    <img src='train_cv_auc.JPG' width=300px></li>\n",
        "    <li>Once you find the best hyper parameter, you need to train your model-M using the best hyper-param. Now, find the AUC on test data and plot the ROC curve on both train and test using model-M.\n",
        "    <img src='train_test_auc.JPG' width=300px></li>\n",
        "    <li>Along with plotting ROC curve, you need to print the <a href='https://www.appliedaicourse.com/course/applied-ai-course-online/lessons/confusion-matrix-tpr-fpr-fnr-tnr-1/'>confusion matrix</a> with predicted and original labels of test data points\n",
        "    <img src='confusion_matrix.png' width=300px></li>\n",
        "        </ul>\n",
        "    </li>\n",
        "    <li><strong> [Task-2] </strong>\n",
        "        <ul>\n",
        "            <li>Select top 2000 features from feature <font color='red'>Set 2</font> using <a href='https://scikit-learn.org/stable/modules/generated/sklearn.feature_selection.SelectKBest.html'>`SelectKBest`</a>\n",
        "and then apply KNN on top of these features</li>\n",
        "            <li>\n",
        "                <pre>\n",
        "                from sklearn.datasets import load_digits\n",
        "                from sklearn.feature_selection import SelectKBest, chi2\n",
        "                X, y = load_digits(return_X_y=True)\n",
        "                X.shape\n",
        "                X_new = SelectKBest(chi2, k=20).fit_transform(X, y)\n",
        "                X_new.shape\n",
        "                ========\n",
        "                output:\n",
        "                (1797, 64)\n",
        "                (1797, 20)\n",
        "                </pre>\n",
        "            </li>\n",
        "            <li>Repeat the steps 2 and 3 on the data matrix after feature selection</li>\n",
        "        </ul>\n",
        "    </li>\n",
        "    <br>\n",
        "    <li><strong>Conclusion</strong>\n",
        "        <ul>\n",
        "    <li>You need to summarize the results at the end of the notebook, summarize it in the table format. To print out a table please refer to this prettytable library<a href='http://zetcode.com/python/prettytable/'> link</a> \n",
        "        <img src='summary.JPG' width=400px>\n",
        "    </li>\n",
        "        </ul>\n",
        "</ol>"
      ]
    },
    {
      "cell_type": "markdown",
      "metadata": {
        "colab_type": "text",
        "id": "vNcsOaPrCypk"
      },
      "source": [
        "<h4><font color='red'>Note: Data Leakage</font></h4>\n",
        "\n",
        "1. There will be an issue of data-leakage if you vectorize the entire data and then split it into train/cv/test.\n",
        "2. To avoid the issue of data-leakag, make sure to split your data first and then vectorize it. \n",
        "3. While vectorizing your data, apply the method fit_transform() on you train data, and apply the method transform() on cv/test data.\n",
        "4. For more details please go through this <a href='https://soundcloud.com/applied-ai-course/leakage-bow-and-tfidf'>link.</a>"
      ]
    },
    {
      "cell_type": "markdown",
      "metadata": {
        "colab_type": "text",
        "id": "u7svGNyWCypl"
      },
      "source": [
        "<h1>2. K Nearest Neighbor</h1>"
      ]
    },
    {
      "cell_type": "markdown",
      "metadata": {
        "colab_type": "text",
        "id": "W6fBRNBMCypl"
      },
      "source": [
        "<h2>2.1 Splitting data into Train and cross validation(or test): Stratified Sampling</h2>"
      ]
    },
    {
      "cell_type": "code",
      "metadata": {
        "colab_type": "code",
        "id": "WACKQWT_Cypl",
        "colab": {}
      },
      "source": [
        "# please write all the code with proper documentation, and proper titles for each subsection\n",
        "# go through documentations and blogs before you start coding\n",
        "# first figure out what to do, and then think about how to do.\n",
        "# reading and understanding error messages will be very much helpfull in debugging your code\n",
        "# when you plot any graph make sure you use \n",
        "    # a. Title, that describes your plot, this will be very helpful to the reader\n",
        "    # b. Legends if needed\n",
        "    # c. X-axis label\n",
        "    # d. Y-axis label"
      ],
      "execution_count": 0,
      "outputs": []
    },
    {
      "cell_type": "code",
      "metadata": {
        "id": "KpsA7A-ePQ8b",
        "colab_type": "code",
        "colab": {}
      },
      "source": [
        "from sklearn.model_selection import train_test_split\n",
        "x_train,x_test,y_train,y_test=train_test_split(dataset_0,project_data[\"project_is_approved\"].values,test_size=0.3,random_state=2,stratify=project_data[\"project_is_approved\"].values)"
      ],
      "execution_count": 0,
      "outputs": []
    },
    {
      "cell_type": "code",
      "metadata": {
        "id": "FLTv2nbKPQ8e",
        "colab_type": "code",
        "outputId": "3c4b9739-e833-4369-88b1-44c735ab0497",
        "colab": {
          "base_uri": "https://localhost:8080/",
          "height": 85
        }
      },
      "source": [
        "x_train.columns"
      ],
      "execution_count": 38,
      "outputs": [
        {
          "output_type": "execute_result",
          "data": {
            "text/plain": [
              "Index(['clean_categories', 'clean_subcategories', 'school_state',\n",
              "       'teacher_prefix', 'project_grade', 'price',\n",
              "       'teacher_number_of_previously_posted_projects', 'titles', 'essays'],\n",
              "      dtype='object')"
            ]
          },
          "metadata": {
            "tags": []
          },
          "execution_count": 38
        }
      ]
    },
    {
      "cell_type": "markdown",
      "metadata": {
        "id": "iHM8YLTIPQ8m",
        "colab_type": "text"
      },
      "source": [
        "# 2.2 Make Data Model Ready: encoding numerical, categorical features\n"
      ]
    },
    {
      "cell_type": "code",
      "metadata": {
        "id": "R7uyqOLFPQ8n",
        "colab_type": "code",
        "colab": {}
      },
      "source": [
        "from sklearn.feature_extraction.text import CountVectorizer,TfidfVectorizer\n",
        "count_vect_1=CountVectorizer(lowercase=False,binary=True)\n",
        "train_categories_one_hot=count_vect_1.fit_transform(x_train[\"clean_categories\"].values)\n",
        "test_categories_one_hot=count_vect_1.transform(x_test[\"clean_categories\"].values)\n",
        "count_vect_2=CountVectorizer(lowercase=False,binary=True)\n",
        "train_subcategories_one_hot=count_vect_2.fit_transform(x_train[\"clean_subcategories\"].values)\n",
        "test_subcategories_one_hot=count_vect_2.transform(x_test[\"clean_subcategories\"].values)\n",
        "count_vect_3=CountVectorizer(lowercase=False,binary=True)\n",
        "train_school_state_one_hot=count_vect_3.fit_transform(x_train[\"school_state\"].values)\n",
        "test_school_state_one_hot=count_vect_3.transform(x_test[\"school_state\"].values)\n",
        "count_vect_4=CountVectorizer(lowercase=False,binary=True)\n",
        "train_teacher_prefix=count_vect_4.fit_transform(x_train[\"teacher_prefix\"].values)\n",
        "test_teacher_prefix=count_vect_4.transform(x_test[\"teacher_prefix\"].values)\n",
        "count_vect_5=CountVectorizer(lowercase=False,binary=True)\n",
        "train_project_grade=count_vect_5.fit_transform(x_train[\"project_grade\"].values)\n",
        "test_project_grade=count_vect_5.transform(x_test[\"project_grade\"].values)\n",
        "\n",
        "from sklearn.preprocessing import StandardScaler\n",
        "\n",
        "scaler_1=StandardScaler()\n",
        "train_price=scaler_1.fit_transform(x_train[\"price\"].values.reshape(-1,1))\n",
        "test_price=scaler_1.transform(x_test[\"price\"].values.reshape(-1,1))\n",
        "scaler_2=StandardScaler()\n",
        "train_teacher_num=scaler_2.fit_transform(x_train[\"teacher_number_of_previously_posted_projects\"].values.reshape(-1,1))\n",
        "test_teacher_num=scaler_2.transform(x_test[\"teacher_number_of_previously_posted_projects\"].values.reshape(-1,1))"
      ],
      "execution_count": 0,
      "outputs": []
    },
    {
      "cell_type": "markdown",
      "metadata": {
        "id": "o5S8OhVuPQ8v",
        "colab_type": "text"
      },
      "source": [
        "# 2.3 Make Data Model Ready: encoding eassay, and project_title"
      ]
    },
    {
      "cell_type": "code",
      "metadata": {
        "id": "jqRNQDOSPQ8x",
        "colab_type": "code",
        "colab": {}
      },
      "source": [
        "count_vect_titles=CountVectorizer()\n",
        "train_title_bow=count_vect_titles.fit_transform(x_train[\"titles\"].values)\n",
        "test_title_bow=count_vect_titles.transform(x_test[\"titles\"].values)\n",
        "count_vect_essays=CountVectorizer()\n",
        "train_essay_bow=count_vect_essays.fit_transform(x_train[\"essays\"].values)\n",
        "test_essay_bow=count_vect_essays.transform(x_test[\"essays\"].values)"
      ],
      "execution_count": 0,
      "outputs": []
    },
    {
      "cell_type": "code",
      "metadata": {
        "id": "LbwFzGDAPQ82",
        "colab_type": "code",
        "colab": {}
      },
      "source": [
        "tfidf_vect_titles=TfidfVectorizer()\n",
        "train_title_tfidf=tfidf_vect_titles.fit_transform(x_train[\"titles\"].values)\n",
        "test_title_tfidf=tfidf_vect_titles.transform(x_test[\"titles\"].values)\n",
        "tfidf_vect_essays=TfidfVectorizer()\n",
        "train_essay_tfidf=tfidf_vect_essays.fit_transform(x_train[\"essays\"].values)\n",
        "test_essay_tfidf=tfidf_vect_essays.transform(x_test[\"essays\"].values)"
      ],
      "execution_count": 0,
      "outputs": []
    },
    {
      "cell_type": "code",
      "metadata": {
        "id": "DxawKUtyPQ85",
        "colab_type": "code",
        "outputId": "cdbd508a-7870-44f2-e769-2c73355e2ee3",
        "colab": {
          "base_uri": "https://localhost:8080/",
          "height": 68
        }
      },
      "source": [
        "train_title_list=[]\n",
        "for i in x_train[\"titles\"].values:\n",
        "    train_title_list.append(i.split())\n",
        "w2v_model_titles=Word2Vec(train_title_list,min_count=5,size=50)\n",
        "title_w2v_words=w2v_model_titles.wv.vocab\n",
        "\n",
        "train_avg_w2v_vectors_titles = []; # the avg-w2v for each sentence/review is stored in this list\n",
        "for sentence in tqdm(x_train[\"titles\"].values): \n",
        "    vector = np.zeros(50) # as word vectors are of zero length\n",
        "    cnt_words =0; # num of words with a valid vector in the sentence/review\n",
        "    for word in sentence.split(): \n",
        "        if word in title_w2v_words:\n",
        "            vector +=w2v_model_titles.wv[word]\n",
        "            cnt_words += 1\n",
        "    if cnt_words != 0:\n",
        "        vector /= cnt_words\n",
        "    train_avg_w2v_vectors_titles.append(vector)\n",
        "\n",
        "print(len(train_avg_w2v_vectors_titles))\n",
        "print(len(train_avg_w2v_vectors_titles[0]))"
      ],
      "execution_count": 42,
      "outputs": [
        {
          "output_type": "stream",
          "text": [
            "100%|██████████| 35000/35000 [00:00<00:00, 67568.14it/s]"
          ],
          "name": "stderr"
        },
        {
          "output_type": "stream",
          "text": [
            "35000\n",
            "50\n"
          ],
          "name": "stdout"
        },
        {
          "output_type": "stream",
          "text": [
            "\n"
          ],
          "name": "stderr"
        }
      ]
    },
    {
      "cell_type": "code",
      "metadata": {
        "id": "Vq_DMdVdPQ8-",
        "colab_type": "code",
        "outputId": "92720092-2f3f-42bf-85e7-a116b40e7e17",
        "colab": {
          "base_uri": "https://localhost:8080/",
          "height": 68
        }
      },
      "source": [
        "test_avg_w2v_vectors_titles = [] # the avg-w2v for each sentence/review is stored in this list\n",
        "for sentence in tqdm(x_test[\"titles\"].values): \n",
        "    vector = np.zeros(50) # as word vectors are of zero length\n",
        "    cnt_words =0; # num of words with a valid vector in the sentence/review\n",
        "    for word in sentence.split(): \n",
        "        if word in title_w2v_words:\n",
        "            vector +=w2v_model_titles.wv[word]\n",
        "            cnt_words += 1\n",
        "    if cnt_words != 0:\n",
        "        vector /= cnt_words\n",
        "    test_avg_w2v_vectors_titles.append(vector)\n",
        "\n",
        "print(len(test_avg_w2v_vectors_titles))\n",
        "print(len(test_avg_w2v_vectors_titles[0]))"
      ],
      "execution_count": 43,
      "outputs": [
        {
          "output_type": "stream",
          "text": [
            "100%|██████████| 15000/15000 [00:00<00:00, 61544.04it/s]"
          ],
          "name": "stderr"
        },
        {
          "output_type": "stream",
          "text": [
            "15000\n",
            "50\n"
          ],
          "name": "stdout"
        },
        {
          "output_type": "stream",
          "text": [
            "\n"
          ],
          "name": "stderr"
        }
      ]
    },
    {
      "cell_type": "code",
      "metadata": {
        "id": "HDhH4QE8PQ9D",
        "colab_type": "code",
        "outputId": "5d6e92c3-c75c-4aaa-9b79-6329372a38b5",
        "colab": {
          "base_uri": "https://localhost:8080/",
          "height": 68
        }
      },
      "source": [
        "train_essay_list=[]\n",
        "for i in x_train[\"essays\"].values:\n",
        "    train_essay_list.append(i.split())\n",
        "    \n",
        "w2v_model_essays=Word2Vec(train_essay_list,min_count=10,size=50)\n",
        "\n",
        "essay_w2v_words=w2v_model_essays.wv.vocab\n",
        "train_avg_w2v_vectors_essays = []; # the avg-w2v for each sentence/review is stored in this list\n",
        "for sentence in tqdm(x_train[\"essays\"].values): # for each review/sentence\n",
        "    vector = np.zeros(50) # as word vectors are of zero length\n",
        "    cnt_words =0; # num of words with a valid vector in the sentence/review\n",
        "    for word in sentence.split(): # for each word in a review/sentence\n",
        "        if word in essay_w2v_words:\n",
        "            vector +=w2v_model_essays.wv[word]\n",
        "            cnt_words += 1\n",
        "    if cnt_words != 0:\n",
        "        vector /= cnt_words\n",
        "    train_avg_w2v_vectors_essays.append(vector)\n",
        "\n",
        "print(len(train_avg_w2v_vectors_essays))\n",
        "print(len(train_avg_w2v_vectors_essays[0]))"
      ],
      "execution_count": 44,
      "outputs": [
        {
          "output_type": "stream",
          "text": [
            "100%|██████████| 35000/35000 [00:14<00:00, 2414.29it/s]"
          ],
          "name": "stderr"
        },
        {
          "output_type": "stream",
          "text": [
            "35000\n",
            "50\n"
          ],
          "name": "stdout"
        },
        {
          "output_type": "stream",
          "text": [
            "\n"
          ],
          "name": "stderr"
        }
      ]
    },
    {
      "cell_type": "code",
      "metadata": {
        "id": "7j5-eZRmPQ9H",
        "colab_type": "code",
        "outputId": "d2487cd1-4333-4048-e39c-88c885a2f45b",
        "colab": {
          "base_uri": "https://localhost:8080/",
          "height": 68
        }
      },
      "source": [
        "test_avg_w2v_vectors_essays = []; # the avg-w2v for each sentence/review is stored in this list\n",
        "for sentence in tqdm(x_test[\"essays\"].values): # for each review/sentence\n",
        "    vector = np.zeros(50) # as word vectors are of zero length\n",
        "    cnt_words =0; # num of words with a valid vector in the sentence/review\n",
        "    for word in sentence.split(): # for each word in a review/sentence\n",
        "        if word in essay_w2v_words:\n",
        "            vector +=w2v_model_essays.wv[word]\n",
        "            cnt_words += 1\n",
        "    if cnt_words != 0:\n",
        "        vector /= cnt_words\n",
        "    test_avg_w2v_vectors_essays.append(vector)\n",
        "\n",
        "print(len(test_avg_w2v_vectors_essays))\n",
        "print(len(test_avg_w2v_vectors_essays[0]))"
      ],
      "execution_count": 45,
      "outputs": [
        {
          "output_type": "stream",
          "text": [
            "100%|██████████| 15000/15000 [00:06<00:00, 2404.02it/s]"
          ],
          "name": "stderr"
        },
        {
          "output_type": "stream",
          "text": [
            "15000\n",
            "50\n"
          ],
          "name": "stdout"
        },
        {
          "output_type": "stream",
          "text": [
            "\n"
          ],
          "name": "stderr"
        }
      ]
    },
    {
      "cell_type": "code",
      "metadata": {
        "id": "-nHnf6uePQ9N",
        "colab_type": "code",
        "outputId": "812d1333-56c7-40b3-d88f-a652a72f2dfc",
        "colab": {
          "base_uri": "https://localhost:8080/",
          "height": 68
        }
      },
      "source": [
        "tfidf_model_titles = TfidfVectorizer()\n",
        "tfidf_matrix_train_title=tfidf_model_titles.fit_transform(x_train[\"titles\"].values)\n",
        "tfidf_matrix_test_title=tfidf_model_titles.transform(x_test[\"titles\"].values)\n",
        "# we are converting a dictionary with word as a key, and the idf as a value\n",
        "dictionary_t = dict(zip(tfidf_model_titles.get_feature_names(), list(tfidf_model_titles.idf_)))\n",
        "tfidf_words_titles = set(tfidf_model_titles.get_feature_names())\n",
        "\n",
        "train_tfidf_w2v_vectors_titles = []; # the avg-w2v for each sentence/review is stored in this list\n",
        "for sentence in tqdm(x_train[\"titles\"].values): # for each review/sentence\n",
        "    vector = np.zeros(50) # as word vectors are of zero length\n",
        "    tf_idf_weight =0; # num of words with a valid vector in the sentence/review\n",
        "    for word in sentence.split(): # for each word in a review/sentence\n",
        "        if (word in title_w2v_words) and (word in tfidf_words_titles):\n",
        "            vec = w2v_model_titles.wv[word] # getting the vector for each word\n",
        "            # here we are multiplying idf value(dictionary[word]) and the tf value((sentence.count(word)/len(sentence.split())))\n",
        "            tf_idf = dictionary_t[word]*(sentence.count(word)/len(sentence.split())) # getting the tfidf value for each word\n",
        "            vector += (vec * tf_idf) # calculating tfidf weighted w2v\n",
        "            tf_idf_weight += tf_idf\n",
        "    if tf_idf_weight != 0:\n",
        "        vector /= tf_idf_weight\n",
        "    train_tfidf_w2v_vectors_titles.append(vector)\n",
        "\n",
        "print(len(train_tfidf_w2v_vectors_titles))\n",
        "print(len(train_tfidf_w2v_vectors_titles[0]))"
      ],
      "execution_count": 46,
      "outputs": [
        {
          "output_type": "stream",
          "text": [
            "100%|██████████| 35000/35000 [00:00<00:00, 38157.51it/s]"
          ],
          "name": "stderr"
        },
        {
          "output_type": "stream",
          "text": [
            "35000\n",
            "50\n"
          ],
          "name": "stdout"
        },
        {
          "output_type": "stream",
          "text": [
            "\n"
          ],
          "name": "stderr"
        }
      ]
    },
    {
      "cell_type": "code",
      "metadata": {
        "id": "5iU0p26zPQ9R",
        "colab_type": "code",
        "outputId": "995d010d-9362-4f92-ae54-1e79321c8bf8",
        "colab": {
          "base_uri": "https://localhost:8080/",
          "height": 68
        }
      },
      "source": [
        "test_tfidf_w2v_vectors_titles = []; # the avg-w2v for each sentence/review is stored in this list\n",
        "for sentence in tqdm(x_test[\"titles\"].values): # for each review/sentence\n",
        "    vector = np.zeros(50) # as word vectors are of zero length\n",
        "    tf_idf_weight =0; # num of words with a valid vector in the sentence/review\n",
        "    for word in sentence.split(): # for each word in a review/sentence\n",
        "        if (word in title_w2v_words) and (word in tfidf_words_titles):\n",
        "            vec = w2v_model_titles.wv[word] # getting the vector for each word\n",
        "            # here we are multiplying idf value(dictionary[word]) and the tf value((sentence.count(word)/len(sentence.split())))\n",
        "            tf_idf = dictionary_t[word]*(sentence.count(word)/len(sentence.split())) # getting the tfidf value for each word\n",
        "            vector += (vec * tf_idf) # calculating tfidf weighted w2v\n",
        "            tf_idf_weight += tf_idf\n",
        "    if tf_idf_weight != 0:\n",
        "        vector /= tf_idf_weight\n",
        "    test_tfidf_w2v_vectors_titles.append(vector)\n",
        "\n",
        "print(len(test_tfidf_w2v_vectors_titles))\n",
        "print(len(test_tfidf_w2v_vectors_titles[0]))"
      ],
      "execution_count": 47,
      "outputs": [
        {
          "output_type": "stream",
          "text": [
            "100%|██████████| 15000/15000 [00:00<00:00, 37481.85it/s]"
          ],
          "name": "stderr"
        },
        {
          "output_type": "stream",
          "text": [
            "15000\n",
            "50\n"
          ],
          "name": "stdout"
        },
        {
          "output_type": "stream",
          "text": [
            "\n"
          ],
          "name": "stderr"
        }
      ]
    },
    {
      "cell_type": "code",
      "metadata": {
        "id": "tAcSfFSlPQ9X",
        "colab_type": "code",
        "outputId": "0e046f49-208a-4551-c973-b3107b9bec8f",
        "colab": {
          "base_uri": "https://localhost:8080/",
          "height": 68
        }
      },
      "source": [
        "tfidf_model_essay = TfidfVectorizer()\n",
        "tfidf_matrix_essay_train=tfidf_model_essay.fit_transform(x_train[\"essays\"].values)\n",
        "tfidf_matrix_essay_test=tfidf_model_essay.transform(x_test[\"essays\"].values)\n",
        "# we are converting a dictionary with word as a key, and the idf as a value\n",
        "dictionary_e = dict(zip(tfidf_model_essay.get_feature_names(), list(tfidf_model_essay.idf_)))\n",
        "tfidf_words_essay= set(tfidf_model_essay.get_feature_names())\n",
        "\n",
        "train_tfidf_w2v_vectors_essays = [] # the avg-w2v for each sentence/review is stored in this list\n",
        "for sentence in tqdm(x_train[\"essays\"].values): # for each review/sentence\n",
        "    vector = np.zeros(50) # as word vectors are of zero length\n",
        "    tf_idf_weight =0 # num of words with a valid vector in the sentence/review\n",
        "    for word in sentence.split(): # for each word in a review/sentence\n",
        "        if (word in essay_w2v_words) and (word in tfidf_words_essay):\n",
        "            vec = w2v_model_essays.wv[word] # getting the vector for each word\n",
        "            # here we are multiplying idf value(dictionary[word]) and the tf value((sentence.count(word)/len(sentence.split())))\n",
        "            tf_idf = dictionary_e[word]*(sentence.count(word)/len(sentence.split())) # getting the tfidf value for each word\n",
        "            vector += (vec * tf_idf) # calculating tfidf weighted w2v\n",
        "            tf_idf_weight += tf_idf\n",
        "    if tf_idf_weight != 0:\n",
        "        vector /= tf_idf_weight\n",
        "    train_tfidf_w2v_vectors_essays.append(vector)\n",
        "\n",
        "print(len(train_tfidf_w2v_vectors_essays))\n",
        "print(len(train_tfidf_w2v_vectors_essays[0]))"
      ],
      "execution_count": 48,
      "outputs": [
        {
          "output_type": "stream",
          "text": [
            "100%|██████████| 35000/35000 [01:09<00:00, 500.86it/s]"
          ],
          "name": "stderr"
        },
        {
          "output_type": "stream",
          "text": [
            "35000\n",
            "50\n"
          ],
          "name": "stdout"
        },
        {
          "output_type": "stream",
          "text": [
            "\n"
          ],
          "name": "stderr"
        }
      ]
    },
    {
      "cell_type": "code",
      "metadata": {
        "id": "tr_L_bUGPQ9a",
        "colab_type": "code",
        "outputId": "639120f2-6989-42cd-d79c-6f212aa04d1e",
        "colab": {
          "base_uri": "https://localhost:8080/",
          "height": 68
        }
      },
      "source": [
        "test_tfidf_w2v_vectors_essays = []; # the avg-w2v for each sentence/review is stored in this list\n",
        "for sentence in tqdm(x_test[\"essays\"].values): # for each review/sentence\n",
        "    vector = np.zeros(50) # as word vectors are of zero length\n",
        "    tf_idf_weight =0; # num of words with a valid vector in the sentence/review\n",
        "    for word in sentence.split(): # for each word in a review/sentence\n",
        "        if (word in essay_w2v_words) and (word in tfidf_words_essay):\n",
        "            vec = w2v_model_essays.wv[word] # getting the vector for each word\n",
        "            # here we are multiplying idf value(dictionary[word]) and the tf value((sentence.count(word)/len(sentence.split())))\n",
        "            tf_idf = dictionary_e[word]*(sentence.count(word)/len(sentence.split())) # getting the tfidf value for each word\n",
        "            vector += (vec * tf_idf) # calculating tfidf weighted w2v\n",
        "            tf_idf_weight += tf_idf\n",
        "    if tf_idf_weight != 0:\n",
        "        vector /= tf_idf_weight\n",
        "    test_tfidf_w2v_vectors_essays.append(vector)\n",
        "\n",
        "print(len(test_tfidf_w2v_vectors_essays))\n",
        "print(len(test_tfidf_w2v_vectors_essays[0]))"
      ],
      "execution_count": 49,
      "outputs": [
        {
          "output_type": "stream",
          "text": [
            "100%|██████████| 15000/15000 [00:28<00:00, 518.30it/s]"
          ],
          "name": "stderr"
        },
        {
          "output_type": "stream",
          "text": [
            "15000\n",
            "50\n"
          ],
          "name": "stdout"
        },
        {
          "output_type": "stream",
          "text": [
            "\n"
          ],
          "name": "stderr"
        }
      ]
    },
    {
      "cell_type": "markdown",
      "metadata": {
        "colab_type": "text",
        "id": "UL8bHrflCyps"
      },
      "source": [
        "<h2>2.4 Appling KNN on different kind of featurization as mentioned in the instructions</h2>\n",
        "\n",
        "<br>Apply KNN on different kind of featurization as mentioned in the instructions\n",
        "<br> For Every model that you work on make sure you do the step 2 and step 3 of instructions"
      ]
    },
    {
      "cell_type": "code",
      "metadata": {
        "colab_type": "code",
        "id": "Tsay467cCypt",
        "colab": {}
      },
      "source": [
        "# please write all the code with proper documentation, and proper titles for each subsection\n",
        "# go through documentations and blogs before you start coding\n",
        "# first figure out what to do, and then think about how to do.\n",
        "# reading and understanding error messages will be very much helpfull in debugging your code\n",
        "\n",
        "# when you plot any graph make sure you use \n",
        "    # a. Title, that describes your plot, this will be very helpful to the reader\n",
        "    # b. Legends if needed\n",
        "    # c. X-axis label\n",
        "    # d. Y-axis label"
      ],
      "execution_count": 0,
      "outputs": []
    },
    {
      "cell_type": "code",
      "metadata": {
        "id": "OMBYQftmdmhC",
        "colab_type": "code",
        "colab": {}
      },
      "source": [
        "def find_best_threshold(threshould, fpr, tpr):\n",
        "    t = threshould[np.argmax(tpr*(1-fpr))]\n",
        "    # (tpr*(1-fpr)) will be maximum if your fpr is very low and tpr is very high\n",
        "    print(\"the maximum value of tpr*(1-fpr)\", max(tpr*(1-fpr)), \"for threshold\", np.round(t,3))\n",
        "    return t\n",
        "\n",
        "def predict_with_best_t(proba, threshould):\n",
        "    predictions = []\n",
        "    for i in proba:\n",
        "        if i>=threshould:\n",
        "            predictions.append(1)\n",
        "        else:\n",
        "            predictions.append(0)\n",
        "    return predictions"
      ],
      "execution_count": 0,
      "outputs": []
    },
    {
      "cell_type": "markdown",
      "metadata": {
        "colab_type": "text",
        "id": "B1dIm8PiCypw"
      },
      "source": [
        "### 2.4.1 Applying KNN brute force on BOW,<font color='red'> SET 1</font>"
      ]
    },
    {
      "cell_type": "code",
      "metadata": {
        "colab_type": "code",
        "id": "5VCLzbIoCypy",
        "colab": {}
      },
      "source": [
        "# Please write all the code with proper documentation\n",
        "from scipy.sparse import hstack\n",
        "train_set_1=hstack((train_categories_one_hot,train_subcategories_one_hot,train_school_state_one_hot,train_teacher_prefix,train_project_grade,train_price,train_teacher_num,train_title_bow,train_essay_bow))\n",
        "test_set_1=hstack((test_categories_one_hot,test_subcategories_one_hot,test_school_state_one_hot,test_teacher_prefix,test_project_grade,test_price,test_teacher_num,test_title_bow,test_essay_bow))"
      ],
      "execution_count": 0,
      "outputs": []
    },
    {
      "cell_type": "code",
      "metadata": {
        "id": "exETGkTwM66b",
        "colab_type": "code",
        "colab": {}
      },
      "source": [
        "k_values=[1,5,9,15,21,25,31,37,45]\n",
        "k_range={\"n_neighbors\":k_values}"
      ],
      "execution_count": 0,
      "outputs": []
    },
    {
      "cell_type": "code",
      "metadata": {
        "id": "_nuwg2zGLVr2",
        "colab_type": "code",
        "colab": {}
      },
      "source": [
        "from sklearn.neighbors import KNeighborsClassifier\n",
        "from sklearn.model_selection import GridSearchCV"
      ],
      "execution_count": 0,
      "outputs": []
    },
    {
      "cell_type": "code",
      "metadata": {
        "id": "2UXHYwa5PQ9z",
        "colab_type": "code",
        "outputId": "cb65da3f-8f44-494b-e737-77d95160effb",
        "colab": {
          "base_uri": "https://localhost:8080/",
          "height": 102
        }
      },
      "source": [
        "model_1=GridSearchCV(KNeighborsClassifier(),k_range,cv=5,scoring=\"roc_auc\",return_train_score=True)\n",
        "model_1.fit(train_set_1,y_train)\n",
        "print(model_1.best_estimator_)\n",
        "print(\"=\"*50)\n",
        "print(model_1.best_params_)"
      ],
      "execution_count": 0,
      "outputs": [
        {
          "output_type": "stream",
          "text": [
            "KNeighborsClassifier(algorithm='auto', leaf_size=30, metric='minkowski',\n",
            "                     metric_params=None, n_jobs=None, n_neighbors=45, p=2,\n",
            "                     weights='uniform')\n",
            "==================================================\n",
            "{'n_neighbors': 45}\n"
          ],
          "name": "stdout"
        }
      ]
    },
    {
      "cell_type": "code",
      "metadata": {
        "id": "e-KG7aJmmjpg",
        "colab_type": "code",
        "outputId": "88d711ef-0644-43f0-a87a-6f0628b091f3",
        "colab": {
          "base_uri": "https://localhost:8080/",
          "height": 34
        }
      },
      "source": [
        "print(model_1.best_score_)"
      ],
      "execution_count": 0,
      "outputs": [
        {
          "output_type": "stream",
          "text": [
            "0.6312569554987022\n"
          ],
          "name": "stdout"
        }
      ]
    },
    {
      "cell_type": "code",
      "metadata": {
        "id": "ykTNV8PRPQ95",
        "colab_type": "code",
        "outputId": "8d0745cf-f1bd-4739-a528-d6d2440a8f88",
        "colab": {
          "base_uri": "https://localhost:8080/",
          "height": 295
        }
      },
      "source": [
        "train_auc_score=model_1.cv_results_[\"mean_train_score\"]\n",
        "test_auc_score=model_1.cv_results_[\"mean_test_score\"]\n",
        "plt.plot(k_values,train_auc_score,label=\"Train AUC\")\n",
        "plt.scatter(k_values,train_auc_score,label=\"Train AUC points\")\n",
        "plt.plot(k_values,test_auc_score,label=\"CV AUC\")\n",
        "plt.scatter(k_values,test_auc_score,label=\"CV AUC points\")\n",
        "plt.title(\"Plot of AUC for train and test data\")\n",
        "plt.xlabel(\"K values\")\n",
        "plt.ylabel(\"AUC\")\n",
        "plt.grid()\n",
        "plt.legend()\n",
        "plt.show()"
      ],
      "execution_count": 0,
      "outputs": [
        {
          "output_type": "display_data",
          "data": {
            "image/png": "[encoded data removed]",
            "text/plain": [
              "<Figure size 432x288 with 1 Axes>"
            ]
          },
          "metadata": {
            "tags": []
          }
        }
      ]
    },
    {
      "cell_type": "code",
      "metadata": {
        "id": "6HA0bDl9PQ99",
        "colab_type": "code",
        "outputId": "f6550fad-16fa-42e0-ea01-674a1ab08e02",
        "colab": {
          "base_uri": "https://localhost:8080/",
          "height": 68
        }
      },
      "source": [
        "print(\"Train AUC score : \",model_1.score(train_set_1,y_train))\n",
        "print(\"=\"*50)\n",
        "print(\"Test AUC score : \",model_1.score(test_set_1,y_test))"
      ],
      "execution_count": 0,
      "outputs": [
        {
          "output_type": "stream",
          "text": [
            "Train AUC score :  0.7037249075179031\n",
            "==================================================\n",
            "Test AUC score :  0.63584737822398\n"
          ],
          "name": "stdout"
        }
      ]
    },
    {
      "cell_type": "code",
      "metadata": {
        "id": "h-FqsyDyPQ-B",
        "colab_type": "code",
        "colab": {}
      },
      "source": [
        "from sklearn.metrics import roc_curve,auc,roc_auc_score\n",
        "final_model_1=model_1.best_estimator_\n",
        "pred_train_1=final_model_1.predict(train_set_1)\n",
        "prob_train_1=final_model_1.predict_proba(train_set_1)\n",
        "pred_test_1=final_model_1.predict(test_set_1)\n",
        "prob_test_1=final_model_1.predict_proba(test_set_1)"
      ],
      "execution_count": 0,
      "outputs": []
    },
    {
      "cell_type": "code",
      "metadata": {
        "id": "aBXO42AuPQ-J",
        "colab_type": "code",
        "outputId": "137677ed-accd-474d-9fcc-530880fec652",
        "colab": {
          "base_uri": "https://localhost:8080/",
          "height": 295
        }
      },
      "source": [
        "train_fpr,train_tpr,tr_thresholds=roc_curve(y_train,prob_train_1[:,1])\n",
        "test_fpr,test_tpr,te_thresholds=roc_curve(y_test,prob_test_1[:,1])\n",
        "plt.plot(train_fpr,train_tpr,label=\"Train AUC=\"+str(auc(train_fpr,train_tpr)))\n",
        "plt.plot(test_fpr,test_tpr,label=\"Test AUC=\"+str(auc(test_fpr,test_tpr)))\n",
        "plt.plot([0.0,1.0],[0.0,1.0])\n",
        "plt.title(\"Roc curve of train and test data\")\n",
        "plt.xlabel(\"fpr\")\n",
        "plt.ylabel(\"tpr\")\n",
        "plt.legend()\n",
        "plt.grid()\n",
        "plt.show()"
      ],
      "execution_count": 0,
      "outputs": [
        {
          "output_type": "display_data",
          "data": {
            "image/png": "[encoded data removed]",
            "text/plain": [
              "<Figure size 432x288 with 1 Axes>"
            ]
          },
          "metadata": {
            "tags": []
          }
        }
      ]
    },
    {
      "cell_type": "code",
      "metadata": {
        "id": "2Ry3Wom0PQ-M",
        "colab_type": "code",
        "outputId": "129cf82d-282c-461e-d030-05420ceb50a8",
        "colab": {
          "base_uri": "https://localhost:8080/",
          "height": 562
        }
      },
      "source": [
        "from sklearn.metrics import confusion_matrix\n",
        "import seaborn as sns\n",
        "best_t = find_best_threshold(tr_thresholds, train_fpr, train_tpr)\n",
        "sns.heatmap(confusion_matrix(y_train,predict_with_best_t(prob_train_1[:,1],best_t)),annot=True,fmt=\"d\")\n",
        "plt.title(\"confusion matrix on train dataset\")\n",
        "plt.show()\n",
        "\n",
        "sns.heatmap(confusion_matrix(y_test,predict_with_best_t(prob_test_1[:,1],best_t)),annot=True,fmt=\"d\")\n",
        "plt.title(\"confusion matrix on test dataset\")\n",
        "plt.show()"
      ],
      "execution_count": 0,
      "outputs": [
        {
          "output_type": "stream",
          "text": [
            "the maximum value of tpr*(1-fpr) 0.42115757985266994 for threshold 0.8\n"
          ],
          "name": "stdout"
        },
        {
          "output_type": "display_data",
          "data": {
            "image/png": "[encoded data removed]",
            "text/plain": [
              "<Figure size 432x288 with 2 Axes>"
            ]
          },
          "metadata": {
            "tags": []
          }
        },
        {
          "output_type": "display_data",
          "data": {
            "image/png": "[encoded data removed]",
            "text/plain": [
              "<Figure size 432x288 with 2 Axes>"
            ]
          },
          "metadata": {
            "tags": []
          }
        }
      ]
    },
    {
      "cell_type": "markdown",
      "metadata": {
        "colab_type": "text",
        "id": "s85gPOAbCyp1"
      },
      "source": [
        "### 2.4.2 Applying KNN brute force on TFIDF,<font color='red'> SET 2</font>"
      ]
    },
    {
      "cell_type": "code",
      "metadata": {
        "colab_type": "code",
        "id": "AfUKrzirCyp1",
        "colab": {}
      },
      "source": [
        "# Please write all the code with proper documentation\n",
        "train_set_2=hstack((train_categories_one_hot,train_subcategories_one_hot,train_school_state_one_hot,train_teacher_prefix,train_project_grade,train_price,train_teacher_num,train_title_tfidf,train_essay_tfidf))\n",
        "test_set_2=hstack((test_categories_one_hot,test_subcategories_one_hot,test_school_state_one_hot,test_teacher_prefix,test_project_grade,test_price,test_teacher_num,test_title_tfidf,test_essay_tfidf))"
      ],
      "execution_count": 0,
      "outputs": []
    },
    {
      "cell_type": "code",
      "metadata": {
        "id": "iwmxUUocPQ-V",
        "colab_type": "code",
        "outputId": "2368d4f8-79e2-4ac7-b190-05c6d396d980",
        "colab": {
          "base_uri": "https://localhost:8080/",
          "height": 187
        }
      },
      "source": [
        "model_2=GridSearchCV(KNeighborsClassifier(),k_range,cv=5,scoring=\"roc_auc\",return_train_score=True)\n",
        "model_2.fit(train_set_2,y_train)"
      ],
      "execution_count": 0,
      "outputs": [
        {
          "output_type": "execute_result",
          "data": {
            "text/plain": [
              "GridSearchCV(cv=5, error_score=nan,\n",
              "             estimator=KNeighborsClassifier(algorithm='auto', leaf_size=30,\n",
              "                                            metric='minkowski',\n",
              "                                            metric_params=None, n_jobs=None,\n",
              "                                            n_neighbors=5, p=2,\n",
              "                                            weights='uniform'),\n",
              "             iid='deprecated', n_jobs=None,\n",
              "             param_grid={'n_neighbors': [1, 5, 9, 15, 21, 25, 31, 37, 45]},\n",
              "             pre_dispatch='2*n_jobs', refit=True, return_train_score=True,\n",
              "             scoring='roc_auc', verbose=0)"
            ]
          },
          "metadata": {
            "tags": []
          },
          "execution_count": 121
        }
      ]
    },
    {
      "cell_type": "code",
      "metadata": {
        "id": "f71TE03p8AXn",
        "colab_type": "code",
        "outputId": "09849f2e-896a-4d39-ea1e-dce337a1ae6a",
        "colab": {
          "base_uri": "https://localhost:8080/",
          "height": 136
        }
      },
      "source": [
        "print(model_2.best_estimator_)\n",
        "print(\"=\"*50)\n",
        "print(model_2.best_params_)\n",
        "print(\"=\"*50)\n",
        "print(model_2.best_score_)"
      ],
      "execution_count": 0,
      "outputs": [
        {
          "output_type": "stream",
          "text": [
            "KNeighborsClassifier(algorithm='auto', leaf_size=30, metric='minkowski',\n",
            "                     metric_params=None, n_jobs=None, n_neighbors=45, p=2,\n",
            "                     weights='uniform')\n",
            "==================================================\n",
            "{'n_neighbors': 45}\n",
            "==================================================\n",
            "0.5860716230376541\n"
          ],
          "name": "stdout"
        }
      ]
    },
    {
      "cell_type": "code",
      "metadata": {
        "id": "qDKfGY-4PQ-Z",
        "colab_type": "code",
        "outputId": "922db31a-4e37-434e-a5eb-0faa56622c43",
        "colab": {
          "base_uri": "https://localhost:8080/",
          "height": 265
        }
      },
      "source": [
        "train_score=model_2.cv_results_[\"mean_train_score\"]\n",
        "test_score=model_2.cv_results_[\"mean_test_score\"]\n",
        "plt.plot(k_values,train_score,label=\"Train AUC\")\n",
        "plt.scatter(k_values,train_score,label=\"Train AUC points\")\n",
        "plt.plot(k_values,test_score,label=\"Test AUC\")\n",
        "plt.scatter(k_values,test_score,label=\"Test AUC points\")\n",
        "plt.legend()\n",
        "plt.grid()\n",
        "plt.show()"
      ],
      "execution_count": 0,
      "outputs": [
        {
          "output_type": "display_data",
          "data": {
            "image/png": "[encoded data removed]",
            "text/plain": [
              "<Figure size 432x288 with 1 Axes>"
            ]
          },
          "metadata": {
            "tags": []
          }
        }
      ]
    },
    {
      "cell_type": "code",
      "metadata": {
        "id": "4ZulhZy7PQ-l",
        "colab_type": "code",
        "outputId": "525c703d-6d55-4611-abb1-6de47dd8f85b",
        "colab": {
          "base_uri": "https://localhost:8080/",
          "height": 295
        }
      },
      "source": [
        "final_model_2=model_2.best_estimator_\n",
        "prob_train_2=final_model_2.predict_proba(train_set_2)\n",
        "prob_test_2=final_model_2.predict_proba(test_set_2)\n",
        "fpr_train_2,tpr_train_2,tr_thresholds_2=roc_curve(y_train,prob_train_2[:,1])\n",
        "fpr_test_2,tpr_test_2,te_thresholds_2=roc_curve(y_test,prob_test_2[:,1])\n",
        "plt.plot(fpr_train_2,tpr_train_2,label=\"Train AUC=\"+str(auc(fpr_train_2,tpr_train_2)))\n",
        "plt.plot(fpr_test_2,tpr_test_2,label=\"Test AUC=\"+str(auc(fpr_test_2,tpr_test_2)))\n",
        "plt.plot([0.0,1.0],[0.0,1.0])\n",
        "plt.title(\"roc curve on train and test data\")\n",
        "plt.xlabel(\"FPR\")\n",
        "plt.ylabel(\"TPR\")\n",
        "plt.grid()\n",
        "plt.legend()\n",
        "plt.show()"
      ],
      "execution_count": 0,
      "outputs": [
        {
          "output_type": "display_data",
          "data": {
            "image/png": "[encoded data removed]",
            "text/plain": [
              "<Figure size 432x288 with 1 Axes>"
            ]
          },
          "metadata": {
            "tags": []
          }
        }
      ]
    },
    {
      "cell_type": "code",
      "metadata": {
        "id": "YyXVqQowPQ-q",
        "colab_type": "code",
        "outputId": "40607112-a874-4ddb-8bb4-ef0e57f0f99b",
        "colab": {
          "base_uri": "https://localhost:8080/",
          "height": 68
        }
      },
      "source": [
        "print(\"Train AUC score : \",roc_auc_score(y_train,prob_train_2[:,1]))\n",
        "print(\"=\"*50)\n",
        "print(\"Test AUC score : \",roc_auc_score(y_test,prob_test_2[:,1]))"
      ],
      "execution_count": 0,
      "outputs": [
        {
          "output_type": "stream",
          "text": [
            "Train AUC score :  0.6772350690382537\n",
            "==================================================\n",
            "Test AUC score :  0.5853212481794884\n"
          ],
          "name": "stdout"
        }
      ]
    },
    {
      "cell_type": "code",
      "metadata": {
        "id": "mYyJ0ssuPQ-w",
        "colab_type": "code",
        "outputId": "0b72d45e-9870-4775-d4d0-1dc5b499f19c",
        "colab": {
          "base_uri": "https://localhost:8080/",
          "height": 562
        }
      },
      "source": [
        "best_t = find_best_threshold(tr_thresholds_2, fpr_train_2, tpr_train_2)\n",
        "sns.heatmap(confusion_matrix(y_train,predict_with_best_t(prob_train_2[:,1],best_t)),annot=True,fmt=\"d\")\n",
        "plt.title(\"confusion matrix on train dataset\")\n",
        "plt.show()\n",
        "\n",
        "sns.heatmap(confusion_matrix(y_test,predict_with_best_t(prob_test_2[:,1],best_t)),annot=True,fmt=\"d\")\n",
        "plt.title(\"confusion matrix on test dataset\")\n",
        "plt.show()"
      ],
      "execution_count": 0,
      "outputs": [
        {
          "output_type": "stream",
          "text": [
            "the maximum value of tpr*(1-fpr) 0.3917174037740356 for threshold 0.844\n"
          ],
          "name": "stdout"
        },
        {
          "output_type": "display_data",
          "data": {
            "image/png": "[encoded data removed]",
            "text/plain": [
              "<Figure size 432x288 with 2 Axes>"
            ]
          },
          "metadata": {
            "tags": []
          }
        },
        {
          "output_type": "display_data",
          "data": {
            "image/png": "[encoded data removed]",
            "text/plain": [
              "<Figure size 432x288 with 2 Axes>"
            ]
          },
          "metadata": {
            "tags": []
          }
        }
      ]
    },
    {
      "cell_type": "markdown",
      "metadata": {
        "colab_type": "text",
        "id": "oq3NW2CbCyp3"
      },
      "source": [
        "### 2.4.3 Applying KNN brute force on AVG W2V,<font color='red'> SET 3</font>"
      ]
    },
    {
      "cell_type": "code",
      "metadata": {
        "colab_type": "code",
        "id": "jRug28P9Cyp3",
        "colab": {}
      },
      "source": [
        "# Please write all the code with proper documentation\n",
        "train_set_3=hstack((train_categories_one_hot,train_subcategories_one_hot,train_school_state_one_hot,train_teacher_prefix,train_project_grade,train_price,train_teacher_num,train_avg_w2v_vectors_titles,train_avg_w2v_vectors_essays))\n",
        "test_set_3=hstack((test_categories_one_hot,test_subcategories_one_hot,test_school_state_one_hot,test_teacher_prefix,test_project_grade,test_price,test_teacher_num,test_avg_w2v_vectors_titles,test_avg_w2v_vectors_essays))"
      ],
      "execution_count": 0,
      "outputs": []
    },
    {
      "cell_type": "code",
      "metadata": {
        "id": "5RlyTyckPQ-5",
        "colab_type": "code",
        "outputId": "006e6caf-8c47-4c98-dddf-ef9a446121d3",
        "colab": {
          "base_uri": "https://localhost:8080/",
          "height": 187
        }
      },
      "source": [
        "model_3=GridSearchCV(KNeighborsClassifier(),k_range,cv=5,scoring=\"roc_auc\",return_train_score=True)\n",
        "model_3.fit(train_set_3,y_train)"
      ],
      "execution_count": 0,
      "outputs": [
        {
          "output_type": "execute_result",
          "data": {
            "text/plain": [
              "GridSearchCV(cv=5, error_score=nan,\n",
              "             estimator=KNeighborsClassifier(algorithm='auto', leaf_size=30,\n",
              "                                            metric='minkowski',\n",
              "                                            metric_params=None, n_jobs=None,\n",
              "                                            n_neighbors=5, p=2,\n",
              "                                            weights='uniform'),\n",
              "             iid='deprecated', n_jobs=None,\n",
              "             param_grid={'n_neighbors': [1, 5, 9, 15, 21, 25, 31, 37, 45]},\n",
              "             pre_dispatch='2*n_jobs', refit=True, return_train_score=True,\n",
              "             scoring='roc_auc', verbose=0)"
            ]
          },
          "metadata": {
            "tags": []
          },
          "execution_count": 56
        }
      ]
    },
    {
      "cell_type": "code",
      "metadata": {
        "id": "Q8nkahLHmS5N",
        "colab_type": "code",
        "outputId": "7a38d8dc-fc4c-4a21-e42d-217da1cb3d63",
        "colab": {
          "base_uri": "https://localhost:8080/",
          "height": 136
        }
      },
      "source": [
        "print(model_3.best_estimator_)\n",
        "print(\"=\"*50)\n",
        "print(model_3.best_params_)\n",
        "print('='*50)\n",
        "print(\"Best score on cross validation data=\",model_3.best_score_)"
      ],
      "execution_count": 0,
      "outputs": [
        {
          "output_type": "stream",
          "text": [
            "KNeighborsClassifier(algorithm='auto', leaf_size=30, metric='minkowski',\n",
            "                     metric_params=None, n_jobs=None, n_neighbors=45, p=2,\n",
            "                     weights='uniform')\n",
            "==================================================\n",
            "{'n_neighbors': 45}\n",
            "==================================================\n",
            "Best score on cross validation data= 0.6322742465022726\n"
          ],
          "name": "stdout"
        }
      ]
    },
    {
      "cell_type": "code",
      "metadata": {
        "id": "-W_rRtIFK6qP",
        "colab_type": "code",
        "outputId": "2cc1b641-77c1-4eee-b1bf-593f88c2a4e0",
        "colab": {
          "base_uri": "https://localhost:8080/",
          "height": 295
        }
      },
      "source": [
        "train_auc_score_3=model_3.cv_results_[\"mean_train_score\"]\n",
        "test_auc_score_3=model_3.cv_results_[\"mean_test_score\"]\n",
        "plt.plot(k_values,train_auc_score_3,label=\"Train AUC\")\n",
        "plt.scatter(k_values,train_auc_score_3,label=\"Train AUC points\")\n",
        "plt.plot(k_values,test_auc_score_3,label=\"CV AUC\")\n",
        "plt.scatter(k_values,test_auc_score_3,label=\"Test AUC points\")\n",
        "plt.title(\"Plot of AUC for train and test data\")\n",
        "plt.xlabel(\"K values\")\n",
        "plt.ylabel(\"AUC\")\n",
        "plt.grid()\n",
        "plt.legend()\n",
        "plt.show()"
      ],
      "execution_count": 0,
      "outputs": [
        {
          "output_type": "display_data",
          "data": {
            "image/png": "[encoded data removed]",
            "text/plain": [
              "<Figure size 432x288 with 1 Axes>"
            ]
          },
          "metadata": {
            "tags": []
          }
        }
      ]
    },
    {
      "cell_type": "code",
      "metadata": {
        "id": "cM_Ni8ckPQ-_",
        "colab_type": "code",
        "outputId": "63d3fa81-1ebc-4293-fedf-e5a1a8665954",
        "colab": {
          "base_uri": "https://localhost:8080/",
          "height": 295
        }
      },
      "source": [
        "final_model_3=model_3.best_estimator_\n",
        "prob_train_3=final_model_3.predict_proba(train_set_3)\n",
        "prob_test_3=final_model_3.predict_proba(test_set_3)\n",
        "fpr_train_3,tpr_train_3,tr_thresholds_3=roc_curve(y_train,prob_train_3[:,1])\n",
        "fpr_test_3,tpr_test_3,te_thresholds_3=roc_curve(y_test,prob_test_3[:,1])\n",
        "plt.plot(fpr_train_3,tpr_train_3,label=\"Train AUC=\"+str(auc(fpr_train_3,tpr_train_3)))\n",
        "\n",
        "plt.plot(fpr_test_3,tpr_test_3,label=\"Test=\"+str(auc(fpr_test_3,tpr_test_3)))\n",
        "plt.plot([0.0,1.0],[0.0,1.0])\n",
        "plt.title(\"roc curve on train and test data\")\n",
        "plt.xlabel(\"FPR\")\n",
        "plt.ylabel(\"TPR\")\n",
        "plt.grid()\n",
        "plt.legend()\n",
        "plt.show()"
      ],
      "execution_count": 0,
      "outputs": [
        {
          "output_type": "display_data",
          "data": {
            "image/png": "[encoded data removed]",
            "text/plain": [
              "<Figure size 432x288 with 1 Axes>"
            ]
          },
          "metadata": {
            "tags": []
          }
        }
      ]
    },
    {
      "cell_type": "code",
      "metadata": {
        "id": "b8seRe1kPQ_J",
        "colab_type": "code",
        "outputId": "667a5bda-30fa-41b1-d26d-0f08e5625522",
        "colab": {
          "base_uri": "https://localhost:8080/",
          "height": 562
        }
      },
      "source": [
        "best_t = find_best_threshold(tr_thresholds_3, fpr_train_3, tpr_train_3)\n",
        "sns.heatmap(confusion_matrix(y_train,predict_with_best_t(prob_train_3[:,1],best_t)),annot=True,fmt=\"d\")\n",
        "plt.title(\"confusion matrix on train dataset\")\n",
        "plt.show()\n",
        "\n",
        "sns.heatmap(confusion_matrix(y_test,predict_with_best_t(prob_test_3[:,1],best_t)),annot=True,fmt=\"d\")\n",
        "plt.title(\"confusion matrix on test dataset\")\n",
        "plt.show()"
      ],
      "execution_count": 0,
      "outputs": [
        {
          "output_type": "stream",
          "text": [
            "the maximum value of tpr*(1-fpr) 0.42896609763556914 for threshold 0.867\n"
          ],
          "name": "stdout"
        },
        {
          "output_type": "display_data",
          "data": {
            "image/png": "[encoded data removed]",
            "text/plain": [
              "<Figure size 432x288 with 2 Axes>"
            ]
          },
          "metadata": {
            "tags": []
          }
        },
        {
          "output_type": "display_data",
          "data": {
            "image/png": "[encoded data removed]",
            "text/plain": [
              "<Figure size 432x288 with 2 Axes>"
            ]
          },
          "metadata": {
            "tags": []
          }
        }
      ]
    },
    {
      "cell_type": "markdown",
      "metadata": {
        "colab_type": "text",
        "id": "TJLjbsNYCyp5"
      },
      "source": [
        "### 2.4.4 Applying KNN brute force on TFIDF W2V,<font color='red'> SET 4</font>"
      ]
    },
    {
      "cell_type": "code",
      "metadata": {
        "id": "gTXtWjmQPQ_N",
        "colab_type": "code",
        "colab": {}
      },
      "source": [
        "# Please write all the code with proper documentation\n",
        "train_set_4=hstack((train_categories_one_hot,train_subcategories_one_hot,train_school_state_one_hot,train_teacher_prefix,train_project_grade,train_price,train_teacher_num,train_tfidf_w2v_vectors_titles,train_tfidf_w2v_vectors_essays))\n",
        "test_set_4=hstack((test_categories_one_hot,test_subcategories_one_hot,test_school_state_one_hot,test_teacher_prefix,test_project_grade,test_price,test_teacher_num,test_tfidf_w2v_vectors_titles,test_tfidf_w2v_vectors_essays))"
      ],
      "execution_count": 0,
      "outputs": []
    },
    {
      "cell_type": "code",
      "metadata": {
        "id": "v0RcB2KLPQ_R",
        "colab_type": "code",
        "outputId": "f4afd6ad-580b-4431-f97b-91b7fcb90b3e",
        "colab": {
          "base_uri": "https://localhost:8080/",
          "height": 136
        }
      },
      "source": [
        "model_4=GridSearchCV(KNeighborsClassifier(),k_range,cv=5,scoring=\"roc_auc\",return_train_score=True)\n",
        "model_4.fit(train_set_4,y_train)\n",
        "print(model_4.best_estimator_)\n",
        "print('='*50)\n",
        "print(model_4.best_params_)\n",
        "print(\"=\"*50)\n",
        "print(\"Best cross validation score=\",model_4.best_score_)"
      ],
      "execution_count": 0,
      "outputs": [
        {
          "output_type": "stream",
          "text": [
            "KNeighborsClassifier(algorithm='auto', leaf_size=30, metric='minkowski',\n",
            "                     metric_params=None, n_jobs=None, n_neighbors=45, p=2,\n",
            "                     weights='uniform')\n",
            "==================================================\n",
            "{'n_neighbors': 45}\n",
            "==================================================\n",
            "Best cross validation score= 0.659627280024348\n"
          ],
          "name": "stdout"
        }
      ]
    },
    {
      "cell_type": "code",
      "metadata": {
        "id": "j6uv9FFinSsS",
        "colab_type": "code",
        "outputId": "6da4a819-19ab-49d3-88da-c6ecdaf688c8",
        "colab": {
          "base_uri": "https://localhost:8080/",
          "height": 295
        }
      },
      "source": [
        "train_auc_score_4=model_4.cv_results_[\"mean_train_score\"]\n",
        "test_auc_score_4=model_4.cv_results_[\"mean_test_score\"]\n",
        "plt.plot(k_values,train_auc_score_4,label=\"Train\")\n",
        "plt.scatter(k_values,train_auc_score_4,label=\"Train AUC points\")\n",
        "plt.plot(k_values,test_auc_score_4,label=\"CV\")\n",
        "plt.scatter(k_values,test_auc_score_4,label=\"CV AUC points\")\n",
        "plt.title(\"Plot of AUC for train and test data\")\n",
        "plt.xlabel(\"K values\")\n",
        "plt.ylabel(\"AUC\")\n",
        "plt.grid()\n",
        "plt.legend()\n",
        "plt.show()"
      ],
      "execution_count": 0,
      "outputs": [
        {
          "output_type": "display_data",
          "data": {
            "image/png": "[encoded data removed]",
            "text/plain": [
              "<Figure size 432x288 with 1 Axes>"
            ]
          },
          "metadata": {
            "tags": []
          }
        }
      ]
    },
    {
      "cell_type": "code",
      "metadata": {
        "id": "42hNmn6mPQ_Z",
        "colab_type": "code",
        "outputId": "894ab86e-3398-4e4b-c04b-1b10b5cb5260",
        "colab": {
          "base_uri": "https://localhost:8080/",
          "height": 295
        }
      },
      "source": [
        "final_model_4=model_4.best_estimator_\n",
        "prob_train_4=final_model_4.predict_proba(train_set_4)\n",
        "prob_test_4=final_model_4.predict_proba(test_set_4)\n",
        "fpr_train_4,tpr_train_4,tr_thresholds_4=roc_curve(y_train,prob_train_4[:,1])\n",
        "fpr_test_4,tpr_test_4,te_thresholds_4=roc_curve(y_test,prob_test_4[:,1])\n",
        "plt.plot(fpr_train_4,tpr_train_4,label=\"Train AUC=\"+str(auc(fpr_train_4,tpr_train_4)))\n",
        "plt.plot(fpr_test_4,tpr_test_4,label=\"Test AUC=\"+str(auc(fpr_test_4,tpr_test_4)))\n",
        "plt.plot([0.0,1.0],[0.0,1.0])\n",
        "plt.title(\"roc curve on train and test data\")\n",
        "plt.xlabel(\"FPR\")\n",
        "plt.ylabel(\"TPR\")\n",
        "plt.grid()\n",
        "plt.legend()\n",
        "plt.show()"
      ],
      "execution_count": 0,
      "outputs": [
        {
          "output_type": "display_data",
          "data": {
            "image/png": "[encoded data removed]",
            "text/plain": [
              "<Figure size 432x288 with 1 Axes>"
            ]
          },
          "metadata": {
            "tags": []
          }
        }
      ]
    },
    {
      "cell_type": "code",
      "metadata": {
        "id": "NqCAjSojnv8l",
        "colab_type": "code",
        "outputId": "68f5c2ee-aba3-4ee4-a076-53f420663a46",
        "colab": {
          "base_uri": "https://localhost:8080/",
          "height": 562
        }
      },
      "source": [
        "best_t = find_best_threshold(tr_thresholds_4, fpr_train_4, tpr_train_4)\n",
        "sns.heatmap(confusion_matrix(y_train,predict_with_best_t(prob_train_4[:,1],best_t)),annot=True,fmt=\"d\")\n",
        "plt.title(\"confusion matrix on train dataset\")\n",
        "plt.show()\n",
        "\n",
        "sns.heatmap(confusion_matrix(y_test,predict_with_best_t(prob_test_4[:,1],best_t)),annot=True,fmt=\"d\")\n",
        "plt.title(\"confusion matrix on test dataset\")\n",
        "plt.show()"
      ],
      "execution_count": 0,
      "outputs": [
        {
          "output_type": "stream",
          "text": [
            "the maximum value of tpr*(1-fpr) 0.4499153592438889 for threshold 0.867\n"
          ],
          "name": "stdout"
        },
        {
          "output_type": "display_data",
          "data": {
            "image/png": "[encoded data removed]",
            "text/plain": [
              "<Figure size 432x288 with 2 Axes>"
            ]
          },
          "metadata": {
            "tags": []
          }
        },
        {
          "output_type": "display_data",
          "data": {
            "image/png": "[encoded data removed]",
            "text/plain": [
              "<Figure size 432x288 with 2 Axes>"
            ]
          },
          "metadata": {
            "tags": []
          }
        }
      ]
    },
    {
      "cell_type": "markdown",
      "metadata": {
        "colab_type": "text",
        "id": "G60n-gK8Cyp7"
      },
      "source": [
        "<h2>2.5 Feature selection with `SelectKBest` </h2>"
      ]
    },
    {
      "cell_type": "code",
      "metadata": {
        "id": "XfZxThfcPQ_f",
        "colab_type": "code",
        "outputId": "8b61be75-ac74-48bf-b435-eafddfc8c983",
        "colab": {
          "base_uri": "https://localhost:8080/",
          "height": 34
        }
      },
      "source": [
        "print(train_set_2.shape)"
      ],
      "execution_count": 56,
      "outputs": [
        {
          "output_type": "stream",
          "text": [
            "(35000, 46058)\n"
          ],
          "name": "stdout"
        }
      ]
    },
    {
      "cell_type": "code",
      "metadata": {
        "colab_type": "code",
        "id": "VThRCDvZCyp9",
        "outputId": "40d92387-4b2a-400d-f00f-f2f17e591c18",
        "colab": {
          "base_uri": "https://localhost:8080/",
          "height": 51
        }
      },
      "source": [
        "from sklearn.feature_selection import SelectKBest,chi2\n",
        "\n",
        "skb=SelectKBest(chi2,k=2000)\n",
        "skb.fit(abs(train_set_2),y_train)\n",
        "x_new_train=skb.transform(abs(train_set_2))\n",
        "x_new_test=skb.transform(abs(test_set_2))\n",
        "print(x_new_train.shape)\n",
        "print(x_new_test.shape)"
      ],
      "execution_count": 57,
      "outputs": [
        {
          "output_type": "stream",
          "text": [
            "(35000, 2000)\n",
            "(15000, 2000)\n"
          ],
          "name": "stdout"
        }
      ]
    },
    {
      "cell_type": "code",
      "metadata": {
        "id": "h4LpRaM9PQ_u",
        "colab_type": "code",
        "colab": {
          "base_uri": "https://localhost:8080/",
          "height": 136
        },
        "outputId": "8c0ada71-94ea-4e75-f85d-cb772376a3f1"
      },
      "source": [
        "knew_model=GridSearchCV(KNeighborsClassifier(),k_range,cv=5,scoring=\"roc_auc\",return_train_score=True)\n",
        "knew_model.fit(x_new_train,y_train)\n",
        "print(knew_model.best_estimator_)\n",
        "print(\"=\"*50)\n",
        "print(knew_model.best_params_)\n",
        "print(\"=\"*50)\n",
        "print(\"Best cross validation score : \",knew_model.best_score_)"
      ],
      "execution_count": 58,
      "outputs": [
        {
          "output_type": "stream",
          "text": [
            "KNeighborsClassifier(algorithm='auto', leaf_size=30, metric='minkowski',\n",
            "                     metric_params=None, n_jobs=None, n_neighbors=45, p=2,\n",
            "                     weights='uniform')\n",
            "==================================================\n",
            "{'n_neighbors': 45}\n",
            "==================================================\n",
            "Best cross validation score :  0.5532221312171537\n"
          ],
          "name": "stdout"
        }
      ]
    },
    {
      "cell_type": "code",
      "metadata": {
        "id": "PduqEcF7gZeZ",
        "colab_type": "code",
        "outputId": "927dd13b-3af1-4bf1-951f-9a46614a9f80",
        "colab": {
          "base_uri": "https://localhost:8080/",
          "height": 295
        }
      },
      "source": [
        "train_auc_score_k=knew_model.cv_results_[\"mean_train_score\"]\n",
        "test_auc_score_k=knew_model.cv_results_[\"mean_test_score\"]\n",
        "plt.plot(k_values,train_auc_score_k,label=\"Train\")\n",
        "plt.scatter(k_values,train_auc_score_k,label=\"Train AUC points\")\n",
        "plt.plot(k_values,test_auc_score_k,label=\"CV\")\n",
        "plt.scatter(k_values,test_auc_score_k,label=\"CV AUC points\")\n",
        "plt.title(\"Plot of AUC for train and test data\")\n",
        "plt.xlabel(\"K values\")\n",
        "plt.ylabel(\"AUC\")\n",
        "plt.grid()\n",
        "plt.legend()\n",
        "plt.show()"
      ],
      "execution_count": 59,
      "outputs": [
        {
          "output_type": "display_data",
          "data": {
            "image/png": "[encoded data removed]",
            "text/plain": [
              "<Figure size 432x288 with 1 Axes>"
            ]
          },
          "metadata": {
            "tags": []
          }
        }
      ]
    },
    {
      "cell_type": "code",
      "metadata": {
        "id": "gL6fHg82gZ5K",
        "colab_type": "code",
        "outputId": "0ed63153-c590-45d6-9de4-0a0f41fe2b27",
        "colab": {
          "base_uri": "https://localhost:8080/",
          "height": 295
        }
      },
      "source": [
        "prob_train_k=knew_model.predict_proba(x_new_train)\n",
        "prob_test_k=knew_model.predict_proba(x_new_test)\n",
        "fpr_train_k,tpr_train_k,tr_thresholds_k=roc_curve(y_train,prob_train_k[:,1])\n",
        "fpr_test_k,tpr_test_k,te_thresholds_k=roc_curve(y_test,prob_test_k[:,1])\n",
        "plt.plot(fpr_train_k,tpr_train_k,label=\"Train AUC=\"+str(auc(fpr_train_k,tpr_train_k)))\n",
        "plt.plot(fpr_test_k,tpr_test_k,label=\"Test AUC=\"+str(auc(fpr_test_k,tpr_test_k)))\n",
        "plt.plot([0.0,1.0],[0.0,1.0])\n",
        "plt.title(\"ROC curve on train and test data\")\n",
        "plt.xlabel(\"FPR\")\n",
        "plt.ylabel(\"TPR\")\n",
        "plt.grid()\n",
        "plt.legend()\n",
        "plt.show()"
      ],
      "execution_count": 60,
      "outputs": [
        {
          "output_type": "display_data",
          "data": {
            "image/png": "[encoded data removed]",
            "text/plain": [
              "<Figure size 432x288 with 1 Axes>"
            ]
          },
          "metadata": {
            "tags": []
          }
        }
      ]
    },
    {
      "cell_type": "code",
      "metadata": {
        "id": "aIbZ4MxJgaMg",
        "colab_type": "code",
        "outputId": "8774d7a5-9f82-4154-e00a-93151d987e99",
        "colab": {
          "base_uri": "https://localhost:8080/",
          "height": 562
        }
      },
      "source": [
        "best_t = find_best_threshold(tr_thresholds_k, fpr_train_k, tpr_train_k)\n",
        "sns.heatmap(confusion_matrix(y_train,predict_with_best_t(prob_train_k[:,1],best_t)),annot=True,fmt=\"d\")\n",
        "plt.title(\"confusion matrix on train dataset\")\n",
        "plt.show()\n",
        "\n",
        "sns.heatmap(confusion_matrix(y_test,predict_with_best_t(prob_test_k[:,1],best_t)),annot=True,fmt=\"d\")\n",
        "plt.title(\"confusion matrix on test dataset\")\n",
        "plt.show()"
      ],
      "execution_count": 61,
      "outputs": [
        {
          "output_type": "stream",
          "text": [
            "the maximum value of tpr*(1-fpr) 0.37599174332924046 for threshold 0.889\n"
          ],
          "name": "stdout"
        },
        {
          "output_type": "display_data",
          "data": {
            "image/png": "[encoded data removed]",
            "text/plain": [
              "<Figure size 432x288 with 2 Axes>"
            ]
          },
          "metadata": {
            "tags": []
          }
        },
        {
          "output_type": "display_data",
          "data": {
            "image/png": "[encoded data removed]",
            "text/plain": [
              "<Figure size 432x288 with 2 Axes>"
            ]
          },
          "metadata": {
            "tags": []
          }
        }
      ]
    },
    {
      "cell_type": "markdown",
      "metadata": {
        "colab_type": "text",
        "id": "bemispVtCyp-"
      },
      "source": [
        "<h1>3. Conclusions</h1>"
      ]
    },
    {
      "cell_type": "code",
      "metadata": {
        "colab_type": "code",
        "id": "zRO-VPG2Cyp_",
        "colab": {}
      },
      "source": [
        "# Please compare all your models using Prettytable library"
      ],
      "execution_count": 0,
      "outputs": []
    },
    {
      "cell_type": "code",
      "metadata": {
        "id": "OYXOnCQfah8O",
        "colab_type": "code",
        "outputId": "8a65de81-0752-40a0-e3f8-1d0be5708ff6",
        "colab": {
          "base_uri": "https://localhost:8080/",
          "height": 170
        }
      },
      "source": [
        "from prettytable import PrettyTable\n",
        "table=PrettyTable()\n",
        "table.field_names=(\"Vectorizer\",\" Best K value\",\"Train AUC score\",\"Test AUC score\")\n",
        "table.add_row((\"BOW\",45,.70,.63))\n",
        "table.add_row((\"Tfidf\",45,.67,.58))\n",
        "table.add_row((\"Avg_W2V\",45,.71,.64))\n",
        "table.add_row((\"Tfidf_W2V\",45,.73,.65))\n",
        "table.add_row((\"top 2000 feat.\",45,.66,.54))\n",
        "print(table)"
      ],
      "execution_count": 62,
      "outputs": [
        {
          "output_type": "stream",
          "text": [
            "+----------------+---------------+-----------------+----------------+\n",
            "|   Vectorizer   |  Best K value | Train AUC score | Test AUC score |\n",
            "+----------------+---------------+-----------------+----------------+\n",
            "|      BOW       |       45      |       0.7       |      0.63      |\n",
            "|     Tfidf      |       45      |       0.67      |      0.58      |\n",
            "|    Avg_W2V     |       45      |       0.71      |      0.64      |\n",
            "|   Tfidf_W2V    |       45      |       0.73      |      0.65      |\n",
            "| top 2000 feat. |       45      |       0.66      |      0.54      |\n",
            "+----------------+---------------+-----------------+----------------+\n"
          ],
          "name": "stdout"
        }
      ]
    },
    {
      "cell_type": "markdown",
      "metadata": {
        "id": "EEvOUfgmGHOC",
        "colab_type": "text"
      },
      "source": [
        "## Conclusions:\n",
        "\n",
        "\n",
        "*  Model on the trainning dataset with Tfidf_W2V gave highest test score .65,and model on top 2000 dimentional dataset gave lowest test AUC score .54\n",
        "*  Model_3 and Model_4 are fairly good models in comparision to other models because these two are less overfit models than other. \n",
        "\n"
      ]
    }
  ]
}